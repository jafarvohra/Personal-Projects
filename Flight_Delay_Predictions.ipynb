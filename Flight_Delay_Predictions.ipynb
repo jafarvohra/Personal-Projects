{
  "nbformat": 4,
  "nbformat_minor": 0,
  "metadata": {
    "colab": {
      "provenance": []
    },
    "kernelspec": {
      "name": "python3",
      "display_name": "Python 3"
    },
    "language_info": {
      "name": "python"
    }
  },
  "cells": [
    {
      "cell_type": "markdown",
      "source": [
        "# Flight Delay Predictions"
      ],
      "metadata": {
        "id": "rb-Ahd_CeOLg"
      }
    },
    {
      "cell_type": "markdown",
      "source": [
        "### Pipeline: Part 1 - Data Reading, Cleaning, and Splitting"
      ],
      "metadata": {
        "id": "hGRWfZvffUxz"
      }
    },
    {
      "cell_type": "code",
      "execution_count": null,
      "metadata": {
        "colab": {
          "base_uri": "https://localhost:8080/"
        },
        "id": "PzEJLVCBORhv",
        "outputId": "84a636f1-7d77-422c-fd45-950cb3196ec6"
      },
      "outputs": [
        {
          "output_type": "stream",
          "name": "stdout",
          "text": [
            "Requirement already satisfied: catboost in /usr/local/lib/python3.7/dist-packages (1.0.3)\n",
            "Requirement already satisfied: matplotlib in /usr/local/lib/python3.7/dist-packages (from catboost) (3.2.2)\n",
            "Requirement already satisfied: plotly in /usr/local/lib/python3.7/dist-packages (from catboost) (4.4.1)\n",
            "Requirement already satisfied: numpy>=1.16.0 in /usr/local/lib/python3.7/dist-packages (from catboost) (1.19.5)\n",
            "Requirement already satisfied: graphviz in /usr/local/lib/python3.7/dist-packages (from catboost) (0.10.1)\n",
            "Requirement already satisfied: scipy in /usr/local/lib/python3.7/dist-packages (from catboost) (1.4.1)\n",
            "Requirement already satisfied: six in /usr/local/lib/python3.7/dist-packages (from catboost) (1.15.0)\n",
            "Requirement already satisfied: pandas>=0.24.0 in /usr/local/lib/python3.7/dist-packages (from catboost) (1.1.5)\n",
            "Requirement already satisfied: python-dateutil>=2.7.3 in /usr/local/lib/python3.7/dist-packages (from pandas>=0.24.0->catboost) (2.8.2)\n",
            "Requirement already satisfied: pytz>=2017.2 in /usr/local/lib/python3.7/dist-packages (from pandas>=0.24.0->catboost) (2018.9)\n",
            "Requirement already satisfied: kiwisolver>=1.0.1 in /usr/local/lib/python3.7/dist-packages (from matplotlib->catboost) (1.3.2)\n",
            "Requirement already satisfied: pyparsing!=2.0.4,!=2.1.2,!=2.1.6,>=2.0.1 in /usr/local/lib/python3.7/dist-packages (from matplotlib->catboost) (3.0.6)\n",
            "Requirement already satisfied: cycler>=0.10 in /usr/local/lib/python3.7/dist-packages (from matplotlib->catboost) (0.11.0)\n",
            "Requirement already satisfied: retrying>=1.3.3 in /usr/local/lib/python3.7/dist-packages (from plotly->catboost) (1.3.3)\n"
          ]
        }
      ],
      "source": [
        "# imports and installs\n",
        "import pandas as pd\n",
        "import numpy as np\n",
        "from sklearn.model_selection import train_test_split\n",
        "!pip install catboost\n",
        "from catboost import CatBoostRegressor, Pool\n",
        "\n",
        "# data reading\n",
        "flights = pd.read_csv(\"/content/pnwflights14.csv\")\n",
        "test = pd.read_csv(\"/content/test_student.csv\")\n",
        "\n",
        "# data cleaning\n",
        "flights = flights[(flights.dep_time >= 0) & (flights.air_time >= 0) & (flights.distance >= 0)]\n",
        "flights = flights.dropna()\n",
        "x = flights[['month','dep_time','dep_delay','arr_time','carrier','origin','dest','air_time','distance']]\n",
        "ID = test['Id']\n",
        "test = test[['month','dep_time','dep_delay','arr_time','carrier','origin','dest','air_time','distance']]\n",
        "\n",
        "# RMSLE minimizer conversion\n",
        "y = flights.arr_delay\n",
        "y_min = min(y)\n",
        "y_max = max(y)\n",
        "y = np.log((y-y_min)/(y_max-y_min) + 1)\n",
        "\n",
        "# train/validation dataset splitting\n",
        "x_train, x_validation, y_train, y_validation = train_test_split(x, y, train_size=0.8, random_state=1234)\n",
        "categorical_features_indices = np.where(x.dtypes != np.float)[0]\n",
        "train_dataset = Pool(x_train, y_train, categorical_features_indices)"
      ]
    },
    {
      "cell_type": "markdown",
      "source": [
        "### Pipeline: Part 2 - Model Creation, Parameter Tuning, and Model Fitting"
      ],
      "metadata": {
        "id": "y_tfmNqHfsyh"
      }
    },
    {
      "cell_type": "code",
      "source": [
        "# model creation\n",
        "model=CatBoostRegressor(loss_function='RMSE',iterations=1000, learning_rate=0.4, depth=11, l2_leaf_reg=0.1)\n",
        "\n",
        "# parameter tuning\n",
        "#grid = {'iterations': [100,150],\n",
        "        #'learning_rate': [0.4,0.5],\n",
        "        #'depth': [8,11],\n",
        "        #'l2_leaf_reg': [0.1,0.2]}\n",
        "#model.grid_search(grid, train_dataset)\n",
        "\n",
        "# model fitting\n",
        "model.fit(x_train, y_train,cat_features=categorical_features_indices,eval_set=(x_validation, y_validation),plot=True)"
      ],
      "metadata": {
        "colab": {
          "base_uri": "https://localhost:8080/",
          "height": 245
        },
        "id": "-Xqr-kCca37i",
        "outputId": "0e80281f-f602-4d6a-bbd9-5c7853691a84"
      },
      "execution_count": null,
      "outputs": [
        {
          "output_type": "error",
          "ename": "NameError",
          "evalue": "ignored",
          "traceback": [
            "\u001b[0;31m---------------------------------------------------------------------------\u001b[0m",
            "\u001b[0;31mNameError\u001b[0m                                 Traceback (most recent call last)",
            "\u001b[0;32m<ipython-input-1-f904be0d64de>\u001b[0m in \u001b[0;36m<cell line: 2>\u001b[0;34m()\u001b[0m\n\u001b[1;32m      1\u001b[0m \u001b[0;31m# model creation\u001b[0m\u001b[0;34m\u001b[0m\u001b[0;34m\u001b[0m\u001b[0m\n\u001b[0;32m----> 2\u001b[0;31m \u001b[0mmodel\u001b[0m\u001b[0;34m=\u001b[0m\u001b[0mCatBoostRegressor\u001b[0m\u001b[0;34m(\u001b[0m\u001b[0mloss_function\u001b[0m\u001b[0;34m=\u001b[0m\u001b[0;34m'RMSE'\u001b[0m\u001b[0;34m,\u001b[0m\u001b[0miterations\u001b[0m\u001b[0;34m=\u001b[0m\u001b[0;36m1000\u001b[0m\u001b[0;34m,\u001b[0m \u001b[0mlearning_rate\u001b[0m\u001b[0;34m=\u001b[0m\u001b[0;36m0.4\u001b[0m\u001b[0;34m,\u001b[0m \u001b[0mdepth\u001b[0m\u001b[0;34m=\u001b[0m\u001b[0;36m11\u001b[0m\u001b[0;34m,\u001b[0m \u001b[0ml2_leaf_reg\u001b[0m\u001b[0;34m=\u001b[0m\u001b[0;36m0.1\u001b[0m\u001b[0;34m)\u001b[0m\u001b[0;34m\u001b[0m\u001b[0;34m\u001b[0m\u001b[0m\n\u001b[0m\u001b[1;32m      3\u001b[0m \u001b[0;34m\u001b[0m\u001b[0m\n\u001b[1;32m      4\u001b[0m \u001b[0;31m# parameter tuning\u001b[0m\u001b[0;34m\u001b[0m\u001b[0;34m\u001b[0m\u001b[0m\n\u001b[1;32m      5\u001b[0m \u001b[0;31m#grid = {'iterations': [100,150],\u001b[0m\u001b[0;34m\u001b[0m\u001b[0;34m\u001b[0m\u001b[0m\n",
            "\u001b[0;31mNameError\u001b[0m: name 'CatBoostRegressor' is not defined"
          ]
        }
      ]
    },
    {
      "cell_type": "markdown",
      "source": [
        "### Pipeline: Part 3 - Predictions and Submission Creation"
      ],
      "metadata": {
        "id": "U45O8q31gNh1"
      }
    },
    {
      "cell_type": "code",
      "source": [
        "# prediction creation\n",
        "predictions = model.predict(test)\n",
        "\n",
        "# RMSLE minimizer conversion\n",
        "predictions = np.exp(predictions)\n",
        "def convert(x):\n",
        "  return((x-1)*(y_max-y_min)+y_min)\n",
        "vfunc = np.vectorize(convert)\n",
        "predictions = vfunc(predictions)\n",
        "\n",
        "# submission creation\n",
        "submission = pd.DataFrame()\n",
        "submission['Id'] = ID\n",
        "submission['arr_delay'] = predictions\n",
        "submission.to_csv(\"CatBoostSubmission.csv\", index=False)"
      ],
      "metadata": {
        "id": "Q4uBMKqiJNOP"
      },
      "execution_count": null,
      "outputs": []
    },
    {
      "cell_type": "code",
      "source": [
        "submission.head()"
      ],
      "metadata": {
        "colab": {
          "base_uri": "https://localhost:8080/",
          "height": 206
        },
        "id": "4ssJH0n4b2RL",
        "outputId": "d3ea8e5b-79de-4efc-af03-65833d0710b0"
      },
      "execution_count": null,
      "outputs": [
        {
          "output_type": "execute_result",
          "data": {
            "text/html": [
              "\n",
              "  <div id=\"df-6f9b009c-3194-41bb-b4e5-799cd4e1c5c2\">\n",
              "    <div class=\"colab-df-container\">\n",
              "      <div>\n",
              "<style scoped>\n",
              "    .dataframe tbody tr th:only-of-type {\n",
              "        vertical-align: middle;\n",
              "    }\n",
              "\n",
              "    .dataframe tbody tr th {\n",
              "        vertical-align: top;\n",
              "    }\n",
              "\n",
              "    .dataframe thead th {\n",
              "        text-align: right;\n",
              "    }\n",
              "</style>\n",
              "<table border=\"1\" class=\"dataframe\">\n",
              "  <thead>\n",
              "    <tr style=\"text-align: right;\">\n",
              "      <th></th>\n",
              "      <th>Id</th>\n",
              "      <th>arr_delay</th>\n",
              "    </tr>\n",
              "  </thead>\n",
              "  <tbody>\n",
              "    <tr>\n",
              "      <th>0</th>\n",
              "      <td>201401010001-PDX-ANC-N508AS</td>\n",
              "      <td>83.062901</td>\n",
              "    </tr>\n",
              "    <tr>\n",
              "      <th>1</th>\n",
              "      <td>201401010034-SEA-ANC-N762AS</td>\n",
              "      <td>35.025507</td>\n",
              "    </tr>\n",
              "    <tr>\n",
              "      <th>2</th>\n",
              "      <td>201401010614-SEA-SNA-N607AS</td>\n",
              "      <td>-1.064930</td>\n",
              "    </tr>\n",
              "    <tr>\n",
              "      <th>3</th>\n",
              "      <td>201401010648-SEA-MSP-N419AS</td>\n",
              "      <td>-14.156879</td>\n",
              "    </tr>\n",
              "    <tr>\n",
              "      <th>4</th>\n",
              "      <td>201401010650-SEA-PHX-N626AW</td>\n",
              "      <td>76.356035</td>\n",
              "    </tr>\n",
              "  </tbody>\n",
              "</table>\n",
              "</div>\n",
              "      <button class=\"colab-df-convert\" onclick=\"convertToInteractive('df-6f9b009c-3194-41bb-b4e5-799cd4e1c5c2')\"\n",
              "              title=\"Convert this dataframe to an interactive table.\"\n",
              "              style=\"display:none;\">\n",
              "        \n",
              "  <svg xmlns=\"http://www.w3.org/2000/svg\" height=\"24px\"viewBox=\"0 0 24 24\"\n",
              "       width=\"24px\">\n",
              "    <path d=\"M0 0h24v24H0V0z\" fill=\"none\"/>\n",
              "    <path d=\"M18.56 5.44l.94 2.06.94-2.06 2.06-.94-2.06-.94-.94-2.06-.94 2.06-2.06.94zm-11 1L8.5 8.5l.94-2.06 2.06-.94-2.06-.94L8.5 2.5l-.94 2.06-2.06.94zm10 10l.94 2.06.94-2.06 2.06-.94-2.06-.94-.94-2.06-.94 2.06-2.06.94z\"/><path d=\"M17.41 7.96l-1.37-1.37c-.4-.4-.92-.59-1.43-.59-.52 0-1.04.2-1.43.59L10.3 9.45l-7.72 7.72c-.78.78-.78 2.05 0 2.83L4 21.41c.39.39.9.59 1.41.59.51 0 1.02-.2 1.41-.59l7.78-7.78 2.81-2.81c.8-.78.8-2.07 0-2.86zM5.41 20L4 18.59l7.72-7.72 1.47 1.35L5.41 20z\"/>\n",
              "  </svg>\n",
              "      </button>\n",
              "      \n",
              "  <style>\n",
              "    .colab-df-container {\n",
              "      display:flex;\n",
              "      flex-wrap:wrap;\n",
              "      gap: 12px;\n",
              "    }\n",
              "\n",
              "    .colab-df-convert {\n",
              "      background-color: #E8F0FE;\n",
              "      border: none;\n",
              "      border-radius: 50%;\n",
              "      cursor: pointer;\n",
              "      display: none;\n",
              "      fill: #1967D2;\n",
              "      height: 32px;\n",
              "      padding: 0 0 0 0;\n",
              "      width: 32px;\n",
              "    }\n",
              "\n",
              "    .colab-df-convert:hover {\n",
              "      background-color: #E2EBFA;\n",
              "      box-shadow: 0px 1px 2px rgba(60, 64, 67, 0.3), 0px 1px 3px 1px rgba(60, 64, 67, 0.15);\n",
              "      fill: #174EA6;\n",
              "    }\n",
              "\n",
              "    [theme=dark] .colab-df-convert {\n",
              "      background-color: #3B4455;\n",
              "      fill: #D2E3FC;\n",
              "    }\n",
              "\n",
              "    [theme=dark] .colab-df-convert:hover {\n",
              "      background-color: #434B5C;\n",
              "      box-shadow: 0px 1px 3px 1px rgba(0, 0, 0, 0.15);\n",
              "      filter: drop-shadow(0px 1px 2px rgba(0, 0, 0, 0.3));\n",
              "      fill: #FFFFFF;\n",
              "    }\n",
              "  </style>\n",
              "\n",
              "      <script>\n",
              "        const buttonEl =\n",
              "          document.querySelector('#df-6f9b009c-3194-41bb-b4e5-799cd4e1c5c2 button.colab-df-convert');\n",
              "        buttonEl.style.display =\n",
              "          google.colab.kernel.accessAllowed ? 'block' : 'none';\n",
              "\n",
              "        async function convertToInteractive(key) {\n",
              "          const element = document.querySelector('#df-6f9b009c-3194-41bb-b4e5-799cd4e1c5c2');\n",
              "          const dataTable =\n",
              "            await google.colab.kernel.invokeFunction('convertToInteractive',\n",
              "                                                     [key], {});\n",
              "          if (!dataTable) return;\n",
              "\n",
              "          const docLinkHtml = 'Like what you see? Visit the ' +\n",
              "            '<a target=\"_blank\" href=https://colab.research.google.com/notebooks/data_table.ipynb>data table notebook</a>'\n",
              "            + ' to learn more about interactive tables.';\n",
              "          element.innerHTML = '';\n",
              "          dataTable['output_type'] = 'display_data';\n",
              "          await google.colab.output.renderOutput(dataTable, element);\n",
              "          const docLink = document.createElement('div');\n",
              "          docLink.innerHTML = docLinkHtml;\n",
              "          element.appendChild(docLink);\n",
              "        }\n",
              "      </script>\n",
              "    </div>\n",
              "  </div>\n",
              "  "
            ],
            "text/plain": [
              "                            Id  arr_delay\n",
              "0  201401010001-PDX-ANC-N508AS  83.062901\n",
              "1  201401010034-SEA-ANC-N762AS  35.025507\n",
              "2  201401010614-SEA-SNA-N607AS  -1.064930\n",
              "3  201401010648-SEA-MSP-N419AS -14.156879\n",
              "4  201401010650-SEA-PHX-N626AW  76.356035"
            ]
          },
          "metadata": {},
          "execution_count": 21
        }
      ]
    },
    {
      "cell_type": "markdown",
      "source": [
        "## Report:"
      ],
      "metadata": {
        "id": "JqwRRuWZh1kJ"
      }
    },
    {
      "cell_type": "markdown",
      "source": [
        "### Pipeline Description\n",
        "\n",
        "![ML Pipeline.png](data:image/png;base64,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)\n",
        "\n",
        "In order to begin, a few modules were imported to allow for an expanded range of methods and functions to aid throughout the process. Those like pandas and numpy are widely used modules that allow for more efficient data analysis techniques. The sklearn.modelselection module is typically used for splitting datasets into training and testing sets like it is utilized here. To use the regression algorithm in this pipeline, it was necessary to install the package before importing it. All of these added modules made the process much easier and quicker, as well as more understandable to someone who may want to recreate this pipeline.\n",
        "\n",
        "The initial portion of the pipeline began by reading in the training and test data from the CSV files provided. It was then necessary to clean the training data as there were NA values residing in many different rows of data and in various columns. There were were also many negative values for ones that should strictly be positive, such as distance, departure time, and air time. I used one dataframe filtering technique that kept only the positive values for the necessary time and distance features as well as another to remove the NA values from the features that had them. Following the data cleaning process, the dataframes were subsetted to include only the features that would be used in the regression process. Since the goal of this project is to minimize the RMSLE and not the RMSE like most regression algorithms aim to do, it was in my best interest to use a technique to scale the data by a logorithmic factor. This was done just before the final step in the data preparation process, splitting the training data into testing and validating sets so that the model could be tested for overfitting. The data was split 80/20 between testing and validation in this process. The locations of the categorical data features that would be used in the model were also noted for when the model will be fitted later. Fortunately, the regression algorithm that was used in this pipeline tested for overfitting while training the model, so that part was included in the model fitting portion of the process.\n",
        "\n",
        "The next part of the pipeline included the model creation, parameter tuning, and model fitting. It starts by the actual creation of the model with the CatBoostRegressor() function from the catboost module that was imported at the very start. In the code above, the tuned hyperparameters are included in the model, however the commented lines below the created model were where the process of hyperparameter tuning took place. Attempting numerous values for each of the listed hyperparameters, the grid_search() function would fit the model to the training dataset with each combination of hyperparameters that were used in the grid. After testing on different folds of the training dataset for validation, the best hyperparamters would be printed and could be used in further testing, or used in the model. Once the trials and testing of the hyperparamters was complete, the best ones were used in the final model creation. The model was then fitted to the training dataset, being mindful of where the categorical features were located, and evaluated on the validation set for overfitting. The output of the model as it learned also included the output of the model evaluating for overfitting on the validation dataset. If the model were to be overfitted at a certain iteration, the model would be shrunk to that iteration before the predictions were created.\n",
        "\n",
        "The final portion of the pipeline is where the predictions were made and the submission in the correct format for the Kaggle Competition was created. Using the predict() function, our fitted model was used to predict the values of arrival delay on the test dataset. Yielding a numpy array, this data was then converted back to its original scale with the vectorized one-dimensional function. After conversion, the final submission dataframe was created in the format necessary to make a submission to the Kaggle competition. This dataframe was then written to a CSV file to be downloaded and submitted. Once submitted, the predictions that I made resulted in a RMSLE of 0.46951, good for 3rd on the public leaderboard with approximately 50% of the data used."
      ],
      "metadata": {
        "id": "L5unBz0Hh4WF"
      }
    },
    {
      "cell_type": "markdown",
      "source": [
        "### Pipeline Selection and Improvement Process\n",
        "\n",
        "After using a linear model and the lm() command in R in my previous attempt at this project, I decided to use a boosting algorithm in order to make even more improvements and yield an even lower RMSLE. This boosted algorithm is called CatBoostRegressor() from the catboost module. I chose this specific model as it allowed for the use of categorical features as well as numerical features seamlessly. This model also had numerous hyperparameters that could be tuned in order to allow the model to perform much better. When I first fitted this model on the training dataset without tuning or specifiying any of the hyperparamters, the RMSLE was more than twice the value of the RMSLE of the fitted model that was tuned. The hyperparameter tuning makes a significant difference, but to keep it as simple as possible, I chose to tune 4 of the most important hyperparameters of this model, iterations, learning rate, tree depth, and L2 regularization. As mentioned before, the grid_search() function was used to try each of the hyperparameter combinations defined in the grid. Once each was fitted and validated, the best combination would be displayed and was then used for further tuning. Although this process was tedious, eventually a point was reached where small changes above and below the hyperparameter values made no improvements, thus our model was fully tuned. There are more hyperparameters that could be tuned and improve my model further such as random strength, bagging temperature, and border count, but for simplicity and time reasons, only the four most important were tuned.\n",
        "\n",
        "One of the biggest difference between my final submission for this project and the one made for HW5 is that my previous submission was coded in R while this one was coded in python. I found that when working with models more sophisticated than the lm() function, the process of hyperparameter tuning and finding various algorithms to try was much easier in python. I was also able to find much clearer documentation and examples of the usage of these algorithms, one of which is linked below.\n",
        "\n",
        "https://towardsdatascience.com/catboost-regression-in-6-minutes-3487f3e5b329\n",
        "\n",
        "Although many of the features used in my previous model were used in this one, I did find it beneficial to add one more feature, 'month'. Using the code below, I was able to see the importance of each of the features that were used in the model that I fitted to the training dataset. As you can see, month has a higher importance than some of the orignal features in my previous model. After the model was tested for overfitting, there was no significant difference in the RMSE of the training and validation sets, thus I felt it was a good feature to use. Along with the importance of of the 'month' feature, the importance of each of the other features in the model can be seen. Their high level of importance as well as the nature of their specificity made them strong choices to be used in the model. Of the features in the dataset that I decided not to use, namely 'tailnum' and 'flight' I found that these values were too specific to the flight. Each different plane would have a different tail number and each flight would have would have a different flight number. Using these features would risk overfitting in the model, therefore it was more ideal to leave them out of my model. In my previous model, I made ambitions to add external data features to my dataset to be used for training as well as to try out interaction terms between some of the categorical data. I found the use of interaction terms to be inefficient as it added much more time to the actual fitting of my model. The use of external data was not done in this model due to time constraints, but it would be a great way to reduce the RMSLE even more than I already have and improve my model.\n",
        "\n",
        "I was successful in improving the RMSLE, the deciding score for the overall ranking in the Kaggle Competition, as it dramatically dropped from 0.70074 to 0.46951."
      ],
      "metadata": {
        "id": "neccUUBsh5xN"
      }
    },
    {
      "cell_type": "code",
      "source": [
        "from matplotlib import pyplot as plt\n",
        "\n",
        "sorted_feature_importance = model.feature_importances_.argsort()\n",
        "plt.barh(x.columns[sorted_feature_importance],\n",
        "        model.feature_importances_[sorted_feature_importance],\n",
        "        color='turquoise')\n",
        "plt.xlabel(\"CatBoost Feature Importance\")\n",
        "plt.show()"
      ],
      "metadata": {
        "colab": {
          "base_uri": "https://localhost:8080/",
          "height": 279
        },
        "id": "KkXX7QlDTfIJ",
        "outputId": "0da3fd16-7e1d-4663-be27-4543be83d568"
      },
      "execution_count": null,
      "outputs": [
        {
          "output_type": "display_data",
          "data": {
            "image/png": "[encoded data removed]",
            "text/plain": [
              "<Figure size 432x288 with 1 Axes>"
            ]
          },
          "metadata": {
            "needs_background": "light"
          }
        }
      ]
    },
    {
      "cell_type": "markdown",
      "source": [
        "### Differences Between Models\n",
        "\n",
        "Although the obvious differences between the models have previously been noted, the difference in complexity, reproducibility, and run time of the previous linear model I created in R and this model are substantial. In this case, I have made significant pipeline improvements in comparison to my previous model. While the model presented in this project uses a more complex algorithm to create predictions, I believe the nature of the algorithm is more reproducible than my previous model in a few ways. In order to clean the dataset and split it into testing and validating sets, my pipeline was able to do that with 8 simple, easy to follow lines of code. It took me just as many lines to clean the dataset in my previous model and I had not even split the data in testing and validating sets. Further, the actual evaluation on the validation set in this pipeline was imbedded into the learning process of the model. If there was overfitting detected, the model would be shrunk to an iteration where it was not overfit. Having not had done that in my previous model, it would have taken much more effort and may have been confusing to relay in a pipeline explanation, thus making this model more reproducible. While complex, this pipeline and included model have the capability of completing tasks that I would have needed to spend much more time on in R and in my previous model. When looking at the run time of this model in comparision to my previous, the number of iterations makes the learning process long, but not as long as it would take my linear model to fit. Being able to run 1000 learning and evaluating iterations with tuned hyperparameters in less time than it took my linear model with the added interaction terms makes the current model and algorithm better overall."
      ],
      "metadata": {
        "id": "cMycVfoPh6N_"
      }
    },
    {
      "cell_type": "markdown",
      "source": [
        "### Modifications and Extensions\n",
        "\n",
        "In order to improve upon my method, I first need to choose my hyperparameters that are included in the CatBoostRegressor() function to tune and add them to my tuning process. It was mentioned previously that the hyperparamter tuning process drastically improved the performance of the model, lowering the RMSLE by a large amount. Further tuning and testing of new hyperparamaters is a great way to improve this model further. Another significant way to improve this model would be to utilize external datasets to add even more features to the model. One external dataset that I had looked into using and had been used by multiple other students was the weather dataset that coincides with the flights dataset. Being able to use other features such as temperature, windspeed, and visibility, among the many others included in that dataset, would surely improve my model and allow to perform even better, minimizing the RMSLE to an even lower value.\n",
        "\n"
      ],
      "metadata": {
        "id": "OAjAEVSljk4p"
      }
    }
  ]
}