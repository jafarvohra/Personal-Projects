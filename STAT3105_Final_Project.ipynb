{
  "nbformat": 4,
  "nbformat_minor": 0,
  "metadata": {
    "colab": {
      "name": "STAT3105 Final Project",
      "provenance": [],
      "collapsed_sections": []
    },
    "kernelspec": {
      "name": "python3",
      "display_name": "Python 3"
    },
    "language_info": {
      "name": "python"
    },
    "widgets": {
      "application/vnd.jupyter.widget-state+json": {
        "35363856f5af4d489fd08c307631305f": {
          "model_module": "catboost-widget",
          "model_name": "CatboostWidgetModel",
          "model_module_version": "^1.0.0",
          "state": {
            "_view_name": "CatboostWidgetView",
            "_dom_classes": [],
            "_model_name": "CatboostWidgetModel",
            "data": {
              "catboost_info": {
                "content": {
                  "data": {
                    "meta": {
                      "name": "experiment",
                      "parameters": "",
                      "test_metrics": [
                        {
                          "best_value": "Min",
                          "name": "RMSE"
                        }
                      ],
                      "learn_sets": [
                        "learn"
                      ],
                      "launch_mode": "Train",
                      "learn_metrics": [
                        {
                          "best_value": "Min",
                          "name": "RMSE"
                        }
                      ],
                      "iteration_count": 1000,
                      "test_sets": [
                        "test"
                      ]
                    },
                    "iterations": [
                      {
                        "test": [
                          0.01273667053
                        ],
                        "passed_time": 0.7168026276,
                        "iteration": 0,
                        "remaining_time": 716.085825,
                        "learn": [
                          0.01210702515
                        ]
                      },
                      {
                        "test": [
                          0.009790505508
                        ],
                        "passed_time": 1.269524724,
                        "iteration": 1,
                        "remaining_time": 633.4928372,
                        "learn": [
                          0.009389527454
                        ]
                      },
                      {
                        "test": [
                          0.008297057889
                        ],
                        "passed_time": 1.975812045,
                        "iteration": 2,
                        "remaining_time": 656.6282031,
                        "learn": [
                          0.008052033085
                        ]
                      },
                      {
                        "test": [
                          0.007642276082
                        ],
                        "passed_time": 2.558723943,
                        "iteration": 3,
                        "remaining_time": 637.1222617,
                        "learn": [
                          0.00735584594
                        ]
                      },
                      {
                        "test": [
                          0.007288189643
                        ],
                        "passed_time": 3.126059915,
                        "iteration": 4,
                        "remaining_time": 622.0859231,
                        "learn": [
                          0.006975017205
                        ]
                      },
                      {
                        "test": [
                          0.00699283569
                        ],
                        "passed_time": 3.572074048,
                        "iteration": 5,
                        "remaining_time": 591.7736006,
                        "learn": [
                          0.006670595865
                        ]
                      },
                      {
                        "test": [
                          0.006859620619
                        ],
                        "passed_time": 4.055743177,
                        "iteration": 6,
                        "remaining_time": 575.3361393,
                        "learn": [
                          0.006529461504
                        ]
                      },
                      {
                        "test": [
                          0.006724912987
                        ],
                        "passed_time": 4.696824099,
                        "iteration": 7,
                        "remaining_time": 582.4061883,
                        "learn": [
                          0.00638130521
                        ]
                      },
                      {
                        "test": [
                          0.006582013959
                        ],
                        "passed_time": 5.304086435,
                        "iteration": 8,
                        "remaining_time": 584.0388508,
                        "learn": [
                          0.006206474973
                        ]
                      },
                      {
                        "test": [
                          0.006408485591
                        ],
                        "passed_time": 5.754740896,
                        "iteration": 9,
                        "remaining_time": 569.7193488,
                        "learn": [
                          0.00602352919
                        ]
                      },
                      {
                        "test": [
                          0.006259529302
                        ],
                        "passed_time": 6.096805656,
                        "iteration": 10,
                        "remaining_time": 548.158254,
                        "learn": [
                          0.005859804153
                        ]
                      },
                      {
                        "test": [
                          0.006158601732
                        ],
                        "passed_time": 6.357027514,
                        "iteration": 11,
                        "remaining_time": 523.3952653,
                        "learn": [
                          0.005757299281
                        ]
                      },
                      {
                        "test": [
                          0.006050328817
                        ],
                        "passed_time": 6.636965921,
                        "iteration": 12,
                        "remaining_time": 503.8988742,
                        "learn": [
                          0.005636880891
                        ]
                      },
                      {
                        "test": [
                          0.005933039452
                        ],
                        "passed_time": 7.00029979,
                        "iteration": 13,
                        "remaining_time": 493.0211138,
                        "learn": [
                          0.005507807775
                        ]
                      },
                      {
                        "test": [
                          0.005890328052
                        ],
                        "passed_time": 7.285083366,
                        "iteration": 14,
                        "remaining_time": 478.387141,
                        "learn": [
                          0.005464941193
                        ]
                      },
                      {
                        "test": [
                          0.005838623305
                        ],
                        "passed_time": 7.623859344,
                        "iteration": 15,
                        "remaining_time": 468.8673497,
                        "learn": [
                          0.005398775638
                        ]
                      },
                      {
                        "test": [
                          0.005781279305
                        ],
                        "passed_time": 7.886592319,
                        "iteration": 16,
                        "remaining_time": 456.0306029,
                        "learn": [
                          0.005336860945
                        ]
                      },
                      {
                        "test": [
                          0.005730239282
                        ],
                        "passed_time": 8.160255915,
                        "iteration": 17,
                        "remaining_time": 445.1872949,
                        "learn": [
                          0.005279409695
                        ]
                      },
                      {
                        "test": [
                          0.005654815884
                        ],
                        "passed_time": 8.482662671,
                        "iteration": 18,
                        "remaining_time": 437.9732674,
                        "learn": [
                          0.005191421429
                        ]
                      },
                      {
                        "test": [
                          0.005610537552
                        ],
                        "passed_time": 8.787700903,
                        "iteration": 19,
                        "remaining_time": 430.5973443,
                        "learn": [
                          0.005130776253
                        ]
                      },
                      {
                        "test": [
                          0.005549638115
                        ],
                        "passed_time": 9.089719967,
                        "iteration": 20,
                        "remaining_time": 423.754088,
                        "learn": [
                          0.005073457044
                        ]
                      },
                      {
                        "test": [
                          0.005517591822
                        ],
                        "passed_time": 9.341486139,
                        "iteration": 21,
                        "remaining_time": 415.2715202,
                        "learn": [
                          0.005034347931
                        ]
                      },
                      {
                        "test": [
                          0.005470832408
                        ],
                        "passed_time": 9.647383245,
                        "iteration": 22,
                        "remaining_time": 409.8040622,
                        "learn": [
                          0.004978785042
                        ]
                      },
                      {
                        "test": [
                          0.005428396063
                        ],
                        "passed_time": 9.955283774,
                        "iteration": 23,
                        "remaining_time": 404.8482068,
                        "learn": [
                          0.004920008216
                        ]
                      },
                      {
                        "test": [
                          0.005392082053
                        ],
                        "passed_time": 10.23819226,
                        "iteration": 24,
                        "remaining_time": 399.2894981,
                        "learn": [
                          0.004877409507
                        ]
                      },
                      {
                        "test": [
                          0.005363590041
                        ],
                        "passed_time": 10.52782282,
                        "iteration": 25,
                        "remaining_time": 394.3884394,
                        "learn": [
                          0.00483827178
                        ]
                      },
                      {
                        "test": [
                          0.005318235838
                        ],
                        "passed_time": 10.85409042,
                        "iteration": 26,
                        "remaining_time": 391.1492584,
                        "learn": [
                          0.004779164162
                        ]
                      },
                      {
                        "test": [
                          0.00530508775
                        ],
                        "passed_time": 11.1359983,
                        "iteration": 27,
                        "remaining_time": 386.5782267,
                        "learn": [
                          0.004754729195
                        ]
                      },
                      {
                        "test": [
                          0.005282236871
                        ],
                        "passed_time": 11.41020502,
                        "iteration": 28,
                        "remaining_time": 382.0451403,
                        "learn": [
                          0.004727793559
                        ]
                      },
                      {
                        "test": [
                          0.005254694048
                        ],
                        "passed_time": 11.68179476,
                        "iteration": 29,
                        "remaining_time": 377.7113639,
                        "learn": [
                          0.004698382113
                        ]
                      },
                      {
                        "test": [
                          0.005226936494
                        ],
                        "passed_time": 11.99186022,
                        "iteration": 30,
                        "remaining_time": 374.8423405,
                        "learn": [
                          0.004661287667
                        ]
                      },
                      {
                        "test": [
                          0.005214940504
                        ],
                        "passed_time": 12.22869615,
                        "iteration": 31,
                        "remaining_time": 369.9180585,
                        "learn": [
                          0.004643794888
                        ]
                      },
                      {
                        "test": [
                          0.005198979297
                        ],
                        "passed_time": 12.46772687,
                        "iteration": 32,
                        "remaining_time": 365.3421782,
                        "learn": [
                          0.00461374514
                        ]
                      },
                      {
                        "test": [
                          0.005169911385
                        ],
                        "passed_time": 12.72741893,
                        "iteration": 33,
                        "remaining_time": 361.6084318,
                        "learn": [
                          0.004575064604
                        ]
                      },
                      {
                        "test": [
                          0.005149679978
                        ],
                        "passed_time": 13.02133037,
                        "iteration": 34,
                        "remaining_time": 359.0166801,
                        "learn": [
                          0.004544238247
                        ]
                      },
                      {
                        "test": [
                          0.005123067664
                        ],
                        "passed_time": 13.27823222,
                        "iteration": 35,
                        "remaining_time": 355.5615517,
                        "learn": [
                          0.004510878517
                        ]
                      },
                      {
                        "test": [
                          0.005103203446
                        ],
                        "passed_time": 13.53737407,
                        "iteration": 36,
                        "remaining_time": 352.3376008,
                        "learn": [
                          0.004488974709
                        ]
                      },
                      {
                        "test": [
                          0.005091967166
                        ],
                        "passed_time": 13.82006953,
                        "iteration": 37,
                        "remaining_time": 349.8659707,
                        "learn": [
                          0.004469949892
                        ]
                      },
                      {
                        "test": [
                          0.005087796606
                        ],
                        "passed_time": 14.14079556,
                        "iteration": 38,
                        "remaining_time": 348.4437059,
                        "learn": [
                          0.004453803283
                        ]
                      },
                      {
                        "test": [
                          0.005071778855
                        ],
                        "passed_time": 14.41790297,
                        "iteration": 39,
                        "remaining_time": 346.0296713,
                        "learn": [
                          0.004434566315
                        ]
                      },
                      {
                        "test": [
                          0.005054302049
                        ],
                        "passed_time": 14.73330491,
                        "iteration": 40,
                        "remaining_time": 344.6155953,
                        "learn": [
                          0.004407287519
                        ]
                      },
                      {
                        "test": [
                          0.005045430406
                        ],
                        "passed_time": 15.04183195,
                        "iteration": 41,
                        "remaining_time": 343.0970241,
                        "learn": [
                          0.004389642287
                        ]
                      },
                      {
                        "test": [
                          0.005037138096
                        ],
                        "passed_time": 15.31769654,
                        "iteration": 42,
                        "remaining_time": 340.9078044,
                        "learn": [
                          0.004381221865
                        ]
                      },
                      {
                        "test": [
                          0.005024144843
                        ],
                        "passed_time": 15.58051793,
                        "iteration": 43,
                        "remaining_time": 338.5221622,
                        "learn": [
                          0.004362537354
                        ]
                      },
                      {
                        "test": [
                          0.005007126381
                        ],
                        "passed_time": 15.86821781,
                        "iteration": 44,
                        "remaining_time": 336.7588446,
                        "learn": [
                          0.00434168268
                        ]
                      },
                      {
                        "test": [
                          0.004993754654
                        ],
                        "passed_time": 16.23077685,
                        "iteration": 45,
                        "remaining_time": 336.6121981,
                        "learn": [
                          0.004318760124
                        ]
                      },
                      {
                        "test": [
                          0.004976908313
                        ],
                        "passed_time": 16.50708758,
                        "iteration": 46,
                        "remaining_time": 334.7075418,
                        "learn": [
                          0.004286574281
                        ]
                      },
                      {
                        "test": [
                          0.004964457371
                        ],
                        "passed_time": 16.78546205,
                        "iteration": 47,
                        "remaining_time": 332.911664,
                        "learn": [
                          0.004265505413
                        ]
                      },
                      {
                        "test": [
                          0.00494899091
                        ],
                        "passed_time": 17.11220926,
                        "iteration": 48,
                        "remaining_time": 332.1165511,
                        "learn": [
                          0.004245309301
                        ]
                      },
                      {
                        "test": [
                          0.00493683313
                        ],
                        "passed_time": 17.37086182,
                        "iteration": 49,
                        "remaining_time": 330.0463746,
                        "learn": [
                          0.004228770331
                        ]
                      },
                      {
                        "test": [
                          0.004928867916
                        ],
                        "passed_time": 17.65548673,
                        "iteration": 50,
                        "remaining_time": 328.5305277,
                        "learn": [
                          0.004206198546
                        ]
                      },
                      {
                        "test": [
                          0.004914981825
                        ],
                        "passed_time": 17.9664421,
                        "iteration": 51,
                        "remaining_time": 327.5420598,
                        "learn": [
                          0.004185659705
                        ]
                      },
                      {
                        "test": [
                          0.00490118995
                        ],
                        "passed_time": 18.26833356,
                        "iteration": 52,
                        "remaining_time": 326.4172054,
                        "learn": [
                          0.004168803466
                        ]
                      },
                      {
                        "test": [
                          0.004891829615
                        ],
                        "passed_time": 18.5705542,
                        "iteration": 53,
                        "remaining_time": 325.3285976,
                        "learn": [
                          0.004154501088
                        ]
                      },
                      {
                        "test": [
                          0.004880791602
                        ],
                        "passed_time": 18.82655685,
                        "iteration": 54,
                        "remaining_time": 323.4744768,
                        "learn": [
                          0.00413511139
                        ]
                      },
                      {
                        "test": [
                          0.004873711892
                        ],
                        "passed_time": 19.15255588,
                        "iteration": 55,
                        "remaining_time": 322.8573705,
                        "learn": [
                          0.004122335702
                        ]
                      },
                      {
                        "test": [
                          0.00485625351
                        ],
                        "passed_time": 19.42737789,
                        "iteration": 56,
                        "remaining_time": 321.4038132,
                        "learn": [
                          0.004098374905
                        ]
                      },
                      {
                        "test": [
                          0.004847635296
                        ],
                        "passed_time": 19.70654616,
                        "iteration": 57,
                        "remaining_time": 320.061491,
                        "learn": [
                          0.004083883251
                        ]
                      },
                      {
                        "test": [
                          0.004839024309
                        ],
                        "passed_time": 19.98870875,
                        "iteration": 58,
                        "remaining_time": 318.8029649,
                        "learn": [
                          0.004068098748
                        ]
                      },
                      {
                        "test": [
                          0.004832753306
                        ],
                        "passed_time": 20.26754014,
                        "iteration": 59,
                        "remaining_time": 317.5247955,
                        "learn": [
                          0.004054589683
                        ]
                      },
                      {
                        "test": [
                          0.004827216968
                        ],
                        "passed_time": 20.5256905,
                        "iteration": 60,
                        "remaining_time": 315.961039,
                        "learn": [
                          0.004044713219
                        ]
                      },
                      {
                        "test": [
                          0.004808685703
                        ],
                        "passed_time": 20.80604135,
                        "iteration": 61,
                        "remaining_time": 314.7752707,
                        "learn": [
                          0.00401585854
                        ]
                      },
                      {
                        "test": [
                          0.004804051015
                        ],
                        "passed_time": 21.13045379,
                        "iteration": 62,
                        "remaining_time": 314.2735746,
                        "learn": [
                          0.004007941922
                        ]
                      },
                      {
                        "test": [
                          0.004798075882
                        ],
                        "passed_time": 21.43811752,
                        "iteration": 63,
                        "remaining_time": 313.5324688,
                        "learn": [
                          0.003997851548
                        ]
                      },
                      {
                        "test": [
                          0.004792230997
                        ],
                        "passed_time": 21.70884304,
                        "iteration": 64,
                        "remaining_time": 312.2733575,
                        "learn": [
                          0.003986148268
                        ]
                      },
                      {
                        "test": [
                          0.00478532083
                        ],
                        "passed_time": 21.99098014,
                        "iteration": 65,
                        "remaining_time": 311.2056886,
                        "learn": [
                          0.003975292926
                        ]
                      },
                      {
                        "test": [
                          0.004778120339
                        ],
                        "passed_time": 22.25483898,
                        "iteration": 66,
                        "remaining_time": 309.9069369,
                        "learn": [
                          0.003967996698
                        ]
                      },
                      {
                        "test": [
                          0.00477008907
                        ],
                        "passed_time": 22.53860281,
                        "iteration": 67,
                        "remaining_time": 308.9114385,
                        "learn": [
                          0.003953626337
                        ]
                      },
                      {
                        "test": [
                          0.004767218388
                        ],
                        "passed_time": 22.78848418,
                        "iteration": 68,
                        "remaining_time": 307.4794024,
                        "learn": [
                          0.003944858674
                        ]
                      },
                      {
                        "test": [
                          0.004753356333
                        ],
                        "passed_time": 23.08048505,
                        "iteration": 69,
                        "remaining_time": 306.6407299,
                        "learn": [
                          0.003927156931
                        ]
                      },
                      {
                        "test": [
                          0.004748934719
                        ],
                        "passed_time": 23.36988633,
                        "iteration": 70,
                        "remaining_time": 305.7834423,
                        "learn": [
                          0.003914352267
                        ]
                      },
                      {
                        "test": [
                          0.004740119902
                        ],
                        "passed_time": 23.65739805,
                        "iteration": 71,
                        "remaining_time": 304.9175749,
                        "learn": [
                          0.003898875381
                        ]
                      },
                      {
                        "test": [
                          0.004734818674
                        ],
                        "passed_time": 23.93732747,
                        "iteration": 72,
                        "remaining_time": 303.971268,
                        "learn": [
                          0.003890358914
                        ]
                      },
                      {
                        "test": [
                          0.004722463906
                        ],
                        "passed_time": 24.20652683,
                        "iteration": 73,
                        "remaining_time": 302.9087006,
                        "learn": [
                          0.00387531119
                        ]
                      },
                      {
                        "test": [
                          0.00471196608
                        ],
                        "passed_time": 24.50764936,
                        "iteration": 74,
                        "remaining_time": 302.2610087,
                        "learn": [
                          0.003859606627
                        ]
                      },
                      {
                        "test": [
                          0.00469905349
                        ],
                        "passed_time": 24.80871298,
                        "iteration": 75,
                        "remaining_time": 301.621721,
                        "learn": [
                          0.003844498284
                        ]
                      },
                      {
                        "test": [
                          0.004695974673
                        ],
                        "passed_time": 25.08829466,
                        "iteration": 76,
                        "remaining_time": 300.733714,
                        "learn": [
                          0.003830259828
                        ]
                      },
                      {
                        "test": [
                          0.004694250391
                        ],
                        "passed_time": 25.38207355,
                        "iteration": 77,
                        "remaining_time": 300.0291258,
                        "learn": [
                          0.003825086547
                        ]
                      },
                      {
                        "test": [
                          0.004683291419
                        ],
                        "passed_time": 25.63895025,
                        "iteration": 78,
                        "remaining_time": 298.9047238,
                        "learn": [
                          0.00380561985
                        ]
                      },
                      {
                        "test": [
                          0.004675916515
                        ],
                        "passed_time": 25.90472237,
                        "iteration": 79,
                        "remaining_time": 297.9043073,
                        "learn": [
                          0.003790589564
                        ]
                      },
                      {
                        "test": [
                          0.004673107762
                        ],
                        "passed_time": 26.19842349,
                        "iteration": 80,
                        "remaining_time": 297.2389035,
                        "learn": [
                          0.003786856223
                        ]
                      },
                      {
                        "test": [
                          0.004662576626
                        ],
                        "passed_time": 26.55643311,
                        "iteration": 81,
                        "remaining_time": 297.3025073,
                        "learn": [
                          0.003772467215
                        ]
                      },
                      {
                        "test": [
                          0.004661169978
                        ],
                        "passed_time": 26.79913628,
                        "iteration": 82,
                        "remaining_time": 296.0820238,
                        "learn": [
                          0.003765052845
                        ]
                      },
                      {
                        "test": [
                          0.00464574698
                        ],
                        "passed_time": 27.11199582,
                        "iteration": 83,
                        "remaining_time": 295.6498591,
                        "learn": [
                          0.003758288229
                        ]
                      },
                      {
                        "test": [
                          0.004637972013
                        ],
                        "passed_time": 27.43694837,
                        "iteration": 84,
                        "remaining_time": 295.3506796,
                        "learn": [
                          0.003743530564
                        ]
                      },
                      {
                        "test": [
                          0.004630766357
                        ],
                        "passed_time": 27.71948617,
                        "iteration": 85,
                        "remaining_time": 294.6001205,
                        "learn": [
                          0.003736873591
                        ]
                      },
                      {
                        "test": [
                          0.004619204747
                        ],
                        "passed_time": 27.98369447,
                        "iteration": 86,
                        "remaining_time": 293.6679661,
                        "learn": [
                          0.003724455364
                        ]
                      },
                      {
                        "test": [
                          0.004610075409
                        ],
                        "passed_time": 28.3000951,
                        "iteration": 87,
                        "remaining_time": 293.2918947,
                        "learn": [
                          0.00370871483
                        ]
                      },
                      {
                        "test": [
                          0.004605595248
                        ],
                        "passed_time": 28.602433,
                        "iteration": 88,
                        "remaining_time": 292.7732187,
                        "learn": [
                          0.003697927194
                        ]
                      },
                      {
                        "test": [
                          0.004598762676
                        ],
                        "passed_time": 28.88424863,
                        "iteration": 89,
                        "remaining_time": 292.0518472,
                        "learn": [
                          0.003685086193
                        ]
                      },
                      {
                        "test": [
                          0.004590812028
                        ],
                        "passed_time": 29.20150176,
                        "iteration": 90,
                        "remaining_time": 291.694122,
                        "learn": [
                          0.003670787387
                        ]
                      },
                      {
                        "test": [
                          0.004583784357
                        ],
                        "passed_time": 29.48697147,
                        "iteration": 91,
                        "remaining_time": 291.023588,
                        "learn": [
                          0.003656741955
                        ]
                      },
                      {
                        "test": [
                          0.00457641977
                        ],
                        "passed_time": 29.78835809,
                        "iteration": 92,
                        "remaining_time": 290.5165676,
                        "learn": [
                          0.00364205823
                        ]
                      },
                      {
                        "test": [
                          0.004570126921
                        ],
                        "passed_time": 30.02996859,
                        "iteration": 93,
                        "remaining_time": 289.4377823,
                        "learn": [
                          0.003635437619
                        ]
                      },
                      {
                        "test": [
                          0.004566562183
                        ],
                        "passed_time": 30.27339714,
                        "iteration": 94,
                        "remaining_time": 288.3939412,
                        "learn": [
                          0.003630020203
                        ]
                      },
                      {
                        "test": [
                          0.00455934667
                        ],
                        "passed_time": 30.52996795,
                        "iteration": 95,
                        "remaining_time": 287.4905315,
                        "learn": [
                          0.003624606167
                        ]
                      },
                      {
                        "test": [
                          0.004556839536
                        ],
                        "passed_time": 30.80379757,
                        "iteration": 96,
                        "remaining_time": 286.7611258,
                        "learn": [
                          0.003620817928
                        ]
                      },
                      {
                        "test": [
                          0.004553796092
                        ],
                        "passed_time": 31.09117916,
                        "iteration": 97,
                        "remaining_time": 286.165751,
                        "learn": [
                          0.003612548901
                        ]
                      },
                      {
                        "test": [
                          0.004552154347
                        ],
                        "passed_time": 31.4102212,
                        "iteration": 98,
                        "remaining_time": 285.8647404,
                        "learn": [
                          0.0036063828
                        ]
                      },
                      {
                        "test": [
                          0.004547870247
                        ],
                        "passed_time": 31.69151829,
                        "iteration": 99,
                        "remaining_time": 285.2236646,
                        "learn": [
                          0.003593236166
                        ]
                      },
                      {
                        "test": [
                          0.004539865673
                        ],
                        "passed_time": 31.95015391,
                        "iteration": 100,
                        "remaining_time": 284.3880036,
                        "learn": [
                          0.003576649586
                        ]
                      },
                      {
                        "test": [
                          0.004536090465
                        ],
                        "passed_time": 32.25457944,
                        "iteration": 101,
                        "remaining_time": 283.9667876,
                        "learn": [
                          0.003568775561
                        ]
                      },
                      {
                        "test": [
                          0.004528960154
                        ],
                        "passed_time": 32.55898929,
                        "iteration": 102,
                        "remaining_time": 283.5477029,
                        "learn": [
                          0.003558285009
                        ]
                      },
                      {
                        "test": [
                          0.004525525872
                        ],
                        "passed_time": 32.83051787,
                        "iteration": 103,
                        "remaining_time": 282.8475386,
                        "learn": [
                          0.003549707102
                        ]
                      },
                      {
                        "test": [
                          0.004523019811
                        ],
                        "passed_time": 33.11452461,
                        "iteration": 104,
                        "remaining_time": 282.2619003,
                        "learn": [
                          0.00354085567
                        ]
                      },
                      {
                        "test": [
                          0.004514665991
                        ],
                        "passed_time": 33.39517823,
                        "iteration": 105,
                        "remaining_time": 281.653673,
                        "learn": [
                          0.003528081982
                        ]
                      },
                      {
                        "test": [
                          0.004510051824
                        ],
                        "passed_time": 33.68447029,
                        "iteration": 106,
                        "remaining_time": 281.1236633,
                        "learn": [
                          0.003518302922
                        ]
                      },
                      {
                        "test": [
                          0.004506663972
                        ],
                        "passed_time": 33.95964723,
                        "iteration": 107,
                        "remaining_time": 280.4815308,
                        "learn": [
                          0.003511521623
                        ]
                      },
                      {
                        "test": [
                          0.004500958289
                        ],
                        "passed_time": 34.27247664,
                        "iteration": 108,
                        "remaining_time": 280.1539145,
                        "learn": [
                          0.003499486118
                        ]
                      },
                      {
                        "test": [
                          0.004487952522
                        ],
                        "passed_time": 34.58385969,
                        "iteration": 109,
                        "remaining_time": 279.8148647,
                        "learn": [
                          0.003493227211
                        ]
                      },
                      {
                        "test": [
                          0.004480547548
                        ],
                        "passed_time": 34.85233522,
                        "iteration": 110,
                        "remaining_time": 279.1326667,
                        "learn": [
                          0.00347976004
                        ]
                      },
                      {
                        "test": [
                          0.004478833828
                        ],
                        "passed_time": 35.12077038,
                        "iteration": 111,
                        "remaining_time": 278.4575366,
                        "learn": [
                          0.003473035397
                        ]
                      },
                      {
                        "test": [
                          0.004473903484
                        ],
                        "passed_time": 35.35797482,
                        "iteration": 112,
                        "remaining_time": 277.5444572,
                        "learn": [
                          0.003461357287
                        ]
                      },
                      {
                        "test": [
                          0.004470111299
                        ],
                        "passed_time": 35.67240292,
                        "iteration": 113,
                        "remaining_time": 277.2434122,
                        "learn": [
                          0.003456490309
                        ]
                      },
                      {
                        "test": [
                          0.004463767957
                        ],
                        "passed_time": 35.99941011,
                        "iteration": 114,
                        "remaining_time": 277.0389387,
                        "learn": [
                          0.003447280481
                        ]
                      },
                      {
                        "test": [
                          0.004461817912
                        ],
                        "passed_time": 36.34453745,
                        "iteration": 115,
                        "remaining_time": 276.9704406,
                        "learn": [
                          0.003439513945
                        ]
                      },
                      {
                        "test": [
                          0.004456527142
                        ],
                        "passed_time": 36.62983404,
                        "iteration": 116,
                        "remaining_time": 276.4456706,
                        "learn": [
                          0.003431421817
                        ]
                      },
                      {
                        "test": [
                          0.004450481964
                        ],
                        "passed_time": 36.95998395,
                        "iteration": 117,
                        "remaining_time": 276.260219,
                        "learn": [
                          0.003420451175
                        ]
                      },
                      {
                        "test": [
                          0.004448568858
                        ],
                        "passed_time": 37.26587631,
                        "iteration": 118,
                        "remaining_time": 275.8927481,
                        "learn": [
                          0.003413850159
                        ]
                      },
                      {
                        "test": [
                          0.00444782134
                        ],
                        "passed_time": 37.5444747,
                        "iteration": 119,
                        "remaining_time": 275.3261478,
                        "learn": [
                          0.00340184859
                        ]
                      },
                      {
                        "test": [
                          0.00444344307
                        ],
                        "passed_time": 37.8380554,
                        "iteration": 120,
                        "remaining_time": 274.8731463,
                        "learn": [
                          0.003388799625
                        ]
                      },
                      {
                        "test": [
                          0.004439357658
                        ],
                        "passed_time": 38.1521985,
                        "iteration": 121,
                        "remaining_time": 274.57074,
                        "learn": [
                          0.003378683043
                        ]
                      },
                      {
                        "test": [
                          0.004433425448
                        ],
                        "passed_time": 38.429754,
                        "iteration": 122,
                        "remaining_time": 274.0072704,
                        "learn": [
                          0.003369551815
                        ]
                      },
                      {
                        "test": [
                          0.004429630923
                        ],
                        "passed_time": 38.71891488,
                        "iteration": 123,
                        "remaining_time": 273.5303987,
                        "learn": [
                          0.003364633798
                        ]
                      },
                      {
                        "test": [
                          0.00442411704
                        ],
                        "passed_time": 38.99898897,
                        "iteration": 124,
                        "remaining_time": 272.9929228,
                        "learn": [
                          0.003354132919
                        ]
                      },
                      {
                        "test": [
                          0.004421310692
                        ],
                        "passed_time": 39.30874495,
                        "iteration": 125,
                        "remaining_time": 272.6654213,
                        "learn": [
                          0.003349304468
                        ]
                      },
                      {
                        "test": [
                          0.004414839408
                        ],
                        "passed_time": 39.65498157,
                        "iteration": 126,
                        "remaining_time": 272.5889678,
                        "learn": [
                          0.003341162275
                        ]
                      },
                      {
                        "test": [
                          0.004415952744
                        ],
                        "passed_time": 39.9349705,
                        "iteration": 127,
                        "remaining_time": 272.0569865,
                        "learn": [
                          0.003335332679
                        ]
                      },
                      {
                        "test": [
                          0.004414572948
                        ],
                        "passed_time": 40.23601834,
                        "iteration": 128,
                        "remaining_time": 271.6711006,
                        "learn": [
                          0.003330426945
                        ]
                      },
                      {
                        "test": [
                          0.00440799149
                        ],
                        "passed_time": 40.50844558,
                        "iteration": 129,
                        "remaining_time": 271.0949819,
                        "learn": [
                          0.003320831336
                        ]
                      },
                      {
                        "test": [
                          0.004406553634
                        ],
                        "passed_time": 40.79966497,
                        "iteration": 130,
                        "remaining_time": 270.6481592,
                        "learn": [
                          0.003315914789
                        ]
                      },
                      {
                        "test": [
                          0.004401383011
                        ],
                        "passed_time": 41.07028443,
                        "iteration": 131,
                        "remaining_time": 270.068234,
                        "learn": [
                          0.003309326933
                        ]
                      },
                      {
                        "test": [
                          0.004395423007
                        ],
                        "passed_time": 41.34163844,
                        "iteration": 132,
                        "remaining_time": 269.4977483,
                        "learn": [
                          0.003300181293
                        ]
                      },
                      {
                        "test": [
                          0.004391800848
                        ],
                        "passed_time": 41.67368921,
                        "iteration": 133,
                        "remaining_time": 269.3239914,
                        "learn": [
                          0.003294791571
                        ]
                      },
                      {
                        "test": [
                          0.004389787749
                        ],
                        "passed_time": 41.91149259,
                        "iteration": 134,
                        "remaining_time": 268.5440081,
                        "learn": [
                          0.003287403973
                        ]
                      },
                      {
                        "test": [
                          0.004382750543
                        ],
                        "passed_time": 42.16431529,
                        "iteration": 135,
                        "remaining_time": 267.8674148,
                        "learn": [
                          0.00327765784
                        ]
                      },
                      {
                        "test": [
                          0.004379072916
                        ],
                        "passed_time": 42.48784174,
                        "iteration": 136,
                        "remaining_time": 267.6423899,
                        "learn": [
                          0.003270835465
                        ]
                      },
                      {
                        "test": [
                          0.004374937058
                        ],
                        "passed_time": 42.84100454,
                        "iteration": 137,
                        "remaining_time": 267.6010573,
                        "learn": [
                          0.003261940415
                        ]
                      },
                      {
                        "test": [
                          0.004371791111
                        ],
                        "passed_time": 43.07516148,
                        "iteration": 138,
                        "remaining_time": 266.8180866,
                        "learn": [
                          0.003254344687
                        ]
                      },
                      {
                        "test": [
                          0.004369460033
                        ],
                        "passed_time": 43.35322669,
                        "iteration": 139,
                        "remaining_time": 266.3126783,
                        "learn": [
                          0.003246561845
                        ]
                      },
                      {
                        "test": [
                          0.004365488922
                        ],
                        "passed_time": 43.65221006,
                        "iteration": 140,
                        "remaining_time": 265.9379322,
                        "learn": [
                          0.003240512148
                        ]
                      },
                      {
                        "test": [
                          0.00435885643
                        ],
                        "passed_time": 43.94150651,
                        "iteration": 141,
                        "remaining_time": 265.5057225,
                        "learn": [
                          0.003229725097
                        ]
                      },
                      {
                        "test": [
                          0.004354175375
                        ],
                        "passed_time": 44.28691845,
                        "iteration": 142,
                        "remaining_time": 265.4118119,
                        "learn": [
                          0.003223617579
                        ]
                      },
                      {
                        "test": [
                          0.004351260012
                        ],
                        "passed_time": 44.56565651,
                        "iteration": 143,
                        "remaining_time": 264.9180692,
                        "learn": [
                          0.003217353964
                        ]
                      },
                      {
                        "test": [
                          0.004348491867
                        ],
                        "passed_time": 44.88196346,
                        "iteration": 144,
                        "remaining_time": 264.6488191,
                        "learn": [
                          0.003207069367
                        ]
                      },
                      {
                        "test": [
                          0.004343168131
                        ],
                        "passed_time": 45.15139426,
                        "iteration": 145,
                        "remaining_time": 264.1047308,
                        "learn": [
                          0.003200153636
                        ]
                      },
                      {
                        "test": [
                          0.004338603087
                        ],
                        "passed_time": 45.46173964,
                        "iteration": 146,
                        "remaining_time": 263.8017953,
                        "learn": [
                          0.003191011314
                        ]
                      },
                      {
                        "test": [
                          0.004332739817
                        ],
                        "passed_time": 45.76036984,
                        "iteration": 147,
                        "remaining_time": 263.4313183,
                        "learn": [
                          0.003183868736
                        ]
                      },
                      {
                        "test": [
                          0.004328655894
                        ],
                        "passed_time": 46.06266158,
                        "iteration": 148,
                        "remaining_time": 263.0827182,
                        "learn": [
                          0.003173788879
                        ]
                      },
                      {
                        "test": [
                          0.004327506762
                        ],
                        "passed_time": 46.36290924,
                        "iteration": 149,
                        "remaining_time": 262.7231524,
                        "learn": [
                          0.003168463878
                        ]
                      },
                      {
                        "test": [
                          0.004322055795
                        ],
                        "passed_time": 46.61672622,
                        "iteration": 150,
                        "remaining_time": 262.103315,
                        "learn": [
                          0.003162667765
                        ]
                      },
                      {
                        "test": [
                          0.004319125634
                        ],
                        "passed_time": 46.90448244,
                        "iteration": 151,
                        "remaining_time": 261.6776389,
                        "learn": [
                          0.003156909156
                        ]
                      },
                      {
                        "test": [
                          0.004316048821
                        ],
                        "passed_time": 47.17312406,
                        "iteration": 152,
                        "remaining_time": 261.1479482,
                        "learn": [
                          0.003150731036
                        ]
                      },
                      {
                        "test": [
                          0.004315435529
                        ],
                        "passed_time": 47.47114427,
                        "iteration": 153,
                        "remaining_time": 260.7830393,
                        "learn": [
                          0.003145415186
                        ]
                      },
                      {
                        "test": [
                          0.004309223606
                        ],
                        "passed_time": 47.77062096,
                        "iteration": 154,
                        "remaining_time": 260.4269336,
                        "learn": [
                          0.003134337935
                        ]
                      },
                      {
                        "test": [
                          0.004305625954
                        ],
                        "passed_time": 48.02870805,
                        "iteration": 155,
                        "remaining_time": 259.8476256,
                        "learn": [
                          0.003128043351
                        ]
                      },
                      {
                        "test": [
                          0.004302497577
                        ],
                        "passed_time": 48.3034011,
                        "iteration": 156,
                        "remaining_time": 259.3615741,
                        "learn": [
                          0.003120082165
                        ]
                      },
                      {
                        "test": [
                          0.004299272455
                        ],
                        "passed_time": 48.61714703,
                        "iteration": 157,
                        "remaining_time": 259.0863152,
                        "learn": [
                          0.003111381593
                        ]
                      },
                      {
                        "test": [
                          0.004297082714
                        ],
                        "passed_time": 48.93899291,
                        "iteration": 158,
                        "remaining_time": 258.8534153,
                        "learn": [
                          0.003106194659
                        ]
                      },
                      {
                        "test": [
                          0.004293970148
                        ],
                        "passed_time": 49.26173249,
                        "iteration": 159,
                        "remaining_time": 258.6240956,
                        "learn": [
                          0.003101586468
                        ]
                      },
                      {
                        "test": [
                          0.004290176707
                        ],
                        "passed_time": 49.57382218,
                        "iteration": 160,
                        "remaining_time": 258.3381168,
                        "learn": [
                          0.003097910763
                        ]
                      },
                      {
                        "test": [
                          0.004285730459
                        ],
                        "passed_time": 49.89531018,
                        "iteration": 161,
                        "remaining_time": 258.1004317,
                        "learn": [
                          0.00308722155
                        ]
                      },
                      {
                        "test": [
                          0.004281797143
                        ],
                        "passed_time": 50.1535329,
                        "iteration": 162,
                        "remaining_time": 257.536853,
                        "learn": [
                          0.003081740726
                        ]
                      },
                      {
                        "test": [
                          0.004279601628
                        ],
                        "passed_time": 50.41051884,
                        "iteration": 163,
                        "remaining_time": 256.9706936,
                        "learn": [
                          0.003078103384
                        ]
                      },
                      {
                        "test": [
                          0.004277106617
                        ],
                        "passed_time": 50.6922607,
                        "iteration": 164,
                        "remaining_time": 256.5335617,
                        "learn": [
                          0.00306977506
                        ]
                      },
                      {
                        "test": [
                          0.004273779539
                        ],
                        "passed_time": 51.00983648,
                        "iteration": 165,
                        "remaining_time": 256.2783351,
                        "learn": [
                          0.003065293716
                        ]
                      },
                      {
                        "test": [
                          0.004272675867
                        ],
                        "passed_time": 51.26894576,
                        "iteration": 166,
                        "remaining_time": 255.7307295,
                        "learn": [
                          0.003060862445
                        ]
                      },
                      {
                        "test": [
                          0.004271034163
                        ],
                        "passed_time": 51.60383616,
                        "iteration": 167,
                        "remaining_time": 255.5618553,
                        "learn": [
                          0.003055078024
                        ]
                      },
                      {
                        "test": [
                          0.004265474073
                        ],
                        "passed_time": 51.88018389,
                        "iteration": 168,
                        "remaining_time": 255.1031527,
                        "learn": [
                          0.00304728042
                        ]
                      },
                      {
                        "test": [
                          0.004265657523
                        ],
                        "passed_time": 52.15449004,
                        "iteration": 169,
                        "remaining_time": 254.6366279,
                        "learn": [
                          0.003041692095
                        ]
                      },
                      {
                        "test": [
                          0.00426144017
                        ],
                        "passed_time": 52.50115188,
                        "iteration": 170,
                        "remaining_time": 254.5231281,
                        "learn": [
                          0.003034836416
                        ]
                      },
                      {
                        "test": [
                          0.004260444113
                        ],
                        "passed_time": 53.29223186,
                        "iteration": 171,
                        "remaining_time": 256.5463255,
                        "learn": [
                          0.003032075803
                        ]
                      },
                      {
                        "test": [
                          0.004260041263
                        ],
                        "passed_time": 53.59873806,
                        "iteration": 172,
                        "remaining_time": 256.2205571,
                        "learn": [
                          0.003027475448
                        ]
                      },
                      {
                        "test": [
                          0.004257611661
                        ],
                        "passed_time": 54.43532786,
                        "iteration": 173,
                        "remaining_time": 258.411384,
                        "learn": [
                          0.00302140297
                        ]
                      },
                      {
                        "test": [
                          0.004253277398
                        ],
                        "passed_time": 54.77141647,
                        "iteration": 174,
                        "remaining_time": 258.2081062,
                        "learn": [
                          0.003014394973
                        ]
                      },
                      {
                        "test": [
                          0.004252387508
                        ],
                        "passed_time": 55.30207842,
                        "iteration": 175,
                        "remaining_time": 258.9142762,
                        "learn": [
                          0.003008126333
                        ]
                      },
                      {
                        "test": [
                          0.004249101343
                        ],
                        "passed_time": 55.8081735,
                        "iteration": 176,
                        "remaining_time": 259.4922417,
                        "learn": [
                          0.003001913213
                        ]
                      },
                      {
                        "test": [
                          0.00424647561
                        ],
                        "passed_time": 56.06327279,
                        "iteration": 177,
                        "remaining_time": 258.8989339,
                        "learn": [
                          0.00299789162
                        ]
                      },
                      {
                        "test": [
                          0.004241159863
                        ],
                        "passed_time": 56.40091705,
                        "iteration": 178,
                        "remaining_time": 258.688005,
                        "learn": [
                          0.00299099148
                        ]
                      },
                      {
                        "test": [
                          0.004240086724
                        ],
                        "passed_time": 56.72642953,
                        "iteration": 179,
                        "remaining_time": 258.4204012,
                        "learn": [
                          0.002987978982
                        ]
                      },
                      {
                        "test": [
                          0.004236494454
                        ],
                        "passed_time": 57.0412237,
                        "iteration": 180,
                        "remaining_time": 258.1036586,
                        "learn": [
                          0.002981436522
                        ]
                      },
                      {
                        "test": [
                          0.004233377128
                        ],
                        "passed_time": 57.31272354,
                        "iteration": 181,
                        "remaining_time": 257.5923508,
                        "learn": [
                          0.002976312764
                        ]
                      },
                      {
                        "test": [
                          0.004229902412
                        ],
                        "passed_time": 57.59981766,
                        "iteration": 182,
                        "remaining_time": 257.1532843,
                        "learn": [
                          0.00297055044
                        ]
                      },
                      {
                        "test": [
                          0.004229035024
                        ],
                        "passed_time": 57.88448498,
                        "iteration": 183,
                        "remaining_time": 256.7051073,
                        "learn": [
                          0.002967755623
                        ]
                      },
                      {
                        "test": [
                          0.0042294554
                        ],
                        "passed_time": 58.13724097,
                        "iteration": 184,
                        "remaining_time": 256.1181156,
                        "learn": [
                          0.002962698372
                        ]
                      },
                      {
                        "test": [
                          0.004226578394
                        ],
                        "passed_time": 58.39595277,
                        "iteration": 185,
                        "remaining_time": 255.5607825,
                        "learn": [
                          0.002956659748
                        ]
                      },
                      {
                        "test": [
                          0.004225135694
                        ],
                        "passed_time": 58.67450317,
                        "iteration": 186,
                        "remaining_time": 255.0928935,
                        "learn": [
                          0.002951391811
                        ]
                      },
                      {
                        "test": [
                          0.004220472546
                        ],
                        "passed_time": 58.99297722,
                        "iteration": 187,
                        "remaining_time": 254.7994548,
                        "learn": [
                          0.002945079889
                        ]
                      },
                      {
                        "test": [
                          0.004216816728
                        ],
                        "passed_time": 59.29499273,
                        "iteration": 188,
                        "remaining_time": 254.4351275,
                        "learn": [
                          0.002938129469
                        ]
                      },
                      {
                        "test": [
                          0.004214022583
                        ],
                        "passed_time": 59.5804004,
                        "iteration": 189,
                        "remaining_time": 254.0006543,
                        "learn": [
                          0.002933064934
                        ]
                      },
                      {
                        "test": [
                          0.004211446437
                        ],
                        "passed_time": 59.88839985,
                        "iteration": 190,
                        "remaining_time": 253.6634318,
                        "learn": [
                          0.002929035841
                        ]
                      },
                      {
                        "test": [
                          0.004210184738
                        ],
                        "passed_time": 60.15468145,
                        "iteration": 191,
                        "remaining_time": 253.1509511,
                        "learn": [
                          0.002922393103
                        ]
                      },
                      {
                        "test": [
                          0.004207713757
                        ],
                        "passed_time": 60.44355142,
                        "iteration": 192,
                        "remaining_time": 252.7354715,
                        "learn": [
                          0.002917348099
                        ]
                      },
                      {
                        "test": [
                          0.004204330747
                        ],
                        "passed_time": 60.72562675,
                        "iteration": 193,
                        "remaining_time": 252.2930678,
                        "learn": [
                          0.002912326394
                        ]
                      },
                      {
                        "test": [
                          0.004200338025
                        ],
                        "passed_time": 61.00400361,
                        "iteration": 194,
                        "remaining_time": 251.8370406,
                        "learn": [
                          0.002905112608
                        ]
                      },
                      {
                        "test": [
                          0.004198101336
                        ],
                        "passed_time": 61.31187884,
                        "iteration": 195,
                        "remaining_time": 251.5038295,
                        "learn": [
                          0.002897938174
                        ]
                      },
                      {
                        "test": [
                          0.004194449002
                        ],
                        "passed_time": 61.61412182,
                        "iteration": 196,
                        "remaining_time": 251.1479179,
                        "learn": [
                          0.002892432818
                        ]
                      },
                      {
                        "test": [
                          0.00419364973
                        ],
                        "passed_time": 61.92570813,
                        "iteration": 197,
                        "remaining_time": 250.8303935,
                        "learn": [
                          0.002888904119
                        ]
                      },
                      {
                        "test": [
                          0.004191854555
                        ],
                        "passed_time": 62.18106666,
                        "iteration": 198,
                        "remaining_time": 250.286605,
                        "learn": [
                          0.002881728705
                        ]
                      },
                      {
                        "test": [
                          0.004189576129
                        ],
                        "passed_time": 62.44305874,
                        "iteration": 199,
                        "remaining_time": 249.772235,
                        "learn": [
                          0.002872959318
                        ]
                      },
                      {
                        "test": [
                          0.00418472107
                        ],
                        "passed_time": 62.75193797,
                        "iteration": 200,
                        "remaining_time": 249.4467584,
                        "learn": [
                          0.002865908682
                        ]
                      },
                      {
                        "test": [
                          0.004181476082
                        ],
                        "passed_time": 63.03106451,
                        "iteration": 201,
                        "remaining_time": 249.0039083,
                        "learn": [
                          0.002861841782
                        ]
                      },
                      {
                        "test": [
                          0.004179529219
                        ],
                        "passed_time": 63.34038006,
                        "iteration": 202,
                        "remaining_time": 248.6811966,
                        "learn": [
                          0.002855343196
                        ]
                      },
                      {
                        "test": [
                          0.004178033093
                        ],
                        "passed_time": 63.58318117,
                        "iteration": 203,
                        "remaining_time": 248.0990795,
                        "learn": [
                          0.002850097452
                        ]
                      },
                      {
                        "test": [
                          0.004177669635
                        ],
                        "passed_time": 63.87760112,
                        "iteration": 204,
                        "remaining_time": 247.7204531,
                        "learn": [
                          0.002847563075
                        ]
                      },
                      {
                        "test": [
                          0.004175220756
                        ],
                        "passed_time": 64.19814025,
                        "iteration": 205,
                        "remaining_time": 247.4433173,
                        "learn": [
                          0.002843956685
                        ]
                      },
                      {
                        "test": [
                          0.004172137414
                        ],
                        "passed_time": 64.52065213,
                        "iteration": 206,
                        "remaining_time": 247.1733195,
                        "learn": [
                          0.002839644547
                        ]
                      },
                      {
                        "test": [
                          0.004168578156
                        ],
                        "passed_time": 64.83310964,
                        "iteration": 207,
                        "remaining_time": 246.8645329,
                        "learn": [
                          0.002831154951
                        ]
                      },
                      {
                        "test": [
                          0.004172071107
                        ],
                        "passed_time": 65.10426186,
                        "iteration": 208,
                        "remaining_time": 246.3993834,
                        "learn": [
                          0.002828546548
                        ]
                      },
                      {
                        "test": [
                          0.004168273728
                        ],
                        "passed_time": 65.37981835,
                        "iteration": 209,
                        "remaining_time": 245.95265,
                        "learn": [
                          0.002821112724
                        ]
                      },
                      {
                        "test": [
                          0.00416579485
                        ],
                        "passed_time": 65.64046094,
                        "iteration": 210,
                        "remaining_time": 245.451771,
                        "learn": [
                          0.002815095323
                        ]
                      },
                      {
                        "test": [
                          0.00416467217
                        ],
                        "passed_time": 65.95108029,
                        "iteration": 211,
                        "remaining_time": 245.1389211,
                        "learn": [
                          0.002811111216
                        ]
                      },
                      {
                        "test": [
                          0.004165406339
                        ],
                        "passed_time": 66.24118811,
                        "iteration": 212,
                        "remaining_time": 244.7503054,
                        "learn": [
                          0.002806494965
                        ]
                      },
                      {
                        "test": [
                          0.004160993007
                        ],
                        "passed_time": 66.52070249,
                        "iteration": 213,
                        "remaining_time": 244.3237017,
                        "learn": [
                          0.002800521435
                        ]
                      },
                      {
                        "test": [
                          0.004157586405
                        ],
                        "passed_time": 66.82895534,
                        "iteration": 214,
                        "remaining_time": 244.0033951,
                        "learn": [
                          0.002794246923
                        ]
                      },
                      {
                        "test": [
                          0.004155307385
                        ],
                        "passed_time": 67.10572956,
                        "iteration": 215,
                        "remaining_time": 243.5689443,
                        "learn": [
                          0.002786650361
                        ]
                      },
                      {
                        "test": [
                          0.004154532979
                        ],
                        "passed_time": 67.40583538,
                        "iteration": 216,
                        "remaining_time": 243.2201341,
                        "learn": [
                          0.0027813844
                        ]
                      },
                      {
                        "test": [
                          0.004154479696
                        ],
                        "passed_time": 67.67822766,
                        "iteration": 217,
                        "remaining_time": 242.7723579,
                        "learn": [
                          0.00277973453
                        ]
                      },
                      {
                        "test": [
                          0.004153089332
                        ],
                        "passed_time": 67.94605171,
                        "iteration": 218,
                        "remaining_time": 242.3098922,
                        "learn": [
                          0.002776060935
                        ]
                      },
                      {
                        "test": [
                          0.004152399313
                        ],
                        "passed_time": 68.23385374,
                        "iteration": 219,
                        "remaining_time": 241.9200269,
                        "learn": [
                          0.002772466733
                        ]
                      },
                      {
                        "test": [
                          0.004148958967
                        ],
                        "passed_time": 68.52753719,
                        "iteration": 220,
                        "remaining_time": 241.5518166,
                        "learn": [
                          0.00276744848
                        ]
                      },
                      {
                        "test": [
                          0.00414709555
                        ],
                        "passed_time": 68.79937484,
                        "iteration": 221,
                        "remaining_time": 241.107719,
                        "learn": [
                          0.002763492131
                        ]
                      },
                      {
                        "test": [
                          0.004143997673
                        ],
                        "passed_time": 69.08897962,
                        "iteration": 222,
                        "remaining_time": 240.7270725,
                        "learn": [
                          0.002758511303
                        ]
                      },
                      {
                        "test": [
                          0.004140617751
                        ],
                        "passed_time": 69.37265152,
                        "iteration": 223,
                        "remaining_time": 240.3266856,
                        "learn": [
                          0.002755544056
                        ]
                      },
                      {
                        "test": [
                          0.004139404155
                        ],
                        "passed_time": 69.67059232,
                        "iteration": 224,
                        "remaining_time": 239.9764847,
                        "learn": [
                          0.002751681099
                        ]
                      },
                      {
                        "test": [
                          0.004137879788
                        ],
                        "passed_time": 69.99445877,
                        "iteration": 225,
                        "remaining_time": 239.7155358,
                        "learn": [
                          0.002747473987
                        ]
                      },
                      {
                        "test": [
                          0.004136844103
                        ],
                        "passed_time": 70.29314632,
                        "iteration": 226,
                        "remaining_time": 239.3682912,
                        "learn": [
                          0.00274519034
                        ]
                      },
                      {
                        "test": [
                          0.004133018924
                        ],
                        "passed_time": 70.58658943,
                        "iteration": 227,
                        "remaining_time": 239.0037151,
                        "learn": [
                          0.002740229044
                        ]
                      },
                      {
                        "test": [
                          0.00413184124
                        ],
                        "passed_time": 70.89194152,
                        "iteration": 228,
                        "remaining_time": 238.6798555,
                        "learn": [
                          0.00273476862
                        ]
                      },
                      {
                        "test": [
                          0.00412968428
                        ],
                        "passed_time": 71.20506251,
                        "iteration": 229,
                        "remaining_time": 238.3821658,
                        "learn": [
                          0.002731266214
                        ]
                      },
                      {
                        "test": [
                          0.004127115445
                        ],
                        "passed_time": 71.45281957,
                        "iteration": 230,
                        "remaining_time": 237.8667457,
                        "learn": [
                          0.002725621818
                        ]
                      },
                      {
                        "test": [
                          0.004123805335
                        ],
                        "passed_time": 71.73856206,
                        "iteration": 231,
                        "remaining_time": 237.4793778,
                        "learn": [
                          0.002718033333
                        ]
                      },
                      {
                        "test": [
                          0.004122728836
                        ],
                        "passed_time": 72.09503536,
                        "iteration": 232,
                        "remaining_time": 237.3257173,
                        "learn": [
                          0.002714625969
                        ]
                      },
                      {
                        "test": [
                          0.00412065927
                        ],
                        "passed_time": 72.40103244,
                        "iteration": 233,
                        "remaining_time": 237.0050891,
                        "learn": [
                          0.002710314448
                        ]
                      },
                      {
                        "test": [
                          0.004119016504
                        ],
                        "passed_time": 72.74263986,
                        "iteration": 234,
                        "remaining_time": 236.8005085,
                        "learn": [
                          0.002706367158
                        ]
                      },
                      {
                        "test": [
                          0.004118920776
                        ],
                        "passed_time": 73.05509121,
                        "iteration": 235,
                        "remaining_time": 236.50038,
                        "learn": [
                          0.002703394221
                        ]
                      },
                      {
                        "test": [
                          0.004115534491
                        ],
                        "passed_time": 73.38683999,
                        "iteration": 236,
                        "remaining_time": 236.2622739,
                        "learn": [
                          0.002698824045
                        ]
                      },
                      {
                        "test": [
                          0.004114638684
                        ],
                        "passed_time": 73.67700657,
                        "iteration": 237,
                        "remaining_time": 235.8902479,
                        "learn": [
                          0.002696649931
                        ]
                      },
                      {
                        "test": [
                          0.004113308397
                        ],
                        "passed_time": 73.96754431,
                        "iteration": 238,
                        "remaining_time": 235.5200888,
                        "learn": [
                          0.002691329209
                        ]
                      },
                      {
                        "test": [
                          0.004112783221
                        ],
                        "passed_time": 74.30030342,
                        "iteration": 239,
                        "remaining_time": 235.2842942,
                        "learn": [
                          0.002686051311
                        ]
                      },
                      {
                        "test": [
                          0.004110637506
                        ],
                        "passed_time": 74.62237332,
                        "iteration": 240,
                        "remaining_time": 235.0140305,
                        "learn": [
                          0.002681292596
                        ]
                      },
                      {
                        "test": [
                          0.00410944078
                        ],
                        "passed_time": 74.95517399,
                        "iteration": 241,
                        "remaining_time": 234.7769499,
                        "learn": [
                          0.002678495401
                        ]
                      },
                      {
                        "test": [
                          0.004108338604
                        ],
                        "passed_time": 75.30703002,
                        "iteration": 242,
                        "remaining_time": 234.5984433,
                        "learn": [
                          0.002675229389
                        ]
                      },
                      {
                        "test": [
                          0.004106942469
                        ],
                        "passed_time": 75.6421656,
                        "iteration": 243,
                        "remaining_time": 234.3667098,
                        "learn": [
                          0.002671549683
                        ]
                      },
                      {
                        "test": [
                          0.004104823624
                        ],
                        "passed_time": 75.9301289,
                        "iteration": 244,
                        "remaining_time": 233.9887646,
                        "learn": [
                          0.002668171223
                        ]
                      },
                      {
                        "test": [
                          0.004102530203
                        ],
                        "passed_time": 76.2813205,
                        "iteration": 245,
                        "remaining_time": 233.8053482,
                        "learn": [
                          0.002662616643
                        ]
                      },
                      {
                        "test": [
                          0.004101956339
                        ],
                        "passed_time": 76.58565599,
                        "iteration": 246,
                        "remaining_time": 233.4777286,
                        "learn": [
                          0.002660482139
                        ]
                      },
                      {
                        "test": [
                          0.00410057188
                        ],
                        "passed_time": 76.87241661,
                        "iteration": 247,
                        "remaining_time": 233.0970052,
                        "learn": [
                          0.002654738434
                        ]
                      },
                      {
                        "test": [
                          0.004098802689
                        ],
                        "passed_time": 77.17852036,
                        "iteration": 248,
                        "remaining_time": 232.7753767,
                        "learn": [
                          0.002651396267
                        ]
                      },
                      {
                        "test": [
                          0.004097093231
                        ],
                        "passed_time": 77.45884545,
                        "iteration": 249,
                        "remaining_time": 232.3765363,
                        "learn": [
                          0.002645807997
                        ]
                      },
                      {
                        "test": [
                          0.004095270396
                        ],
                        "passed_time": 77.75924469,
                        "iteration": 250,
                        "remaining_time": 232.0385429,
                        "learn": [
                          0.002641341851
                        ]
                      },
                      {
                        "test": [
                          0.004093463735
                        ],
                        "passed_time": 78.03838037,
                        "iteration": 251,
                        "remaining_time": 231.6377322,
                        "learn": [
                          0.00263737705
                        ]
                      },
                      {
                        "test": [
                          0.004092228102
                        ],
                        "passed_time": 78.32905529,
                        "iteration": 252,
                        "remaining_time": 231.2719538,
                        "learn": [
                          0.002633397917
                        ]
                      },
                      {
                        "test": [
                          0.004088494069
                        ],
                        "passed_time": 78.61519674,
                        "iteration": 253,
                        "remaining_time": 230.8934518,
                        "learn": [
                          0.002627978637
                        ]
                      },
                      {
                        "test": [
                          0.004087611227
                        ],
                        "passed_time": 78.86144611,
                        "iteration": 254,
                        "remaining_time": 230.3991269,
                        "learn": [
                          0.002624650487
                        ]
                      },
                      {
                        "test": [
                          0.004087048976
                        ],
                        "passed_time": 79.11893541,
                        "iteration": 255,
                        "remaining_time": 229.939406,
                        "learn": [
                          0.00262087897
                        ]
                      },
                      {
                        "test": [
                          0.004086595904
                        ],
                        "passed_time": 79.38512058,
                        "iteration": 256,
                        "remaining_time": 229.5063992,
                        "learn": [
                          0.002617810566
                        ]
                      },
                      {
                        "test": [
                          0.004085313951
                        ],
                        "passed_time": 79.69444971,
                        "iteration": 257,
                        "remaining_time": 229.1987662,
                        "learn": [
                          0.002614481891
                        ]
                      },
                      {
                        "test": [
                          0.004083530011
                        ],
                        "passed_time": 80.00247388,
                        "iteration": 258,
                        "remaining_time": 228.8873867,
                        "learn": [
                          0.002610323301
                        ]
                      },
                      {
                        "test": [
                          0.004080852278
                        ],
                        "passed_time": 80.27168835,
                        "iteration": 259,
                        "remaining_time": 228.4655745,
                        "learn": [
                          0.002606221362
                        ]
                      },
                      {
                        "test": [
                          0.00408014174
                        ],
                        "passed_time": 80.57621044,
                        "iteration": 260,
                        "remaining_time": 228.1449024,
                        "learn": [
                          0.002600314535
                        ]
                      },
                      {
                        "test": [
                          0.004078355296
                        ],
                        "passed_time": 80.86906735,
                        "iteration": 261,
                        "remaining_time": 227.7914951,
                        "learn": [
                          0.002595398006
                        ]
                      },
                      {
                        "test": [
                          0.004078299449
                        ],
                        "passed_time": 81.14955926,
                        "iteration": 262,
                        "remaining_time": 227.403898,
                        "learn": [
                          0.002590828653
                        ]
                      },
                      {
                        "test": [
                          0.00407605336
                        ],
                        "passed_time": 81.46715532,
                        "iteration": 263,
                        "remaining_time": 227.1205542,
                        "learn": [
                          0.002587690593
                        ]
                      },
                      {
                        "test": [
                          0.004075285451
                        ],
                        "passed_time": 81.74883851,
                        "iteration": 264,
                        "remaining_time": 226.7373446,
                        "learn": [
                          0.002585598492
                        ]
                      },
                      {
                        "test": [
                          0.004074966114
                        ],
                        "passed_time": 82.02116226,
                        "iteration": 265,
                        "remaining_time": 226.3290718,
                        "learn": [
                          0.002582299244
                        ]
                      },
                      {
                        "test": [
                          0.004075132905
                        ],
                        "passed_time": 82.36731029,
                        "iteration": 266,
                        "remaining_time": 226.1244885,
                        "learn": [
                          0.002580837551
                        ]
                      },
                      {
                        "test": [
                          0.004072962388
                        ],
                        "passed_time": 82.64123516,
                        "iteration": 267,
                        "remaining_time": 225.7215826,
                        "learn": [
                          0.002576808024
                        ]
                      },
                      {
                        "test": [
                          0.004070996235
                        ],
                        "passed_time": 82.89023444,
                        "iteration": 268,
                        "remaining_time": 225.251901,
                        "learn": [
                          0.002572011572
                        ]
                      },
                      {
                        "test": [
                          0.004069640618
                        ],
                        "passed_time": 83.17411366,
                        "iteration": 269,
                        "remaining_time": 224.8781591,
                        "learn": [
                          0.002569078484
                        ]
                      },
                      {
                        "test": [
                          0.004068048403
                        ],
                        "passed_time": 83.50996148,
                        "iteration": 270,
                        "remaining_time": 224.6448779,
                        "learn": [
                          0.002565902715
                        ]
                      },
                      {
                        "test": [
                          0.004065877492
                        ],
                        "passed_time": 83.82964392,
                        "iteration": 271,
                        "remaining_time": 224.3675764,
                        "learn": [
                          0.002562383951
                        ]
                      },
                      {
                        "test": [
                          0.004064539449
                        ],
                        "passed_time": 84.14502311,
                        "iteration": 272,
                        "remaining_time": 224.0785048,
                        "learn": [
                          0.002559327448
                        ]
                      },
                      {
                        "test": [
                          0.004062552947
                        ],
                        "passed_time": 84.48431598,
                        "iteration": 273,
                        "remaining_time": 223.8526036,
                        "learn": [
                          0.002555707285
                        ]
                      },
                      {
                        "test": [
                          0.004061204281
                        ],
                        "passed_time": 84.83458175,
                        "iteration": 274,
                        "remaining_time": 223.6548064,
                        "learn": [
                          0.002550535246
                        ]
                      },
                      {
                        "test": [
                          0.004059000239
                        ],
                        "passed_time": 85.10281306,
                        "iteration": 275,
                        "remaining_time": 223.2407125,
                        "learn": [
                          0.002547454084
                        ]
                      },
                      {
                        "test": [
                          0.004057356609
                        ],
                        "passed_time": 85.38199306,
                        "iteration": 276,
                        "remaining_time": 222.856249,
                        "learn": [
                          0.002543736389
                        ]
                      },
                      {
                        "test": [
                          0.00405628773
                        ],
                        "passed_time": 85.68586075,
                        "iteration": 277,
                        "remaining_time": 222.5366599,
                        "learn": [
                          0.002539769654
                        ]
                      },
                      {
                        "test": [
                          0.004054682789
                        ],
                        "passed_time": 85.95935093,
                        "iteration": 278,
                        "remaining_time": 222.1386811,
                        "learn": [
                          0.002535258362
                        ]
                      },
                      {
                        "test": [
                          0.004052806453
                        ],
                        "passed_time": 86.25740028,
                        "iteration": 279,
                        "remaining_time": 221.8047436,
                        "learn": [
                          0.002531857948
                        ]
                      },
                      {
                        "test": [
                          0.004050369212
                        ],
                        "passed_time": 86.78261129,
                        "iteration": 280,
                        "remaining_time": 222.0523043,
                        "learn": [
                          0.002528875699
                        ]
                      },
                      {
                        "test": [
                          0.004050540306
                        ],
                        "passed_time": 87.43275618,
                        "iteration": 281,
                        "remaining_time": 222.6124785,
                        "learn": [
                          0.002526343252
                        ]
                      },
                      {
                        "test": [
                          0.00404992942
                        ],
                        "passed_time": 87.73342616,
                        "iteration": 282,
                        "remaining_time": 222.2786804,
                        "learn": [
                          0.002523014136
                        ]
                      },
                      {
                        "test": [
                          0.004051158821
                        ],
                        "passed_time": 88.45890436,
                        "iteration": 283,
                        "remaining_time": 223.016111,
                        "learn": [
                          0.002519938573
                        ]
                      },
                      {
                        "test": [
                          0.004050437315
                        ],
                        "passed_time": 88.82117568,
                        "iteration": 284,
                        "remaining_time": 222.8320723,
                        "learn": [
                          0.002515508325
                        ]
                      },
                      {
                        "test": [
                          0.004049394189
                        ],
                        "passed_time": 89.20577332,
                        "iteration": 285,
                        "remaining_time": 222.702525,
                        "learn": [
                          0.002512750126
                        ]
                      },
                      {
                        "test": [
                          0.004048308653
                        ],
                        "passed_time": 89.9184937,
                        "iteration": 286,
                        "remaining_time": 223.3863624,
                        "learn": [
                          0.002509850311
                        ]
                      },
                      {
                        "test": [
                          0.004045300588
                        ],
                        "passed_time": 90.18512189,
                        "iteration": 287,
                        "remaining_time": 222.9576624,
                        "learn": [
                          0.002504958061
                        ]
                      },
                      {
                        "test": [
                          0.004045071486
                        ],
                        "passed_time": 90.49009892,
                        "iteration": 288,
                        "remaining_time": 222.6244302,
                        "learn": [
                          0.002501910287
                        ]
                      },
                      {
                        "test": [
                          0.004042416937
                        ],
                        "passed_time": 90.86266482,
                        "iteration": 289,
                        "remaining_time": 222.456869,
                        "learn": [
                          0.002497993576
                        ]
                      },
                      {
                        "test": [
                          0.004039879997
                        ],
                        "passed_time": 91.1644653,
                        "iteration": 290,
                        "remaining_time": 222.1154842,
                        "learn": [
                          0.002494834325
                        ]
                      },
                      {
                        "test": [
                          0.004039273782
                        ],
                        "passed_time": 91.43267714,
                        "iteration": 291,
                        "remaining_time": 221.6929295,
                        "learn": [
                          0.002491080952
                        ]
                      },
                      {
                        "test": [
                          0.004036876373
                        ],
                        "passed_time": 91.67743208,
                        "iteration": 292,
                        "remaining_time": 221.2148276,
                        "learn": [
                          0.002486682386
                        ]
                      },
                      {
                        "test": [
                          0.004035371444
                        ],
                        "passed_time": 92.03705958,
                        "iteration": 293,
                        "remaining_time": 221.0141635,
                        "learn": [
                          0.002482632968
                        ]
                      },
                      {
                        "test": [
                          0.004035075853
                        ],
                        "passed_time": 92.32107595,
                        "iteration": 294,
                        "remaining_time": 220.6317239,
                        "learn": [
                          0.002478840611
                        ]
                      },
                      {
                        "test": [
                          0.004033057196
                        ],
                        "passed_time": 92.5847184,
                        "iteration": 295,
                        "remaining_time": 220.2014924,
                        "learn": [
                          0.002474594344
                        ]
                      },
                      {
                        "test": [
                          0.004030851637
                        ],
                        "passed_time": 92.89199987,
                        "iteration": 296,
                        "remaining_time": 219.8756765,
                        "learn": [
                          0.002471164514
                        ]
                      },
                      {
                        "test": [
                          0.004028139978
                        ],
                        "passed_time": 93.17401022,
                        "iteration": 297,
                        "remaining_time": 219.4904536,
                        "learn": [
                          0.002468645969
                        ]
                      },
                      {
                        "test": [
                          0.004027679532
                        ],
                        "passed_time": 93.4824925,
                        "iteration": 298,
                        "remaining_time": 219.1679841,
                        "learn": [
                          0.002466749203
                        ]
                      },
                      {
                        "test": [
                          0.004027105635
                        ],
                        "passed_time": 93.81544331,
                        "iteration": 299,
                        "remaining_time": 218.9027011,
                        "learn": [
                          0.002462166979
                        ]
                      },
                      {
                        "test": [
                          0.00402642731
                        ],
                        "passed_time": 94.12673067,
                        "iteration": 300,
                        "remaining_time": 218.5866603,
                        "learn": [
                          0.002459585841
                        ]
                      },
                      {
                        "test": [
                          0.004024884416
                        ],
                        "passed_time": 94.39669557,
                        "iteration": 301,
                        "remaining_time": 218.1751441,
                        "learn": [
                          0.002454345225
                        ]
                      },
                      {
                        "test": [
                          0.004024694843
                        ],
                        "passed_time": 94.70918391,
                        "iteration": 302,
                        "remaining_time": 217.8623802,
                        "learn": [
                          0.002452570963
                        ]
                      },
                      {
                        "test": [
                          0.004022505989
                        ],
                        "passed_time": 95.02575301,
                        "iteration": 303,
                        "remaining_time": 217.5589608,
                        "learn": [
                          0.002447684334
                        ]
                      },
                      {
                        "test": [
                          0.00402183375
                        ],
                        "passed_time": 95.32210842,
                        "iteration": 304,
                        "remaining_time": 217.2093946,
                        "learn": [
                          0.002445803304
                        ]
                      },
                      {
                        "test": [
                          0.00402047228
                        ],
                        "passed_time": 95.5992925,
                        "iteration": 305,
                        "remaining_time": 216.8166961,
                        "learn": [
                          0.002441466613
                        ]
                      },
                      {
                        "test": [
                          0.004019571136
                        ],
                        "passed_time": 95.89971673,
                        "iteration": 306,
                        "remaining_time": 216.4772107,
                        "learn": [
                          0.002437403314
                        ]
                      },
                      {
                        "test": [
                          0.004018125311
                        ],
                        "passed_time": 96.20283953,
                        "iteration": 307,
                        "remaining_time": 216.1440421,
                        "learn": [
                          0.00243536523
                        ]
                      },
                      {
                        "test": [
                          0.004016615633
                        ],
                        "passed_time": 96.51058861,
                        "iteration": 308,
                        "remaining_time": 215.8214134,
                        "learn": [
                          0.002433127394
                        ]
                      },
                      {
                        "test": [
                          0.004015891528
                        ],
                        "passed_time": 96.74860035,
                        "iteration": 309,
                        "remaining_time": 215.3436588,
                        "learn": [
                          0.002431627223
                        ]
                      },
                      {
                        "test": [
                          0.004014679744
                        ],
                        "passed_time": 97.09880524,
                        "iteration": 310,
                        "remaining_time": 215.1160026,
                        "learn": [
                          0.00242816908
                        ]
                      },
                      {
                        "test": [
                          0.004011839596
                        ],
                        "passed_time": 97.36436677,
                        "iteration": 311,
                        "remaining_time": 214.7009113,
                        "learn": [
                          0.002422023877
                        ]
                      },
                      {
                        "test": [
                          0.004011149075
                        ],
                        "passed_time": 97.68288365,
                        "iteration": 312,
                        "remaining_time": 214.4030066,
                        "learn": [
                          0.002419449445
                        ]
                      },
                      {
                        "test": [
                          0.004008635851
                        ],
                        "passed_time": 98.03492792,
                        "iteration": 313,
                        "remaining_time": 214.1782183,
                        "learn": [
                          0.002417132213
                        ]
                      },
                      {
                        "test": [
                          0.004008689725
                        ],
                        "passed_time": 98.34459715,
                        "iteration": 314,
                        "remaining_time": 213.8604732,
                        "learn": [
                          0.002415071239
                        ]
                      },
                      {
                        "test": [
                          0.004007551774
                        ],
                        "passed_time": 98.6203431,
                        "iteration": 315,
                        "remaining_time": 213.4693503,
                        "learn": [
                          0.002412561367
                        ]
                      },
                      {
                        "test": [
                          0.004007245367
                        ],
                        "passed_time": 98.87357197,
                        "iteration": 316,
                        "remaining_time": 213.0304406,
                        "learn": [
                          0.002411038123
                        ]
                      },
                      {
                        "test": [
                          0.004007325698
                        ],
                        "passed_time": 99.25420405,
                        "iteration": 317,
                        "remaining_time": 212.8659345,
                        "learn": [
                          0.002409283446
                        ]
                      },
                      {
                        "test": [
                          0.004006097604
                        ],
                        "passed_time": 99.58831824,
                        "iteration": 318,
                        "remaining_time": 212.6007672,
                        "learn": [
                          0.002406837736
                        ]
                      },
                      {
                        "test": [
                          0.004004066267
                        ],
                        "passed_time": 99.88240722,
                        "iteration": 319,
                        "remaining_time": 212.2501154,
                        "learn": [
                          0.00240372348
                        ]
                      },
                      {
                        "test": [
                          0.004004061929
                        ],
                        "passed_time": 100.238657,
                        "iteration": 320,
                        "remaining_time": 212.0313026,
                        "learn": [
                          0.002401254103
                        ]
                      },
                      {
                        "test": [
                          0.004003056845
                        ],
                        "passed_time": 100.5166641,
                        "iteration": 321,
                        "remaining_time": 211.6468891,
                        "learn": [
                          0.002398913786
                        ]
                      },
                      {
                        "test": [
                          0.004001500991
                        ],
                        "passed_time": 100.7959566,
                        "iteration": 322,
                        "remaining_time": 211.2658286,
                        "learn": [
                          0.002395129053
                        ]
                      },
                      {
                        "test": [
                          0.00399990276
                        ],
                        "passed_time": 101.1411287,
                        "iteration": 323,
                        "remaining_time": 211.0228488,
                        "learn": [
                          0.002391725413
                        ]
                      },
                      {
                        "test": [
                          0.003999634984
                        ],
                        "passed_time": 101.3843373,
                        "iteration": 324,
                        "remaining_time": 210.5674697,
                        "learn": [
                          0.00239021468
                        ]
                      },
                      {
                        "test": [
                          0.004000192848
                        ],
                        "passed_time": 101.6911809,
                        "iteration": 325,
                        "remaining_time": 210.2449568,
                        "learn": [
                          0.002387277851
                        ]
                      },
                      {
                        "test": [
                          0.004000213078
                        ],
                        "passed_time": 101.9741259,
                        "iteration": 326,
                        "remaining_time": 209.8733538,
                        "learn": [
                          0.002385516663
                        ]
                      },
                      {
                        "test": [
                          0.003999822535
                        ],
                        "passed_time": 102.2543177,
                        "iteration": 327,
                        "remaining_time": 209.4966509,
                        "learn": [
                          0.00238189655
                        ]
                      },
                      {
                        "test": [
                          0.003998023585
                        ],
                        "passed_time": 102.5476667,
                        "iteration": 328,
                        "remaining_time": 209.1473688,
                        "learn": [
                          0.002376437157
                        ]
                      },
                      {
                        "test": [
                          0.003998790973
                        ],
                        "passed_time": 102.7961748,
                        "iteration": 329,
                        "remaining_time": 208.7073852,
                        "learn": [
                          0.002374167874
                        ]
                      },
                      {
                        "test": [
                          0.003998166574
                        ],
                        "passed_time": 103.0808665,
                        "iteration": 330,
                        "remaining_time": 208.3416909,
                        "learn": [
                          0.002368418888
                        ]
                      },
                      {
                        "test": [
                          0.003996509357
                        ],
                        "passed_time": 103.3924163,
                        "iteration": 331,
                        "remaining_time": 208.0305244,
                        "learn": [
                          0.002364470641
                        ]
                      },
                      {
                        "test": [
                          0.003995484979
                        ],
                        "passed_time": 103.6639019,
                        "iteration": 332,
                        "remaining_time": 207.6391068,
                        "learn": [
                          0.002362551428
                        ]
                      },
                      {
                        "test": [
                          0.003993554807
                        ],
                        "passed_time": 103.9938751,
                        "iteration": 333,
                        "remaining_time": 207.3650324,
                        "learn": [
                          0.002359873585
                        ]
                      },
                      {
                        "test": [
                          0.003992085148
                        ],
                        "passed_time": 104.2885448,
                        "iteration": 334,
                        "remaining_time": 207.0205442,
                        "learn": [
                          0.002357623584
                        ]
                      },
                      {
                        "test": [
                          0.003990895996
                        ],
                        "passed_time": 104.5979979,
                        "iteration": 335,
                        "remaining_time": 206.7055673,
                        "learn": [
                          0.002353919482
                        ]
                      },
                      {
                        "test": [
                          0.00398839133
                        ],
                        "passed_time": 104.8596157,
                        "iteration": 336,
                        "remaining_time": 206.2965141,
                        "learn": [
                          0.002348391787
                        ]
                      },
                      {
                        "test": [
                          0.003986932463
                        ],
                        "passed_time": 105.1399872,
                        "iteration": 337,
                        "remaining_time": 205.9250636,
                        "learn": [
                          0.002343504391
                        ]
                      },
                      {
                        "test": [
                          0.003985079707
                        ],
                        "passed_time": 105.4542443,
                        "iteration": 338,
                        "remaining_time": 205.6202227,
                        "learn": [
                          0.002339282006
                        ]
                      },
                      {
                        "test": [
                          0.003984959075
                        ],
                        "passed_time": 105.7007797,
                        "iteration": 339,
                        "remaining_time": 205.1838665,
                        "learn": [
                          0.002336103236
                        ]
                      },
                      {
                        "test": [
                          0.003982772111
                        ],
                        "passed_time": 106.0065733,
                        "iteration": 340,
                        "remaining_time": 204.8631431,
                        "learn": [
                          0.002331697129
                        ]
                      },
                      {
                        "test": [
                          0.003983247542
                        ],
                        "passed_time": 106.2976099,
                        "iteration": 341,
                        "remaining_time": 204.5141149,
                        "learn": [
                          0.002329613989
                        ]
                      },
                      {
                        "test": [
                          0.003982135162
                        ],
                        "passed_time": 106.6160515,
                        "iteration": 342,
                        "remaining_time": 204.2179179,
                        "learn": [
                          0.002327586581
                        ]
                      },
                      {
                        "test": [
                          0.00398126288
                        ],
                        "passed_time": 106.8946852,
                        "iteration": 343,
                        "remaining_time": 203.8456787,
                        "learn": [
                          0.002325892097
                        ]
                      },
                      {
                        "test": [
                          0.003978902105
                        ],
                        "passed_time": 107.1977407,
                        "iteration": 344,
                        "remaining_time": 203.5203483,
                        "learn": [
                          0.002323586526
                        ]
                      },
                      {
                        "test": [
                          0.003976825464
                        ],
                        "passed_time": 107.5128748,
                        "iteration": 345,
                        "remaining_time": 203.2179772,
                        "learn": [
                          0.002320209667
                        ]
                      },
                      {
                        "test": [
                          0.003975629061
                        ],
                        "passed_time": 107.7953852,
                        "iteration": 346,
                        "remaining_time": 202.8541399,
                        "learn": [
                          0.002316346557
                        ]
                      },
                      {
                        "test": [
                          0.00397528881
                        ],
                        "passed_time": 108.0787802,
                        "iteration": 347,
                        "remaining_time": 202.4924273,
                        "learn": [
                          0.002314207149
                        ]
                      },
                      {
                        "test": [
                          0.003974472691
                        ],
                        "passed_time": 108.4147639,
                        "iteration": 348,
                        "remaining_time": 202.2292587,
                        "learn": [
                          0.002311883543
                        ]
                      },
                      {
                        "test": [
                          0.003973583934
                        ],
                        "passed_time": 108.7011437,
                        "iteration": 349,
                        "remaining_time": 201.8735526,
                        "learn": [
                          0.002307360539
                        ]
                      },
                      {
                        "test": [
                          0.003973019784
                        ],
                        "passed_time": 108.9440756,
                        "iteration": 350,
                        "remaining_time": 201.4379061,
                        "learn": [
                          0.002305395799
                        ]
                      },
                      {
                        "test": [
                          0.003970567958
                        ],
                        "passed_time": 109.2325473,
                        "iteration": 351,
                        "remaining_time": 201.0871893,
                        "learn": [
                          0.002301206991
                        ]
                      },
                      {
                        "test": [
                          0.003968948955
                        ],
                        "passed_time": 109.5896284,
                        "iteration": 352,
                        "remaining_time": 200.8625767,
                        "learn": [
                          0.002298076972
                        ]
                      },
                      {
                        "test": [
                          0.003968214891
                        ],
                        "passed_time": 109.8645624,
                        "iteration": 353,
                        "remaining_time": 200.4873087,
                        "learn": [
                          0.002295231159
                        ]
                      },
                      {
                        "test": [
                          0.003967043234
                        ],
                        "passed_time": 110.1457801,
                        "iteration": 354,
                        "remaining_time": 200.1240229,
                        "learn": [
                          0.00229291641
                        ]
                      },
                      {
                        "test": [
                          0.003967124493
                        ],
                        "passed_time": 110.4250876,
                        "iteration": 355,
                        "remaining_time": 199.7577427,
                        "learn": [
                          0.002290516837
                        ]
                      },
                      {
                        "test": [
                          0.003967329623
                        ],
                        "passed_time": 110.745387,
                        "iteration": 356,
                        "remaining_time": 199.4657811,
                        "learn": [
                          0.002288379588
                        ]
                      },
                      {
                        "test": [
                          0.003965513186
                        ],
                        "passed_time": 111.0202882,
                        "iteration": 357,
                        "remaining_time": 199.0922487,
                        "learn": [
                          0.002286230137
                        ]
                      },
                      {
                        "test": [
                          0.003963599336
                        ],
                        "passed_time": 111.363234,
                        "iteration": 358,
                        "remaining_time": 198.8407605,
                        "learn": [
                          0.002282308531
                        ]
                      },
                      {
                        "test": [
                          0.003963659635
                        ],
                        "passed_time": 111.6989447,
                        "iteration": 359,
                        "remaining_time": 198.5759016,
                        "learn": [
                          0.002279846192
                        ]
                      },
                      {
                        "test": [
                          0.003963737269
                        ],
                        "passed_time": 111.9856692,
                        "iteration": 360,
                        "remaining_time": 198.2239408,
                        "learn": [
                          0.002277475887
                        ]
                      },
                      {
                        "test": [
                          0.00396132903
                        ],
                        "passed_time": 112.2796145,
                        "iteration": 361,
                        "remaining_time": 197.8850664,
                        "learn": [
                          0.002274395613
                        ]
                      },
                      {
                        "test": [
                          0.00396067009
                        ],
                        "passed_time": 112.5915119,
                        "iteration": 362,
                        "remaining_time": 197.5779423,
                        "learn": [
                          0.00227152494
                        ]
                      },
                      {
                        "test": [
                          0.003958885612
                        ],
                        "passed_time": 112.864521,
                        "iteration": 363,
                        "remaining_time": 197.2028444,
                        "learn": [
                          0.002267884097
                        ]
                      },
                      {
                        "test": [
                          0.003956880653
                        ],
                        "passed_time": 113.1556448,
                        "iteration": 364,
                        "remaining_time": 196.8598203,
                        "learn": [
                          0.002265780425
                        ]
                      },
                      {
                        "test": [
                          0.003956438385
                        ],
                        "passed_time": 113.4425198,
                        "iteration": 365,
                        "remaining_time": 196.5097201,
                        "learn": [
                          0.002262195299
                        ]
                      },
                      {
                        "test": [
                          0.003955327026
                        ],
                        "passed_time": 113.8181866,
                        "iteration": 366,
                        "remaining_time": 196.313112,
                        "learn": [
                          0.002260026865
                        ]
                      },
                      {
                        "test": [
                          0.003954581694
                        ],
                        "passed_time": 114.0898953,
                        "iteration": 367,
                        "remaining_time": 195.9369941,
                        "learn": [
                          0.002257052576
                        ]
                      },
                      {
                        "test": [
                          0.003954286839
                        ],
                        "passed_time": 114.3864821,
                        "iteration": 368,
                        "remaining_time": 195.6039843,
                        "learn": [
                          0.002252262795
                        ]
                      },
                      {
                        "test": [
                          0.003950986397
                        ],
                        "passed_time": 114.7256606,
                        "iteration": 369,
                        "remaining_time": 195.3436924,
                        "learn": [
                          0.002249211628
                        ]
                      },
                      {
                        "test": [
                          0.003949976472
                        ],
                        "passed_time": 114.9864121,
                        "iteration": 370,
                        "remaining_time": 194.9500086,
                        "learn": [
                          0.002245552764
                        ]
                      },
                      {
                        "test": [
                          0.003949753108
                        ],
                        "passed_time": 115.2703379,
                        "iteration": 371,
                        "remaining_time": 194.5961618,
                        "learn": [
                          0.002242855915
                        ]
                      },
                      {
                        "test": [
                          0.003949247884
                        ],
                        "passed_time": 115.6037443,
                        "iteration": 372,
                        "remaining_time": 194.325865,
                        "learn": [
                          0.002241008666
                        ]
                      },
                      {
                        "test": [
                          0.003948301654
                        ],
                        "passed_time": 115.9008817,
                        "iteration": 373,
                        "remaining_time": 193.994524,
                        "learn": [
                          0.002237465379
                        ]
                      },
                      {
                        "test": [
                          0.003946453825
                        ],
                        "passed_time": 116.1689265,
                        "iteration": 374,
                        "remaining_time": 193.6148774,
                        "learn": [
                          0.002234884105
                        ]
                      },
                      {
                        "test": [
                          0.003946064727
                        ],
                        "passed_time": 116.4770755,
                        "iteration": 375,
                        "remaining_time": 193.3023806,
                        "learn": [
                          0.002232423069
                        ]
                      },
                      {
                        "test": [
                          0.003946172989
                        ],
                        "passed_time": 116.7855877,
                        "iteration": 376,
                        "remaining_time": 192.990507,
                        "learn": [
                          0.002231043446
                        ]
                      },
                      {
                        "test": [
                          0.003946385134
                        ],
                        "passed_time": 117.0755915,
                        "iteration": 377,
                        "remaining_time": 192.6481956,
                        "learn": [
                          0.002228358762
                        ]
                      },
                      {
                        "test": [
                          0.003946599122
                        ],
                        "passed_time": 117.3954567,
                        "iteration": 378,
                        "remaining_time": 192.3550887,
                        "learn": [
                          0.002226154479
                        ]
                      },
                      {
                        "test": [
                          0.003944244685
                        ],
                        "passed_time": 117.7786866,
                        "iteration": 379,
                        "remaining_time": 192.1652255,
                        "learn": [
                          0.002223978697
                        ]
                      },
                      {
                        "test": [
                          0.003942592431
                        ],
                        "passed_time": 118.0668168,
                        "iteration": 380,
                        "remaining_time": 191.8198415,
                        "learn": [
                          0.002220763901
                        ]
                      },
                      {
                        "test": [
                          0.003937967066
                        ],
                        "passed_time": 118.3678602,
                        "iteration": 381,
                        "remaining_time": 191.4956482,
                        "learn": [
                          0.002217602077
                        ]
                      },
                      {
                        "test": [
                          0.003937523481
                        ],
                        "passed_time": 118.6463896,
                        "iteration": 382,
                        "remaining_time": 191.1353065,
                        "learn": [
                          0.002215232192
                        ]
                      },
                      {
                        "test": [
                          0.003936497322
                        ],
                        "passed_time": 118.9424815,
                        "iteration": 383,
                        "remaining_time": 190.8035641,
                        "learn": [
                          0.0022127916
                        ]
                      },
                      {
                        "test": [
                          0.003935724635
                        ],
                        "passed_time": 119.2777244,
                        "iteration": 384,
                        "remaining_time": 190.5345467,
                        "learn": [
                          0.002211571611
                        ]
                      },
                      {
                        "test": [
                          0.003934994456
                        ],
                        "passed_time": 119.5637452,
                        "iteration": 385,
                        "remaining_time": 190.1868901,
                        "learn": [
                          0.002206792014
                        ]
                      },
                      {
                        "test": [
                          0.003935346388
                        ],
                        "passed_time": 119.8880807,
                        "iteration": 386,
                        "remaining_time": 189.9002416,
                        "learn": [
                          0.002205294949
                        ]
                      },
                      {
                        "test": [
                          0.003935416369
                        ],
                        "passed_time": 120.1863045,
                        "iteration": 387,
                        "remaining_time": 189.5722122,
                        "learn": [
                          0.00220239318
                        ]
                      },
                      {
                        "test": [
                          0.003935503818
                        ],
                        "passed_time": 120.5199607,
                        "iteration": 388,
                        "remaining_time": 189.2999897,
                        "learn": [
                          0.002199801218
                        ]
                      },
                      {
                        "test": [
                          0.003935605064
                        ],
                        "passed_time": 120.8323579,
                        "iteration": 389,
                        "remaining_time": 188.9942008,
                        "learn": [
                          0.002196966313
                        ]
                      },
                      {
                        "test": [
                          0.003934974277
                        ],
                        "passed_time": 121.1922879,
                        "iteration": 390,
                        "remaining_time": 188.7624126,
                        "learn": [
                          0.002195098809
                        ]
                      },
                      {
                        "test": [
                          0.003933421567
                        ],
                        "passed_time": 121.5230589,
                        "iteration": 391,
                        "remaining_time": 188.4847445,
                        "learn": [
                          0.002192048883
                        ]
                      },
                      {
                        "test": [
                          0.003932862132
                        ],
                        "passed_time": 121.7867212,
                        "iteration": 392,
                        "remaining_time": 188.1031546,
                        "learn": [
                          0.002189607441
                        ]
                      },
                      {
                        "test": [
                          0.003931991474
                        ],
                        "passed_time": 122.1371347,
                        "iteration": 393,
                        "remaining_time": 187.855593,
                        "learn": [
                          0.002187391409
                        ]
                      },
                      {
                        "test": [
                          0.003930209083
                        ],
                        "passed_time": 122.4107185,
                        "iteration": 394,
                        "remaining_time": 187.4898347,
                        "learn": [
                          0.002185352612
                        ]
                      },
                      {
                        "test": [
                          0.003929844595
                        ],
                        "passed_time": 122.7189025,
                        "iteration": 395,
                        "remaining_time": 187.1773159,
                        "learn": [
                          0.002183083556
                        ]
                      },
                      {
                        "test": [
                          0.003927957538
                        ],
                        "passed_time": 123.011842,
                        "iteration": 396,
                        "remaining_time": 186.8416642,
                        "learn": [
                          0.002178581936
                        ]
                      },
                      {
                        "test": [
                          0.003928135666
                        ],
                        "passed_time": 123.2599934,
                        "iteration": 397,
                        "remaining_time": 186.4384825,
                        "learn": [
                          0.002176755345
                        ]
                      },
                      {
                        "test": [
                          0.003928005621
                        ],
                        "passed_time": 123.5269532,
                        "iteration": 398,
                        "remaining_time": 186.0644082,
                        "learn": [
                          0.002174937675
                        ]
                      },
                      {
                        "test": [
                          0.003927326962
                        ],
                        "passed_time": 123.854157,
                        "iteration": 399,
                        "remaining_time": 185.7812355,
                        "learn": [
                          0.002172170397
                        ]
                      },
                      {
                        "test": [
                          0.003927353564
                        ],
                        "passed_time": 124.1484342,
                        "iteration": 400,
                        "remaining_time": 185.4486586,
                        "learn": [
                          0.00217105223
                        ]
                      },
                      {
                        "test": [
                          0.003926934148
                        ],
                        "passed_time": 124.4443072,
                        "iteration": 401,
                        "remaining_time": 185.118646,
                        "learn": [
                          0.002168718732
                        ]
                      },
                      {
                        "test": [
                          0.00392532169
                        ],
                        "passed_time": 124.6962123,
                        "iteration": 402,
                        "remaining_time": 184.7236693,
                        "learn": [
                          0.002166638651
                        ]
                      },
                      {
                        "test": [
                          0.003925189626
                        ],
                        "passed_time": 124.9761656,
                        "iteration": 403,
                        "remaining_time": 184.370779,
                        "learn": [
                          0.002161867258
                        ]
                      },
                      {
                        "test": [
                          0.003924135469
                        ],
                        "passed_time": 125.2896184,
                        "iteration": 404,
                        "remaining_time": 184.067464,
                        "learn": [
                          0.002160078837
                        ]
                      },
                      {
                        "test": [
                          0.003924227918
                        ],
                        "passed_time": 125.5668158,
                        "iteration": 405,
                        "remaining_time": 183.7110557,
                        "learn": [
                          0.002158930278
                        ]
                      },
                      {
                        "test": [
                          0.003922753089
                        ],
                        "passed_time": 125.8327042,
                        "iteration": 406,
                        "remaining_time": 183.3385592,
                        "learn": [
                          0.002156307872
                        ]
                      },
                      {
                        "test": [
                          0.003922492676
                        ],
                        "passed_time": 126.1338998,
                        "iteration": 407,
                        "remaining_time": 183.0178154,
                        "learn": [
                          0.002154785836
                        ]
                      },
                      {
                        "test": [
                          0.003921209779
                        ],
                        "passed_time": 126.4325929,
                        "iteration": 408,
                        "remaining_time": 182.6935512,
                        "learn": [
                          0.002152497698
                        ]
                      },
                      {
                        "test": [
                          0.003920812715
                        ],
                        "passed_time": 126.7428729,
                        "iteration": 409,
                        "remaining_time": 182.3860854,
                        "learn": [
                          0.002149502652
                        ]
                      },
                      {
                        "test": [
                          0.003920265525
                        ],
                        "passed_time": 127.1016978,
                        "iteration": 410,
                        "remaining_time": 182.1481752,
                        "learn": [
                          0.002147066832
                        ]
                      },
                      {
                        "test": [
                          0.003919260421
                        ],
                        "passed_time": 127.3660045,
                        "iteration": 411,
                        "remaining_time": 181.7747831,
                        "learn": [
                          0.002144909168
                        ]
                      },
                      {
                        "test": [
                          0.00391831348
                        ],
                        "passed_time": 127.6277518,
                        "iteration": 412,
                        "remaining_time": 181.3982817,
                        "learn": [
                          0.00214298733
                        ]
                      },
                      {
                        "test": [
                          0.003917365932
                        ],
                        "passed_time": 127.9293859,
                        "iteration": 413,
                        "remaining_time": 181.0787927,
                        "learn": [
                          0.002140244009
                        ]
                      },
                      {
                        "test": [
                          0.003916009538
                        ],
                        "passed_time": 128.2934632,
                        "iteration": 414,
                        "remaining_time": 180.847412,
                        "learn": [
                          0.002138528213
                        ]
                      },
                      {
                        "test": [
                          0.003915445174
                        ],
                        "passed_time": 128.6097688,
                        "iteration": 415,
                        "remaining_time": 180.5483293,
                        "learn": [
                          0.002136528434
                        ]
                      },
                      {
                        "test": [
                          0.003915482166
                        ],
                        "passed_time": 128.8769158,
                        "iteration": 416,
                        "remaining_time": 180.1804363,
                        "learn": [
                          0.00213529494
                        ]
                      },
                      {
                        "test": [
                          0.003914366858
                        ],
                        "passed_time": 129.1669269,
                        "iteration": 417,
                        "remaining_time": 179.8448599,
                        "learn": [
                          0.002131738084
                        ]
                      },
                      {
                        "test": [
                          0.003913718414
                        ],
                        "passed_time": 129.4371775,
                        "iteration": 418,
                        "remaining_time": 179.4821005,
                        "learn": [
                          0.002129654277
                        ]
                      },
                      {
                        "test": [
                          0.003912419392
                        ],
                        "passed_time": 129.7486725,
                        "iteration": 419,
                        "remaining_time": 179.1767383,
                        "learn": [
                          0.002127408473
                        ]
                      },
                      {
                        "test": [
                          0.003911660946
                        ],
                        "passed_time": 130.0053373,
                        "iteration": 420,
                        "remaining_time": 178.795939,
                        "learn": [
                          0.002125631554
                        ]
                      },
                      {
                        "test": [
                          0.003910344462
                        ],
                        "passed_time": 130.3358233,
                        "iteration": 421,
                        "remaining_time": 178.5168385,
                        "learn": [
                          0.002123432542
                        ]
                      },
                      {
                        "test": [
                          0.003909552802
                        ],
                        "passed_time": 130.5874498,
                        "iteration": 422,
                        "remaining_time": 178.1299256,
                        "learn": [
                          0.002121083043
                        ]
                      },
                      {
                        "test": [
                          0.003908634953
                        ],
                        "passed_time": 130.8951511,
                        "iteration": 423,
                        "remaining_time": 177.819828,
                        "learn": [
                          0.00211802676
                        ]
                      },
                      {
                        "test": [
                          0.003906948886
                        ],
                        "passed_time": 131.2635527,
                        "iteration": 424,
                        "remaining_time": 177.5918654,
                        "learn": [
                          0.002116700998
                        ]
                      },
                      {
                        "test": [
                          0.003906627212
                        ],
                        "passed_time": 131.5292109,
                        "iteration": 425,
                        "remaining_time": 177.2248053,
                        "learn": [
                          0.002114882657
                        ]
                      },
                      {
                        "test": [
                          0.003906050348
                        ],
                        "passed_time": 131.8152437,
                        "iteration": 426,
                        "remaining_time": 176.8855612,
                        "learn": [
                          0.002112642455
                        ]
                      },
                      {
                        "test": [
                          0.003904997017
                        ],
                        "passed_time": 132.109628,
                        "iteration": 427,
                        "remaining_time": 176.5577272,
                        "learn": [
                          0.002109627177
                        ]
                      },
                      {
                        "test": [
                          0.003903939829
                        ],
                        "passed_time": 132.4374114,
                        "iteration": 428,
                        "remaining_time": 176.2745033,
                        "learn": [
                          0.002107421046
                        ]
                      },
                      {
                        "test": [
                          0.003903302432
                        ],
                        "passed_time": 132.7511751,
                        "iteration": 429,
                        "remaining_time": 175.9724879,
                        "learn": [
                          0.002103090099
                        ]
                      },
                      {
                        "test": [
                          0.003901365732
                        ],
                        "passed_time": 133.0525043,
                        "iteration": 430,
                        "remaining_time": 175.6540022,
                        "learn": [
                          0.002101332643
                        ]
                      },
                      {
                        "test": [
                          0.003901016948
                        ],
                        "passed_time": 133.360419,
                        "iteration": 431,
                        "remaining_time": 175.3442546,
                        "learn": [
                          0.002100462651
                        ]
                      },
                      {
                        "test": [
                          0.003899722448
                        ],
                        "passed_time": 133.6241349,
                        "iteration": 432,
                        "remaining_time": 174.9766385,
                        "learn": [
                          0.002098266123
                        ]
                      },
                      {
                        "test": [
                          0.003899086931
                        ],
                        "passed_time": 133.9075818,
                        "iteration": 433,
                        "remaining_time": 174.6352334,
                        "learn": [
                          0.002095690517
                        ]
                      },
                      {
                        "test": [
                          0.003898456156
                        ],
                        "passed_time": 134.1870153,
                        "iteration": 434,
                        "remaining_time": 174.288882,
                        "learn": [
                          0.002093437949
                        ]
                      },
                      {
                        "test": [
                          0.003897637071
                        ],
                        "passed_time": 134.5089701,
                        "iteration": 435,
                        "remaining_time": 173.9978421,
                        "learn": [
                          0.002090231541
                        ]
                      },
                      {
                        "test": [
                          0.00389764593
                        ],
                        "passed_time": 134.8127446,
                        "iteration": 436,
                        "remaining_time": 173.6832385,
                        "learn": [
                          0.002088294549
                        ]
                      },
                      {
                        "test": [
                          0.003897094731
                        ],
                        "passed_time": 135.0598056,
                        "iteration": 437,
                        "remaining_time": 173.295915,
                        "learn": [
                          0.00208665636
                        ]
                      },
                      {
                        "test": [
                          0.003896047419
                        ],
                        "passed_time": 135.3974689,
                        "iteration": 438,
                        "remaining_time": 173.0250115,
                        "learn": [
                          0.002082663627
                        ]
                      },
                      {
                        "test": [
                          0.003894844686
                        ],
                        "passed_time": 135.7125023,
                        "iteration": 439,
                        "remaining_time": 172.7250029,
                        "learn": [
                          0.002079894624
                        ]
                      },
                      {
                        "test": [
                          0.003893997834
                        ],
                        "passed_time": 135.9851071,
                        "iteration": 440,
                        "remaining_time": 172.3711448,
                        "learn": [
                          0.002077236912
                        ]
                      },
                      {
                        "test": [
                          0.00389355305
                        ],
                        "passed_time": 136.272213,
                        "iteration": 441,
                        "remaining_time": 172.0359612,
                        "learn": [
                          0.002075155559
                        ]
                      },
                      {
                        "test": [
                          0.003892726192
                        ],
                        "passed_time": 136.5721939,
                        "iteration": 442,
                        "remaining_time": 171.7171828,
                        "learn": [
                          0.002073784044
                        ]
                      },
                      {
                        "test": [
                          0.00389241829
                        ],
                        "passed_time": 136.8561527,
                        "iteration": 443,
                        "remaining_time": 171.3784254,
                        "learn": [
                          0.002072074869
                        ]
                      },
                      {
                        "test": [
                          0.003891586989
                        ],
                        "passed_time": 137.121813,
                        "iteration": 444,
                        "remaining_time": 171.0170927,
                        "learn": [
                          0.002068340273
                        ]
                      },
                      {
                        "test": [
                          0.003890387416
                        ],
                        "passed_time": 137.4747991,
                        "iteration": 445,
                        "remaining_time": 170.7646608,
                        "learn": [
                          0.002065698551
                        ]
                      },
                      {
                        "test": [
                          0.003889396896
                        ],
                        "passed_time": 137.7689387,
                        "iteration": 446,
                        "remaining_time": 170.4389778,
                        "learn": [
                          0.002063876368
                        ]
                      },
                      {
                        "test": [
                          0.003887824907
                        ],
                        "passed_time": 138.0925445,
                        "iteration": 447,
                        "remaining_time": 170.1497423,
                        "learn": [
                          0.002061351309
                        ]
                      },
                      {
                        "test": [
                          0.003887703611
                        ],
                        "passed_time": 138.3756757,
                        "iteration": 448,
                        "remaining_time": 169.8106844,
                        "learn": [
                          0.002060133192
                        ]
                      },
                      {
                        "test": [
                          0.003886897463
                        ],
                        "passed_time": 138.7243885,
                        "iteration": 449,
                        "remaining_time": 169.5520304,
                        "learn": [
                          0.00205908437
                        ]
                      },
                      {
                        "test": [
                          0.003887281279
                        ],
                        "passed_time": 139.0225976,
                        "iteration": 450,
                        "remaining_time": 169.2314991,
                        "learn": [
                          0.002056881696
                        ]
                      },
                      {
                        "test": [
                          0.003886964896
                        ],
                        "passed_time": 139.3233586,
                        "iteration": 451,
                        "remaining_time": 168.9141605,
                        "learn": [
                          0.002055050983
                        ]
                      },
                      {
                        "test": [
                          0.003886598187
                        ],
                        "passed_time": 139.629743,
                        "iteration": 452,
                        "remaining_time": 168.6036853,
                        "learn": [
                          0.002053187988
                        ]
                      },
                      {
                        "test": [
                          0.003886581796
                        ],
                        "passed_time": 139.8944444,
                        "iteration": 453,
                        "remaining_time": 168.2430983,
                        "learn": [
                          0.002051886898
                        ]
                      },
                      {
                        "test": [
                          0.003884644934
                        ],
                        "passed_time": 140.1706679,
                        "iteration": 454,
                        "remaining_time": 167.896734,
                        "learn": [
                          0.002048573898
                        ]
                      },
                      {
                        "test": [
                          0.003884979309
                        ],
                        "passed_time": 140.4099821,
                        "iteration": 455,
                        "remaining_time": 167.5066453,
                        "learn": [
                          0.002046639739
                        ]
                      },
                      {
                        "test": [
                          0.003884121514
                        ],
                        "passed_time": 140.6820532,
                        "iteration": 456,
                        "remaining_time": 167.1561376,
                        "learn": [
                          0.002042661307
                        ]
                      },
                      {
                        "test": [
                          0.003883424258
                        ],
                        "passed_time": 140.967195,
                        "iteration": 457,
                        "remaining_time": 166.8214404,
                        "learn": [
                          0.002039321687
                        ]
                      },
                      {
                        "test": [
                          0.003882242952
                        ],
                        "passed_time": 141.3149295,
                        "iteration": 458,
                        "remaining_time": 166.5607339,
                        "learn": [
                          0.002037461615
                        ]
                      },
                      {
                        "test": [
                          0.00388230286
                        ],
                        "passed_time": 141.6850952,
                        "iteration": 459,
                        "remaining_time": 166.3259813,
                        "learn": [
                          0.002034109161
                        ]
                      },
                      {
                        "test": [
                          0.003880988784
                        ],
                        "passed_time": 141.9750127,
                        "iteration": 460,
                        "remaining_time": 165.9968153,
                        "learn": [
                          0.002030977836
                        ]
                      },
                      {
                        "test": [
                          0.003880072301
                        ],
                        "passed_time": 142.293562,
                        "iteration": 461,
                        "remaining_time": 165.701161,
                        "learn": [
                          0.002028805282
                        ]
                      },
                      {
                        "test": [
                          0.003878782411
                        ],
                        "passed_time": 142.6717115,
                        "iteration": 462,
                        "remaining_time": 165.4745337,
                        "learn": [
                          0.002026378335
                        ]
                      },
                      {
                        "test": [
                          0.00387773096
                        ],
                        "passed_time": 142.9749929,
                        "iteration": 463,
                        "remaining_time": 165.1607677,
                        "learn": [
                          0.002023491782
                        ]
                      },
                      {
                        "test": [
                          0.003876435298
                        ],
                        "passed_time": 143.2664792,
                        "iteration": 464,
                        "remaining_time": 164.8334761,
                        "learn": [
                          0.002020844469
                        ]
                      },
                      {
                        "test": [
                          0.003876080929
                        ],
                        "passed_time": 143.5539086,
                        "iteration": 465,
                        "remaining_time": 164.5016893,
                        "learn": [
                          0.002018313326
                        ]
                      },
                      {
                        "test": [
                          0.003876301797
                        ],
                        "passed_time": 143.9223695,
                        "iteration": 466,
                        "remaining_time": 164.2625758,
                        "learn": [
                          0.002016858738
                        ]
                      },
                      {
                        "test": [
                          0.003875663881
                        ],
                        "passed_time": 144.2023657,
                        "iteration": 467,
                        "remaining_time": 163.9223473,
                        "learn": [
                          0.002015578281
                        ]
                      },
                      {
                        "test": [
                          0.003875795728
                        ],
                        "passed_time": 144.4887072,
                        "iteration": 468,
                        "remaining_time": 163.5895598,
                        "learn": [
                          0.002013490878
                        ]
                      },
                      {
                        "test": [
                          0.003874893043
                        ],
                        "passed_time": 144.817763,
                        "iteration": 469,
                        "remaining_time": 163.305137,
                        "learn": [
                          0.002011184961
                        ]
                      },
                      {
                        "test": [
                          0.003875182889
                        ],
                        "passed_time": 145.1231665,
                        "iteration": 470,
                        "remaining_time": 162.9939598,
                        "learn": [
                          0.002010626604
                        ]
                      },
                      {
                        "test": [
                          0.003874841915
                        ],
                        "passed_time": 145.4678117,
                        "iteration": 471,
                        "remaining_time": 162.7267047,
                        "learn": [
                          0.00200857054
                        ]
                      },
                      {
                        "test": [
                          0.003874330591
                        ],
                        "passed_time": 145.8566715,
                        "iteration": 472,
                        "remaining_time": 162.5083845,
                        "learn": [
                          0.002006422069
                        ]
                      },
                      {
                        "test": [
                          0.003873553141
                        ],
                        "passed_time": 146.1722643,
                        "iteration": 473,
                        "remaining_time": 162.2080401,
                        "learn": [
                          0.002004623744
                        ]
                      },
                      {
                        "test": [
                          0.003872547052
                        ],
                        "passed_time": 146.4361376,
                        "iteration": 474,
                        "remaining_time": 161.8504679,
                        "learn": [
                          0.002001161011
                        ]
                      },
                      {
                        "test": [
                          0.003871530966
                        ],
                        "passed_time": 146.7442502,
                        "iteration": 475,
                        "remaining_time": 161.5419897,
                        "learn": [
                          0.001998645721
                        ]
                      },
                      {
                        "test": [
                          0.003868834176
                        ],
                        "passed_time": 147.1339671,
                        "iteration": 476,
                        "remaining_time": 161.322987,
                        "learn": [
                          0.001995983847
                        ]
                      },
                      {
                        "test": [
                          0.003868267582
                        ],
                        "passed_time": 147.4397602,
                        "iteration": 477,
                        "remaining_time": 161.011621,
                        "learn": [
                          0.001993256715
                        ]
                      },
                      {
                        "test": [
                          0.003867382134
                        ],
                        "passed_time": 147.7741944,
                        "iteration": 478,
                        "remaining_time": 160.7314306,
                        "learn": [
                          0.001990582619
                        ]
                      },
                      {
                        "test": [
                          0.003866826988
                        ],
                        "passed_time": 148.1232882,
                        "iteration": 479,
                        "remaining_time": 160.4668956,
                        "learn": [
                          0.001989392034
                        ]
                      },
                      {
                        "test": [
                          0.003866432058
                        ],
                        "passed_time": 148.5165945,
                        "iteration": 480,
                        "remaining_time": 160.2497142,
                        "learn": [
                          0.001986481379
                        ]
                      },
                      {
                        "test": [
                          0.003865472442
                        ],
                        "passed_time": 148.8625487,
                        "iteration": 481,
                        "remaining_time": 159.9809134,
                        "learn": [
                          0.001984190693
                        ]
                      },
                      {
                        "test": [
                          0.003864990355
                        ],
                        "passed_time": 149.2706603,
                        "iteration": 482,
                        "remaining_time": 159.7783258,
                        "learn": [
                          0.001980949587
                        ]
                      },
                      {
                        "test": [
                          0.003864533455
                        ],
                        "passed_time": 149.5888107,
                        "iteration": 483,
                        "remaining_time": 159.47898,
                        "learn": [
                          0.00197932871
                        ]
                      },
                      {
                        "test": [
                          0.003864524739
                        ],
                        "passed_time": 149.929311,
                        "iteration": 484,
                        "remaining_time": 159.203289,
                        "learn": [
                          0.001977461796
                        ]
                      },
                      {
                        "test": [
                          0.003862954906
                        ],
                        "passed_time": 150.261419,
                        "iteration": 485,
                        "remaining_time": 158.9184555,
                        "learn": [
                          0.001975118314
                        ]
                      },
                      {
                        "test": [
                          0.003862520993
                        ],
                        "passed_time": 150.6071742,
                        "iteration": 486,
                        "remaining_time": 158.6478036,
                        "learn": [
                          0.001973676742
                        ]
                      },
                      {
                        "test": [
                          0.003861969563
                        ],
                        "passed_time": 150.9113253,
                        "iteration": 487,
                        "remaining_time": 158.3331937,
                        "learn": [
                          0.001972530581
                        ]
                      },
                      {
                        "test": [
                          0.003861066114
                        ],
                        "passed_time": 151.2814596,
                        "iteration": 488,
                        "remaining_time": 158.0875784,
                        "learn": [
                          0.001970633218
                        ]
                      },
                      {
                        "test": [
                          0.003860130829
                        ],
                        "passed_time": 151.6243602,
                        "iteration": 489,
                        "remaining_time": 157.8131096,
                        "learn": [
                          0.001969075478
                        ]
                      },
                      {
                        "test": [
                          0.003859933518
                        ],
                        "passed_time": 151.9265367,
                        "iteration": 490,
                        "remaining_time": 157.4961449,
                        "learn": [
                          0.001967127711
                        ]
                      },
                      {
                        "test": [
                          0.003859058195
                        ],
                        "passed_time": 152.3508756,
                        "iteration": 491,
                        "remaining_time": 157.3053756,
                        "learn": [
                          0.001965003752
                        ]
                      },
                      {
                        "test": [
                          0.003858068397
                        ],
                        "passed_time": 152.7241596,
                        "iteration": 492,
                        "remaining_time": 157.061154,
                        "learn": [
                          0.001963298962
                        ]
                      },
                      {
                        "test": [
                          0.003857129325
                        ],
                        "passed_time": 153.0292869,
                        "iteration": 493,
                        "remaining_time": 156.7465975,
                        "learn": [
                          0.001958881485
                        ]
                      },
                      {
                        "test": [
                          0.003857049378
                        ],
                        "passed_time": 153.4269916,
                        "iteration": 494,
                        "remaining_time": 156.5265268,
                        "learn": [
                          0.001957279611
                        ]
                      },
                      {
                        "test": [
                          0.003856773919
                        ],
                        "passed_time": 153.7063626,
                        "iteration": 495,
                        "remaining_time": 156.1854975,
                        "learn": [
                          0.001956111208
                        ]
                      },
                      {
                        "test": [
                          0.0038553119
                        ],
                        "passed_time": 154.024761,
                        "iteration": 496,
                        "remaining_time": 155.8842149,
                        "learn": [
                          0.001954427596
                        ]
                      },
                      {
                        "test": [
                          0.003855061746
                        ],
                        "passed_time": 154.4161088,
                        "iteration": 497,
                        "remaining_time": 155.6563988,
                        "learn": [
                          0.001953204948
                        ]
                      },
                      {
                        "test": [
                          0.00385469841
                        ],
                        "passed_time": 154.7279465,
                        "iteration": 498,
                        "remaining_time": 155.3480986,
                        "learn": [
                          0.001950936823
                        ]
                      },
                      {
                        "test": [
                          0.003854029437
                        ],
                        "passed_time": 155.1127589,
                        "iteration": 499,
                        "remaining_time": 155.1127589,
                        "learn": [
                          0.001949499562
                        ]
                      },
                      {
                        "test": [
                          0.003853620036
                        ],
                        "passed_time": 155.4887511,
                        "iteration": 500,
                        "remaining_time": 154.8680375,
                        "learn": [
                          0.001947421009
                        ]
                      },
                      {
                        "test": [
                          0.003853276275
                        ],
                        "passed_time": 155.8146143,
                        "iteration": 501,
                        "remaining_time": 154.5730636,
                        "learn": [
                          0.001946043799
                        ]
                      },
                      {
                        "test": [
                          0.00385296395
                        ],
                        "passed_time": 156.1517661,
                        "iteration": 502,
                        "remaining_time": 154.2891207,
                        "learn": [
                          0.001944596944
                        ]
                      },
                      {
                        "test": [
                          0.00385124101
                        ],
                        "passed_time": 156.5423948,
                        "iteration": 503,
                        "remaining_time": 154.0575949,
                        "learn": [
                          0.00194245489
                        ]
                      },
                      {
                        "test": [
                          0.003850558037
                        ],
                        "passed_time": 156.8178383,
                        "iteration": 504,
                        "remaining_time": 153.7125346,
                        "learn": [
                          0.001940771485
                        ]
                      },
                      {
                        "test": [
                          0.003849269514
                        ],
                        "passed_time": 157.0956113,
                        "iteration": 505,
                        "remaining_time": 153.3700237,
                        "learn": [
                          0.001938252822
                        ]
                      },
                      {
                        "test": [
                          0.003848841259
                        ],
                        "passed_time": 157.3971335,
                        "iteration": 506,
                        "remaining_time": 153.0508616,
                        "learn": [
                          0.001936532194
                        ]
                      },
                      {
                        "test": [
                          0.003848231058
                        ],
                        "passed_time": 157.6686639,
                        "iteration": 507,
                        "remaining_time": 152.7027217,
                        "learn": [
                          0.001934821207
                        ]
                      },
                      {
                        "test": [
                          0.003847704001
                        ],
                        "passed_time": 157.9376236,
                        "iteration": 508,
                        "remaining_time": 152.3524032,
                        "learn": [
                          0.001932525108
                        ]
                      },
                      {
                        "test": [
                          0.003847405269
                        ],
                        "passed_time": 158.2205264,
                        "iteration": 509,
                        "remaining_time": 152.0157999,
                        "learn": [
                          0.001930717159
                        ]
                      },
                      {
                        "test": [
                          0.003847459943
                        ],
                        "passed_time": 158.5539921,
                        "iteration": 510,
                        "remaining_time": 151.7277929,
                        "learn": [
                          0.001929870355
                        ]
                      },
                      {
                        "test": [
                          0.003846979645
                        ],
                        "passed_time": 158.8801816,
                        "iteration": 511,
                        "remaining_time": 151.4326731,
                        "learn": [
                          0.001928199907
                        ]
                      },
                      {
                        "test": [
                          0.003846658146
                        ],
                        "passed_time": 159.1361768,
                        "iteration": 512,
                        "remaining_time": 151.0707956,
                        "learn": [
                          0.001925729381
                        ]
                      },
                      {
                        "test": [
                          0.003845027687
                        ],
                        "passed_time": 159.4106139,
                        "iteration": 513,
                        "remaining_time": 150.7267672,
                        "learn": [
                          0.001922173254
                        ]
                      },
                      {
                        "test": [
                          0.003843743473
                        ],
                        "passed_time": 159.7401969,
                        "iteration": 514,
                        "remaining_time": 150.4349427,
                        "learn": [
                          0.001919361998
                        ]
                      },
                      {
                        "test": [
                          0.003842171601
                        ],
                        "passed_time": 160.0705768,
                        "iteration": 515,
                        "remaining_time": 150.1437194,
                        "learn": [
                          0.001917682491
                        ]
                      },
                      {
                        "test": [
                          0.003841651357
                        ],
                        "passed_time": 160.3637769,
                        "iteration": 516,
                        "remaining_time": 149.8176098,
                        "learn": [
                          0.001914873913
                        ]
                      },
                      {
                        "test": [
                          0.003840678681
                        ],
                        "passed_time": 160.7441499,
                        "iteration": 517,
                        "remaining_time": 149.5727418,
                        "learn": [
                          0.001913196312
                        ]
                      },
                      {
                        "test": [
                          0.003839868492
                        ],
                        "passed_time": 161.0870102,
                        "iteration": 518,
                        "remaining_time": 149.2925856,
                        "learn": [
                          0.001910754742
                        ]
                      },
                      {
                        "test": [
                          0.003839535161
                        ],
                        "passed_time": 161.375692,
                        "iteration": 519,
                        "remaining_time": 148.9621772,
                        "learn": [
                          0.001909335
                        ]
                      },
                      {
                        "test": [
                          0.003839041175
                        ],
                        "passed_time": 161.6988414,
                        "iteration": 520,
                        "remaining_time": 148.6636181,
                        "learn": [
                          0.001906787299
                        ]
                      },
                      {
                        "test": [
                          0.003838683241
                        ],
                        "passed_time": 162.0095185,
                        "iteration": 521,
                        "remaining_time": 148.3535438,
                        "learn": [
                          0.001905166365
                        ]
                      },
                      {
                        "test": [
                          0.00383738567
                        ],
                        "passed_time": 162.3069405,
                        "iteration": 522,
                        "remaining_time": 148.0313778,
                        "learn": [
                          0.001903295042
                        ]
                      },
                      {
                        "test": [
                          0.003836436715
                        ],
                        "passed_time": 162.5701249,
                        "iteration": 523,
                        "remaining_time": 147.6782051,
                        "learn": [
                          0.001902134499
                        ]
                      },
                      {
                        "test": [
                          0.003835660986
                        ],
                        "passed_time": 162.8940411,
                        "iteration": 524,
                        "remaining_time": 147.3803229,
                        "learn": [
                          0.001900546818
                        ]
                      },
                      {
                        "test": [
                          0.003835169268
                        ],
                        "passed_time": 163.173966,
                        "iteration": 525,
                        "remaining_time": 147.0426994,
                        "learn": [
                          0.001898131327
                        ]
                      },
                      {
                        "test": [
                          0.00383500747
                        ],
                        "passed_time": 163.5077022,
                        "iteration": 526,
                        "remaining_time": 146.7535923,
                        "learn": [
                          0.001893336904
                        ]
                      },
                      {
                        "test": [
                          0.003834404958
                        ],
                        "passed_time": 163.8385421,
                        "iteration": 527,
                        "remaining_time": 146.461727,
                        "learn": [
                          0.001891626741
                        ]
                      },
                      {
                        "test": [
                          0.003833819237
                        ],
                        "passed_time": 164.1022524,
                        "iteration": 528,
                        "remaining_time": 146.109945,
                        "learn": [
                          0.001889209751
                        ]
                      },
                      {
                        "test": [
                          0.003834177355
                        ],
                        "passed_time": 164.3932275,
                        "iteration": 529,
                        "remaining_time": 145.7826735,
                        "learn": [
                          0.001886135437
                        ]
                      },
                      {
                        "test": [
                          0.00383354378
                        ],
                        "passed_time": 164.6815181,
                        "iteration": 530,
                        "remaining_time": 145.4531676,
                        "learn": [
                          0.00188415567
                        ]
                      },
                      {
                        "test": [
                          0.003832684002
                        ],
                        "passed_time": 165.0334565,
                        "iteration": 531,
                        "remaining_time": 145.1798076,
                        "learn": [
                          0.001882716532
                        ]
                      },
                      {
                        "test": [
                          0.003832097382
                        ],
                        "passed_time": 165.2919909,
                        "iteration": 532,
                        "remaining_time": 144.8243147,
                        "learn": [
                          0.001880358881
                        ]
                      },
                      {
                        "test": [
                          0.003831415755
                        ],
                        "passed_time": 165.5691819,
                        "iteration": 533,
                        "remaining_time": 144.4854659,
                        "learn": [
                          0.001876906385
                        ]
                      },
                      {
                        "test": [
                          0.003831503613
                        ],
                        "passed_time": 165.9346589,
                        "iteration": 534,
                        "remaining_time": 144.2235821,
                        "learn": [
                          0.001875215571
                        ]
                      },
                      {
                        "test": [
                          0.003830279993
                        ],
                        "passed_time": 166.2186056,
                        "iteration": 535,
                        "remaining_time": 143.8907332,
                        "learn": [
                          0.001872665365
                        ]
                      },
                      {
                        "test": [
                          0.003830340107
                        ],
                        "passed_time": 166.5410842,
                        "iteration": 536,
                        "remaining_time": 143.5912886,
                        "learn": [
                          0.001871484831
                        ]
                      },
                      {
                        "test": [
                          0.003829754341
                        ],
                        "passed_time": 166.8927832,
                        "iteration": 537,
                        "remaining_time": 143.316851,
                        "learn": [
                          0.001869237745
                        ]
                      },
                      {
                        "test": [
                          0.003829634379
                        ],
                        "passed_time": 167.1769132,
                        "iteration": 538,
                        "remaining_time": 142.9843357,
                        "learn": [
                          0.001867841036
                        ]
                      },
                      {
                        "test": [
                          0.003828449304
                        ],
                        "passed_time": 167.4277624,
                        "iteration": 539,
                        "remaining_time": 142.6236495,
                        "learn": [
                          0.001865169539
                        ]
                      },
                      {
                        "test": [
                          0.003827477004
                        ],
                        "passed_time": 167.7150655,
                        "iteration": 540,
                        "remaining_time": 142.2942977,
                        "learn": [
                          0.001863923649
                        ]
                      },
                      {
                        "test": [
                          0.003826606831
                        ],
                        "passed_time": 168.0473369,
                        "iteration": 541,
                        "remaining_time": 142.0031002,
                        "learn": [
                          0.001862858364
                        ]
                      },
                      {
                        "test": [
                          0.003826048567
                        ],
                        "passed_time": 168.3597599,
                        "iteration": 542,
                        "remaining_time": 141.6950465,
                        "learn": [
                          0.001861153849
                        ]
                      },
                      {
                        "test": [
                          0.003826138666
                        ],
                        "passed_time": 168.6888404,
                        "iteration": 543,
                        "remaining_time": 141.4009398,
                        "learn": [
                          0.001859139585
                        ]
                      },
                      {
                        "test": [
                          0.003823874165
                        ],
                        "passed_time": 169.0339873,
                        "iteration": 544,
                        "remaining_time": 141.1201178,
                        "learn": [
                          0.001857221845
                        ]
                      },
                      {
                        "test": [
                          0.00382339647
                        ],
                        "passed_time": 169.3010888,
                        "iteration": 545,
                        "remaining_time": 140.7741654,
                        "learn": [
                          0.001856426069
                        ]
                      },
                      {
                        "test": [
                          0.003822558426
                        ],
                        "passed_time": 169.5871642,
                        "iteration": 546,
                        "remaining_time": 140.4442146,
                        "learn": [
                          0.001854212485
                        ]
                      },
                      {
                        "test": [
                          0.003821932577
                        ],
                        "passed_time": 169.944475,
                        "iteration": 547,
                        "remaining_time": 140.1731801,
                        "learn": [
                          0.001852836864
                        ]
                      },
                      {
                        "test": [
                          0.003821616805
                        ],
                        "passed_time": 170.3570537,
                        "iteration": 548,
                        "remaining_time": 139.9472335,
                        "learn": [
                          0.001850586499
                        ]
                      },
                      {
                        "test": [
                          0.003821651952
                        ],
                        "passed_time": 170.6219874,
                        "iteration": 549,
                        "remaining_time": 139.5998079,
                        "learn": [
                          0.001849008079
                        ]
                      },
                      {
                        "test": [
                          0.003821497408
                        ],
                        "passed_time": 170.9122819,
                        "iteration": 550,
                        "remaining_time": 139.2733477,
                        "learn": [
                          0.001847629007
                        ]
                      },
                      {
                        "test": [
                          0.003821299544
                        ],
                        "passed_time": 171.2245085,
                        "iteration": 551,
                        "remaining_time": 138.9648185,
                        "learn": [
                          0.001845513345
                        ]
                      },
                      {
                        "test": [
                          0.003821572901
                        ],
                        "passed_time": 171.4834626,
                        "iteration": 552,
                        "remaining_time": 138.6132148,
                        "learn": [
                          0.001844159635
                        ]
                      },
                      {
                        "test": [
                          0.003820480172
                        ],
                        "passed_time": 171.7936115,
                        "iteration": 553,
                        "remaining_time": 138.3031602,
                        "learn": [
                          0.001842569204
                        ]
                      },
                      {
                        "test": [
                          0.003820961445
                        ],
                        "passed_time": 172.2204827,
                        "iteration": 554,
                        "remaining_time": 138.0866933,
                        "learn": [
                          0.001840698844
                        ]
                      },
                      {
                        "test": [
                          0.003820803607
                        ],
                        "passed_time": 172.4772766,
                        "iteration": 555,
                        "remaining_time": 137.7336526,
                        "learn": [
                          0.001838819123
                        ]
                      },
                      {
                        "test": [
                          0.003820561871
                        ],
                        "passed_time": 172.7111718,
                        "iteration": 556,
                        "remaining_time": 137.3627452,
                        "learn": [
                          0.001837210637
                        ]
                      },
                      {
                        "test": [
                          0.003818916816
                        ],
                        "passed_time": 173.0233854,
                        "iteration": 557,
                        "remaining_time": 137.0543662,
                        "learn": [
                          0.001835425296
                        ]
                      },
                      {
                        "test": [
                          0.003818097033
                        ],
                        "passed_time": 173.3192249,
                        "iteration": 558,
                        "remaining_time": 136.7330558,
                        "learn": [
                          0.00183377232
                        ]
                      },
                      {
                        "test": [
                          0.003817128267
                        ],
                        "passed_time": 173.6482449,
                        "iteration": 559,
                        "remaining_time": 136.4379067,
                        "learn": [
                          0.001832182954
                        ]
                      },
                      {
                        "test": [
                          0.003817136553
                        ],
                        "passed_time": 173.9245106,
                        "iteration": 560,
                        "remaining_time": 136.101355,
                        "learn": [
                          0.001830007462
                        ]
                      },
                      {
                        "test": [
                          0.003816100608
                        ],
                        "passed_time": 174.2331653,
                        "iteration": 561,
                        "remaining_time": 135.7902605,
                        "learn": [
                          0.001828112692
                        ]
                      },
                      {
                        "test": [
                          0.003815728618
                        ],
                        "passed_time": 174.5950813,
                        "iteration": 562,
                        "remaining_time": 135.520516,
                        "learn": [
                          0.001826047199
                        ]
                      },
                      {
                        "test": [
                          0.003815656625
                        ],
                        "passed_time": 174.8798173,
                        "iteration": 563,
                        "remaining_time": 135.1907808,
                        "learn": [
                          0.001824439254
                        ]
                      },
                      {
                        "test": [
                          0.003816508292
                        ],
                        "passed_time": 175.1881947,
                        "iteration": 564,
                        "remaining_time": 134.8794065,
                        "learn": [
                          0.00182233736
                        ]
                      },
                      {
                        "test": [
                          0.003815329672
                        ],
                        "passed_time": 175.5868525,
                        "iteration": 565,
                        "remaining_time": 134.6372686,
                        "learn": [
                          0.001820845677
                        ]
                      },
                      {
                        "test": [
                          0.00381548801
                        ],
                        "passed_time": 175.8849706,
                        "iteration": 566,
                        "remaining_time": 134.3177994,
                        "learn": [
                          0.001819346146
                        ]
                      },
                      {
                        "test": [
                          0.003815040992
                        ],
                        "passed_time": 176.1567751,
                        "iteration": 567,
                        "remaining_time": 133.9783923,
                        "learn": [
                          0.001817686989
                        ]
                      },
                      {
                        "test": [
                          0.003814572308
                        ],
                        "passed_time": 176.4981243,
                        "iteration": 568,
                        "remaining_time": 133.6919008,
                        "learn": [
                          0.001815798108
                        ]
                      },
                      {
                        "test": [
                          0.003813894574
                        ],
                        "passed_time": 176.7852335,
                        "iteration": 569,
                        "remaining_time": 133.364299,
                        "learn": [
                          0.001813725761
                        ]
                      },
                      {
                        "test": [
                          0.003813179533
                        ],
                        "passed_time": 177.1158955,
                        "iteration": 570,
                        "remaining_time": 133.0695607,
                        "learn": [
                          0.001811945529
                        ]
                      },
                      {
                        "test": [
                          0.00381229683
                        ],
                        "passed_time": 177.4741766,
                        "iteration": 571,
                        "remaining_time": 132.7953629,
                        "learn": [
                          0.001810355187
                        ]
                      },
                      {
                        "test": [
                          0.003811329322
                        ],
                        "passed_time": 177.7528688,
                        "iteration": 572,
                        "remaining_time": 132.4615619,
                        "learn": [
                          0.001809408881
                        ]
                      },
                      {
                        "test": [
                          0.003811116758
                        ],
                        "passed_time": 178.0573053,
                        "iteration": 573,
                        "remaining_time": 132.1470594,
                        "learn": [
                          0.001808345336
                        ]
                      },
                      {
                        "test": [
                          0.003810668839
                        ],
                        "passed_time": 178.3293494,
                        "iteration": 574,
                        "remaining_time": 131.8086495,
                        "learn": [
                          0.001807005958
                        ]
                      },
                      {
                        "test": [
                          0.003810021743
                        ],
                        "passed_time": 178.6682695,
                        "iteration": 575,
                        "remaining_time": 131.5196984,
                        "learn": [
                          0.001805559669
                        ]
                      },
                      {
                        "test": [
                          0.003808675452
                        ],
                        "passed_time": 178.9638974,
                        "iteration": 576,
                        "remaining_time": 131.1988364,
                        "learn": [
                          0.001803259458
                        ]
                      },
                      {
                        "test": [
                          0.003808544283
                        ],
                        "passed_time": 179.2820769,
                        "iteration": 577,
                        "remaining_time": 130.8945267,
                        "learn": [
                          0.001802030103
                        ]
                      },
                      {
                        "test": [
                          0.003807651622
                        ],
                        "passed_time": 179.5810617,
                        "iteration": 578,
                        "remaining_time": 130.5762124,
                        "learn": [
                          0.001800136243
                        ]
                      },
                      {
                        "test": [
                          0.003807086062
                        ],
                        "passed_time": 179.8311304,
                        "iteration": 579,
                        "remaining_time": 130.2225427,
                        "learn": [
                          0.001797600456
                        ]
                      },
                      {
                        "test": [
                          0.003806272776
                        ],
                        "passed_time": 180.1127067,
                        "iteration": 580,
                        "remaining_time": 129.891952,
                        "learn": [
                          0.00179602945
                        ]
                      },
                      {
                        "test": [
                          0.003805643331
                        ],
                        "passed_time": 180.4057851,
                        "iteration": 581,
                        "remaining_time": 129.5697907,
                        "learn": [
                          0.001794425796
                        ]
                      },
                      {
                        "test": [
                          0.003805345158
                        ],
                        "passed_time": 180.763227,
                        "iteration": 582,
                        "remaining_time": 129.2937662,
                        "learn": [
                          0.001792614072
                        ]
                      },
                      {
                        "test": [
                          0.003804839582
                        ],
                        "passed_time": 181.0692367,
                        "iteration": 583,
                        "remaining_time": 128.9808262,
                        "learn": [
                          0.001790406732
                        ]
                      },
                      {
                        "test": [
                          0.003804579577
                        ],
                        "passed_time": 181.4037021,
                        "iteration": 584,
                        "remaining_time": 128.6880964,
                        "learn": [
                          0.001788861376
                        ]
                      },
                      {
                        "test": [
                          0.003804086087
                        ],
                        "passed_time": 181.7242293,
                        "iteration": 585,
                        "remaining_time": 128.385377,
                        "learn": [
                          0.001787519043
                        ]
                      },
                      {
                        "test": [
                          0.003803642113
                        ],
                        "passed_time": 182.0287001,
                        "iteration": 586,
                        "remaining_time": 128.0713,
                        "learn": [
                          0.00178591197
                        ]
                      },
                      {
                        "test": [
                          0.003803010284
                        ],
                        "passed_time": 182.3155416,
                        "iteration": 587,
                        "remaining_time": 127.7449033,
                        "learn": [
                          0.001784630108
                        ]
                      },
                      {
                        "test": [
                          0.003802751399
                        ],
                        "passed_time": 182.598339,
                        "iteration": 588,
                        "remaining_time": 127.4158189,
                        "learn": [
                          0.001783290069
                        ]
                      },
                      {
                        "test": [
                          0.003802329588
                        ],
                        "passed_time": 182.9044391,
                        "iteration": 589,
                        "remaining_time": 127.1030848,
                        "learn": [
                          0.001782345593
                        ]
                      },
                      {
                        "test": [
                          0.003802421478
                        ],
                        "passed_time": 183.1969205,
                        "iteration": 590,
                        "remaining_time": 126.7809483,
                        "learn": [
                          0.001780520239
                        ]
                      },
                      {
                        "test": [
                          0.003802409216
                        ],
                        "passed_time": 183.4762058,
                        "iteration": 591,
                        "remaining_time": 126.4498175,
                        "learn": [
                          0.00177871102
                        ]
                      },
                      {
                        "test": [
                          0.003802064228
                        ],
                        "passed_time": 183.7934078,
                        "iteration": 592,
                        "remaining_time": 126.1448853,
                        "learn": [
                          0.001777022005
                        ]
                      },
                      {
                        "test": [
                          0.003801377928
                        ],
                        "passed_time": 184.0958989,
                        "iteration": 593,
                        "remaining_time": 125.8298568,
                        "learn": [
                          0.001774384115
                        ]
                      },
                      {
                        "test": [
                          0.003800735134
                        ],
                        "passed_time": 184.4178045,
                        "iteration": 594,
                        "remaining_time": 125.5280854,
                        "learn": [
                          0.001770939758
                        ]
                      },
                      {
                        "test": [
                          0.003800924196
                        ],
                        "passed_time": 184.6866348,
                        "iteration": 595,
                        "remaining_time": 125.1902693,
                        "learn": [
                          0.001769431172
                        ]
                      },
                      {
                        "test": [
                          0.003800678604
                        ],
                        "passed_time": 185.0372657,
                        "iteration": 596,
                        "remaining_time": 124.9079029,
                        "learn": [
                          0.001767056441
                        ]
                      },
                      {
                        "test": [
                          0.003800026192
                        ],
                        "passed_time": 185.3562777,
                        "iteration": 597,
                        "remaining_time": 124.6040529,
                        "learn": [
                          0.001764825795
                        ]
                      },
                      {
                        "test": [
                          0.003799524704
                        ],
                        "passed_time": 185.6317974,
                        "iteration": 598,
                        "remaining_time": 124.2710363,
                        "learn": [
                          0.001763833554
                        ]
                      },
                      {
                        "test": [
                          0.003799705057
                        ],
                        "passed_time": 185.9562809,
                        "iteration": 599,
                        "remaining_time": 123.9708539,
                        "learn": [
                          0.001763277172
                        ]
                      },
                      {
                        "test": [
                          0.003799132304
                        ],
                        "passed_time": 186.2456443,
                        "iteration": 600,
                        "remaining_time": 123.6472747,
                        "learn": [
                          0.001761716771
                        ]
                      },
                      {
                        "test": [
                          0.00379882482
                        ],
                        "passed_time": 186.5741781,
                        "iteration": 601,
                        "remaining_time": 123.3497058,
                        "learn": [
                          0.001760122963
                        ]
                      },
                      {
                        "test": [
                          0.003798206749
                        ],
                        "passed_time": 186.8505044,
                        "iteration": 602,
                        "remaining_time": 123.0176621,
                        "learn": [
                          0.001758757537
                        ]
                      },
                      {
                        "test": [
                          0.003797505209
                        ],
                        "passed_time": 187.1772181,
                        "iteration": 603,
                        "remaining_time": 122.7188384,
                        "learn": [
                          0.001756760662
                        ]
                      },
                      {
                        "test": [
                          0.003796640127
                        ],
                        "passed_time": 187.4399255,
                        "iteration": 604,
                        "remaining_time": 122.3781332,
                        "learn": [
                          0.001755046577
                        ]
                      },
                      {
                        "test": [
                          0.003796547174
                        ],
                        "passed_time": 187.7400255,
                        "iteration": 605,
                        "remaining_time": 122.0619968,
                        "learn": [
                          0.001752516844
                        ]
                      },
                      {
                        "test": [
                          0.00379582063
                        ],
                        "passed_time": 188.0950287,
                        "iteration": 606,
                        "remaining_time": 121.7814601,
                        "learn": [
                          0.001750516201
                        ]
                      },
                      {
                        "test": [
                          0.003795801599
                        ],
                        "passed_time": 188.3627906,
                        "iteration": 607,
                        "remaining_time": 121.4444308,
                        "learn": [
                          0.001748802968
                        ]
                      },
                      {
                        "test": [
                          0.003794808128
                        ],
                        "passed_time": 188.6466525,
                        "iteration": 608,
                        "remaining_time": 121.1179658,
                        "learn": [
                          0.00174753438
                        ]
                      },
                      {
                        "test": [
                          0.003794899007
                        ],
                        "passed_time": 188.9082066,
                        "iteration": 609,
                        "remaining_time": 120.777378,
                        "learn": [
                          0.001746290656
                        ]
                      },
                      {
                        "test": [
                          0.003794652766
                        ],
                        "passed_time": 189.2936004,
                        "iteration": 610,
                        "remaining_time": 120.5158929,
                        "learn": [
                          0.001743077945
                        ]
                      },
                      {
                        "test": [
                          0.003794206554
                        ],
                        "passed_time": 189.5978043,
                        "iteration": 611,
                        "remaining_time": 120.2025295,
                        "learn": [
                          0.001741151254
                        ]
                      },
                      {
                        "test": [
                          0.003793189062
                        ],
                        "passed_time": 189.8772283,
                        "iteration": 612,
                        "remaining_time": 119.873552,
                        "learn": [
                          0.001738965147
                        ]
                      },
                      {
                        "test": [
                          0.003792445062
                        ],
                        "passed_time": 190.2293675,
                        "iteration": 613,
                        "remaining_time": 119.5904492,
                        "learn": [
                          0.001736737546
                        ]
                      },
                      {
                        "test": [
                          0.003791893389
                        ],
                        "passed_time": 190.5571247,
                        "iteration": 614,
                        "remaining_time": 119.2918585,
                        "learn": [
                          0.001735201269
                        ]
                      },
                      {
                        "test": [
                          0.003791639329
                        ],
                        "passed_time": 190.8356473,
                        "iteration": 615,
                        "remaining_time": 118.9624815,
                        "learn": [
                          0.001733291139
                        ]
                      },
                      {
                        "test": [
                          0.003791107949
                        ],
                        "passed_time": 191.1065526,
                        "iteration": 616,
                        "remaining_time": 118.6285408,
                        "learn": [
                          0.001732007841
                        ]
                      },
                      {
                        "test": [
                          0.003791156419
                        ],
                        "passed_time": 191.4190907,
                        "iteration": 617,
                        "remaining_time": 118.3205383,
                        "learn": [
                          0.001730493382
                        ]
                      },
                      {
                        "test": [
                          0.003790283103
                        ],
                        "passed_time": 191.6740762,
                        "iteration": 618,
                        "remaining_time": 117.977097,
                        "learn": [
                          0.001729893029
                        ]
                      },
                      {
                        "test": [
                          0.003789730845
                        ],
                        "passed_time": 191.930065,
                        "iteration": 619,
                        "remaining_time": 117.634556,
                        "learn": [
                          0.001729337124
                        ]
                      },
                      {
                        "test": [
                          0.003789953461
                        ],
                        "passed_time": 192.3265899,
                        "iteration": 620,
                        "remaining_time": 117.3780637,
                        "learn": [
                          0.001728245073
                        ]
                      },
                      {
                        "test": [
                          0.003789160211
                        ],
                        "passed_time": 192.6602674,
                        "iteration": 621,
                        "remaining_time": 117.0829278,
                        "learn": [
                          0.001726457153
                        ]
                      },
                      {
                        "test": [
                          0.003788964756
                        ],
                        "passed_time": 192.9379888,
                        "iteration": 622,
                        "remaining_time": 116.753807,
                        "learn": [
                          0.001725629761
                        ]
                      },
                      {
                        "test": [
                          0.00378871474
                        ],
                        "passed_time": 193.1949011,
                        "iteration": 623,
                        "remaining_time": 116.4123122,
                        "learn": [
                          0.001723591561
                        ]
                      },
                      {
                        "test": [
                          0.003787947659
                        ],
                        "passed_time": 193.5456043,
                        "iteration": 624,
                        "remaining_time": 116.1273626,
                        "learn": [
                          0.00172272468
                        ]
                      },
                      {
                        "test": [
                          0.003787283292
                        ],
                        "passed_time": 193.8055758,
                        "iteration": 625,
                        "remaining_time": 115.7879958,
                        "learn": [
                          0.001720220868
                        ]
                      },
                      {
                        "test": [
                          0.003787190484
                        ],
                        "passed_time": 194.0953677,
                        "iteration": 626,
                        "remaining_time": 115.4666223,
                        "learn": [
                          0.0017173976
                        ]
                      },
                      {
                        "test": [
                          0.003786724374
                        ],
                        "passed_time": 194.3481193,
                        "iteration": 627,
                        "remaining_time": 115.1234082,
                        "learn": [
                          0.001716653801
                        ]
                      },
                      {
                        "test": [
                          0.003785657208
                        ],
                        "passed_time": 194.6359033,
                        "iteration": 628,
                        "remaining_time": 114.8011449,
                        "learn": [
                          0.001715488702
                        ]
                      },
                      {
                        "test": [
                          0.00378537146
                        ],
                        "passed_time": 194.9876353,
                        "iteration": 629,
                        "remaining_time": 114.5165477,
                        "learn": [
                          0.001713301464
                        ]
                      },
                      {
                        "test": [
                          0.003784834824
                        ],
                        "passed_time": 195.2728044,
                        "iteration": 630,
                        "remaining_time": 114.1928127,
                        "learn": [
                          0.001711676737
                        ]
                      },
                      {
                        "test": [
                          0.003784446502
                        ],
                        "passed_time": 195.6006178,
                        "iteration": 631,
                        "remaining_time": 113.8940306,
                        "learn": [
                          0.001710707268
                        ]
                      },
                      {
                        "test": [
                          0.00378430839
                        ],
                        "passed_time": 195.8798917,
                        "iteration": 632,
                        "remaining_time": 113.5670146,
                        "learn": [
                          0.001709068432
                        ]
                      },
                      {
                        "test": [
                          0.003783736803
                        ],
                        "passed_time": 196.1498307,
                        "iteration": 633,
                        "remaining_time": 113.2347603,
                        "learn": [
                          0.001707635563
                        ]
                      },
                      {
                        "test": [
                          0.00378382834
                        ],
                        "passed_time": 196.4894077,
                        "iteration": 634,
                        "remaining_time": 112.9427304,
                        "learn": [
                          0.001705055265
                        ]
                      },
                      {
                        "test": [
                          0.003783450895
                        ],
                        "passed_time": 196.8018507,
                        "iteration": 635,
                        "remaining_time": 112.6350215,
                        "learn": [
                          0.001704069282
                        ]
                      },
                      {
                        "test": [
                          0.003783284163
                        ],
                        "passed_time": 197.0890587,
                        "iteration": 636,
                        "remaining_time": 112.3129173,
                        "learn": [
                          0.001703134433
                        ]
                      },
                      {
                        "test": [
                          0.003782984878
                        ],
                        "passed_time": 197.3996622,
                        "iteration": 637,
                        "remaining_time": 112.004197,
                        "learn": [
                          0.0017018865
                        ]
                      },
                      {
                        "test": [
                          0.003782630172
                        ],
                        "passed_time": 197.7191141,
                        "iteration": 638,
                        "remaining_time": 111.7004698,
                        "learn": [
                          0.001699873063
                        ]
                      },
                      {
                        "test": [
                          0.003781858629
                        ],
                        "passed_time": 197.9935456,
                        "iteration": 639,
                        "remaining_time": 111.3713694,
                        "learn": [
                          0.001698585447
                        ]
                      },
                      {
                        "test": [
                          0.00378163498
                        ],
                        "passed_time": 198.2758109,
                        "iteration": 640,
                        "remaining_time": 111.046827,
                        "learn": [
                          0.001696263486
                        ]
                      },
                      {
                        "test": [
                          0.003781410111
                        ],
                        "passed_time": 198.5504824,
                        "iteration": 641,
                        "remaining_time": 110.7181818,
                        "learn": [
                          0.001695071179
                        ]
                      },
                      {
                        "test": [
                          0.003781209486
                        ],
                        "passed_time": 198.893803,
                        "iteration": 642,
                        "remaining_time": 110.4278191,
                        "learn": [
                          0.001693436168
                        ]
                      },
                      {
                        "test": [
                          0.003780909546
                        ],
                        "passed_time": 199.1830519,
                        "iteration": 643,
                        "remaining_time": 110.1074014,
                        "learn": [
                          0.001691935488
                        ]
                      },
                      {
                        "test": [
                          0.003780095433
                        ],
                        "passed_time": 199.5091952,
                        "iteration": 644,
                        "remaining_time": 109.8073865,
                        "learn": [
                          0.001690384206
                        ]
                      },
                      {
                        "test": [
                          0.003780705159
                        ],
                        "passed_time": 199.8815192,
                        "iteration": 645,
                        "remaining_time": 109.5325972,
                        "learn": [
                          0.001689347491
                        ]
                      },
                      {
                        "test": [
                          0.003780465301
                        ],
                        "passed_time": 200.1807292,
                        "iteration": 646,
                        "remaining_time": 109.2176158,
                        "learn": [
                          0.001686658477
                        ]
                      },
                      {
                        "test": [
                          0.003779793332
                        ],
                        "passed_time": 200.5023611,
                        "iteration": 647,
                        "remaining_time": 108.9148628,
                        "learn": [
                          0.001684406854
                        ]
                      },
                      {
                        "test": [
                          0.003779682285
                        ],
                        "passed_time": 200.757384,
                        "iteration": 648,
                        "remaining_time": 108.5760274,
                        "learn": [
                          0.001683345482
                        ]
                      },
                      {
                        "test": [
                          0.003779415046
                        ],
                        "passed_time": 201.080692,
                        "iteration": 649,
                        "remaining_time": 108.2742188,
                        "learn": [
                          0.001683011951
                        ]
                      },
                      {
                        "test": [
                          0.003779285059
                        ],
                        "passed_time": 201.3417959,
                        "iteration": 650,
                        "remaining_time": 107.9389966,
                        "learn": [
                          0.001681398265
                        ]
                      },
                      {
                        "test": [
                          0.003779259428
                        ],
                        "passed_time": 201.6178173,
                        "iteration": 651,
                        "remaining_time": 107.6119639,
                        "learn": [
                          0.001680426406
                        ]
                      },
                      {
                        "test": [
                          0.003779133931
                        ],
                        "passed_time": 201.933509,
                        "iteration": 652,
                        "remaining_time": 107.3061679,
                        "learn": [
                          0.001678983443
                        ]
                      },
                      {
                        "test": [
                          0.003779238244
                        ],
                        "passed_time": 202.2430129,
                        "iteration": 653,
                        "remaining_time": 106.997068,
                        "learn": [
                          0.00167767898
                        ]
                      },
                      {
                        "test": [
                          0.00377918806
                        ],
                        "passed_time": 202.5011467,
                        "iteration": 654,
                        "remaining_time": 106.6609093,
                        "learn": [
                          0.001676506563
                        ]
                      },
                      {
                        "test": [
                          0.003778676579
                        ],
                        "passed_time": 202.7916096,
                        "iteration": 655,
                        "remaining_time": 106.3419416,
                        "learn": [
                          0.001675045956
                        ]
                      },
                      {
                        "test": [
                          0.003778315039
                        ],
                        "passed_time": 203.1310746,
                        "iteration": 656,
                        "remaining_time": 106.0486432,
                        "learn": [
                          0.001673828306
                        ]
                      },
                      {
                        "test": [
                          0.003777562236
                        ],
                        "passed_time": 203.4288329,
                        "iteration": 657,
                        "remaining_time": 105.7335271,
                        "learn": [
                          0.001671405741
                        ]
                      },
                      {
                        "test": [
                          0.003777285435
                        ],
                        "passed_time": 203.739089,
                        "iteration": 658,
                        "remaining_time": 105.4249307,
                        "learn": [
                          0.001668632874
                        ]
                      },
                      {
                        "test": [
                          0.003776901558
                        ],
                        "passed_time": 204.1178391,
                        "iteration": 659,
                        "remaining_time": 105.1516141,
                        "learn": [
                          0.001666180488
                        ]
                      },
                      {
                        "test": [
                          0.003776571037
                        ],
                        "passed_time": 204.4190881,
                        "iteration": 660,
                        "remaining_time": 104.8382313,
                        "learn": [
                          0.00166468741
                        ]
                      },
                      {
                        "test": [
                          0.00377607722
                        ],
                        "passed_time": 204.7017567,
                        "iteration": 661,
                        "remaining_time": 104.5153985,
                        "learn": [
                          0.00166297594
                        ]
                      },
                      {
                        "test": [
                          0.003776536066
                        ],
                        "passed_time": 204.945662,
                        "iteration": 662,
                        "remaining_time": 104.1729835,
                        "learn": [
                          0.001661593498
                        ]
                      },
                      {
                        "test": [
                          0.003776415883
                        ],
                        "passed_time": 205.2647688,
                        "iteration": 663,
                        "remaining_time": 103.8689192,
                        "learn": [
                          0.001660315478
                        ]
                      },
                      {
                        "test": [
                          0.003776202629
                        ],
                        "passed_time": 205.5321511,
                        "iteration": 664,
                        "remaining_time": 103.5387528,
                        "learn": [
                          0.001658539501
                        ]
                      },
                      {
                        "test": [
                          0.003776252974
                        ],
                        "passed_time": 205.8506368,
                        "iteration": 665,
                        "remaining_time": 103.2344034,
                        "learn": [
                          0.00165777873
                        ]
                      },
                      {
                        "test": [
                          0.003775818292
                        ],
                        "passed_time": 206.1523746,
                        "iteration": 666,
                        "remaining_time": 102.9216503,
                        "learn": [
                          0.001655943713
                        ]
                      },
                      {
                        "test": [
                          0.003775562476
                        ],
                        "passed_time": 206.4255441,
                        "iteration": 667,
                        "remaining_time": 102.5947315,
                        "learn": [
                          0.00165455469
                        ]
                      },
                      {
                        "test": [
                          0.003774933826
                        ],
                        "passed_time": 206.7389454,
                        "iteration": 668,
                        "remaining_time": 102.2878788,
                        "learn": [
                          0.001651669019
                        ]
                      },
                      {
                        "test": [
                          0.003774608708
                        ],
                        "passed_time": 207.0152863,
                        "iteration": 669,
                        "remaining_time": 101.962753,
                        "learn": [
                          0.001650105534
                        ]
                      },
                      {
                        "test": [
                          0.003774382795
                        ],
                        "passed_time": 207.351359,
                        "iteration": 670,
                        "remaining_time": 101.6670598,
                        "learn": [
                          0.001648401684
                        ]
                      },
                      {
                        "test": [
                          0.003773913581
                        ],
                        "passed_time": 207.6638097,
                        "iteration": 671,
                        "remaining_time": 101.3597166,
                        "learn": [
                          0.001647407618
                        ]
                      },
                      {
                        "test": [
                          0.003773115784
                        ],
                        "passed_time": 207.9813197,
                        "iteration": 672,
                        "remaining_time": 101.0548166,
                        "learn": [
                          0.001646280536
                        ]
                      },
                      {
                        "test": [
                          0.003772636552
                        ],
                        "passed_time": 208.3360578,
                        "iteration": 673,
                        "remaining_time": 100.7678855,
                        "learn": [
                          0.001644502719
                        ]
                      },
                      {
                        "test": [
                          0.003772554047
                        ],
                        "passed_time": 208.6470933,
                        "iteration": 674,
                        "remaining_time": 100.4597116,
                        "learn": [
                          0.001643447243
                        ]
                      },
                      {
                        "test": [
                          0.003772303232
                        ],
                        "passed_time": 208.9810821,
                        "iteration": 675,
                        "remaining_time": 100.1625305,
                        "learn": [
                          0.001641565551
                        ]
                      },
                      {
                        "test": [
                          0.003771627792
                        ],
                        "passed_time": 209.3384549,
                        "iteration": 676,
                        "remaining_time": 99.87639724,
                        "learn": [
                          0.001639980345
                        ]
                      },
                      {
                        "test": [
                          0.003771009123
                        ],
                        "passed_time": 209.7073458,
                        "iteration": 677,
                        "remaining_time": 99.59552412,
                        "learn": [
                          0.001638747677
                        ]
                      },
                      {
                        "test": [
                          0.003770272037
                        ],
                        "passed_time": 210.0181304,
                        "iteration": 678,
                        "remaining_time": 99.28692175,
                        "learn": [
                          0.001637335087
                        ]
                      },
                      {
                        "test": [
                          0.003769995592
                        ],
                        "passed_time": 210.2980842,
                        "iteration": 679,
                        "remaining_time": 98.96380435,
                        "learn": [
                          0.001635267849
                        ]
                      },
                      {
                        "test": [
                          0.003769613008
                        ],
                        "passed_time": 210.6986777,
                        "iteration": 680,
                        "remaining_time": 98.69732481,
                        "learn": [
                          0.001634025077
                        ]
                      },
                      {
                        "test": [
                          0.003769222615
                        ],
                        "passed_time": 210.965944,
                        "iteration": 681,
                        "remaining_time": 98.36828476,
                        "learn": [
                          0.001632430982
                        ]
                      },
                      {
                        "test": [
                          0.003768593236
                        ],
                        "passed_time": 211.2255485,
                        "iteration": 682,
                        "remaining_time": 98.03586949,
                        "learn": [
                          0.001631209907
                        ]
                      },
                      {
                        "test": [
                          0.003768026602
                        ],
                        "passed_time": 211.5933969,
                        "iteration": 683,
                        "remaining_time": 97.75367458,
                        "learn": [
                          0.001629603361
                        ]
                      },
                      {
                        "test": [
                          0.003767312483
                        ],
                        "passed_time": 211.8876178,
                        "iteration": 684,
                        "remaining_time": 97.4373717,
                        "learn": [
                          0.001628351803
                        ]
                      },
                      {
                        "test": [
                          0.003767199151
                        ],
                        "passed_time": 212.1455503,
                        "iteration": 685,
                        "remaining_time": 97.10452302,
                        "learn": [
                          0.001627556512
                        ]
                      },
                      {
                        "test": [
                          0.003766786031
                        ],
                        "passed_time": 212.3926968,
                        "iteration": 686,
                        "remaining_time": 96.76697831,
                        "learn": [
                          0.001626540916
                        ]
                      },
                      {
                        "test": [
                          0.003766136954
                        ],
                        "passed_time": 212.7188992,
                        "iteration": 687,
                        "remaining_time": 96.46554733,
                        "learn": [
                          0.001624478063
                        ]
                      },
                      {
                        "test": [
                          0.003765571077
                        ],
                        "passed_time": 212.9975455,
                        "iteration": 688,
                        "remaining_time": 96.1425786,
                        "learn": [
                          0.001623306799
                        ]
                      },
                      {
                        "test": [
                          0.00376555913
                        ],
                        "passed_time": 213.2645061,
                        "iteration": 689,
                        "remaining_time": 95.81448825,
                        "learn": [
                          0.001622071862
                        ]
                      },
                      {
                        "test": [
                          0.003764447448
                        ],
                        "passed_time": 213.5853979,
                        "iteration": 690,
                        "remaining_time": 95.51069168,
                        "learn": [
                          0.001620768662
                        ]
                      },
                      {
                        "test": [
                          0.003763990561
                        ],
                        "passed_time": 213.9339848,
                        "iteration": 691,
                        "remaining_time": 95.21917241,
                        "learn": [
                          0.001619704443
                        ]
                      },
                      {
                        "test": [
                          0.00376350521
                        ],
                        "passed_time": 214.2260099,
                        "iteration": 692,
                        "remaining_time": 94.90243154,
                        "learn": [
                          0.001618320307
                        ]
                      },
                      {
                        "test": [
                          0.003762835087
                        ],
                        "passed_time": 214.4964951,
                        "iteration": 693,
                        "remaining_time": 94.57626441,
                        "learn": [
                          0.00161613716
                        ]
                      },
                      {
                        "test": [
                          0.003762589291
                        ],
                        "passed_time": 214.8702933,
                        "iteration": 694,
                        "remaining_time": 94.29559633,
                        "learn": [
                          0.001614960782
                        ]
                      },
                      {
                        "test": [
                          0.003762510314
                        ],
                        "passed_time": 215.1660775,
                        "iteration": 695,
                        "remaining_time": 93.98058558,
                        "learn": [
                          0.001613366027
                        ]
                      },
                      {
                        "test": [
                          0.003762348992
                        ],
                        "passed_time": 215.4727664,
                        "iteration": 696,
                        "remaining_time": 93.67037047,
                        "learn": [
                          0.001612585486
                        ]
                      },
                      {
                        "test": [
                          0.003762102439
                        ],
                        "passed_time": 215.8002247,
                        "iteration": 697,
                        "remaining_time": 93.36915165,
                        "learn": [
                          0.001609879757
                        ]
                      },
                      {
                        "test": [
                          0.003760430546
                        ],
                        "passed_time": 216.1051266,
                        "iteration": 698,
                        "remaining_time": 93.05814463,
                        "learn": [
                          0.001608544598
                        ]
                      },
                      {
                        "test": [
                          0.003760137587
                        ],
                        "passed_time": 216.3945585,
                        "iteration": 699,
                        "remaining_time": 92.74052507,
                        "learn": [
                          0.001606704009
                        ]
                      },
                      {
                        "test": [
                          0.003759301493
                        ],
                        "passed_time": 216.6944106,
                        "iteration": 700,
                        "remaining_time": 92.42743048,
                        "learn": [
                          0.001605722977
                        ]
                      },
                      {
                        "test": [
                          0.003759295108
                        ],
                        "passed_time": 217.0626862,
                        "iteration": 701,
                        "remaining_time": 92.14341949,
                        "learn": [
                          0.001604092605
                        ]
                      },
                      {
                        "test": [
                          0.00375882951
                        ],
                        "passed_time": 217.351019,
                        "iteration": 702,
                        "remaining_time": 91.82539493,
                        "learn": [
                          0.001602723278
                        ]
                      },
                      {
                        "test": [
                          0.003758248845
                        ],
                        "passed_time": 217.6610987,
                        "iteration": 703,
                        "remaining_time": 91.5165983,
                        "learn": [
                          0.001601506133
                        ]
                      },
                      {
                        "test": [
                          0.00375832257
                        ],
                        "passed_time": 217.9833203,
                        "iteration": 704,
                        "remaining_time": 91.2128787,
                        "learn": [
                          0.001600349777
                        ]
                      },
                      {
                        "test": [
                          0.003757946423
                        ],
                        "passed_time": 218.2506336,
                        "iteration": 705,
                        "remaining_time": 90.88624117,
                        "learn": [
                          0.00159899294
                        ]
                      },
                      {
                        "test": [
                          0.003757694971
                        ],
                        "passed_time": 218.5200669,
                        "iteration": 706,
                        "remaining_time": 90.56065009,
                        "learn": [
                          0.00159754392
                        ]
                      },
                      {
                        "test": [
                          0.003756901552
                        ],
                        "passed_time": 218.834528,
                        "iteration": 707,
                        "remaining_time": 90.2537884,
                        "learn": [
                          0.001595940958
                        ]
                      },
                      {
                        "test": [
                          0.003756714153
                        ],
                        "passed_time": 219.2346632,
                        "iteration": 708,
                        "remaining_time": 89.98206911,
                        "learn": [
                          0.001594772908
                        ]
                      },
                      {
                        "test": [
                          0.003756335983
                        ],
                        "passed_time": 219.5157967,
                        "iteration": 709,
                        "remaining_time": 89.66138175,
                        "learn": [
                          0.001593940682
                        ]
                      },
                      {
                        "test": [
                          0.003756246184
                        ],
                        "passed_time": 219.8340731,
                        "iteration": 710,
                        "remaining_time": 89.35590315,
                        "learn": [
                          0.001593355864
                        ]
                      },
                      {
                        "test": [
                          0.003756091977
                        ],
                        "passed_time": 220.1428641,
                        "iteration": 711,
                        "remaining_time": 89.04655178,
                        "learn": [
                          0.001592560959
                        ]
                      },
                      {
                        "test": [
                          0.00375616259
                        ],
                        "passed_time": 220.4401269,
                        "iteration": 712,
                        "remaining_time": 88.73256161,
                        "learn": [
                          0.001591768568
                        ]
                      },
                      {
                        "test": [
                          0.003755901358
                        ],
                        "passed_time": 220.7494705,
                        "iteration": 713,
                        "remaining_time": 88.42345735,
                        "learn": [
                          0.001590067246
                        ]
                      },
                      {
                        "test": [
                          0.003755891126
                        ],
                        "passed_time": 221.122717,
                        "iteration": 714,
                        "remaining_time": 88.13982427,
                        "learn": [
                          0.001589104851
                        ]
                      },
                      {
                        "test": [
                          0.003755681185
                        ],
                        "passed_time": 221.4425331,
                        "iteration": 715,
                        "remaining_time": 87.83474776,
                        "learn": [
                          0.00158716015
                        ]
                      },
                      {
                        "test": [
                          0.003755226668
                        ],
                        "passed_time": 221.7219781,
                        "iteration": 716,
                        "remaining_time": 87.51369567,
                        "learn": [
                          0.00158575377
                        ]
                      },
                      {
                        "test": [
                          0.003755295818
                        ],
                        "passed_time": 222.0760921,
                        "iteration": 717,
                        "remaining_time": 87.22208631,
                        "learn": [
                          0.001584677928
                        ]
                      },
                      {
                        "test": [
                          0.00375543803
                        ],
                        "passed_time": 222.4171879,
                        "iteration": 718,
                        "remaining_time": 86.9252153,
                        "learn": [
                          0.0015827141
                        ]
                      },
                      {
                        "test": [
                          0.003755383212
                        ],
                        "passed_time": 222.686812,
                        "iteration": 719,
                        "remaining_time": 86.60042691,
                        "learn": [
                          0.001581715198
                        ]
                      },
                      {
                        "test": [
                          0.003755454918
                        ],
                        "passed_time": 222.9565912,
                        "iteration": 720,
                        "remaining_time": 86.27585152,
                        "learn": [
                          0.001580469847
                        ]
                      },
                      {
                        "test": [
                          0.003755419151
                        ],
                        "passed_time": 223.3293426,
                        "iteration": 721,
                        "remaining_time": 85.99107652,
                        "learn": [
                          0.001578628237
                        ]
                      },
                      {
                        "test": [
                          0.003755122889
                        ],
                        "passed_time": 223.613417,
                        "iteration": 722,
                        "remaining_time": 85.67208368,
                        "learn": [
                          0.001576599341
                        ]
                      },
                      {
                        "test": [
                          0.003754731844
                        ],
                        "passed_time": 223.8672929,
                        "iteration": 723,
                        "remaining_time": 85.3416752,
                        "learn": [
                          0.001574474614
                        ]
                      },
                      {
                        "test": [
                          0.003754367011
                        ],
                        "passed_time": 224.1730535,
                        "iteration": 724,
                        "remaining_time": 85.03115823,
                        "learn": [
                          0.001574081817
                        ]
                      },
                      {
                        "test": [
                          0.003754250273
                        ],
                        "passed_time": 224.5764159,
                        "iteration": 725,
                        "remaining_time": 84.7574903,
                        "learn": [
                          0.001573279638
                        ]
                      },
                      {
                        "test": [
                          0.003753477249
                        ],
                        "passed_time": 224.9287144,
                        "iteration": 726,
                        "remaining_time": 84.46429026,
                        "learn": [
                          0.001571606489
                        ]
                      },
                      {
                        "test": [
                          0.00375314811
                        ],
                        "passed_time": 225.3272388,
                        "iteration": 727,
                        "remaining_time": 84.18819912,
                        "learn": [
                          0.001570020324
                        ]
                      },
                      {
                        "test": [
                          0.003753404844
                        ],
                        "passed_time": 225.7284913,
                        "iteration": 728,
                        "remaining_time": 83.91278621,
                        "learn": [
                          0.001567522244
                        ]
                      },
                      {
                        "test": [
                          0.003752006253
                        ],
                        "passed_time": 226.1062604,
                        "iteration": 729,
                        "remaining_time": 83.62834289,
                        "learn": [
                          0.00156638681
                        ]
                      },
                      {
                        "test": [
                          0.003751801965
                        ],
                        "passed_time": 226.6349248,
                        "iteration": 730,
                        "remaining_time": 83.39917204,
                        "learn": [
                          0.00156511613
                        ]
                      },
                      {
                        "test": [
                          0.003751210479
                        ],
                        "passed_time": 226.9313539,
                        "iteration": 731,
                        "remaining_time": 83.08415688,
                        "learn": [
                          0.001563780422
                        ]
                      },
                      {
                        "test": [
                          0.003750708533
                        ],
                        "passed_time": 227.2970133,
                        "iteration": 732,
                        "remaining_time": 82.79441004,
                        "learn": [
                          0.001562055123
                        ]
                      },
                      {
                        "test": [
                          0.003750141688
                        ],
                        "passed_time": 227.6679775,
                        "iteration": 733,
                        "remaining_time": 82.50637878,
                        "learn": [
                          0.001560331119
                        ]
                      },
                      {
                        "test": [
                          0.003750243706
                        ],
                        "passed_time": 228.0166348,
                        "iteration": 734,
                        "remaining_time": 82.2100792,
                        "learn": [
                          0.001558720931
                        ]
                      },
                      {
                        "test": [
                          0.00375002841
                        ],
                        "passed_time": 228.3862206,
                        "iteration": 735,
                        "remaining_time": 81.92114434,
                        "learn": [
                          0.001556722778
                        ]
                      },
                      {
                        "test": [
                          0.003748907997
                        ],
                        "passed_time": 228.8590136,
                        "iteration": 736,
                        "remaining_time": 81.66882033,
                        "learn": [
                          0.001555648585
                        ]
                      },
                      {
                        "test": [
                          0.003748862388
                        ],
                        "passed_time": 229.2436803,
                        "iteration": 737,
                        "remaining_time": 81.38461279,
                        "learn": [
                          0.001554028579
                        ]
                      },
                      {
                        "test": [
                          0.003748729393
                        ],
                        "passed_time": 229.5533988,
                        "iteration": 738,
                        "remaining_time": 81.07366317,
                        "learn": [
                          0.001553036574
                        ]
                      },
                      {
                        "test": [
                          0.003748709894
                        ],
                        "passed_time": 229.9854443,
                        "iteration": 739,
                        "remaining_time": 80.80569664,
                        "learn": [
                          0.001552299163
                        ]
                      },
                      {
                        "test": [
                          0.003748049085
                        ],
                        "passed_time": 230.3945421,
                        "iteration": 740,
                        "remaining_time": 80.5292664,
                        "learn": [
                          0.001550575719
                        ]
                      },
                      {
                        "test": [
                          0.003747702391
                        ],
                        "passed_time": 230.7784229,
                        "iteration": 741,
                        "remaining_time": 80.24371037,
                        "learn": [
                          0.001550101816
                        ]
                      },
                      {
                        "test": [
                          0.003746869685
                        ],
                        "passed_time": 231.1689624,
                        "iteration": 742,
                        "remaining_time": 79.96019293,
                        "learn": [
                          0.00154825465
                        ]
                      },
                      {
                        "test": [
                          0.003746815945
                        ],
                        "passed_time": 231.4918229,
                        "iteration": 743,
                        "remaining_time": 79.65310036,
                        "learn": [
                          0.001547294754
                        ]
                      },
                      {
                        "test": [
                          0.003746552792
                        ],
                        "passed_time": 231.8494818,
                        "iteration": 744,
                        "remaining_time": 79.35787632,
                        "learn": [
                          0.001546415774
                        ]
                      },
                      {
                        "test": [
                          0.003746302541
                        ],
                        "passed_time": 232.2349916,
                        "iteration": 745,
                        "remaining_time": 79.07196766,
                        "learn": [
                          0.001544764887
                        ]
                      },
                      {
                        "test": [
                          0.003746592192
                        ],
                        "passed_time": 232.5869657,
                        "iteration": 746,
                        "remaining_time": 78.77443415,
                        "learn": [
                          0.001543283862
                        ]
                      },
                      {
                        "test": [
                          0.00374616647
                        ],
                        "passed_time": 232.891342,
                        "iteration": 747,
                        "remaining_time": 78.46071948,
                        "learn": [
                          0.001540901146
                        ]
                      },
                      {
                        "test": [
                          0.003745934669
                        ],
                        "passed_time": 233.2861436,
                        "iteration": 748,
                        "remaining_time": 78.17733252,
                        "learn": [
                          0.001539879248
                        ]
                      },
                      {
                        "test": [
                          0.003745447091
                        ],
                        "passed_time": 233.6619259,
                        "iteration": 749,
                        "remaining_time": 77.88730862,
                        "learn": [
                          0.001538919592
                        ]
                      },
                      {
                        "test": [
                          0.003744936724
                        ],
                        "passed_time": 233.9770057,
                        "iteration": 750,
                        "remaining_time": 77.57692999,
                        "learn": [
                          0.001537836367
                        ]
                      },
                      {
                        "test": [
                          0.003744006293
                        ],
                        "passed_time": 234.402484,
                        "iteration": 751,
                        "remaining_time": 77.30294685,
                        "learn": [
                          0.001536588789
                        ]
                      },
                      {
                        "test": [
                          0.003742730233
                        ],
                        "passed_time": 234.7566408,
                        "iteration": 752,
                        "remaining_time": 77.00516637,
                        "learn": [
                          0.001535115435
                        ]
                      },
                      {
                        "test": [
                          0.003742294867
                        ],
                        "passed_time": 235.0816976,
                        "iteration": 753,
                        "remaining_time": 76.69774218,
                        "learn": [
                          0.001533676418
                        ]
                      },
                      {
                        "test": [
                          0.00374199462
                        ],
                        "passed_time": 235.5501611,
                        "iteration": 754,
                        "remaining_time": 76.43680725,
                        "learn": [
                          0.001532775043
                        ]
                      },
                      {
                        "test": [
                          0.003741796355
                        ],
                        "passed_time": 235.8973719,
                        "iteration": 755,
                        "remaining_time": 76.1361888,
                        "learn": [
                          0.001531335199
                        ]
                      },
                      {
                        "test": [
                          0.003741688595
                        ],
                        "passed_time": 236.3032833,
                        "iteration": 756,
                        "remaining_time": 75.85429042,
                        "learn": [
                          0.001529932285
                        ]
                      },
                      {
                        "test": [
                          0.003741579212
                        ],
                        "passed_time": 236.6837309,
                        "iteration": 757,
                        "remaining_time": 75.56393519,
                        "learn": [
                          0.001528600559
                        ]
                      },
                      {
                        "test": [
                          0.003741602127
                        ],
                        "passed_time": 237.2378271,
                        "iteration": 758,
                        "remaining_time": 75.32848001,
                        "learn": [
                          0.001527454421
                        ]
                      },
                      {
                        "test": [
                          0.003741413031
                        ],
                        "passed_time": 237.8241422,
                        "iteration": 759,
                        "remaining_time": 75.10236071,
                        "learn": [
                          0.001526336929
                        ]
                      },
                      {
                        "test": [
                          0.003741127509
                        ],
                        "passed_time": 238.4504907,
                        "iteration": 760,
                        "remaining_time": 74.88786764,
                        "learn": [
                          0.001524777202
                        ]
                      },
                      {
                        "test": [
                          0.003740966756
                        ],
                        "passed_time": 238.8875643,
                        "iteration": 761,
                        "remaining_time": 74.61317626,
                        "learn": [
                          0.001523438575
                        ]
                      },
                      {
                        "test": [
                          0.00374103588
                        ],
                        "passed_time": 239.3524136,
                        "iteration": 762,
                        "remaining_time": 74.34668679,
                        "learn": [
                          0.001521977322
                        ]
                      },
                      {
                        "test": [
                          0.003741190581
                        ],
                        "passed_time": 239.8836766,
                        "iteration": 763,
                        "remaining_time": 74.10019331,
                        "learn": [
                          0.001521077627
                        ]
                      },
                      {
                        "test": [
                          0.003741139572
                        ],
                        "passed_time": 240.2492949,
                        "iteration": 764,
                        "remaining_time": 73.80207099,
                        "learn": [
                          0.00151909784
                        ]
                      },
                      {
                        "test": [
                          0.003740824094
                        ],
                        "passed_time": 240.7960273,
                        "iteration": 765,
                        "remaining_time": 73.55909973,
                        "learn": [
                          0.001518182115
                        ]
                      },
                      {
                        "test": [
                          0.003740918391
                        ],
                        "passed_time": 241.2003364,
                        "iteration": 766,
                        "remaining_time": 73.27207091,
                        "learn": [
                          0.001516187788
                        ]
                      },
                      {
                        "test": [
                          0.003740700574
                        ],
                        "passed_time": 241.6135323,
                        "iteration": 767,
                        "remaining_time": 72.98742122,
                        "learn": [
                          0.001515218919
                        ]
                      },
                      {
                        "test": [
                          0.003740364007
                        ],
                        "passed_time": 242.0302238,
                        "iteration": 768,
                        "remaining_time": 72.70348726,
                        "learn": [
                          0.001513455463
                        ]
                      },
                      {
                        "test": [
                          0.003740072519
                        ],
                        "passed_time": 242.3550626,
                        "iteration": 769,
                        "remaining_time": 72.39177195,
                        "learn": [
                          0.001512355069
                        ]
                      },
                      {
                        "test": [
                          0.003739862635
                        ],
                        "passed_time": 242.7236147,
                        "iteration": 770,
                        "remaining_time": 72.09300619,
                        "learn": [
                          0.001511213775
                        ]
                      },
                      {
                        "test": [
                          0.003739259097
                        ],
                        "passed_time": 243.2406719,
                        "iteration": 771,
                        "remaining_time": 71.83791864,
                        "learn": [
                          0.001509088533
                        ]
                      },
                      {
                        "test": [
                          0.003739254924
                        ],
                        "passed_time": 243.6041101,
                        "iteration": 772,
                        "remaining_time": 71.5370414,
                        "learn": [
                          0.001507983054
                        ]
                      },
                      {
                        "test": [
                          0.003738966026
                        ],
                        "passed_time": 243.9790356,
                        "iteration": 773,
                        "remaining_time": 71.23935664,
                        "learn": [
                          0.001507323958
                        ]
                      },
                      {
                        "test": [
                          0.003738642258
                        ],
                        "passed_time": 244.4270272,
                        "iteration": 774,
                        "remaining_time": 70.9626853,
                        "learn": [
                          0.001505730773
                        ]
                      },
                      {
                        "test": [
                          0.003737694745
                        ],
                        "passed_time": 244.8915907,
                        "iteration": 775,
                        "remaining_time": 70.69035606,
                        "learn": [
                          0.001504224367
                        ]
                      },
                      {
                        "test": [
                          0.003737798766
                        ],
                        "passed_time": 245.2976576,
                        "iteration": 776,
                        "remaining_time": 70.40074342,
                        "learn": [
                          0.001502960214
                        ]
                      },
                      {
                        "test": [
                          0.003737435547
                        ],
                        "passed_time": 245.6334208,
                        "iteration": 777,
                        "remaining_time": 70.09077047,
                        "learn": [
                          0.001501514045
                        ]
                      },
                      {
                        "test": [
                          0.003737349305
                        ],
                        "passed_time": 245.9404182,
                        "iteration": 778,
                        "remaining_time": 69.77257051,
                        "learn": [
                          0.001499904919
                        ]
                      },
                      {
                        "test": [
                          0.003737443685
                        ],
                        "passed_time": 246.2815912,
                        "iteration": 779,
                        "remaining_time": 69.46403853,
                        "learn": [
                          0.001498552091
                        ]
                      },
                      {
                        "test": [
                          0.003737188267
                        ],
                        "passed_time": 246.620066,
                        "iteration": 780,
                        "remaining_time": 69.1546664,
                        "learn": [
                          0.001497029066
                        ]
                      },
                      {
                        "test": [
                          0.003737115007
                        ],
                        "passed_time": 246.9866186,
                        "iteration": 781,
                        "remaining_time": 68.85304713,
                        "learn": [
                          0.001495752608
                        ]
                      },
                      {
                        "test": [
                          0.003736245065
                        ],
                        "passed_time": 247.4553491,
                        "iteration": 782,
                        "remaining_time": 68.57957952,
                        "learn": [
                          0.001494892651
                        ]
                      },
                      {
                        "test": [
                          0.00373502239
                        ],
                        "passed_time": 247.804608,
                        "iteration": 783,
                        "remaining_time": 68.27269813,
                        "learn": [
                          0.001493536188
                        ]
                      },
                      {
                        "test": [
                          0.003734959437
                        ],
                        "passed_time": 248.1899796,
                        "iteration": 784,
                        "remaining_time": 67.97559951,
                        "learn": [
                          0.001492038252
                        ]
                      },
                      {
                        "test": [
                          0.003734917847
                        ],
                        "passed_time": 248.6244352,
                        "iteration": 785,
                        "remaining_time": 67.69164012,
                        "learn": [
                          0.001490589093
                        ]
                      },
                      {
                        "test": [
                          0.003734966373
                        ],
                        "passed_time": 248.97632,
                        "iteration": 786,
                        "remaining_time": 67.38495066,
                        "learn": [
                          0.001489539683
                        ]
                      },
                      {
                        "test": [
                          0.003734559763
                        ],
                        "passed_time": 249.2791606,
                        "iteration": 787,
                        "remaining_time": 67.06495183,
                        "learn": [
                          0.001488722054
                        ]
                      },
                      {
                        "test": [
                          0.003734355325
                        ],
                        "passed_time": 249.7360918,
                        "iteration": 788,
                        "remaining_time": 66.78620453,
                        "learn": [
                          0.00148775184
                        ]
                      },
                      {
                        "test": [
                          0.003734234405
                        ],
                        "passed_time": 250.0727416,
                        "iteration": 789,
                        "remaining_time": 66.47503258,
                        "learn": [
                          0.001486377491
                        ]
                      },
                      {
                        "test": [
                          0.003733749652
                        ],
                        "passed_time": 250.4130512,
                        "iteration": 790,
                        "remaining_time": 66.16476321,
                        "learn": [
                          0.001485359051
                        ]
                      },
                      {
                        "test": [
                          0.003734085031
                        ],
                        "passed_time": 250.8076817,
                        "iteration": 791,
                        "remaining_time": 65.8686841,
                        "learn": [
                          0.001483392639
                        ]
                      },
                      {
                        "test": [
                          0.003733419168
                        ],
                        "passed_time": 251.1096502,
                        "iteration": 792,
                        "remaining_time": 65.54816847,
                        "learn": [
                          0.001482091726
                        ]
                      },
                      {
                        "test": [
                          0.003733167011
                        ],
                        "passed_time": 251.4571125,
                        "iteration": 793,
                        "remaining_time": 65.23950275,
                        "learn": [
                          0.001480679378
                        ]
                      },
                      {
                        "test": [
                          0.00373353393
                        ],
                        "passed_time": 251.8397468,
                        "iteration": 794,
                        "remaining_time": 64.93980893,
                        "learn": [
                          0.001479885639
                        ]
                      },
                      {
                        "test": [
                          0.003733660559
                        ],
                        "passed_time": 252.1960907,
                        "iteration": 795,
                        "remaining_time": 64.63316898,
                        "learn": [
                          0.001478481709
                        ]
                      },
                      {
                        "test": [
                          0.003733442004
                        ],
                        "passed_time": 252.5067027,
                        "iteration": 796,
                        "remaining_time": 64.31475614,
                        "learn": [
                          0.00147590251
                        ]
                      },
                      {
                        "test": [
                          0.003733000218
                        ],
                        "passed_time": 252.9398467,
                        "iteration": 797,
                        "remaining_time": 64.02737974,
                        "learn": [
                          0.001474174989
                        ]
                      },
                      {
                        "test": [
                          0.003732925702
                        ],
                        "passed_time": 253.3108462,
                        "iteration": 798,
                        "remaining_time": 63.72400512,
                        "learn": [
                          0.001473922149
                        ]
                      },
                      {
                        "test": [
                          0.003731926461
                        ],
                        "passed_time": 253.7327397,
                        "iteration": 799,
                        "remaining_time": 63.43318492,
                        "learn": [
                          0.001472675252
                        ]
                      },
                      {
                        "test": [
                          0.003732103408
                        ],
                        "passed_time": 254.102401,
                        "iteration": 800,
                        "remaining_time": 63.12906092,
                        "learn": [
                          0.00147216445
                        ]
                      },
                      {
                        "test": [
                          0.003731730882
                        ],
                        "passed_time": 254.4704601,
                        "iteration": 801,
                        "remaining_time": 62.82437793,
                        "learn": [
                          0.00147058627
                        ]
                      },
                      {
                        "test": [
                          0.003730914387
                        ],
                        "passed_time": 255.001021,
                        "iteration": 802,
                        "remaining_time": 62.55940366,
                        "learn": [
                          0.001469228678
                        ]
                      },
                      {
                        "test": [
                          0.003730364864
                        ],
                        "passed_time": 255.4552692,
                        "iteration": 803,
                        "remaining_time": 62.27516514,
                        "learn": [
                          0.001467807126
                        ]
                      },
                      {
                        "test": [
                          0.003729976966
                        ],
                        "passed_time": 255.7959197,
                        "iteration": 804,
                        "remaining_time": 61.96298677,
                        "learn": [
                          0.001466644143
                        ]
                      },
                      {
                        "test": [
                          0.003729513083
                        ],
                        "passed_time": 256.2547368,
                        "iteration": 805,
                        "remaining_time": 61.67917984,
                        "learn": [
                          0.00146583137
                        ]
                      },
                      {
                        "test": [
                          0.003729118507
                        ],
                        "passed_time": 256.6217841,
                        "iteration": 806,
                        "remaining_time": 61.37299174,
                        "learn": [
                          0.001464014506
                        ]
                      },
                      {
                        "test": [
                          0.003728952287
                        ],
                        "passed_time": 256.9609517,
                        "iteration": 807,
                        "remaining_time": 61.06002814,
                        "learn": [
                          0.001463011016
                        ]
                      },
                      {
                        "test": [
                          0.003728381661
                        ],
                        "passed_time": 257.4003078,
                        "iteration": 808,
                        "remaining_time": 60.77065363,
                        "learn": [
                          0.001461804742
                        ]
                      },
                      {
                        "test": [
                          0.003728389054
                        ],
                        "passed_time": 257.7817337,
                        "iteration": 809,
                        "remaining_time": 60.46732024,
                        "learn": [
                          0.001460484839
                        ]
                      },
                      {
                        "test": [
                          0.003728244523
                        ],
                        "passed_time": 258.3140955,
                        "iteration": 810,
                        "remaining_time": 60.19896923,
                        "learn": [
                          0.001459951477
                        ]
                      },
                      {
                        "test": [
                          0.00372771397
                        ],
                        "passed_time": 258.7155928,
                        "iteration": 811,
                        "remaining_time": 59.89966928,
                        "learn": [
                          0.001458798418
                        ]
                      },
                      {
                        "test": [
                          0.003727607827
                        ],
                        "passed_time": 259.105622,
                        "iteration": 812,
                        "remaining_time": 59.59748008,
                        "learn": [
                          0.001457621571
                        ]
                      },
                      {
                        "test": [
                          0.003727378894
                        ],
                        "passed_time": 259.5336719,
                        "iteration": 813,
                        "remaining_time": 59.30376286,
                        "learn": [
                          0.001456756873
                        ]
                      },
                      {
                        "test": [
                          0.003727052944
                        ],
                        "passed_time": 259.9277477,
                        "iteration": 814,
                        "remaining_time": 59.00200409,
                        "learn": [
                          0.001455988057
                        ]
                      },
                      {
                        "test": [
                          0.003726599153
                        ],
                        "passed_time": 260.3128925,
                        "iteration": 815,
                        "remaining_time": 58.69800518,
                        "learn": [
                          0.001454894442
                        ]
                      },
                      {
                        "test": [
                          0.003726495161
                        ],
                        "passed_time": 260.6570861,
                        "iteration": 816,
                        "remaining_time": 58.38463494,
                        "learn": [
                          0.001454353132
                        ]
                      },
                      {
                        "test": [
                          0.003726313164
                        ],
                        "passed_time": 260.9770755,
                        "iteration": 817,
                        "remaining_time": 58.06580408,
                        "learn": [
                          0.001453566185
                        ]
                      },
                      {
                        "test": [
                          0.003725467439
                        ],
                        "passed_time": 261.3603582,
                        "iteration": 818,
                        "remaining_time": 57.76095828,
                        "learn": [
                          0.00145268478
                        ]
                      },
                      {
                        "test": [
                          0.003725191954
                        ],
                        "passed_time": 261.7591088,
                        "iteration": 819,
                        "remaining_time": 57.45931658,
                        "learn": [
                          0.001451863575
                        ]
                      },
                      {
                        "test": [
                          0.003724811932
                        ],
                        "passed_time": 262.0960336,
                        "iteration": 820,
                        "remaining_time": 57.14395861,
                        "learn": [
                          0.001450575521
                        ]
                      },
                      {
                        "test": [
                          0.003723850574
                        ],
                        "passed_time": 262.433657,
                        "iteration": 821,
                        "remaining_time": 56.82869946,
                        "learn": [
                          0.001447838766
                        ]
                      },
                      {
                        "test": [
                          0.003723710214
                        ],
                        "passed_time": 262.8361267,
                        "iteration": 822,
                        "remaining_time": 56.52733222,
                        "learn": [
                          0.001446823503
                        ]
                      },
                      {
                        "test": [
                          0.003723694714
                        ],
                        "passed_time": 263.1484494,
                        "iteration": 823,
                        "remaining_time": 56.20646492,
                        "learn": [
                          0.001445773883
                        ]
                      },
                      {
                        "test": [
                          0.003723121171
                        ],
                        "passed_time": 263.5831969,
                        "iteration": 824,
                        "remaining_time": 55.91158721,
                        "learn": [
                          0.001444409222
                        ]
                      },
                      {
                        "test": [
                          0.003722862757
                        ],
                        "passed_time": 263.9913313,
                        "iteration": 825,
                        "remaining_time": 55.6107647,
                        "learn": [
                          0.001443909092
                        ]
                      },
                      {
                        "test": [
                          0.003722995714
                        ],
                        "passed_time": 264.4118805,
                        "iteration": 826,
                        "remaining_time": 55.31227971,
                        "learn": [
                          0.001442075805
                        ]
                      },
                      {
                        "test": [
                          0.003722886273
                        ],
                        "passed_time": 264.74907,
                        "iteration": 827,
                        "remaining_time": 54.99618362,
                        "learn": [
                          0.001441396905
                        ]
                      },
                      {
                        "test": [
                          0.00372233523
                        ],
                        "passed_time": 265.3325377,
                        "iteration": 828,
                        "remaining_time": 54.73083708,
                        "learn": [
                          0.001439693615
                        ]
                      },
                      {
                        "test": [
                          0.003722214788
                        ],
                        "passed_time": 265.7009681,
                        "iteration": 829,
                        "remaining_time": 54.42068022,
                        "learn": [
                          0.001438246134
                        ]
                      },
                      {
                        "test": [
                          0.003722527339
                        ],
                        "passed_time": 266.1718534,
                        "iteration": 830,
                        "remaining_time": 54.13121929,
                        "learn": [
                          0.001437587544
                        ]
                      },
                      {
                        "test": [
                          0.003722392578
                        ],
                        "passed_time": 266.5142858,
                        "iteration": 831,
                        "remaining_time": 53.81538463,
                        "learn": [
                          0.001436697199
                        ]
                      },
                      {
                        "test": [
                          0.003722437784
                        ],
                        "passed_time": 266.8944488,
                        "iteration": 832,
                        "remaining_time": 53.50705035,
                        "learn": [
                          0.001435028813
                        ]
                      },
                      {
                        "test": [
                          0.0037218611
                        ],
                        "passed_time": 267.3577068,
                        "iteration": 833,
                        "remaining_time": 53.21508312,
                        "learn": [
                          0.001432958004
                        ]
                      },
                      {
                        "test": [
                          0.003721079351
                        ],
                        "passed_time": 267.6968229,
                        "iteration": 834,
                        "remaining_time": 52.89817458,
                        "learn": [
                          0.001431264633
                        ]
                      },
                      {
                        "test": [
                          0.003720837765
                        ],
                        "passed_time": 268.0548363,
                        "iteration": 835,
                        "remaining_time": 52.58492004,
                        "learn": [
                          0.001430600146
                        ]
                      },
                      {
                        "test": [
                          0.003720693607
                        ],
                        "passed_time": 268.4902981,
                        "iteration": 836,
                        "remaining_time": 52.28664108,
                        "learn": [
                          0.001428940148
                        ]
                      },
                      {
                        "test": [
                          0.003720522008
                        ],
                        "passed_time": 268.8936279,
                        "iteration": 837,
                        "remaining_time": 51.98182305,
                        "learn": [
                          0.001427575721
                        ]
                      },
                      {
                        "test": [
                          0.003720334861
                        ],
                        "passed_time": 269.3229908,
                        "iteration": 838,
                        "remaining_time": 51.68176582,
                        "learn": [
                          0.001427066261
                        ]
                      },
                      {
                        "test": [
                          0.003720402035
                        ],
                        "passed_time": 269.7734085,
                        "iteration": 839,
                        "remaining_time": 51.38541115,
                        "learn": [
                          0.001426243332
                        ]
                      },
                      {
                        "test": [
                          0.003720433988
                        ],
                        "passed_time": 270.2565356,
                        "iteration": 840,
                        "remaining_time": 51.09487415,
                        "learn": [
                          0.001425074464
                        ]
                      },
                      {
                        "test": [
                          0.003720252076
                        ],
                        "passed_time": 270.8608545,
                        "iteration": 841,
                        "remaining_time": 50.82662115,
                        "learn": [
                          0.001422797218
                        ]
                      },
                      {
                        "test": [
                          0.003719539111
                        ],
                        "passed_time": 271.264283,
                        "iteration": 842,
                        "remaining_time": 50.52015709,
                        "learn": [
                          0.001422014336
                        ]
                      },
                      {
                        "test": [
                          0.003719001197
                        ],
                        "passed_time": 271.7547778,
                        "iteration": 843,
                        "remaining_time": 50.22955608,
                        "learn": [
                          0.001420680703
                        ]
                      },
                      {
                        "test": [
                          0.003719228065
                        ],
                        "passed_time": 272.1380127,
                        "iteration": 844,
                        "remaining_time": 49.91880706,
                        "learn": [
                          0.001419284914
                        ]
                      },
                      {
                        "test": [
                          0.00371959146
                        ],
                        "passed_time": 272.5083113,
                        "iteration": 845,
                        "remaining_time": 49.60553184,
                        "learn": [
                          0.001418393337
                        ]
                      },
                      {
                        "test": [
                          0.003719338335
                        ],
                        "passed_time": 273.1146792,
                        "iteration": 846,
                        "remaining_time": 49.33476496,
                        "learn": [
                          0.001417415218
                        ]
                      },
                      {
                        "test": [
                          0.003719086134
                        ],
                        "passed_time": 273.4854643,
                        "iteration": 847,
                        "remaining_time": 49.02097945,
                        "learn": [
                          0.001416308989
                        ]
                      },
                      {
                        "test": [
                          0.003719210357
                        ],
                        "passed_time": 273.8843115,
                        "iteration": 848,
                        "remaining_time": 48.71205069,
                        "learn": [
                          0.001415261651
                        ]
                      },
                      {
                        "test": [
                          0.003718729222
                        ],
                        "passed_time": 274.2511847,
                        "iteration": 849,
                        "remaining_time": 48.39726789,
                        "learn": [
                          0.001413594491
                        ]
                      },
                      {
                        "test": [
                          0.00371832441
                        ],
                        "passed_time": 274.7085791,
                        "iteration": 850,
                        "remaining_time": 48.09821185,
                        "learn": [
                          0.001412262498
                        ]
                      },
                      {
                        "test": [
                          0.003717996786
                        ],
                        "passed_time": 275.1349677,
                        "iteration": 851,
                        "remaining_time": 47.79339815,
                        "learn": [
                          0.00141118849
                        ]
                      },
                      {
                        "test": [
                          0.003717780158
                        ],
                        "passed_time": 275.5853973,
                        "iteration": 852,
                        "remaining_time": 47.49244244,
                        "learn": [
                          0.001410568163
                        ]
                      },
                      {
                        "test": [
                          0.003717312318
                        ],
                        "passed_time": 276.1053386,
                        "iteration": 853,
                        "remaining_time": 47.20302041,
                        "learn": [
                          0.001408702563
                        ]
                      },
                      {
                        "test": [
                          0.003717235653
                        ],
                        "passed_time": 276.5260227,
                        "iteration": 854,
                        "remaining_time": 46.89622606,
                        "learn": [
                          0.00140752433
                        ]
                      },
                      {
                        "test": [
                          0.003716860514
                        ],
                        "passed_time": 276.9416042,
                        "iteration": 855,
                        "remaining_time": 46.58830725,
                        "learn": [
                          0.001406587111
                        ]
                      },
                      {
                        "test": [
                          0.003716766269
                        ],
                        "passed_time": 277.3857498,
                        "iteration": 856,
                        "remaining_time": 46.28490341,
                        "learn": [
                          0.001404935817
                        ]
                      },
                      {
                        "test": [
                          0.003716690322
                        ],
                        "passed_time": 277.8016847,
                        "iteration": 857,
                        "remaining_time": 45.9765026,
                        "learn": [
                          0.001403630776
                        ]
                      },
                      {
                        "test": [
                          0.003716875121
                        ],
                        "passed_time": 278.100918,
                        "iteration": 858,
                        "remaining_time": 45.6486955,
                        "learn": [
                          0.001402575515
                        ]
                      },
                      {
                        "test": [
                          0.003716619576
                        ],
                        "passed_time": 278.5398034,
                        "iteration": 859,
                        "remaining_time": 45.34368892,
                        "learn": [
                          0.001400791259
                        ]
                      },
                      {
                        "test": [
                          0.00371638284
                        ],
                        "passed_time": 278.9037535,
                        "iteration": 860,
                        "remaining_time": 45.02627379,
                        "learn": [
                          0.001399989616
                        ]
                      },
                      {
                        "test": [
                          0.003716003325
                        ],
                        "passed_time": 279.1834784,
                        "iteration": 861,
                        "remaining_time": 44.69526684,
                        "learn": [
                          0.00139887366
                        ]
                      },
                      {
                        "test": [
                          0.003715802411
                        ],
                        "passed_time": 279.6406799,
                        "iteration": 862,
                        "remaining_time": 44.3925529,
                        "learn": [
                          0.001398183749
                        ]
                      },
                      {
                        "test": [
                          0.003715662522
                        ],
                        "passed_time": 279.9937997,
                        "iteration": 863,
                        "remaining_time": 44.0730981,
                        "learn": [
                          0.001397502584
                        ]
                      },
                      {
                        "test": [
                          0.003715554739
                        ],
                        "passed_time": 280.3245084,
                        "iteration": 864,
                        "remaining_time": 43.75006779,
                        "learn": [
                          0.001396451489
                        ]
                      },
                      {
                        "test": [
                          0.003715552125
                        ],
                        "passed_time": 280.7846173,
                        "iteration": 865,
                        "remaining_time": 43.4470424,
                        "learn": [
                          0.001395605547
                        ]
                      },
                      {
                        "test": [
                          0.003715358815
                        ],
                        "passed_time": 281.0930506,
                        "iteration": 866,
                        "remaining_time": 43.12038722,
                        "learn": [
                          0.001394971755
                        ]
                      },
                      {
                        "test": [
                          0.003715416463
                        ],
                        "passed_time": 281.4343347,
                        "iteration": 867,
                        "remaining_time": 42.79876979,
                        "learn": [
                          0.001393716379
                        ]
                      },
                      {
                        "test": [
                          0.003715338755
                        ],
                        "passed_time": 281.8524329,
                        "iteration": 868,
                        "remaining_time": 42.48868666,
                        "learn": [
                          0.001392564446
                        ]
                      },
                      {
                        "test": [
                          0.00371458827
                        ],
                        "passed_time": 282.2323146,
                        "iteration": 869,
                        "remaining_time": 42.17264471,
                        "learn": [
                          0.00139148578
                        ]
                      },
                      {
                        "test": [
                          0.003714497299
                        ],
                        "passed_time": 282.6249175,
                        "iteration": 870,
                        "remaining_time": 41.85834025,
                        "learn": [
                          0.001390647701
                        ]
                      },
                      {
                        "test": [
                          0.003714074669
                        ],
                        "passed_time": 282.966415,
                        "iteration": 871,
                        "remaining_time": 41.53635449,
                        "learn": [
                          0.001389094574
                        ]
                      },
                      {
                        "test": [
                          0.003713807931
                        ],
                        "passed_time": 283.3239685,
                        "iteration": 872,
                        "remaining_time": 41.21665979,
                        "learn": [
                          0.001388265646
                        ]
                      },
                      {
                        "test": [
                          0.003713357178
                        ],
                        "passed_time": 283.7884127,
                        "iteration": 873,
                        "remaining_time": 40.91228832,
                        "learn": [
                          0.001387222701
                        ]
                      },
                      {
                        "test": [
                          0.003713044903
                        ],
                        "passed_time": 284.1988377,
                        "iteration": 874,
                        "remaining_time": 40.59983396,
                        "learn": [
                          0.001385911007
                        ]
                      },
                      {
                        "test": [
                          0.003712710542
                        ],
                        "passed_time": 284.5423531,
                        "iteration": 875,
                        "remaining_time": 40.27768469,
                        "learn": [
                          0.001384953192
                        ]
                      },
                      {
                        "test": [
                          0.003712254484
                        ],
                        "passed_time": 284.9585233,
                        "iteration": 876,
                        "remaining_time": 39.96567659,
                        "learn": [
                          0.0013838238
                        ]
                      },
                      {
                        "test": [
                          0.003712213226
                        ],
                        "passed_time": 285.3289759,
                        "iteration": 877,
                        "remaining_time": 39.64707866,
                        "learn": [
                          0.001382624244
                        ]
                      },
                      {
                        "test": [
                          0.003712082113
                        ],
                        "passed_time": 285.7210783,
                        "iteration": 878,
                        "remaining_time": 39.33134297,
                        "learn": [
                          0.001381690936
                        ]
                      },
                      {
                        "test": [
                          0.003711959976
                        ],
                        "passed_time": 286.1582609,
                        "iteration": 879,
                        "remaining_time": 39.02158103,
                        "learn": [
                          0.001380348992
                        ]
                      },
                      {
                        "test": [
                          0.003711961105
                        ],
                        "passed_time": 286.6318116,
                        "iteration": 880,
                        "remaining_time": 38.71644221,
                        "learn": [
                          0.001379541633
                        ]
                      },
                      {
                        "test": [
                          0.003711964286
                        ],
                        "passed_time": 287.166408,
                        "iteration": 881,
                        "remaining_time": 38.4190886,
                        "learn": [
                          0.001378967722
                        ]
                      },
                      {
                        "test": [
                          0.00371208292
                        ],
                        "passed_time": 287.5800262,
                        "iteration": 882,
                        "remaining_time": 38.10516769,
                        "learn": [
                          0.001377700796
                        ]
                      },
                      {
                        "test": [
                          0.003712205909
                        ],
                        "passed_time": 287.9156558,
                        "iteration": 883,
                        "remaining_time": 37.78078741,
                        "learn": [
                          0.00137659281
                        ]
                      },
                      {
                        "test": [
                          0.003712041374
                        ],
                        "passed_time": 288.3420195,
                        "iteration": 884,
                        "remaining_time": 37.46817203,
                        "learn": [
                          0.001375804019
                        ]
                      },
                      {
                        "test": [
                          0.003711907955
                        ],
                        "passed_time": 288.7302436,
                        "iteration": 885,
                        "remaining_time": 37.15039252,
                        "learn": [
                          0.001375413949
                        ]
                      },
                      {
                        "test": [
                          0.003712113749
                        ],
                        "passed_time": 289.0162672,
                        "iteration": 886,
                        "remaining_time": 36.81943426,
                        "learn": [
                          0.001374467009
                        ]
                      },
                      {
                        "test": [
                          0.003711758659
                        ],
                        "passed_time": 289.4229851,
                        "iteration": 887,
                        "remaining_time": 36.50379993,
                        "learn": [
                          0.001373217419
                        ]
                      },
                      {
                        "test": [
                          0.003711654374
                        ],
                        "passed_time": 289.7340571,
                        "iteration": 888,
                        "remaining_time": 36.17601838,
                        "learn": [
                          0.001371870024
                        ]
                      },
                      {
                        "test": [
                          0.003711614456
                        ],
                        "passed_time": 290.0737206,
                        "iteration": 889,
                        "remaining_time": 35.85180816,
                        "learn": [
                          0.001371353594
                        ]
                      },
                      {
                        "test": [
                          0.003710895001
                        ],
                        "passed_time": 290.4031903,
                        "iteration": 890,
                        "remaining_time": 35.5263162,
                        "learn": [
                          0.001370920936
                        ]
                      },
                      {
                        "test": [
                          0.003710885084
                        ],
                        "passed_time": 290.790152,
                        "iteration": 891,
                        "remaining_time": 35.20777625,
                        "learn": [
                          0.001369893732
                        ]
                      },
                      {
                        "test": [
                          0.003711055163
                        ],
                        "passed_time": 291.1657729,
                        "iteration": 892,
                        "remaining_time": 34.88772419,
                        "learn": [
                          0.001368664351
                        ]
                      },
                      {
                        "test": [
                          0.003710847343
                        ],
                        "passed_time": 291.6112093,
                        "iteration": 893,
                        "remaining_time": 34.57582571,
                        "learn": [
                          0.001366708515
                        ]
                      },
                      {
                        "test": [
                          0.003710309571
                        ],
                        "passed_time": 291.952422,
                        "iteration": 894,
                        "remaining_time": 34.25140146,
                        "learn": [
                          0.001365682937
                        ]
                      },
                      {
                        "test": [
                          0.003710283011
                        ],
                        "passed_time": 292.3355987,
                        "iteration": 895,
                        "remaining_time": 33.93181056,
                        "learn": [
                          0.001365245234
                        ]
                      },
                      {
                        "test": [
                          0.003710057987
                        ],
                        "passed_time": 292.7798766,
                        "iteration": 896,
                        "remaining_time": 33.61909397,
                        "learn": [
                          0.001364920519
                        ]
                      },
                      {
                        "test": [
                          0.003710350443
                        ],
                        "passed_time": 293.1281504,
                        "iteration": 897,
                        "remaining_time": 33.29517967,
                        "learn": [
                          0.001363708039
                        ]
                      },
                      {
                        "test": [
                          0.003710126366
                        ],
                        "passed_time": 293.4750256,
                        "iteration": 898,
                        "remaining_time": 32.97105405,
                        "learn": [
                          0.001363011074
                        ]
                      },
                      {
                        "test": [
                          0.003710151008
                        ],
                        "passed_time": 293.8460594,
                        "iteration": 899,
                        "remaining_time": 32.64956216,
                        "learn": [
                          0.001362116041
                        ]
                      },
                      {
                        "test": [
                          0.003709048511
                        ],
                        "passed_time": 294.1338424,
                        "iteration": 900,
                        "remaining_time": 32.31881287,
                        "learn": [
                          0.001360811088
                        ]
                      },
                      {
                        "test": [
                          0.003708737226
                        ],
                        "passed_time": 294.4870408,
                        "iteration": 901,
                        "remaining_time": 31.99526608,
                        "learn": [
                          0.001359894488
                        ]
                      },
                      {
                        "test": [
                          0.003709005467
                        ],
                        "passed_time": 294.9302008,
                        "iteration": 902,
                        "remaining_time": 31.68131725,
                        "learn": [
                          0.001359093477
                        ]
                      },
                      {
                        "test": [
                          0.003708932743
                        ],
                        "passed_time": 295.219724,
                        "iteration": 903,
                        "remaining_time": 31.35076716,
                        "learn": [
                          0.0013580734
                        ]
                      },
                      {
                        "test": [
                          0.003708963681
                        ],
                        "passed_time": 295.5914516,
                        "iteration": 904,
                        "remaining_time": 31.02893691,
                        "learn": [
                          0.001357914589
                        ]
                      },
                      {
                        "test": [
                          0.003708868742
                        ],
                        "passed_time": 296.0054368,
                        "iteration": 905,
                        "remaining_time": 30.71138086,
                        "learn": [
                          0.001357540137
                        ]
                      },
                      {
                        "test": [
                          0.003708600362
                        ],
                        "passed_time": 296.3482108,
                        "iteration": 906,
                        "remaining_time": 30.38631048,
                        "learn": [
                          0.001356961625
                        ]
                      },
                      {
                        "test": [
                          0.003707960812
                        ],
                        "passed_time": 296.7344266,
                        "iteration": 907,
                        "remaining_time": 30.06560269,
                        "learn": [
                          0.001356231648
                        ]
                      },
                      {
                        "test": [
                          0.003707987686
                        ],
                        "passed_time": 297.1886962,
                        "iteration": 908,
                        "remaining_time": 29.75156365,
                        "learn": [
                          0.001355751341
                        ]
                      },
                      {
                        "test": [
                          0.003707888728
                        ],
                        "passed_time": 297.521472,
                        "iteration": 909,
                        "remaining_time": 29.42520053,
                        "learn": [
                          0.00135460496
                        ]
                      },
                      {
                        "test": [
                          0.003707483112
                        ],
                        "passed_time": 297.8716944,
                        "iteration": 910,
                        "remaining_time": 29.10052777,
                        "learn": [
                          0.001353574845
                        ]
                      },
                      {
                        "test": [
                          0.003706496479
                        ],
                        "passed_time": 298.328378,
                        "iteration": 911,
                        "remaining_time": 28.78607156,
                        "learn": [
                          0.001352091335
                        ]
                      },
                      {
                        "test": [
                          0.003706550989
                        ],
                        "passed_time": 298.6558099,
                        "iteration": 912,
                        "remaining_time": 28.45898736,
                        "learn": [
                          0.001350824202
                        ]
                      },
                      {
                        "test": [
                          0.003706142273
                        ],
                        "passed_time": 298.9752353,
                        "iteration": 913,
                        "remaining_time": 28.13114905,
                        "learn": [
                          0.001349578843
                        ]
                      },
                      {
                        "test": [
                          0.003706163593
                        ],
                        "passed_time": 299.4178602,
                        "iteration": 914,
                        "remaining_time": 27.81477389,
                        "learn": [
                          0.001348496228
                        ]
                      },
                      {
                        "test": [
                          0.003705850924
                        ],
                        "passed_time": 299.7650859,
                        "iteration": 915,
                        "remaining_time": 27.48937469,
                        "learn": [
                          0.001347281028
                        ]
                      },
                      {
                        "test": [
                          0.003705947364
                        ],
                        "passed_time": 300.0947942,
                        "iteration": 916,
                        "remaining_time": 27.16234233,
                        "learn": [
                          0.0013462674
                        ]
                      },
                      {
                        "test": [
                          0.003705556132
                        ],
                        "passed_time": 300.5570512,
                        "iteration": 917,
                        "remaining_time": 26.84714401,
                        "learn": [
                          0.001344865124
                        ]
                      },
                      {
                        "test": [
                          0.003705372146
                        ],
                        "passed_time": 300.8491762,
                        "iteration": 918,
                        "remaining_time": 26.51663033,
                        "learn": [
                          0.001344117358
                        ]
                      },
                      {
                        "test": [
                          0.003705108798
                        ],
                        "passed_time": 301.1876593,
                        "iteration": 919,
                        "remaining_time": 26.19023124,
                        "learn": [
                          0.001343046439
                        ]
                      },
                      {
                        "test": [
                          0.003705006048
                        ],
                        "passed_time": 301.6392554,
                        "iteration": 920,
                        "remaining_time": 25.87350834,
                        "learn": [
                          0.001342343445
                        ]
                      },
                      {
                        "test": [
                          0.003704617601
                        ],
                        "passed_time": 301.9787633,
                        "iteration": 921,
                        "remaining_time": 25.54701035,
                        "learn": [
                          0.001341506189
                        ]
                      },
                      {
                        "test": [
                          0.003704423764
                        ],
                        "passed_time": 302.3041723,
                        "iteration": 922,
                        "remaining_time": 25.21930799,
                        "learn": [
                          0.001341067203
                        ]
                      },
                      {
                        "test": [
                          0.003703778251
                        ],
                        "passed_time": 302.706307,
                        "iteration": 923,
                        "remaining_time": 24.89792135,
                        "learn": [
                          0.001339774108
                        ]
                      },
                      {
                        "test": [
                          0.003703776564
                        ],
                        "passed_time": 303.0442314,
                        "iteration": 924,
                        "remaining_time": 24.5711539,
                        "learn": [
                          0.001339108893
                        ]
                      },
                      {
                        "test": [
                          0.003703800174
                        ],
                        "passed_time": 303.3414933,
                        "iteration": 925,
                        "remaining_time": 24.24111285,
                        "learn": [
                          0.001337969634
                        ]
                      },
                      {
                        "test": [
                          0.003703275888
                        ],
                        "passed_time": 303.7024401,
                        "iteration": 926,
                        "remaining_time": 23.91615763,
                        "learn": [
                          0.001336540447
                        ]
                      },
                      {
                        "test": [
                          0.003703289543
                        ],
                        "passed_time": 304.0226475,
                        "iteration": 927,
                        "remaining_time": 23.58796403,
                        "learn": [
                          0.001335525077
                        ]
                      },
                      {
                        "test": [
                          0.003703049562
                        ],
                        "passed_time": 304.299012,
                        "iteration": 928,
                        "remaining_time": 23.25643687,
                        "learn": [
                          0.001334178596
                        ]
                      },
                      {
                        "test": [
                          0.003702760998
                        ],
                        "passed_time": 304.6002343,
                        "iteration": 929,
                        "remaining_time": 22.92689936,
                        "learn": [
                          0.001333582474
                        ]
                      },
                      {
                        "test": [
                          0.003702930587
                        ],
                        "passed_time": 304.9805122,
                        "iteration": 930,
                        "remaining_time": 22.60328179,
                        "learn": [
                          0.001332482483
                        ]
                      },
                      {
                        "test": [
                          0.00370286643
                        ],
                        "passed_time": 305.2863923,
                        "iteration": 931,
                        "remaining_time": 22.27411446,
                        "learn": [
                          0.001330225078
                        ]
                      },
                      {
                        "test": [
                          0.003702523667
                        ],
                        "passed_time": 305.6087071,
                        "iteration": 932,
                        "remaining_time": 21.94617725,
                        "learn": [
                          0.001328912872
                        ]
                      },
                      {
                        "test": [
                          0.003702478964
                        ],
                        "passed_time": 305.9993075,
                        "iteration": 933,
                        "remaining_time": 21.6230774,
                        "learn": [
                          0.001328171723
                        ]
                      },
                      {
                        "test": [
                          0.00370214909
                        ],
                        "passed_time": 306.2629304,
                        "iteration": 934,
                        "remaining_time": 21.29100586,
                        "learn": [
                          0.001327509614
                        ]
                      },
                      {
                        "test": [
                          0.003701940666
                        ],
                        "passed_time": 306.5414839,
                        "iteration": 935,
                        "remaining_time": 20.96010146,
                        "learn": [
                          0.001326259895
                        ]
                      },
                      {
                        "test": [
                          0.003701678857
                        ],
                        "passed_time": 306.8918988,
                        "iteration": 936,
                        "remaining_time": 20.63414048,
                        "learn": [
                          0.001325691828
                        ]
                      },
                      {
                        "test": [
                          0.003701628015
                        ],
                        "passed_time": 307.2648355,
                        "iteration": 937,
                        "remaining_time": 20.30961599,
                        "learn": [
                          0.001325218488
                        ]
                      },
                      {
                        "test": [
                          0.003701407475
                        ],
                        "passed_time": 307.5640145,
                        "iteration": 938,
                        "remaining_time": 19.98019689,
                        "learn": [
                          0.001324035122
                        ]
                      },
                      {
                        "test": [
                          0.003701048151
                        ],
                        "passed_time": 307.8891421,
                        "iteration": 939,
                        "remaining_time": 19.65249843,
                        "learn": [
                          0.001322954716
                        ]
                      },
                      {
                        "test": [
                          0.003701056514
                        ],
                        "passed_time": 308.2403574,
                        "iteration": 940,
                        "remaining_time": 19.32644111,
                        "learn": [
                          0.001321794876
                        ]
                      },
                      {
                        "test": [
                          0.003700806099
                        ],
                        "passed_time": 308.5590902,
                        "iteration": 941,
                        "remaining_time": 18.9983304,
                        "learn": [
                          0.00132072391
                        ]
                      },
                      {
                        "test": [
                          0.003700820336
                        ],
                        "passed_time": 308.9258111,
                        "iteration": 942,
                        "remaining_time": 18.67314022,
                        "learn": [
                          0.001319204969
                        ]
                      },
                      {
                        "test": [
                          0.003700776114
                        ],
                        "passed_time": 309.2751406,
                        "iteration": 943,
                        "remaining_time": 18.34683037,
                        "learn": [
                          0.001316952336
                        ]
                      },
                      {
                        "test": [
                          0.003700556775
                        ],
                        "passed_time": 309.5867107,
                        "iteration": 944,
                        "remaining_time": 18.01827417,
                        "learn": [
                          0.001315707658
                        ]
                      },
                      {
                        "test": [
                          0.003700616138
                        ],
                        "passed_time": 309.9138459,
                        "iteration": 945,
                        "remaining_time": 17.69064237,
                        "learn": [
                          0.001314514153
                        ]
                      },
                      {
                        "test": [
                          0.003700504509
                        ],
                        "passed_time": 310.2844344,
                        "iteration": 946,
                        "remaining_time": 17.36544353,
                        "learn": [
                          0.001313939376
                        ]
                      },
                      {
                        "test": [
                          0.0037003811
                        ],
                        "passed_time": 310.6075651,
                        "iteration": 947,
                        "remaining_time": 17.03754577,
                        "learn": [
                          0.001312760607
                        ]
                      },
                      {
                        "test": [
                          0.003700399034
                        ],
                        "passed_time": 310.9172854,
                        "iteration": 948,
                        "remaining_time": 16.70893736,
                        "learn": [
                          0.001310849042
                        ]
                      },
                      {
                        "test": [
                          0.003700091953
                        ],
                        "passed_time": 311.2117045,
                        "iteration": 949,
                        "remaining_time": 16.37956339,
                        "learn": [
                          0.001309244718
                        ]
                      },
                      {
                        "test": [
                          0.003700231912
                        ],
                        "passed_time": 311.5973497,
                        "iteration": 950,
                        "remaining_time": 16.05496334,
                        "learn": [
                          0.001308225289
                        ]
                      },
                      {
                        "test": [
                          0.003700284396
                        ],
                        "passed_time": 311.8974718,
                        "iteration": 951,
                        "remaining_time": 15.72592295,
                        "learn": [
                          0.001307841302
                        ]
                      },
                      {
                        "test": [
                          0.003700244014
                        ],
                        "passed_time": 312.1696496,
                        "iteration": 952,
                        "remaining_time": 15.39556509,
                        "learn": [
                          0.001307296843
                        ]
                      },
                      {
                        "test": [
                          0.003699859556
                        ],
                        "passed_time": 312.6312443,
                        "iteration": 953,
                        "remaining_time": 15.07446251,
                        "learn": [
                          0.00130667289
                        ]
                      },
                      {
                        "test": [
                          0.003699655426
                        ],
                        "passed_time": 312.9587854,
                        "iteration": 954,
                        "remaining_time": 14.74674905,
                        "learn": [
                          0.001306201742
                        ]
                      },
                      {
                        "test": [
                          0.003699525255
                        ],
                        "passed_time": 313.2454902,
                        "iteration": 955,
                        "remaining_time": 14.41715645,
                        "learn": [
                          0.001305045702
                        ]
                      },
                      {
                        "test": [
                          0.003699032461
                        ],
                        "passed_time": 313.6937703,
                        "iteration": 956,
                        "remaining_time": 14.0949134,
                        "learn": [
                          0.001304301159
                        ]
                      },
                      {
                        "test": [
                          0.003698953156
                        ],
                        "passed_time": 314.0283599,
                        "iteration": 957,
                        "remaining_time": 13.76742288,
                        "learn": [
                          0.00130339459
                        ]
                      },
                      {
                        "test": [
                          0.003698932274
                        ],
                        "passed_time": 314.3631557,
                        "iteration": 958,
                        "remaining_time": 13.43992636,
                        "learn": [
                          0.001302204657
                        ]
                      },
                      {
                        "test": [
                          0.003698634585
                        ],
                        "passed_time": 314.7528636,
                        "iteration": 959,
                        "remaining_time": 13.11470265,
                        "learn": [
                          0.001301186171
                        ]
                      },
                      {
                        "test": [
                          0.003698844712
                        ],
                        "passed_time": 315.0741659,
                        "iteration": 960,
                        "remaining_time": 12.78656865,
                        "learn": [
                          0.001300614972
                        ]
                      },
                      {
                        "test": [
                          0.003698219346
                        ],
                        "passed_time": 315.3766495,
                        "iteration": 961,
                        "remaining_time": 12.45770549,
                        "learn": [
                          0.001299659926
                        ]
                      },
                      {
                        "test": [
                          0.003698348407
                        ],
                        "passed_time": 315.7335409,
                        "iteration": 962,
                        "remaining_time": 12.13098755,
                        "learn": [
                          0.001298871213
                        ]
                      },
                      {
                        "test": [
                          0.003698508949
                        ],
                        "passed_time": 316.0910123,
                        "iteration": 963,
                        "remaining_time": 11.80422867,
                        "learn": [
                          0.001297841523
                        ]
                      },
                      {
                        "test": [
                          0.003698134403
                        ],
                        "passed_time": 316.3878396,
                        "iteration": 964,
                        "remaining_time": 11.47520662,
                        "learn": [
                          0.001295577715
                        ]
                      },
                      {
                        "test": [
                          0.003698176936
                        ],
                        "passed_time": 316.6678689,
                        "iteration": 965,
                        "remaining_time": 11.14565998,
                        "learn": [
                          0.001294432643
                        ]
                      },
                      {
                        "test": [
                          0.00369820913
                        ],
                        "passed_time": 317.0696259,
                        "iteration": 966,
                        "remaining_time": 10.82036986,
                        "learn": [
                          0.00129301508
                        ]
                      },
                      {
                        "test": [
                          0.003697875309
                        ],
                        "passed_time": 317.4139757,
                        "iteration": 967,
                        "remaining_time": 10.49302399,
                        "learn": [
                          0.001292274374
                        ]
                      },
                      {
                        "test": [
                          0.003697375228
                        ],
                        "passed_time": 317.7130987,
                        "iteration": 968,
                        "remaining_time": 10.16419614,
                        "learn": [
                          0.001291557722
                        ]
                      },
                      {
                        "test": [
                          0.003697139051
                        ],
                        "passed_time": 318.1305189,
                        "iteration": 969,
                        "remaining_time": 9.839088214,
                        "learn": [
                          0.001290368603
                        ]
                      },
                      {
                        "test": [
                          0.003697067484
                        ],
                        "passed_time": 318.4525373,
                        "iteration": 970,
                        "remaining_time": 9.510940865,
                        "learn": [
                          0.001289514035
                        ]
                      },
                      {
                        "test": [
                          0.003697172559
                        ],
                        "passed_time": 318.7792457,
                        "iteration": 971,
                        "remaining_time": 9.182941234,
                        "learn": [
                          0.001288750181
                        ]
                      },
                      {
                        "test": [
                          0.003696953089
                        ],
                        "passed_time": 319.1789944,
                        "iteration": 972,
                        "remaining_time": 8.856971068,
                        "learn": [
                          0.001288119097
                        ]
                      },
                      {
                        "test": [
                          0.003696950921
                        ],
                        "passed_time": 319.5317445,
                        "iteration": 973,
                        "remaining_time": 8.529594823,
                        "learn": [
                          0.001286754154
                        ]
                      },
                      {
                        "test": [
                          0.00369630051
                        ],
                        "passed_time": 319.9089076,
                        "iteration": 974,
                        "remaining_time": 8.202792503,
                        "learn": [
                          0.001285850659
                        ]
                      },
                      {
                        "test": [
                          0.00369581044
                        ],
                        "passed_time": 320.3604219,
                        "iteration": 975,
                        "remaining_time": 7.877715292,
                        "learn": [
                          0.001284773524
                        ]
                      },
                      {
                        "test": [
                          0.003695749373
                        ],
                        "passed_time": 320.7291407,
                        "iteration": 976,
                        "remaining_time": 7.550430129,
                        "learn": [
                          0.00128429412
                        ]
                      },
                      {
                        "test": [
                          0.003695738379
                        ],
                        "passed_time": 321.0506384,
                        "iteration": 977,
                        "remaining_time": 7.221998001,
                        "learn": [
                          0.001282814595
                        ]
                      },
                      {
                        "test": [
                          0.003695590581
                        ],
                        "passed_time": 321.4505051,
                        "iteration": 978,
                        "remaining_time": 6.895261091,
                        "learn": [
                          0.001281832635
                        ]
                      },
                      {
                        "test": [
                          0.003695545465
                        ],
                        "passed_time": 321.7683468,
                        "iteration": 979,
                        "remaining_time": 6.566700955,
                        "learn": [
                          0.00128144331
                        ]
                      },
                      {
                        "test": [
                          0.00369532904
                        ],
                        "passed_time": 322.0827349,
                        "iteration": 980,
                        "remaining_time": 6.238095783,
                        "learn": [
                          0.001280522007
                        ]
                      },
                      {
                        "test": [
                          0.00369520447
                        ],
                        "passed_time": 322.4678377,
                        "iteration": 981,
                        "remaining_time": 5.910815762,
                        "learn": [
                          0.00127975788
                        ]
                      },
                      {
                        "test": [
                          0.003694776774
                        ],
                        "passed_time": 322.809033,
                        "iteration": 982,
                        "remaining_time": 5.58265876,
                        "learn": [
                          0.001279040895
                        ]
                      },
                      {
                        "test": [
                          0.003694686754
                        ],
                        "passed_time": 323.1665374,
                        "iteration": 983,
                        "remaining_time": 5.254740445,
                        "learn": [
                          0.001278439886
                        ]
                      },
                      {
                        "test": [
                          0.003694183338
                        ],
                        "passed_time": 323.5555654,
                        "iteration": 984,
                        "remaining_time": 4.927242112,
                        "learn": [
                          0.001277579787
                        ]
                      },
                      {
                        "test": [
                          0.003694128897
                        ],
                        "passed_time": 323.9016105,
                        "iteration": 985,
                        "remaining_time": 4.599008668,
                        "learn": [
                          0.001276125019
                        ]
                      },
                      {
                        "test": [
                          0.003693907553
                        ],
                        "passed_time": 324.2197291,
                        "iteration": 986,
                        "remaining_time": 4.270371305,
                        "learn": [
                          0.001274496141
                        ]
                      },
                      {
                        "test": [
                          0.003693460505
                        ],
                        "passed_time": 324.6875885,
                        "iteration": 987,
                        "remaining_time": 3.943573949,
                        "learn": [
                          0.001273630646
                        ]
                      },
                      {
                        "test": [
                          0.003693343357
                        ],
                        "passed_time": 325.0484938,
                        "iteration": 988,
                        "remaining_time": 3.615301751,
                        "learn": [
                          0.001272822888
                        ]
                      },
                      {
                        "test": [
                          0.003693105936
                        ],
                        "passed_time": 325.378373,
                        "iteration": 989,
                        "remaining_time": 3.286650232,
                        "learn": [
                          0.001272187957
                        ]
                      },
                      {
                        "test": [
                          0.003692801736
                        ],
                        "passed_time": 325.8406174,
                        "iteration": 990,
                        "remaining_time": 2.959198342,
                        "learn": [
                          0.001271914144
                        ]
                      },
                      {
                        "test": [
                          0.00369288132
                        ],
                        "passed_time": 326.2586336,
                        "iteration": 991,
                        "remaining_time": 2.631118013,
                        "learn": [
                          0.001271348754
                        ]
                      },
                      {
                        "test": [
                          0.003692858967
                        ],
                        "passed_time": 326.5800842,
                        "iteration": 992,
                        "remaining_time": 2.30217582,
                        "learn": [
                          0.001269781127
                        ]
                      },
                      {
                        "test": [
                          0.003692230765
                        ],
                        "passed_time": 326.9920744,
                        "iteration": 993,
                        "remaining_time": 1.973795218,
                        "learn": [
                          0.001268209422
                        ]
                      },
                      {
                        "test": [
                          0.003692030337
                        ],
                        "passed_time": 327.3255222,
                        "iteration": 994,
                        "remaining_time": 1.64485187,
                        "learn": [
                          0.001266966551
                        ]
                      },
                      {
                        "test": [
                          0.00369205368
                        ],
                        "passed_time": 327.6408937,
                        "iteration": 995,
                        "remaining_time": 1.315826882,
                        "learn": [
                          0.001266542804
                        ]
                      },
                      {
                        "test": [
                          0.003691837042
                        ],
                        "passed_time": 328.0757062,
                        "iteration": 996,
                        "remaining_time": 0.9871886846,
                        "learn": [
                          0.001265831692
                        ]
                      },
                      {
                        "test": [
                          0.003691690983
                        ],
                        "passed_time": 328.5284686,
                        "iteration": 997,
                        "remaining_time": 0.6583736846,
                        "learn": [
                          0.001264993352
                        ]
                      },
                      {
                        "test": [
                          0.003691615561
                        ],
                        "passed_time": 328.9168742,
                        "iteration": 998,
                        "remaining_time": 0.3292461203,
                        "learn": [
                          0.001264637148
                        ]
                      },
                      {
                        "test": [
                          0.003691374537
                        ],
                        "passed_time": 329.4141518,
                        "iteration": 999,
                        "remaining_time": 0,
                        "learn": [
                          0.001263833013
                        ]
                      }
                    ]
                  },
                  "total_iterations": 1000,
                  "passed_iterations": 999
                },
                "path": "catboost_info",
                "name": "catboost_info"
              }
            },
            "_view_module": "catboost-widget",
            "_model_module_version": "^1.0.0",
            "_view_count": null,
            "_view_module_version": "^1.0.0",
            "layout": "IPY_MODEL_77706cf03eaf4c778f437ef3bfb005b1",
            "_model_module": "catboost-widget"
          }
        }
      }
    }
  },
  "cells": [
    {
      "cell_type": "markdown",
      "source": [
        "# STAT3105 Flight Delay Prediction Final Project Fall 2021\n",
        "# Jafar Vohra (jv2775)"
      ],
      "metadata": {
        "id": "rb-Ahd_CeOLg"
      }
    },
    {
      "cell_type": "markdown",
      "source": [
        "## Code:"
      ],
      "metadata": {
        "id": "RtUxO4KCguOi"
      }
    },
    {
      "cell_type": "markdown",
      "source": [
        "### Pipeline: Part 1 - Data Reading, Cleaning, and Splitting "
      ],
      "metadata": {
        "id": "hGRWfZvffUxz"
      }
    },
    {
      "cell_type": "code",
      "execution_count": 12,
      "metadata": {
        "colab": {
          "base_uri": "https://localhost:8080/"
        },
        "id": "PzEJLVCBORhv",
        "outputId": "84a636f1-7d77-422c-fd45-950cb3196ec6"
      },
      "outputs": [
        {
          "output_type": "stream",
          "name": "stdout",
          "text": [
            "Requirement already satisfied: catboost in /usr/local/lib/python3.7/dist-packages (1.0.3)\n",
            "Requirement already satisfied: matplotlib in /usr/local/lib/python3.7/dist-packages (from catboost) (3.2.2)\n",
            "Requirement already satisfied: plotly in /usr/local/lib/python3.7/dist-packages (from catboost) (4.4.1)\n",
            "Requirement already satisfied: numpy>=1.16.0 in /usr/local/lib/python3.7/dist-packages (from catboost) (1.19.5)\n",
            "Requirement already satisfied: graphviz in /usr/local/lib/python3.7/dist-packages (from catboost) (0.10.1)\n",
            "Requirement already satisfied: scipy in /usr/local/lib/python3.7/dist-packages (from catboost) (1.4.1)\n",
            "Requirement already satisfied: six in /usr/local/lib/python3.7/dist-packages (from catboost) (1.15.0)\n",
            "Requirement already satisfied: pandas>=0.24.0 in /usr/local/lib/python3.7/dist-packages (from catboost) (1.1.5)\n",
            "Requirement already satisfied: python-dateutil>=2.7.3 in /usr/local/lib/python3.7/dist-packages (from pandas>=0.24.0->catboost) (2.8.2)\n",
            "Requirement already satisfied: pytz>=2017.2 in /usr/local/lib/python3.7/dist-packages (from pandas>=0.24.0->catboost) (2018.9)\n",
            "Requirement already satisfied: kiwisolver>=1.0.1 in /usr/local/lib/python3.7/dist-packages (from matplotlib->catboost) (1.3.2)\n",
            "Requirement already satisfied: pyparsing!=2.0.4,!=2.1.2,!=2.1.6,>=2.0.1 in /usr/local/lib/python3.7/dist-packages (from matplotlib->catboost) (3.0.6)\n",
            "Requirement already satisfied: cycler>=0.10 in /usr/local/lib/python3.7/dist-packages (from matplotlib->catboost) (0.11.0)\n",
            "Requirement already satisfied: retrying>=1.3.3 in /usr/local/lib/python3.7/dist-packages (from plotly->catboost) (1.3.3)\n"
          ]
        }
      ],
      "source": [
        "# imports and installs\n",
        "import pandas as pd\n",
        "import numpy as np\n",
        "from sklearn.model_selection import train_test_split\n",
        "!pip install catboost\n",
        "from catboost import CatBoostRegressor, Pool\n",
        "\n",
        "# data reading\n",
        "flights = pd.read_csv(\"/content/pnwflights14.csv\")\n",
        "test = pd.read_csv(\"/content/test_student.csv\")\n",
        "\n",
        "# data cleaning\n",
        "flights = flights[(flights.dep_time >= 0) & (flights.air_time >= 0) & (flights.distance >= 0)]\n",
        "flights = flights.dropna()\n",
        "x = flights[['month','dep_time','dep_delay','arr_time','carrier','origin','dest','air_time','distance']]\n",
        "ID = test['Id']\n",
        "test = test[['month','dep_time','dep_delay','arr_time','carrier','origin','dest','air_time','distance']]\n",
        "\n",
        "# RMSLE minimizer conversion\n",
        "y = flights.arr_delay\n",
        "y_min = min(y)\n",
        "y_max = max(y)\n",
        "y = np.log((y-y_min)/(y_max-y_min) + 1)\n",
        "\n",
        "# train/validation dataset splitting\n",
        "x_train, x_validation, y_train, y_validation = train_test_split(x, y, train_size=0.8, random_state=1234)\n",
        "categorical_features_indices = np.where(x.dtypes != np.float)[0]\n",
        "train_dataset = Pool(x_train, y_train, categorical_features_indices)"
      ]
    },
    {
      "cell_type": "markdown",
      "source": [
        "### Pipeline: Part 2 - Model Creation, Parameter Tuning, and Model Fitting"
      ],
      "metadata": {
        "id": "y_tfmNqHfsyh"
      }
    },
    {
      "cell_type": "code",
      "source": [
        "# model creation\n",
        "model=CatBoostRegressor(loss_function='RMSE',iterations=1000, learning_rate=0.4, depth=11, l2_leaf_reg=0.1)\n",
        "\n",
        "# parameter tuning\n",
        "#grid = {'iterations': [100,150],\n",
        "        #'learning_rate': [0.4,0.5],\n",
        "        #'depth': [8,11],\n",
        "        #'l2_leaf_reg': [0.1,0.2]}\n",
        "#model.grid_search(grid, train_dataset)\n",
        "\n",
        "# model fitting\n",
        "model.fit(x_train, y_train,cat_features=categorical_features_indices,eval_set=(x_validation, y_validation),plot=True)"
      ],
      "metadata": {
        "colab": {
          "base_uri": "https://localhost:8080/",
          "height": 1000,
          "referenced_widgets": [
            "35363856f5af4d489fd08c307631305f"
          ]
        },
        "id": "-Xqr-kCca37i",
        "outputId": "ec9d1ba4-a524-411f-fc6c-5220d877586e"
      },
      "execution_count": 14,
      "outputs": [
        {
          "output_type": "display_data",
          "data": {
            "application/vnd.jupyter.widget-view+json": {
              "model_id": "35363856f5af4d489fd08c307631305f",
              "version_minor": 0,
              "version_major": 2
            },
            "text/plain": [
              "MetricVisualizer(layout=Layout(align_self='stretch', height='500px'))"
            ]
          },
          "metadata": {}
        },
        {
          "output_type": "stream",
          "name": "stdout",
          "text": [
            "0:\tlearn: 0.0121070\ttest: 0.0127367\tbest: 0.0127367 (0)\ttotal: 717ms\tremaining: 11m 56s\n",
            "1:\tlearn: 0.0093895\ttest: 0.0097905\tbest: 0.0097905 (1)\ttotal: 1.27s\tremaining: 10m 33s\n",
            "2:\tlearn: 0.0080520\ttest: 0.0082971\tbest: 0.0082971 (2)\ttotal: 1.98s\tremaining: 10m 56s\n",
            "3:\tlearn: 0.0073558\ttest: 0.0076423\tbest: 0.0076423 (3)\ttotal: 2.56s\tremaining: 10m 37s\n",
            "4:\tlearn: 0.0069750\ttest: 0.0072882\tbest: 0.0072882 (4)\ttotal: 3.13s\tremaining: 10m 22s\n",
            "5:\tlearn: 0.0066706\ttest: 0.0069928\tbest: 0.0069928 (5)\ttotal: 3.57s\tremaining: 9m 51s\n",
            "6:\tlearn: 0.0065295\ttest: 0.0068596\tbest: 0.0068596 (6)\ttotal: 4.05s\tremaining: 9m 35s\n",
            "7:\tlearn: 0.0063813\ttest: 0.0067249\tbest: 0.0067249 (7)\ttotal: 4.7s\tremaining: 9m 42s\n",
            "8:\tlearn: 0.0062065\ttest: 0.0065820\tbest: 0.0065820 (8)\ttotal: 5.3s\tremaining: 9m 44s\n",
            "9:\tlearn: 0.0060235\ttest: 0.0064085\tbest: 0.0064085 (9)\ttotal: 5.75s\tremaining: 9m 29s\n",
            "10:\tlearn: 0.0058598\ttest: 0.0062595\tbest: 0.0062595 (10)\ttotal: 6.1s\tremaining: 9m 8s\n",
            "11:\tlearn: 0.0057573\ttest: 0.0061586\tbest: 0.0061586 (11)\ttotal: 6.36s\tremaining: 8m 43s\n",
            "12:\tlearn: 0.0056369\ttest: 0.0060503\tbest: 0.0060503 (12)\ttotal: 6.64s\tremaining: 8m 23s\n",
            "13:\tlearn: 0.0055078\ttest: 0.0059330\tbest: 0.0059330 (13)\ttotal: 7s\tremaining: 8m 13s\n",
            "14:\tlearn: 0.0054649\ttest: 0.0058903\tbest: 0.0058903 (14)\ttotal: 7.29s\tremaining: 7m 58s\n",
            "15:\tlearn: 0.0053988\ttest: 0.0058386\tbest: 0.0058386 (15)\ttotal: 7.62s\tremaining: 7m 48s\n",
            "16:\tlearn: 0.0053369\ttest: 0.0057813\tbest: 0.0057813 (16)\ttotal: 7.89s\tremaining: 7m 36s\n",
            "17:\tlearn: 0.0052794\ttest: 0.0057302\tbest: 0.0057302 (17)\ttotal: 8.16s\tremaining: 7m 25s\n",
            "18:\tlearn: 0.0051914\ttest: 0.0056548\tbest: 0.0056548 (18)\ttotal: 8.48s\tremaining: 7m 17s\n",
            "19:\tlearn: 0.0051308\ttest: 0.0056105\tbest: 0.0056105 (19)\ttotal: 8.79s\tremaining: 7m 10s\n",
            "20:\tlearn: 0.0050735\ttest: 0.0055496\tbest: 0.0055496 (20)\ttotal: 9.09s\tremaining: 7m 3s\n",
            "21:\tlearn: 0.0050343\ttest: 0.0055176\tbest: 0.0055176 (21)\ttotal: 9.34s\tremaining: 6m 55s\n",
            "22:\tlearn: 0.0049788\ttest: 0.0054708\tbest: 0.0054708 (22)\ttotal: 9.65s\tremaining: 6m 49s\n",
            "23:\tlearn: 0.0049200\ttest: 0.0054284\tbest: 0.0054284 (23)\ttotal: 9.96s\tremaining: 6m 44s\n",
            "24:\tlearn: 0.0048774\ttest: 0.0053921\tbest: 0.0053921 (24)\ttotal: 10.2s\tremaining: 6m 39s\n",
            "25:\tlearn: 0.0048383\ttest: 0.0053636\tbest: 0.0053636 (25)\ttotal: 10.5s\tremaining: 6m 34s\n",
            "26:\tlearn: 0.0047792\ttest: 0.0053182\tbest: 0.0053182 (26)\ttotal: 10.9s\tremaining: 6m 31s\n",
            "27:\tlearn: 0.0047547\ttest: 0.0053051\tbest: 0.0053051 (27)\ttotal: 11.1s\tremaining: 6m 26s\n",
            "28:\tlearn: 0.0047278\ttest: 0.0052822\tbest: 0.0052822 (28)\ttotal: 11.4s\tremaining: 6m 22s\n",
            "29:\tlearn: 0.0046984\ttest: 0.0052547\tbest: 0.0052547 (29)\ttotal: 11.7s\tremaining: 6m 17s\n",
            "30:\tlearn: 0.0046613\ttest: 0.0052269\tbest: 0.0052269 (30)\ttotal: 12s\tremaining: 6m 14s\n",
            "31:\tlearn: 0.0046438\ttest: 0.0052149\tbest: 0.0052149 (31)\ttotal: 12.2s\tremaining: 6m 9s\n",
            "32:\tlearn: 0.0046137\ttest: 0.0051990\tbest: 0.0051990 (32)\ttotal: 12.5s\tremaining: 6m 5s\n",
            "33:\tlearn: 0.0045751\ttest: 0.0051699\tbest: 0.0051699 (33)\ttotal: 12.7s\tremaining: 6m 1s\n",
            "34:\tlearn: 0.0045442\ttest: 0.0051497\tbest: 0.0051497 (34)\ttotal: 13s\tremaining: 5m 59s\n",
            "35:\tlearn: 0.0045109\ttest: 0.0051231\tbest: 0.0051231 (35)\ttotal: 13.3s\tremaining: 5m 55s\n",
            "36:\tlearn: 0.0044890\ttest: 0.0051032\tbest: 0.0051032 (36)\ttotal: 13.5s\tremaining: 5m 52s\n",
            "37:\tlearn: 0.0044699\ttest: 0.0050920\tbest: 0.0050920 (37)\ttotal: 13.8s\tremaining: 5m 49s\n",
            "38:\tlearn: 0.0044538\ttest: 0.0050878\tbest: 0.0050878 (38)\ttotal: 14.1s\tremaining: 5m 48s\n",
            "39:\tlearn: 0.0044346\ttest: 0.0050718\tbest: 0.0050718 (39)\ttotal: 14.4s\tremaining: 5m 46s\n",
            "40:\tlearn: 0.0044073\ttest: 0.0050543\tbest: 0.0050543 (40)\ttotal: 14.7s\tremaining: 5m 44s\n",
            "41:\tlearn: 0.0043896\ttest: 0.0050454\tbest: 0.0050454 (41)\ttotal: 15s\tremaining: 5m 43s\n",
            "42:\tlearn: 0.0043812\ttest: 0.0050371\tbest: 0.0050371 (42)\ttotal: 15.3s\tremaining: 5m 40s\n",
            "43:\tlearn: 0.0043625\ttest: 0.0050241\tbest: 0.0050241 (43)\ttotal: 15.6s\tremaining: 5m 38s\n",
            "44:\tlearn: 0.0043417\ttest: 0.0050071\tbest: 0.0050071 (44)\ttotal: 15.9s\tremaining: 5m 36s\n",
            "45:\tlearn: 0.0043188\ttest: 0.0049938\tbest: 0.0049938 (45)\ttotal: 16.2s\tremaining: 5m 36s\n",
            "46:\tlearn: 0.0042866\ttest: 0.0049769\tbest: 0.0049769 (46)\ttotal: 16.5s\tremaining: 5m 34s\n",
            "47:\tlearn: 0.0042655\ttest: 0.0049645\tbest: 0.0049645 (47)\ttotal: 16.8s\tremaining: 5m 32s\n",
            "48:\tlearn: 0.0042453\ttest: 0.0049490\tbest: 0.0049490 (48)\ttotal: 17.1s\tremaining: 5m 32s\n",
            "49:\tlearn: 0.0042288\ttest: 0.0049368\tbest: 0.0049368 (49)\ttotal: 17.4s\tremaining: 5m 30s\n",
            "50:\tlearn: 0.0042062\ttest: 0.0049289\tbest: 0.0049289 (50)\ttotal: 17.7s\tremaining: 5m 28s\n",
            "51:\tlearn: 0.0041857\ttest: 0.0049150\tbest: 0.0049150 (51)\ttotal: 18s\tremaining: 5m 27s\n",
            "52:\tlearn: 0.0041688\ttest: 0.0049012\tbest: 0.0049012 (52)\ttotal: 18.3s\tremaining: 5m 26s\n",
            "53:\tlearn: 0.0041545\ttest: 0.0048918\tbest: 0.0048918 (53)\ttotal: 18.6s\tremaining: 5m 25s\n",
            "54:\tlearn: 0.0041351\ttest: 0.0048808\tbest: 0.0048808 (54)\ttotal: 18.8s\tremaining: 5m 23s\n",
            "55:\tlearn: 0.0041223\ttest: 0.0048737\tbest: 0.0048737 (55)\ttotal: 19.2s\tremaining: 5m 22s\n",
            "56:\tlearn: 0.0040984\ttest: 0.0048563\tbest: 0.0048563 (56)\ttotal: 19.4s\tremaining: 5m 21s\n",
            "57:\tlearn: 0.0040839\ttest: 0.0048476\tbest: 0.0048476 (57)\ttotal: 19.7s\tremaining: 5m 20s\n",
            "58:\tlearn: 0.0040681\ttest: 0.0048390\tbest: 0.0048390 (58)\ttotal: 20s\tremaining: 5m 18s\n",
            "59:\tlearn: 0.0040546\ttest: 0.0048328\tbest: 0.0048328 (59)\ttotal: 20.3s\tremaining: 5m 17s\n",
            "60:\tlearn: 0.0040447\ttest: 0.0048272\tbest: 0.0048272 (60)\ttotal: 20.5s\tremaining: 5m 15s\n",
            "61:\tlearn: 0.0040159\ttest: 0.0048087\tbest: 0.0048087 (61)\ttotal: 20.8s\tremaining: 5m 14s\n",
            "62:\tlearn: 0.0040079\ttest: 0.0048041\tbest: 0.0048041 (62)\ttotal: 21.1s\tremaining: 5m 14s\n",
            "63:\tlearn: 0.0039979\ttest: 0.0047981\tbest: 0.0047981 (63)\ttotal: 21.4s\tremaining: 5m 13s\n",
            "64:\tlearn: 0.0039861\ttest: 0.0047922\tbest: 0.0047922 (64)\ttotal: 21.7s\tremaining: 5m 12s\n",
            "65:\tlearn: 0.0039753\ttest: 0.0047853\tbest: 0.0047853 (65)\ttotal: 22s\tremaining: 5m 11s\n",
            "66:\tlearn: 0.0039680\ttest: 0.0047781\tbest: 0.0047781 (66)\ttotal: 22.3s\tremaining: 5m 9s\n",
            "67:\tlearn: 0.0039536\ttest: 0.0047701\tbest: 0.0047701 (67)\ttotal: 22.5s\tremaining: 5m 8s\n",
            "68:\tlearn: 0.0039449\ttest: 0.0047672\tbest: 0.0047672 (68)\ttotal: 22.8s\tremaining: 5m 7s\n",
            "69:\tlearn: 0.0039272\ttest: 0.0047534\tbest: 0.0047534 (69)\ttotal: 23.1s\tremaining: 5m 6s\n",
            "70:\tlearn: 0.0039144\ttest: 0.0047489\tbest: 0.0047489 (70)\ttotal: 23.4s\tremaining: 5m 5s\n",
            "71:\tlearn: 0.0038989\ttest: 0.0047401\tbest: 0.0047401 (71)\ttotal: 23.7s\tremaining: 5m 4s\n",
            "72:\tlearn: 0.0038904\ttest: 0.0047348\tbest: 0.0047348 (72)\ttotal: 23.9s\tremaining: 5m 3s\n",
            "73:\tlearn: 0.0038753\ttest: 0.0047225\tbest: 0.0047225 (73)\ttotal: 24.2s\tremaining: 5m 2s\n",
            "74:\tlearn: 0.0038596\ttest: 0.0047120\tbest: 0.0047120 (74)\ttotal: 24.5s\tremaining: 5m 2s\n",
            "75:\tlearn: 0.0038445\ttest: 0.0046991\tbest: 0.0046991 (75)\ttotal: 24.8s\tremaining: 5m 1s\n",
            "76:\tlearn: 0.0038303\ttest: 0.0046960\tbest: 0.0046960 (76)\ttotal: 25.1s\tremaining: 5m\n",
            "77:\tlearn: 0.0038251\ttest: 0.0046943\tbest: 0.0046943 (77)\ttotal: 25.4s\tremaining: 5m\n",
            "78:\tlearn: 0.0038056\ttest: 0.0046833\tbest: 0.0046833 (78)\ttotal: 25.6s\tremaining: 4m 58s\n",
            "79:\tlearn: 0.0037906\ttest: 0.0046759\tbest: 0.0046759 (79)\ttotal: 25.9s\tremaining: 4m 57s\n",
            "80:\tlearn: 0.0037869\ttest: 0.0046731\tbest: 0.0046731 (80)\ttotal: 26.2s\tremaining: 4m 57s\n",
            "81:\tlearn: 0.0037725\ttest: 0.0046626\tbest: 0.0046626 (81)\ttotal: 26.6s\tremaining: 4m 57s\n",
            "82:\tlearn: 0.0037651\ttest: 0.0046612\tbest: 0.0046612 (82)\ttotal: 26.8s\tremaining: 4m 56s\n",
            "83:\tlearn: 0.0037583\ttest: 0.0046457\tbest: 0.0046457 (83)\ttotal: 27.1s\tremaining: 4m 55s\n",
            "84:\tlearn: 0.0037435\ttest: 0.0046380\tbest: 0.0046380 (84)\ttotal: 27.4s\tremaining: 4m 55s\n",
            "85:\tlearn: 0.0037369\ttest: 0.0046308\tbest: 0.0046308 (85)\ttotal: 27.7s\tremaining: 4m 54s\n",
            "86:\tlearn: 0.0037245\ttest: 0.0046192\tbest: 0.0046192 (86)\ttotal: 28s\tremaining: 4m 53s\n",
            "87:\tlearn: 0.0037087\ttest: 0.0046101\tbest: 0.0046101 (87)\ttotal: 28.3s\tremaining: 4m 53s\n",
            "88:\tlearn: 0.0036979\ttest: 0.0046056\tbest: 0.0046056 (88)\ttotal: 28.6s\tremaining: 4m 52s\n",
            "89:\tlearn: 0.0036851\ttest: 0.0045988\tbest: 0.0045988 (89)\ttotal: 28.9s\tremaining: 4m 52s\n",
            "90:\tlearn: 0.0036708\ttest: 0.0045908\tbest: 0.0045908 (90)\ttotal: 29.2s\tremaining: 4m 51s\n",
            "91:\tlearn: 0.0036567\ttest: 0.0045838\tbest: 0.0045838 (91)\ttotal: 29.5s\tremaining: 4m 51s\n",
            "92:\tlearn: 0.0036421\ttest: 0.0045764\tbest: 0.0045764 (92)\ttotal: 29.8s\tremaining: 4m 50s\n",
            "93:\tlearn: 0.0036354\ttest: 0.0045701\tbest: 0.0045701 (93)\ttotal: 30s\tremaining: 4m 49s\n",
            "94:\tlearn: 0.0036300\ttest: 0.0045666\tbest: 0.0045666 (94)\ttotal: 30.3s\tremaining: 4m 48s\n",
            "95:\tlearn: 0.0036246\ttest: 0.0045593\tbest: 0.0045593 (95)\ttotal: 30.5s\tremaining: 4m 47s\n",
            "96:\tlearn: 0.0036208\ttest: 0.0045568\tbest: 0.0045568 (96)\ttotal: 30.8s\tremaining: 4m 46s\n",
            "97:\tlearn: 0.0036125\ttest: 0.0045538\tbest: 0.0045538 (97)\ttotal: 31.1s\tremaining: 4m 46s\n",
            "98:\tlearn: 0.0036064\ttest: 0.0045522\tbest: 0.0045522 (98)\ttotal: 31.4s\tremaining: 4m 45s\n",
            "99:\tlearn: 0.0035932\ttest: 0.0045479\tbest: 0.0045479 (99)\ttotal: 31.7s\tremaining: 4m 45s\n",
            "100:\tlearn: 0.0035766\ttest: 0.0045399\tbest: 0.0045399 (100)\ttotal: 31.9s\tremaining: 4m 44s\n",
            "101:\tlearn: 0.0035688\ttest: 0.0045361\tbest: 0.0045361 (101)\ttotal: 32.3s\tremaining: 4m 43s\n",
            "102:\tlearn: 0.0035583\ttest: 0.0045290\tbest: 0.0045290 (102)\ttotal: 32.6s\tremaining: 4m 43s\n",
            "103:\tlearn: 0.0035497\ttest: 0.0045255\tbest: 0.0045255 (103)\ttotal: 32.8s\tremaining: 4m 42s\n",
            "104:\tlearn: 0.0035409\ttest: 0.0045230\tbest: 0.0045230 (104)\ttotal: 33.1s\tremaining: 4m 42s\n",
            "105:\tlearn: 0.0035281\ttest: 0.0045147\tbest: 0.0045147 (105)\ttotal: 33.4s\tremaining: 4m 41s\n",
            "106:\tlearn: 0.0035183\ttest: 0.0045101\tbest: 0.0045101 (106)\ttotal: 33.7s\tremaining: 4m 41s\n",
            "107:\tlearn: 0.0035115\ttest: 0.0045067\tbest: 0.0045067 (107)\ttotal: 34s\tremaining: 4m 40s\n",
            "108:\tlearn: 0.0034995\ttest: 0.0045010\tbest: 0.0045010 (108)\ttotal: 34.3s\tremaining: 4m 40s\n",
            "109:\tlearn: 0.0034932\ttest: 0.0044880\tbest: 0.0044880 (109)\ttotal: 34.6s\tremaining: 4m 39s\n",
            "110:\tlearn: 0.0034798\ttest: 0.0044805\tbest: 0.0044805 (110)\ttotal: 34.9s\tremaining: 4m 39s\n",
            "111:\tlearn: 0.0034730\ttest: 0.0044788\tbest: 0.0044788 (111)\ttotal: 35.1s\tremaining: 4m 38s\n",
            "112:\tlearn: 0.0034614\ttest: 0.0044739\tbest: 0.0044739 (112)\ttotal: 35.4s\tremaining: 4m 37s\n",
            "113:\tlearn: 0.0034565\ttest: 0.0044701\tbest: 0.0044701 (113)\ttotal: 35.7s\tremaining: 4m 37s\n",
            "114:\tlearn: 0.0034473\ttest: 0.0044638\tbest: 0.0044638 (114)\ttotal: 36s\tremaining: 4m 37s\n",
            "115:\tlearn: 0.0034395\ttest: 0.0044618\tbest: 0.0044618 (115)\ttotal: 36.3s\tremaining: 4m 36s\n",
            "116:\tlearn: 0.0034314\ttest: 0.0044565\tbest: 0.0044565 (116)\ttotal: 36.6s\tremaining: 4m 36s\n",
            "117:\tlearn: 0.0034205\ttest: 0.0044505\tbest: 0.0044505 (117)\ttotal: 37s\tremaining: 4m 36s\n",
            "118:\tlearn: 0.0034139\ttest: 0.0044486\tbest: 0.0044486 (118)\ttotal: 37.3s\tremaining: 4m 35s\n",
            "119:\tlearn: 0.0034018\ttest: 0.0044478\tbest: 0.0044478 (119)\ttotal: 37.5s\tremaining: 4m 35s\n",
            "120:\tlearn: 0.0033888\ttest: 0.0044434\tbest: 0.0044434 (120)\ttotal: 37.8s\tremaining: 4m 34s\n",
            "121:\tlearn: 0.0033787\ttest: 0.0044394\tbest: 0.0044394 (121)\ttotal: 38.2s\tremaining: 4m 34s\n",
            "122:\tlearn: 0.0033696\ttest: 0.0044334\tbest: 0.0044334 (122)\ttotal: 38.4s\tremaining: 4m 34s\n",
            "123:\tlearn: 0.0033646\ttest: 0.0044296\tbest: 0.0044296 (123)\ttotal: 38.7s\tremaining: 4m 33s\n",
            "124:\tlearn: 0.0033541\ttest: 0.0044241\tbest: 0.0044241 (124)\ttotal: 39s\tremaining: 4m 32s\n",
            "125:\tlearn: 0.0033493\ttest: 0.0044213\tbest: 0.0044213 (125)\ttotal: 39.3s\tremaining: 4m 32s\n",
            "126:\tlearn: 0.0033412\ttest: 0.0044148\tbest: 0.0044148 (126)\ttotal: 39.7s\tremaining: 4m 32s\n",
            "127:\tlearn: 0.0033353\ttest: 0.0044160\tbest: 0.0044148 (126)\ttotal: 39.9s\tremaining: 4m 32s\n",
            "128:\tlearn: 0.0033304\ttest: 0.0044146\tbest: 0.0044146 (128)\ttotal: 40.2s\tremaining: 4m 31s\n",
            "129:\tlearn: 0.0033208\ttest: 0.0044080\tbest: 0.0044080 (129)\ttotal: 40.5s\tremaining: 4m 31s\n",
            "130:\tlearn: 0.0033159\ttest: 0.0044066\tbest: 0.0044066 (130)\ttotal: 40.8s\tremaining: 4m 30s\n",
            "131:\tlearn: 0.0033093\ttest: 0.0044014\tbest: 0.0044014 (131)\ttotal: 41.1s\tremaining: 4m 30s\n",
            "132:\tlearn: 0.0033002\ttest: 0.0043954\tbest: 0.0043954 (132)\ttotal: 41.3s\tremaining: 4m 29s\n",
            "133:\tlearn: 0.0032948\ttest: 0.0043918\tbest: 0.0043918 (133)\ttotal: 41.7s\tremaining: 4m 29s\n",
            "134:\tlearn: 0.0032874\ttest: 0.0043898\tbest: 0.0043898 (134)\ttotal: 41.9s\tremaining: 4m 28s\n",
            "135:\tlearn: 0.0032777\ttest: 0.0043828\tbest: 0.0043828 (135)\ttotal: 42.2s\tremaining: 4m 27s\n",
            "136:\tlearn: 0.0032708\ttest: 0.0043791\tbest: 0.0043791 (136)\ttotal: 42.5s\tremaining: 4m 27s\n",
            "137:\tlearn: 0.0032619\ttest: 0.0043749\tbest: 0.0043749 (137)\ttotal: 42.8s\tremaining: 4m 27s\n",
            "138:\tlearn: 0.0032543\ttest: 0.0043718\tbest: 0.0043718 (138)\ttotal: 43.1s\tremaining: 4m 26s\n",
            "139:\tlearn: 0.0032466\ttest: 0.0043695\tbest: 0.0043695 (139)\ttotal: 43.4s\tremaining: 4m 26s\n",
            "140:\tlearn: 0.0032405\ttest: 0.0043655\tbest: 0.0043655 (140)\ttotal: 43.7s\tremaining: 4m 25s\n",
            "141:\tlearn: 0.0032297\ttest: 0.0043589\tbest: 0.0043589 (141)\ttotal: 43.9s\tremaining: 4m 25s\n",
            "142:\tlearn: 0.0032236\ttest: 0.0043542\tbest: 0.0043542 (142)\ttotal: 44.3s\tremaining: 4m 25s\n",
            "143:\tlearn: 0.0032174\ttest: 0.0043513\tbest: 0.0043513 (143)\ttotal: 44.6s\tremaining: 4m 24s\n",
            "144:\tlearn: 0.0032071\ttest: 0.0043485\tbest: 0.0043485 (144)\ttotal: 44.9s\tremaining: 4m 24s\n",
            "145:\tlearn: 0.0032002\ttest: 0.0043432\tbest: 0.0043432 (145)\ttotal: 45.2s\tremaining: 4m 24s\n",
            "146:\tlearn: 0.0031910\ttest: 0.0043386\tbest: 0.0043386 (146)\ttotal: 45.5s\tremaining: 4m 23s\n",
            "147:\tlearn: 0.0031839\ttest: 0.0043327\tbest: 0.0043327 (147)\ttotal: 45.8s\tremaining: 4m 23s\n",
            "148:\tlearn: 0.0031738\ttest: 0.0043287\tbest: 0.0043287 (148)\ttotal: 46.1s\tremaining: 4m 23s\n",
            "149:\tlearn: 0.0031685\ttest: 0.0043275\tbest: 0.0043275 (149)\ttotal: 46.4s\tremaining: 4m 22s\n",
            "150:\tlearn: 0.0031627\ttest: 0.0043221\tbest: 0.0043221 (150)\ttotal: 46.6s\tremaining: 4m 22s\n",
            "151:\tlearn: 0.0031569\ttest: 0.0043191\tbest: 0.0043191 (151)\ttotal: 46.9s\tremaining: 4m 21s\n",
            "152:\tlearn: 0.0031507\ttest: 0.0043160\tbest: 0.0043160 (152)\ttotal: 47.2s\tremaining: 4m 21s\n",
            "153:\tlearn: 0.0031454\ttest: 0.0043154\tbest: 0.0043154 (153)\ttotal: 47.5s\tremaining: 4m 20s\n",
            "154:\tlearn: 0.0031343\ttest: 0.0043092\tbest: 0.0043092 (154)\ttotal: 47.8s\tremaining: 4m 20s\n",
            "155:\tlearn: 0.0031280\ttest: 0.0043056\tbest: 0.0043056 (155)\ttotal: 48s\tremaining: 4m 19s\n",
            "156:\tlearn: 0.0031201\ttest: 0.0043025\tbest: 0.0043025 (156)\ttotal: 48.3s\tremaining: 4m 19s\n",
            "157:\tlearn: 0.0031114\ttest: 0.0042993\tbest: 0.0042993 (157)\ttotal: 48.6s\tremaining: 4m 19s\n",
            "158:\tlearn: 0.0031062\ttest: 0.0042971\tbest: 0.0042971 (158)\ttotal: 48.9s\tremaining: 4m 18s\n",
            "159:\tlearn: 0.0031016\ttest: 0.0042940\tbest: 0.0042940 (159)\ttotal: 49.3s\tremaining: 4m 18s\n",
            "160:\tlearn: 0.0030979\ttest: 0.0042902\tbest: 0.0042902 (160)\ttotal: 49.6s\tremaining: 4m 18s\n",
            "161:\tlearn: 0.0030872\ttest: 0.0042857\tbest: 0.0042857 (161)\ttotal: 49.9s\tremaining: 4m 18s\n",
            "162:\tlearn: 0.0030817\ttest: 0.0042818\tbest: 0.0042818 (162)\ttotal: 50.2s\tremaining: 4m 17s\n",
            "163:\tlearn: 0.0030781\ttest: 0.0042796\tbest: 0.0042796 (163)\ttotal: 50.4s\tremaining: 4m 16s\n",
            "164:\tlearn: 0.0030698\ttest: 0.0042771\tbest: 0.0042771 (164)\ttotal: 50.7s\tremaining: 4m 16s\n",
            "165:\tlearn: 0.0030653\ttest: 0.0042738\tbest: 0.0042738 (165)\ttotal: 51s\tremaining: 4m 16s\n",
            "166:\tlearn: 0.0030609\ttest: 0.0042727\tbest: 0.0042727 (166)\ttotal: 51.3s\tremaining: 4m 15s\n",
            "167:\tlearn: 0.0030551\ttest: 0.0042710\tbest: 0.0042710 (167)\ttotal: 51.6s\tremaining: 4m 15s\n",
            "168:\tlearn: 0.0030473\ttest: 0.0042655\tbest: 0.0042655 (168)\ttotal: 51.9s\tremaining: 4m 15s\n",
            "169:\tlearn: 0.0030417\ttest: 0.0042657\tbest: 0.0042655 (168)\ttotal: 52.2s\tremaining: 4m 14s\n",
            "170:\tlearn: 0.0030348\ttest: 0.0042614\tbest: 0.0042614 (170)\ttotal: 52.5s\tremaining: 4m 14s\n",
            "171:\tlearn: 0.0030321\ttest: 0.0042604\tbest: 0.0042604 (171)\ttotal: 53.3s\tremaining: 4m 16s\n",
            "172:\tlearn: 0.0030275\ttest: 0.0042600\tbest: 0.0042600 (172)\ttotal: 53.6s\tremaining: 4m 16s\n",
            "173:\tlearn: 0.0030214\ttest: 0.0042576\tbest: 0.0042576 (173)\ttotal: 54.4s\tremaining: 4m 18s\n",
            "174:\tlearn: 0.0030144\ttest: 0.0042533\tbest: 0.0042533 (174)\ttotal: 54.8s\tremaining: 4m 18s\n",
            "175:\tlearn: 0.0030081\ttest: 0.0042524\tbest: 0.0042524 (175)\ttotal: 55.3s\tremaining: 4m 18s\n",
            "176:\tlearn: 0.0030019\ttest: 0.0042491\tbest: 0.0042491 (176)\ttotal: 55.8s\tremaining: 4m 19s\n",
            "177:\tlearn: 0.0029979\ttest: 0.0042465\tbest: 0.0042465 (177)\ttotal: 56.1s\tremaining: 4m 18s\n",
            "178:\tlearn: 0.0029910\ttest: 0.0042412\tbest: 0.0042412 (178)\ttotal: 56.4s\tremaining: 4m 18s\n",
            "179:\tlearn: 0.0029880\ttest: 0.0042401\tbest: 0.0042401 (179)\ttotal: 56.7s\tremaining: 4m 18s\n",
            "180:\tlearn: 0.0029814\ttest: 0.0042365\tbest: 0.0042365 (180)\ttotal: 57s\tremaining: 4m 18s\n",
            "181:\tlearn: 0.0029763\ttest: 0.0042334\tbest: 0.0042334 (181)\ttotal: 57.3s\tremaining: 4m 17s\n",
            "182:\tlearn: 0.0029706\ttest: 0.0042299\tbest: 0.0042299 (182)\ttotal: 57.6s\tremaining: 4m 17s\n",
            "183:\tlearn: 0.0029678\ttest: 0.0042290\tbest: 0.0042290 (183)\ttotal: 57.9s\tremaining: 4m 16s\n",
            "184:\tlearn: 0.0029627\ttest: 0.0042295\tbest: 0.0042290 (183)\ttotal: 58.1s\tremaining: 4m 16s\n",
            "185:\tlearn: 0.0029567\ttest: 0.0042266\tbest: 0.0042266 (185)\ttotal: 58.4s\tremaining: 4m 15s\n",
            "186:\tlearn: 0.0029514\ttest: 0.0042251\tbest: 0.0042251 (186)\ttotal: 58.7s\tremaining: 4m 15s\n",
            "187:\tlearn: 0.0029451\ttest: 0.0042205\tbest: 0.0042205 (187)\ttotal: 59s\tremaining: 4m 14s\n",
            "188:\tlearn: 0.0029381\ttest: 0.0042168\tbest: 0.0042168 (188)\ttotal: 59.3s\tremaining: 4m 14s\n",
            "189:\tlearn: 0.0029331\ttest: 0.0042140\tbest: 0.0042140 (189)\ttotal: 59.6s\tremaining: 4m 14s\n",
            "190:\tlearn: 0.0029290\ttest: 0.0042114\tbest: 0.0042114 (190)\ttotal: 59.9s\tremaining: 4m 13s\n",
            "191:\tlearn: 0.0029224\ttest: 0.0042102\tbest: 0.0042102 (191)\ttotal: 1m\tremaining: 4m 13s\n",
            "192:\tlearn: 0.0029173\ttest: 0.0042077\tbest: 0.0042077 (192)\ttotal: 1m\tremaining: 4m 12s\n",
            "193:\tlearn: 0.0029123\ttest: 0.0042043\tbest: 0.0042043 (193)\ttotal: 1m\tremaining: 4m 12s\n",
            "194:\tlearn: 0.0029051\ttest: 0.0042003\tbest: 0.0042003 (194)\ttotal: 1m 1s\tremaining: 4m 11s\n",
            "195:\tlearn: 0.0028979\ttest: 0.0041981\tbest: 0.0041981 (195)\ttotal: 1m 1s\tremaining: 4m 11s\n",
            "196:\tlearn: 0.0028924\ttest: 0.0041944\tbest: 0.0041944 (196)\ttotal: 1m 1s\tremaining: 4m 11s\n",
            "197:\tlearn: 0.0028889\ttest: 0.0041936\tbest: 0.0041936 (197)\ttotal: 1m 1s\tremaining: 4m 10s\n",
            "198:\tlearn: 0.0028817\ttest: 0.0041919\tbest: 0.0041919 (198)\ttotal: 1m 2s\tremaining: 4m 10s\n",
            "199:\tlearn: 0.0028730\ttest: 0.0041896\tbest: 0.0041896 (199)\ttotal: 1m 2s\tremaining: 4m 9s\n",
            "200:\tlearn: 0.0028659\ttest: 0.0041847\tbest: 0.0041847 (200)\ttotal: 1m 2s\tremaining: 4m 9s\n",
            "201:\tlearn: 0.0028618\ttest: 0.0041815\tbest: 0.0041815 (201)\ttotal: 1m 3s\tremaining: 4m 9s\n",
            "202:\tlearn: 0.0028553\ttest: 0.0041795\tbest: 0.0041795 (202)\ttotal: 1m 3s\tremaining: 4m 8s\n",
            "203:\tlearn: 0.0028501\ttest: 0.0041780\tbest: 0.0041780 (203)\ttotal: 1m 3s\tremaining: 4m 8s\n",
            "204:\tlearn: 0.0028476\ttest: 0.0041777\tbest: 0.0041777 (204)\ttotal: 1m 3s\tremaining: 4m 7s\n",
            "205:\tlearn: 0.0028440\ttest: 0.0041752\tbest: 0.0041752 (205)\ttotal: 1m 4s\tremaining: 4m 7s\n",
            "206:\tlearn: 0.0028396\ttest: 0.0041721\tbest: 0.0041721 (206)\ttotal: 1m 4s\tremaining: 4m 7s\n",
            "207:\tlearn: 0.0028312\ttest: 0.0041686\tbest: 0.0041686 (207)\ttotal: 1m 4s\tremaining: 4m 6s\n",
            "208:\tlearn: 0.0028285\ttest: 0.0041721\tbest: 0.0041686 (207)\ttotal: 1m 5s\tremaining: 4m 6s\n",
            "209:\tlearn: 0.0028211\ttest: 0.0041683\tbest: 0.0041683 (209)\ttotal: 1m 5s\tremaining: 4m 5s\n",
            "210:\tlearn: 0.0028151\ttest: 0.0041658\tbest: 0.0041658 (210)\ttotal: 1m 5s\tremaining: 4m 5s\n",
            "211:\tlearn: 0.0028111\ttest: 0.0041647\tbest: 0.0041647 (211)\ttotal: 1m 5s\tremaining: 4m 5s\n",
            "212:\tlearn: 0.0028065\ttest: 0.0041654\tbest: 0.0041647 (211)\ttotal: 1m 6s\tremaining: 4m 4s\n",
            "213:\tlearn: 0.0028005\ttest: 0.0041610\tbest: 0.0041610 (213)\ttotal: 1m 6s\tremaining: 4m 4s\n",
            "214:\tlearn: 0.0027942\ttest: 0.0041576\tbest: 0.0041576 (214)\ttotal: 1m 6s\tremaining: 4m 4s\n",
            "215:\tlearn: 0.0027867\ttest: 0.0041553\tbest: 0.0041553 (215)\ttotal: 1m 7s\tremaining: 4m 3s\n",
            "216:\tlearn: 0.0027814\ttest: 0.0041545\tbest: 0.0041545 (216)\ttotal: 1m 7s\tremaining: 4m 3s\n",
            "217:\tlearn: 0.0027797\ttest: 0.0041545\tbest: 0.0041545 (217)\ttotal: 1m 7s\tremaining: 4m 2s\n",
            "218:\tlearn: 0.0027761\ttest: 0.0041531\tbest: 0.0041531 (218)\ttotal: 1m 7s\tremaining: 4m 2s\n",
            "219:\tlearn: 0.0027725\ttest: 0.0041524\tbest: 0.0041524 (219)\ttotal: 1m 8s\tremaining: 4m 1s\n",
            "220:\tlearn: 0.0027674\ttest: 0.0041490\tbest: 0.0041490 (220)\ttotal: 1m 8s\tremaining: 4m 1s\n",
            "221:\tlearn: 0.0027635\ttest: 0.0041471\tbest: 0.0041471 (221)\ttotal: 1m 8s\tremaining: 4m 1s\n",
            "222:\tlearn: 0.0027585\ttest: 0.0041440\tbest: 0.0041440 (222)\ttotal: 1m 9s\tremaining: 4m\n",
            "223:\tlearn: 0.0027555\ttest: 0.0041406\tbest: 0.0041406 (223)\ttotal: 1m 9s\tremaining: 4m\n",
            "224:\tlearn: 0.0027517\ttest: 0.0041394\tbest: 0.0041394 (224)\ttotal: 1m 9s\tremaining: 3m 59s\n",
            "225:\tlearn: 0.0027475\ttest: 0.0041379\tbest: 0.0041379 (225)\ttotal: 1m 9s\tremaining: 3m 59s\n",
            "226:\tlearn: 0.0027452\ttest: 0.0041368\tbest: 0.0041368 (226)\ttotal: 1m 10s\tremaining: 3m 59s\n",
            "227:\tlearn: 0.0027402\ttest: 0.0041330\tbest: 0.0041330 (227)\ttotal: 1m 10s\tremaining: 3m 59s\n",
            "228:\tlearn: 0.0027348\ttest: 0.0041318\tbest: 0.0041318 (228)\ttotal: 1m 10s\tremaining: 3m 58s\n",
            "229:\tlearn: 0.0027313\ttest: 0.0041297\tbest: 0.0041297 (229)\ttotal: 1m 11s\tremaining: 3m 58s\n",
            "230:\tlearn: 0.0027256\ttest: 0.0041271\tbest: 0.0041271 (230)\ttotal: 1m 11s\tremaining: 3m 57s\n",
            "231:\tlearn: 0.0027180\ttest: 0.0041238\tbest: 0.0041238 (231)\ttotal: 1m 11s\tremaining: 3m 57s\n",
            "232:\tlearn: 0.0027146\ttest: 0.0041227\tbest: 0.0041227 (232)\ttotal: 1m 12s\tremaining: 3m 57s\n",
            "233:\tlearn: 0.0027103\ttest: 0.0041207\tbest: 0.0041207 (233)\ttotal: 1m 12s\tremaining: 3m 57s\n",
            "234:\tlearn: 0.0027064\ttest: 0.0041190\tbest: 0.0041190 (234)\ttotal: 1m 12s\tremaining: 3m 56s\n",
            "235:\tlearn: 0.0027034\ttest: 0.0041189\tbest: 0.0041189 (235)\ttotal: 1m 13s\tremaining: 3m 56s\n",
            "236:\tlearn: 0.0026988\ttest: 0.0041155\tbest: 0.0041155 (236)\ttotal: 1m 13s\tremaining: 3m 56s\n",
            "237:\tlearn: 0.0026966\ttest: 0.0041146\tbest: 0.0041146 (237)\ttotal: 1m 13s\tremaining: 3m 55s\n",
            "238:\tlearn: 0.0026913\ttest: 0.0041133\tbest: 0.0041133 (238)\ttotal: 1m 13s\tremaining: 3m 55s\n",
            "239:\tlearn: 0.0026861\ttest: 0.0041128\tbest: 0.0041128 (239)\ttotal: 1m 14s\tremaining: 3m 55s\n",
            "240:\tlearn: 0.0026813\ttest: 0.0041106\tbest: 0.0041106 (240)\ttotal: 1m 14s\tremaining: 3m 55s\n",
            "241:\tlearn: 0.0026785\ttest: 0.0041094\tbest: 0.0041094 (241)\ttotal: 1m 14s\tremaining: 3m 54s\n",
            "242:\tlearn: 0.0026752\ttest: 0.0041083\tbest: 0.0041083 (242)\ttotal: 1m 15s\tremaining: 3m 54s\n",
            "243:\tlearn: 0.0026715\ttest: 0.0041069\tbest: 0.0041069 (243)\ttotal: 1m 15s\tremaining: 3m 54s\n",
            "244:\tlearn: 0.0026682\ttest: 0.0041048\tbest: 0.0041048 (244)\ttotal: 1m 15s\tremaining: 3m 53s\n",
            "245:\tlearn: 0.0026626\ttest: 0.0041025\tbest: 0.0041025 (245)\ttotal: 1m 16s\tremaining: 3m 53s\n",
            "246:\tlearn: 0.0026605\ttest: 0.0041020\tbest: 0.0041020 (246)\ttotal: 1m 16s\tremaining: 3m 53s\n",
            "247:\tlearn: 0.0026547\ttest: 0.0041006\tbest: 0.0041006 (247)\ttotal: 1m 16s\tremaining: 3m 53s\n",
            "248:\tlearn: 0.0026514\ttest: 0.0040988\tbest: 0.0040988 (248)\ttotal: 1m 17s\tremaining: 3m 52s\n",
            "249:\tlearn: 0.0026458\ttest: 0.0040971\tbest: 0.0040971 (249)\ttotal: 1m 17s\tremaining: 3m 52s\n",
            "250:\tlearn: 0.0026413\ttest: 0.0040953\tbest: 0.0040953 (250)\ttotal: 1m 17s\tremaining: 3m 52s\n",
            "251:\tlearn: 0.0026374\ttest: 0.0040935\tbest: 0.0040935 (251)\ttotal: 1m 18s\tremaining: 3m 51s\n",
            "252:\tlearn: 0.0026334\ttest: 0.0040922\tbest: 0.0040922 (252)\ttotal: 1m 18s\tremaining: 3m 51s\n",
            "253:\tlearn: 0.0026280\ttest: 0.0040885\tbest: 0.0040885 (253)\ttotal: 1m 18s\tremaining: 3m 50s\n",
            "254:\tlearn: 0.0026247\ttest: 0.0040876\tbest: 0.0040876 (254)\ttotal: 1m 18s\tremaining: 3m 50s\n",
            "255:\tlearn: 0.0026209\ttest: 0.0040870\tbest: 0.0040870 (255)\ttotal: 1m 19s\tremaining: 3m 49s\n",
            "256:\tlearn: 0.0026178\ttest: 0.0040866\tbest: 0.0040866 (256)\ttotal: 1m 19s\tremaining: 3m 49s\n",
            "257:\tlearn: 0.0026145\ttest: 0.0040853\tbest: 0.0040853 (257)\ttotal: 1m 19s\tremaining: 3m 49s\n",
            "258:\tlearn: 0.0026103\ttest: 0.0040835\tbest: 0.0040835 (258)\ttotal: 1m 20s\tremaining: 3m 48s\n",
            "259:\tlearn: 0.0026062\ttest: 0.0040809\tbest: 0.0040809 (259)\ttotal: 1m 20s\tremaining: 3m 48s\n",
            "260:\tlearn: 0.0026003\ttest: 0.0040801\tbest: 0.0040801 (260)\ttotal: 1m 20s\tremaining: 3m 48s\n",
            "261:\tlearn: 0.0025954\ttest: 0.0040784\tbest: 0.0040784 (261)\ttotal: 1m 20s\tremaining: 3m 47s\n",
            "262:\tlearn: 0.0025908\ttest: 0.0040783\tbest: 0.0040783 (262)\ttotal: 1m 21s\tremaining: 3m 47s\n",
            "263:\tlearn: 0.0025877\ttest: 0.0040761\tbest: 0.0040761 (263)\ttotal: 1m 21s\tremaining: 3m 47s\n",
            "264:\tlearn: 0.0025856\ttest: 0.0040753\tbest: 0.0040753 (264)\ttotal: 1m 21s\tremaining: 3m 46s\n",
            "265:\tlearn: 0.0025823\ttest: 0.0040750\tbest: 0.0040750 (265)\ttotal: 1m 22s\tremaining: 3m 46s\n",
            "266:\tlearn: 0.0025808\ttest: 0.0040751\tbest: 0.0040750 (265)\ttotal: 1m 22s\tremaining: 3m 46s\n",
            "267:\tlearn: 0.0025768\ttest: 0.0040730\tbest: 0.0040730 (267)\ttotal: 1m 22s\tremaining: 3m 45s\n",
            "268:\tlearn: 0.0025720\ttest: 0.0040710\tbest: 0.0040710 (268)\ttotal: 1m 22s\tremaining: 3m 45s\n",
            "269:\tlearn: 0.0025691\ttest: 0.0040696\tbest: 0.0040696 (269)\ttotal: 1m 23s\tremaining: 3m 44s\n",
            "270:\tlearn: 0.0025659\ttest: 0.0040680\tbest: 0.0040680 (270)\ttotal: 1m 23s\tremaining: 3m 44s\n",
            "271:\tlearn: 0.0025624\ttest: 0.0040659\tbest: 0.0040659 (271)\ttotal: 1m 23s\tremaining: 3m 44s\n",
            "272:\tlearn: 0.0025593\ttest: 0.0040645\tbest: 0.0040645 (272)\ttotal: 1m 24s\tremaining: 3m 44s\n",
            "273:\tlearn: 0.0025557\ttest: 0.0040626\tbest: 0.0040626 (273)\ttotal: 1m 24s\tremaining: 3m 43s\n",
            "274:\tlearn: 0.0025505\ttest: 0.0040612\tbest: 0.0040612 (274)\ttotal: 1m 24s\tremaining: 3m 43s\n",
            "275:\tlearn: 0.0025475\ttest: 0.0040590\tbest: 0.0040590 (275)\ttotal: 1m 25s\tremaining: 3m 43s\n",
            "276:\tlearn: 0.0025437\ttest: 0.0040574\tbest: 0.0040574 (276)\ttotal: 1m 25s\tremaining: 3m 42s\n",
            "277:\tlearn: 0.0025398\ttest: 0.0040563\tbest: 0.0040563 (277)\ttotal: 1m 25s\tremaining: 3m 42s\n",
            "278:\tlearn: 0.0025353\ttest: 0.0040547\tbest: 0.0040547 (278)\ttotal: 1m 25s\tremaining: 3m 42s\n",
            "279:\tlearn: 0.0025319\ttest: 0.0040528\tbest: 0.0040528 (279)\ttotal: 1m 26s\tremaining: 3m 41s\n",
            "280:\tlearn: 0.0025289\ttest: 0.0040504\tbest: 0.0040504 (280)\ttotal: 1m 26s\tremaining: 3m 42s\n",
            "281:\tlearn: 0.0025263\ttest: 0.0040505\tbest: 0.0040504 (280)\ttotal: 1m 27s\tremaining: 3m 42s\n",
            "282:\tlearn: 0.0025230\ttest: 0.0040499\tbest: 0.0040499 (282)\ttotal: 1m 27s\tremaining: 3m 42s\n",
            "283:\tlearn: 0.0025199\ttest: 0.0040512\tbest: 0.0040499 (282)\ttotal: 1m 28s\tremaining: 3m 43s\n",
            "284:\tlearn: 0.0025155\ttest: 0.0040504\tbest: 0.0040499 (282)\ttotal: 1m 28s\tremaining: 3m 42s\n",
            "285:\tlearn: 0.0025128\ttest: 0.0040494\tbest: 0.0040494 (285)\ttotal: 1m 29s\tremaining: 3m 42s\n",
            "286:\tlearn: 0.0025099\ttest: 0.0040483\tbest: 0.0040483 (286)\ttotal: 1m 29s\tremaining: 3m 43s\n",
            "287:\tlearn: 0.0025050\ttest: 0.0040453\tbest: 0.0040453 (287)\ttotal: 1m 30s\tremaining: 3m 42s\n",
            "288:\tlearn: 0.0025019\ttest: 0.0040451\tbest: 0.0040451 (288)\ttotal: 1m 30s\tremaining: 3m 42s\n",
            "289:\tlearn: 0.0024980\ttest: 0.0040424\tbest: 0.0040424 (289)\ttotal: 1m 30s\tremaining: 3m 42s\n",
            "290:\tlearn: 0.0024948\ttest: 0.0040399\tbest: 0.0040399 (290)\ttotal: 1m 31s\tremaining: 3m 42s\n",
            "291:\tlearn: 0.0024911\ttest: 0.0040393\tbest: 0.0040393 (291)\ttotal: 1m 31s\tremaining: 3m 41s\n",
            "292:\tlearn: 0.0024867\ttest: 0.0040369\tbest: 0.0040369 (292)\ttotal: 1m 31s\tremaining: 3m 41s\n",
            "293:\tlearn: 0.0024826\ttest: 0.0040354\tbest: 0.0040354 (293)\ttotal: 1m 32s\tremaining: 3m 41s\n",
            "294:\tlearn: 0.0024788\ttest: 0.0040351\tbest: 0.0040351 (294)\ttotal: 1m 32s\tremaining: 3m 40s\n",
            "295:\tlearn: 0.0024746\ttest: 0.0040331\tbest: 0.0040331 (295)\ttotal: 1m 32s\tremaining: 3m 40s\n",
            "296:\tlearn: 0.0024712\ttest: 0.0040309\tbest: 0.0040309 (296)\ttotal: 1m 32s\tremaining: 3m 39s\n",
            "297:\tlearn: 0.0024686\ttest: 0.0040281\tbest: 0.0040281 (297)\ttotal: 1m 33s\tremaining: 3m 39s\n",
            "298:\tlearn: 0.0024667\ttest: 0.0040277\tbest: 0.0040277 (298)\ttotal: 1m 33s\tremaining: 3m 39s\n",
            "299:\tlearn: 0.0024622\ttest: 0.0040271\tbest: 0.0040271 (299)\ttotal: 1m 33s\tremaining: 3m 38s\n",
            "300:\tlearn: 0.0024596\ttest: 0.0040264\tbest: 0.0040264 (300)\ttotal: 1m 34s\tremaining: 3m 38s\n",
            "301:\tlearn: 0.0024543\ttest: 0.0040249\tbest: 0.0040249 (301)\ttotal: 1m 34s\tremaining: 3m 38s\n",
            "302:\tlearn: 0.0024526\ttest: 0.0040247\tbest: 0.0040247 (302)\ttotal: 1m 34s\tremaining: 3m 37s\n",
            "303:\tlearn: 0.0024477\ttest: 0.0040225\tbest: 0.0040225 (303)\ttotal: 1m 35s\tremaining: 3m 37s\n",
            "304:\tlearn: 0.0024458\ttest: 0.0040218\tbest: 0.0040218 (304)\ttotal: 1m 35s\tremaining: 3m 37s\n",
            "305:\tlearn: 0.0024415\ttest: 0.0040205\tbest: 0.0040205 (305)\ttotal: 1m 35s\tremaining: 3m 36s\n",
            "306:\tlearn: 0.0024374\ttest: 0.0040196\tbest: 0.0040196 (306)\ttotal: 1m 35s\tremaining: 3m 36s\n",
            "307:\tlearn: 0.0024354\ttest: 0.0040181\tbest: 0.0040181 (307)\ttotal: 1m 36s\tremaining: 3m 36s\n",
            "308:\tlearn: 0.0024331\ttest: 0.0040166\tbest: 0.0040166 (308)\ttotal: 1m 36s\tremaining: 3m 35s\n",
            "309:\tlearn: 0.0024316\ttest: 0.0040159\tbest: 0.0040159 (309)\ttotal: 1m 36s\tremaining: 3m 35s\n",
            "310:\tlearn: 0.0024282\ttest: 0.0040147\tbest: 0.0040147 (310)\ttotal: 1m 37s\tremaining: 3m 35s\n",
            "311:\tlearn: 0.0024220\ttest: 0.0040118\tbest: 0.0040118 (311)\ttotal: 1m 37s\tremaining: 3m 34s\n",
            "312:\tlearn: 0.0024194\ttest: 0.0040111\tbest: 0.0040111 (312)\ttotal: 1m 37s\tremaining: 3m 34s\n",
            "313:\tlearn: 0.0024171\ttest: 0.0040086\tbest: 0.0040086 (313)\ttotal: 1m 38s\tremaining: 3m 34s\n",
            "314:\tlearn: 0.0024151\ttest: 0.0040087\tbest: 0.0040086 (313)\ttotal: 1m 38s\tremaining: 3m 33s\n",
            "315:\tlearn: 0.0024126\ttest: 0.0040076\tbest: 0.0040076 (315)\ttotal: 1m 38s\tremaining: 3m 33s\n",
            "316:\tlearn: 0.0024110\ttest: 0.0040072\tbest: 0.0040072 (316)\ttotal: 1m 38s\tremaining: 3m 33s\n",
            "317:\tlearn: 0.0024093\ttest: 0.0040073\tbest: 0.0040072 (316)\ttotal: 1m 39s\tremaining: 3m 32s\n",
            "318:\tlearn: 0.0024068\ttest: 0.0040061\tbest: 0.0040061 (318)\ttotal: 1m 39s\tremaining: 3m 32s\n",
            "319:\tlearn: 0.0024037\ttest: 0.0040041\tbest: 0.0040041 (319)\ttotal: 1m 39s\tremaining: 3m 32s\n",
            "320:\tlearn: 0.0024013\ttest: 0.0040041\tbest: 0.0040041 (320)\ttotal: 1m 40s\tremaining: 3m 32s\n",
            "321:\tlearn: 0.0023989\ttest: 0.0040031\tbest: 0.0040031 (321)\ttotal: 1m 40s\tremaining: 3m 31s\n",
            "322:\tlearn: 0.0023951\ttest: 0.0040015\tbest: 0.0040015 (322)\ttotal: 1m 40s\tremaining: 3m 31s\n",
            "323:\tlearn: 0.0023917\ttest: 0.0039999\tbest: 0.0039999 (323)\ttotal: 1m 41s\tremaining: 3m 31s\n",
            "324:\tlearn: 0.0023902\ttest: 0.0039996\tbest: 0.0039996 (324)\ttotal: 1m 41s\tremaining: 3m 30s\n",
            "325:\tlearn: 0.0023873\ttest: 0.0040002\tbest: 0.0039996 (324)\ttotal: 1m 41s\tremaining: 3m 30s\n",
            "326:\tlearn: 0.0023855\ttest: 0.0040002\tbest: 0.0039996 (324)\ttotal: 1m 41s\tremaining: 3m 29s\n",
            "327:\tlearn: 0.0023819\ttest: 0.0039998\tbest: 0.0039996 (324)\ttotal: 1m 42s\tremaining: 3m 29s\n",
            "328:\tlearn: 0.0023764\ttest: 0.0039980\tbest: 0.0039980 (328)\ttotal: 1m 42s\tremaining: 3m 29s\n",
            "329:\tlearn: 0.0023742\ttest: 0.0039988\tbest: 0.0039980 (328)\ttotal: 1m 42s\tremaining: 3m 28s\n",
            "330:\tlearn: 0.0023684\ttest: 0.0039982\tbest: 0.0039980 (328)\ttotal: 1m 43s\tremaining: 3m 28s\n",
            "331:\tlearn: 0.0023645\ttest: 0.0039965\tbest: 0.0039965 (331)\ttotal: 1m 43s\tremaining: 3m 28s\n",
            "332:\tlearn: 0.0023626\ttest: 0.0039955\tbest: 0.0039955 (332)\ttotal: 1m 43s\tremaining: 3m 27s\n",
            "333:\tlearn: 0.0023599\ttest: 0.0039936\tbest: 0.0039936 (333)\ttotal: 1m 43s\tremaining: 3m 27s\n",
            "334:\tlearn: 0.0023576\ttest: 0.0039921\tbest: 0.0039921 (334)\ttotal: 1m 44s\tremaining: 3m 27s\n",
            "335:\tlearn: 0.0023539\ttest: 0.0039909\tbest: 0.0039909 (335)\ttotal: 1m 44s\tremaining: 3m 26s\n",
            "336:\tlearn: 0.0023484\ttest: 0.0039884\tbest: 0.0039884 (336)\ttotal: 1m 44s\tremaining: 3m 26s\n",
            "337:\tlearn: 0.0023435\ttest: 0.0039869\tbest: 0.0039869 (337)\ttotal: 1m 45s\tremaining: 3m 25s\n",
            "338:\tlearn: 0.0023393\ttest: 0.0039851\tbest: 0.0039851 (338)\ttotal: 1m 45s\tremaining: 3m 25s\n",
            "339:\tlearn: 0.0023361\ttest: 0.0039850\tbest: 0.0039850 (339)\ttotal: 1m 45s\tremaining: 3m 25s\n",
            "340:\tlearn: 0.0023317\ttest: 0.0039828\tbest: 0.0039828 (340)\ttotal: 1m 46s\tremaining: 3m 24s\n",
            "341:\tlearn: 0.0023296\ttest: 0.0039832\tbest: 0.0039828 (340)\ttotal: 1m 46s\tremaining: 3m 24s\n",
            "342:\tlearn: 0.0023276\ttest: 0.0039821\tbest: 0.0039821 (342)\ttotal: 1m 46s\tremaining: 3m 24s\n",
            "343:\tlearn: 0.0023259\ttest: 0.0039813\tbest: 0.0039813 (343)\ttotal: 1m 46s\tremaining: 3m 23s\n",
            "344:\tlearn: 0.0023236\ttest: 0.0039789\tbest: 0.0039789 (344)\ttotal: 1m 47s\tremaining: 3m 23s\n",
            "345:\tlearn: 0.0023202\ttest: 0.0039768\tbest: 0.0039768 (345)\ttotal: 1m 47s\tremaining: 3m 23s\n",
            "346:\tlearn: 0.0023163\ttest: 0.0039756\tbest: 0.0039756 (346)\ttotal: 1m 47s\tremaining: 3m 22s\n",
            "347:\tlearn: 0.0023142\ttest: 0.0039753\tbest: 0.0039753 (347)\ttotal: 1m 48s\tremaining: 3m 22s\n",
            "348:\tlearn: 0.0023119\ttest: 0.0039745\tbest: 0.0039745 (348)\ttotal: 1m 48s\tremaining: 3m 22s\n",
            "349:\tlearn: 0.0023074\ttest: 0.0039736\tbest: 0.0039736 (349)\ttotal: 1m 48s\tremaining: 3m 21s\n",
            "350:\tlearn: 0.0023054\ttest: 0.0039730\tbest: 0.0039730 (350)\ttotal: 1m 48s\tremaining: 3m 21s\n",
            "351:\tlearn: 0.0023012\ttest: 0.0039706\tbest: 0.0039706 (351)\ttotal: 1m 49s\tremaining: 3m 21s\n",
            "352:\tlearn: 0.0022981\ttest: 0.0039689\tbest: 0.0039689 (352)\ttotal: 1m 49s\tremaining: 3m 20s\n",
            "353:\tlearn: 0.0022952\ttest: 0.0039682\tbest: 0.0039682 (353)\ttotal: 1m 49s\tremaining: 3m 20s\n",
            "354:\tlearn: 0.0022929\ttest: 0.0039670\tbest: 0.0039670 (354)\ttotal: 1m 50s\tremaining: 3m 20s\n",
            "355:\tlearn: 0.0022905\ttest: 0.0039671\tbest: 0.0039670 (354)\ttotal: 1m 50s\tremaining: 3m 19s\n",
            "356:\tlearn: 0.0022884\ttest: 0.0039673\tbest: 0.0039670 (354)\ttotal: 1m 50s\tremaining: 3m 19s\n",
            "357:\tlearn: 0.0022862\ttest: 0.0039655\tbest: 0.0039655 (357)\ttotal: 1m 51s\tremaining: 3m 19s\n",
            "358:\tlearn: 0.0022823\ttest: 0.0039636\tbest: 0.0039636 (358)\ttotal: 1m 51s\tremaining: 3m 18s\n",
            "359:\tlearn: 0.0022798\ttest: 0.0039637\tbest: 0.0039636 (358)\ttotal: 1m 51s\tremaining: 3m 18s\n",
            "360:\tlearn: 0.0022775\ttest: 0.0039637\tbest: 0.0039636 (358)\ttotal: 1m 51s\tremaining: 3m 18s\n",
            "361:\tlearn: 0.0022744\ttest: 0.0039613\tbest: 0.0039613 (361)\ttotal: 1m 52s\tremaining: 3m 17s\n",
            "362:\tlearn: 0.0022715\ttest: 0.0039607\tbest: 0.0039607 (362)\ttotal: 1m 52s\tremaining: 3m 17s\n",
            "363:\tlearn: 0.0022679\ttest: 0.0039589\tbest: 0.0039589 (363)\ttotal: 1m 52s\tremaining: 3m 17s\n",
            "364:\tlearn: 0.0022658\ttest: 0.0039569\tbest: 0.0039569 (364)\ttotal: 1m 53s\tremaining: 3m 16s\n",
            "365:\tlearn: 0.0022622\ttest: 0.0039564\tbest: 0.0039564 (365)\ttotal: 1m 53s\tremaining: 3m 16s\n",
            "366:\tlearn: 0.0022600\ttest: 0.0039553\tbest: 0.0039553 (366)\ttotal: 1m 53s\tremaining: 3m 16s\n",
            "367:\tlearn: 0.0022571\ttest: 0.0039546\tbest: 0.0039546 (367)\ttotal: 1m 54s\tremaining: 3m 15s\n",
            "368:\tlearn: 0.0022523\ttest: 0.0039543\tbest: 0.0039543 (368)\ttotal: 1m 54s\tremaining: 3m 15s\n",
            "369:\tlearn: 0.0022492\ttest: 0.0039510\tbest: 0.0039510 (369)\ttotal: 1m 54s\tremaining: 3m 15s\n",
            "370:\tlearn: 0.0022456\ttest: 0.0039500\tbest: 0.0039500 (370)\ttotal: 1m 54s\tremaining: 3m 14s\n",
            "371:\tlearn: 0.0022429\ttest: 0.0039498\tbest: 0.0039498 (371)\ttotal: 1m 55s\tremaining: 3m 14s\n",
            "372:\tlearn: 0.0022410\ttest: 0.0039492\tbest: 0.0039492 (372)\ttotal: 1m 55s\tremaining: 3m 14s\n",
            "373:\tlearn: 0.0022375\ttest: 0.0039483\tbest: 0.0039483 (373)\ttotal: 1m 55s\tremaining: 3m 13s\n",
            "374:\tlearn: 0.0022349\ttest: 0.0039465\tbest: 0.0039465 (374)\ttotal: 1m 56s\tremaining: 3m 13s\n",
            "375:\tlearn: 0.0022324\ttest: 0.0039461\tbest: 0.0039461 (375)\ttotal: 1m 56s\tremaining: 3m 13s\n",
            "376:\tlearn: 0.0022310\ttest: 0.0039462\tbest: 0.0039461 (375)\ttotal: 1m 56s\tremaining: 3m 12s\n",
            "377:\tlearn: 0.0022284\ttest: 0.0039464\tbest: 0.0039461 (375)\ttotal: 1m 57s\tremaining: 3m 12s\n",
            "378:\tlearn: 0.0022262\ttest: 0.0039466\tbest: 0.0039461 (375)\ttotal: 1m 57s\tremaining: 3m 12s\n",
            "379:\tlearn: 0.0022240\ttest: 0.0039442\tbest: 0.0039442 (379)\ttotal: 1m 57s\tremaining: 3m 12s\n",
            "380:\tlearn: 0.0022208\ttest: 0.0039426\tbest: 0.0039426 (380)\ttotal: 1m 58s\tremaining: 3m 11s\n",
            "381:\tlearn: 0.0022176\ttest: 0.0039380\tbest: 0.0039380 (381)\ttotal: 1m 58s\tremaining: 3m 11s\n",
            "382:\tlearn: 0.0022152\ttest: 0.0039375\tbest: 0.0039375 (382)\ttotal: 1m 58s\tremaining: 3m 11s\n",
            "383:\tlearn: 0.0022128\ttest: 0.0039365\tbest: 0.0039365 (383)\ttotal: 1m 58s\tremaining: 3m 10s\n",
            "384:\tlearn: 0.0022116\ttest: 0.0039357\tbest: 0.0039357 (384)\ttotal: 1m 59s\tremaining: 3m 10s\n",
            "385:\tlearn: 0.0022068\ttest: 0.0039350\tbest: 0.0039350 (385)\ttotal: 1m 59s\tremaining: 3m 10s\n",
            "386:\tlearn: 0.0022053\ttest: 0.0039353\tbest: 0.0039350 (385)\ttotal: 1m 59s\tremaining: 3m 9s\n",
            "387:\tlearn: 0.0022024\ttest: 0.0039354\tbest: 0.0039350 (385)\ttotal: 2m\tremaining: 3m 9s\n",
            "388:\tlearn: 0.0021998\ttest: 0.0039355\tbest: 0.0039350 (385)\ttotal: 2m\tremaining: 3m 9s\n",
            "389:\tlearn: 0.0021970\ttest: 0.0039356\tbest: 0.0039350 (385)\ttotal: 2m\tremaining: 3m 8s\n",
            "390:\tlearn: 0.0021951\ttest: 0.0039350\tbest: 0.0039350 (390)\ttotal: 2m 1s\tremaining: 3m 8s\n",
            "391:\tlearn: 0.0021920\ttest: 0.0039334\tbest: 0.0039334 (391)\ttotal: 2m 1s\tremaining: 3m 8s\n",
            "392:\tlearn: 0.0021896\ttest: 0.0039329\tbest: 0.0039329 (392)\ttotal: 2m 1s\tremaining: 3m 8s\n",
            "393:\tlearn: 0.0021874\ttest: 0.0039320\tbest: 0.0039320 (393)\ttotal: 2m 2s\tremaining: 3m 7s\n",
            "394:\tlearn: 0.0021854\ttest: 0.0039302\tbest: 0.0039302 (394)\ttotal: 2m 2s\tremaining: 3m 7s\n",
            "395:\tlearn: 0.0021831\ttest: 0.0039298\tbest: 0.0039298 (395)\ttotal: 2m 2s\tremaining: 3m 7s\n",
            "396:\tlearn: 0.0021786\ttest: 0.0039280\tbest: 0.0039280 (396)\ttotal: 2m 3s\tremaining: 3m 6s\n",
            "397:\tlearn: 0.0021768\ttest: 0.0039281\tbest: 0.0039280 (396)\ttotal: 2m 3s\tremaining: 3m 6s\n",
            "398:\tlearn: 0.0021749\ttest: 0.0039280\tbest: 0.0039280 (396)\ttotal: 2m 3s\tremaining: 3m 6s\n",
            "399:\tlearn: 0.0021722\ttest: 0.0039273\tbest: 0.0039273 (399)\ttotal: 2m 3s\tremaining: 3m 5s\n",
            "400:\tlearn: 0.0021711\ttest: 0.0039274\tbest: 0.0039273 (399)\ttotal: 2m 4s\tremaining: 3m 5s\n",
            "401:\tlearn: 0.0021687\ttest: 0.0039269\tbest: 0.0039269 (401)\ttotal: 2m 4s\tremaining: 3m 5s\n",
            "402:\tlearn: 0.0021666\ttest: 0.0039253\tbest: 0.0039253 (402)\ttotal: 2m 4s\tremaining: 3m 4s\n",
            "403:\tlearn: 0.0021619\ttest: 0.0039252\tbest: 0.0039252 (403)\ttotal: 2m 4s\tremaining: 3m 4s\n",
            "404:\tlearn: 0.0021601\ttest: 0.0039241\tbest: 0.0039241 (404)\ttotal: 2m 5s\tremaining: 3m 4s\n",
            "405:\tlearn: 0.0021589\ttest: 0.0039242\tbest: 0.0039241 (404)\ttotal: 2m 5s\tremaining: 3m 3s\n",
            "406:\tlearn: 0.0021563\ttest: 0.0039228\tbest: 0.0039228 (406)\ttotal: 2m 5s\tremaining: 3m 3s\n",
            "407:\tlearn: 0.0021548\ttest: 0.0039225\tbest: 0.0039225 (407)\ttotal: 2m 6s\tremaining: 3m 3s\n",
            "408:\tlearn: 0.0021525\ttest: 0.0039212\tbest: 0.0039212 (408)\ttotal: 2m 6s\tremaining: 3m 2s\n",
            "409:\tlearn: 0.0021495\ttest: 0.0039208\tbest: 0.0039208 (409)\ttotal: 2m 6s\tremaining: 3m 2s\n",
            "410:\tlearn: 0.0021471\ttest: 0.0039203\tbest: 0.0039203 (410)\ttotal: 2m 7s\tremaining: 3m 2s\n",
            "411:\tlearn: 0.0021449\ttest: 0.0039193\tbest: 0.0039193 (411)\ttotal: 2m 7s\tremaining: 3m 1s\n",
            "412:\tlearn: 0.0021430\ttest: 0.0039183\tbest: 0.0039183 (412)\ttotal: 2m 7s\tremaining: 3m 1s\n",
            "413:\tlearn: 0.0021402\ttest: 0.0039174\tbest: 0.0039174 (413)\ttotal: 2m 7s\tremaining: 3m 1s\n",
            "414:\tlearn: 0.0021385\ttest: 0.0039160\tbest: 0.0039160 (414)\ttotal: 2m 8s\tremaining: 3m\n",
            "415:\tlearn: 0.0021365\ttest: 0.0039154\tbest: 0.0039154 (415)\ttotal: 2m 8s\tremaining: 3m\n",
            "416:\tlearn: 0.0021353\ttest: 0.0039155\tbest: 0.0039154 (415)\ttotal: 2m 8s\tremaining: 3m\n",
            "417:\tlearn: 0.0021317\ttest: 0.0039144\tbest: 0.0039144 (417)\ttotal: 2m 9s\tremaining: 2m 59s\n",
            "418:\tlearn: 0.0021297\ttest: 0.0039137\tbest: 0.0039137 (418)\ttotal: 2m 9s\tremaining: 2m 59s\n",
            "419:\tlearn: 0.0021274\ttest: 0.0039124\tbest: 0.0039124 (419)\ttotal: 2m 9s\tremaining: 2m 59s\n",
            "420:\tlearn: 0.0021256\ttest: 0.0039117\tbest: 0.0039117 (420)\ttotal: 2m 10s\tremaining: 2m 58s\n",
            "421:\tlearn: 0.0021234\ttest: 0.0039103\tbest: 0.0039103 (421)\ttotal: 2m 10s\tremaining: 2m 58s\n",
            "422:\tlearn: 0.0021211\ttest: 0.0039096\tbest: 0.0039096 (422)\ttotal: 2m 10s\tremaining: 2m 58s\n",
            "423:\tlearn: 0.0021180\ttest: 0.0039086\tbest: 0.0039086 (423)\ttotal: 2m 10s\tremaining: 2m 57s\n",
            "424:\tlearn: 0.0021167\ttest: 0.0039069\tbest: 0.0039069 (424)\ttotal: 2m 11s\tremaining: 2m 57s\n",
            "425:\tlearn: 0.0021149\ttest: 0.0039066\tbest: 0.0039066 (425)\ttotal: 2m 11s\tremaining: 2m 57s\n",
            "426:\tlearn: 0.0021126\ttest: 0.0039061\tbest: 0.0039061 (426)\ttotal: 2m 11s\tremaining: 2m 56s\n",
            "427:\tlearn: 0.0021096\ttest: 0.0039050\tbest: 0.0039050 (427)\ttotal: 2m 12s\tremaining: 2m 56s\n",
            "428:\tlearn: 0.0021074\ttest: 0.0039039\tbest: 0.0039039 (428)\ttotal: 2m 12s\tremaining: 2m 56s\n",
            "429:\tlearn: 0.0021031\ttest: 0.0039033\tbest: 0.0039033 (429)\ttotal: 2m 12s\tremaining: 2m 55s\n",
            "430:\tlearn: 0.0021013\ttest: 0.0039014\tbest: 0.0039014 (430)\ttotal: 2m 13s\tremaining: 2m 55s\n",
            "431:\tlearn: 0.0021005\ttest: 0.0039010\tbest: 0.0039010 (431)\ttotal: 2m 13s\tremaining: 2m 55s\n",
            "432:\tlearn: 0.0020983\ttest: 0.0038997\tbest: 0.0038997 (432)\ttotal: 2m 13s\tremaining: 2m 54s\n",
            "433:\tlearn: 0.0020957\ttest: 0.0038991\tbest: 0.0038991 (433)\ttotal: 2m 13s\tremaining: 2m 54s\n",
            "434:\tlearn: 0.0020934\ttest: 0.0038985\tbest: 0.0038985 (434)\ttotal: 2m 14s\tremaining: 2m 54s\n",
            "435:\tlearn: 0.0020902\ttest: 0.0038976\tbest: 0.0038976 (435)\ttotal: 2m 14s\tremaining: 2m 53s\n",
            "436:\tlearn: 0.0020883\ttest: 0.0038976\tbest: 0.0038976 (435)\ttotal: 2m 14s\tremaining: 2m 53s\n",
            "437:\tlearn: 0.0020867\ttest: 0.0038971\tbest: 0.0038971 (437)\ttotal: 2m 15s\tremaining: 2m 53s\n",
            "438:\tlearn: 0.0020827\ttest: 0.0038960\tbest: 0.0038960 (438)\ttotal: 2m 15s\tremaining: 2m 53s\n",
            "439:\tlearn: 0.0020799\ttest: 0.0038948\tbest: 0.0038948 (439)\ttotal: 2m 15s\tremaining: 2m 52s\n",
            "440:\tlearn: 0.0020772\ttest: 0.0038940\tbest: 0.0038940 (440)\ttotal: 2m 15s\tremaining: 2m 52s\n",
            "441:\tlearn: 0.0020752\ttest: 0.0038936\tbest: 0.0038936 (441)\ttotal: 2m 16s\tremaining: 2m 52s\n",
            "442:\tlearn: 0.0020738\ttest: 0.0038927\tbest: 0.0038927 (442)\ttotal: 2m 16s\tremaining: 2m 51s\n",
            "443:\tlearn: 0.0020721\ttest: 0.0038924\tbest: 0.0038924 (443)\ttotal: 2m 16s\tremaining: 2m 51s\n",
            "444:\tlearn: 0.0020683\ttest: 0.0038916\tbest: 0.0038916 (444)\ttotal: 2m 17s\tremaining: 2m 51s\n",
            "445:\tlearn: 0.0020657\ttest: 0.0038904\tbest: 0.0038904 (445)\ttotal: 2m 17s\tremaining: 2m 50s\n",
            "446:\tlearn: 0.0020639\ttest: 0.0038894\tbest: 0.0038894 (446)\ttotal: 2m 17s\tremaining: 2m 50s\n",
            "447:\tlearn: 0.0020614\ttest: 0.0038878\tbest: 0.0038878 (447)\ttotal: 2m 18s\tremaining: 2m 50s\n",
            "448:\tlearn: 0.0020601\ttest: 0.0038877\tbest: 0.0038877 (448)\ttotal: 2m 18s\tremaining: 2m 49s\n",
            "449:\tlearn: 0.0020591\ttest: 0.0038869\tbest: 0.0038869 (449)\ttotal: 2m 18s\tremaining: 2m 49s\n",
            "450:\tlearn: 0.0020569\ttest: 0.0038873\tbest: 0.0038869 (449)\ttotal: 2m 19s\tremaining: 2m 49s\n",
            "451:\tlearn: 0.0020551\ttest: 0.0038870\tbest: 0.0038869 (449)\ttotal: 2m 19s\tremaining: 2m 48s\n",
            "452:\tlearn: 0.0020532\ttest: 0.0038866\tbest: 0.0038866 (452)\ttotal: 2m 19s\tremaining: 2m 48s\n",
            "453:\tlearn: 0.0020519\ttest: 0.0038866\tbest: 0.0038866 (453)\ttotal: 2m 19s\tremaining: 2m 48s\n",
            "454:\tlearn: 0.0020486\ttest: 0.0038846\tbest: 0.0038846 (454)\ttotal: 2m 20s\tremaining: 2m 47s\n",
            "455:\tlearn: 0.0020466\ttest: 0.0038850\tbest: 0.0038846 (454)\ttotal: 2m 20s\tremaining: 2m 47s\n",
            "456:\tlearn: 0.0020427\ttest: 0.0038841\tbest: 0.0038841 (456)\ttotal: 2m 20s\tremaining: 2m 47s\n",
            "457:\tlearn: 0.0020393\ttest: 0.0038834\tbest: 0.0038834 (457)\ttotal: 2m 20s\tremaining: 2m 46s\n",
            "458:\tlearn: 0.0020375\ttest: 0.0038822\tbest: 0.0038822 (458)\ttotal: 2m 21s\tremaining: 2m 46s\n",
            "459:\tlearn: 0.0020341\ttest: 0.0038823\tbest: 0.0038822 (458)\ttotal: 2m 21s\tremaining: 2m 46s\n",
            "460:\tlearn: 0.0020310\ttest: 0.0038810\tbest: 0.0038810 (460)\ttotal: 2m 21s\tremaining: 2m 45s\n",
            "461:\tlearn: 0.0020288\ttest: 0.0038801\tbest: 0.0038801 (461)\ttotal: 2m 22s\tremaining: 2m 45s\n",
            "462:\tlearn: 0.0020264\ttest: 0.0038788\tbest: 0.0038788 (462)\ttotal: 2m 22s\tremaining: 2m 45s\n",
            "463:\tlearn: 0.0020235\ttest: 0.0038777\tbest: 0.0038777 (463)\ttotal: 2m 22s\tremaining: 2m 45s\n",
            "464:\tlearn: 0.0020208\ttest: 0.0038764\tbest: 0.0038764 (464)\ttotal: 2m 23s\tremaining: 2m 44s\n",
            "465:\tlearn: 0.0020183\ttest: 0.0038761\tbest: 0.0038761 (465)\ttotal: 2m 23s\tremaining: 2m 44s\n",
            "466:\tlearn: 0.0020169\ttest: 0.0038763\tbest: 0.0038761 (465)\ttotal: 2m 23s\tremaining: 2m 44s\n",
            "467:\tlearn: 0.0020156\ttest: 0.0038757\tbest: 0.0038757 (467)\ttotal: 2m 24s\tremaining: 2m 43s\n",
            "468:\tlearn: 0.0020135\ttest: 0.0038758\tbest: 0.0038757 (467)\ttotal: 2m 24s\tremaining: 2m 43s\n",
            "469:\tlearn: 0.0020112\ttest: 0.0038749\tbest: 0.0038749 (469)\ttotal: 2m 24s\tremaining: 2m 43s\n",
            "470:\tlearn: 0.0020106\ttest: 0.0038752\tbest: 0.0038749 (469)\ttotal: 2m 25s\tremaining: 2m 42s\n",
            "471:\tlearn: 0.0020086\ttest: 0.0038748\tbest: 0.0038748 (471)\ttotal: 2m 25s\tremaining: 2m 42s\n",
            "472:\tlearn: 0.0020064\ttest: 0.0038743\tbest: 0.0038743 (472)\ttotal: 2m 25s\tremaining: 2m 42s\n",
            "473:\tlearn: 0.0020046\ttest: 0.0038736\tbest: 0.0038736 (473)\ttotal: 2m 26s\tremaining: 2m 42s\n",
            "474:\tlearn: 0.0020012\ttest: 0.0038725\tbest: 0.0038725 (474)\ttotal: 2m 26s\tremaining: 2m 41s\n",
            "475:\tlearn: 0.0019986\ttest: 0.0038715\tbest: 0.0038715 (475)\ttotal: 2m 26s\tremaining: 2m 41s\n",
            "476:\tlearn: 0.0019960\ttest: 0.0038688\tbest: 0.0038688 (476)\ttotal: 2m 27s\tremaining: 2m 41s\n",
            "477:\tlearn: 0.0019933\ttest: 0.0038683\tbest: 0.0038683 (477)\ttotal: 2m 27s\tremaining: 2m 41s\n",
            "478:\tlearn: 0.0019906\ttest: 0.0038674\tbest: 0.0038674 (478)\ttotal: 2m 27s\tremaining: 2m 40s\n",
            "479:\tlearn: 0.0019894\ttest: 0.0038668\tbest: 0.0038668 (479)\ttotal: 2m 28s\tremaining: 2m 40s\n",
            "480:\tlearn: 0.0019865\ttest: 0.0038664\tbest: 0.0038664 (480)\ttotal: 2m 28s\tremaining: 2m 40s\n",
            "481:\tlearn: 0.0019842\ttest: 0.0038655\tbest: 0.0038655 (481)\ttotal: 2m 28s\tremaining: 2m 39s\n",
            "482:\tlearn: 0.0019809\ttest: 0.0038650\tbest: 0.0038650 (482)\ttotal: 2m 29s\tremaining: 2m 39s\n",
            "483:\tlearn: 0.0019793\ttest: 0.0038645\tbest: 0.0038645 (483)\ttotal: 2m 29s\tremaining: 2m 39s\n",
            "484:\tlearn: 0.0019775\ttest: 0.0038645\tbest: 0.0038645 (484)\ttotal: 2m 29s\tremaining: 2m 39s\n",
            "485:\tlearn: 0.0019751\ttest: 0.0038630\tbest: 0.0038630 (485)\ttotal: 2m 30s\tremaining: 2m 38s\n",
            "486:\tlearn: 0.0019737\ttest: 0.0038625\tbest: 0.0038625 (486)\ttotal: 2m 30s\tremaining: 2m 38s\n",
            "487:\tlearn: 0.0019725\ttest: 0.0038620\tbest: 0.0038620 (487)\ttotal: 2m 30s\tremaining: 2m 38s\n",
            "488:\tlearn: 0.0019706\ttest: 0.0038611\tbest: 0.0038611 (488)\ttotal: 2m 31s\tremaining: 2m 38s\n",
            "489:\tlearn: 0.0019691\ttest: 0.0038601\tbest: 0.0038601 (489)\ttotal: 2m 31s\tremaining: 2m 37s\n",
            "490:\tlearn: 0.0019671\ttest: 0.0038599\tbest: 0.0038599 (490)\ttotal: 2m 31s\tremaining: 2m 37s\n",
            "491:\tlearn: 0.0019650\ttest: 0.0038591\tbest: 0.0038591 (491)\ttotal: 2m 32s\tremaining: 2m 37s\n",
            "492:\tlearn: 0.0019633\ttest: 0.0038581\tbest: 0.0038581 (492)\ttotal: 2m 32s\tremaining: 2m 37s\n",
            "493:\tlearn: 0.0019589\ttest: 0.0038571\tbest: 0.0038571 (493)\ttotal: 2m 33s\tremaining: 2m 36s\n",
            "494:\tlearn: 0.0019573\ttest: 0.0038570\tbest: 0.0038570 (494)\ttotal: 2m 33s\tremaining: 2m 36s\n",
            "495:\tlearn: 0.0019561\ttest: 0.0038568\tbest: 0.0038568 (495)\ttotal: 2m 33s\tremaining: 2m 36s\n",
            "496:\tlearn: 0.0019544\ttest: 0.0038553\tbest: 0.0038553 (496)\ttotal: 2m 34s\tremaining: 2m 35s\n",
            "497:\tlearn: 0.0019532\ttest: 0.0038551\tbest: 0.0038551 (497)\ttotal: 2m 34s\tremaining: 2m 35s\n",
            "498:\tlearn: 0.0019509\ttest: 0.0038547\tbest: 0.0038547 (498)\ttotal: 2m 34s\tremaining: 2m 35s\n",
            "499:\tlearn: 0.0019495\ttest: 0.0038540\tbest: 0.0038540 (499)\ttotal: 2m 35s\tremaining: 2m 35s\n",
            "500:\tlearn: 0.0019474\ttest: 0.0038536\tbest: 0.0038536 (500)\ttotal: 2m 35s\tremaining: 2m 34s\n",
            "501:\tlearn: 0.0019460\ttest: 0.0038533\tbest: 0.0038533 (501)\ttotal: 2m 35s\tremaining: 2m 34s\n",
            "502:\tlearn: 0.0019446\ttest: 0.0038530\tbest: 0.0038530 (502)\ttotal: 2m 36s\tremaining: 2m 34s\n",
            "503:\tlearn: 0.0019425\ttest: 0.0038512\tbest: 0.0038512 (503)\ttotal: 2m 36s\tremaining: 2m 34s\n",
            "504:\tlearn: 0.0019408\ttest: 0.0038506\tbest: 0.0038506 (504)\ttotal: 2m 36s\tremaining: 2m 33s\n",
            "505:\tlearn: 0.0019383\ttest: 0.0038493\tbest: 0.0038493 (505)\ttotal: 2m 37s\tremaining: 2m 33s\n",
            "506:\tlearn: 0.0019365\ttest: 0.0038488\tbest: 0.0038488 (506)\ttotal: 2m 37s\tremaining: 2m 33s\n",
            "507:\tlearn: 0.0019348\ttest: 0.0038482\tbest: 0.0038482 (507)\ttotal: 2m 37s\tremaining: 2m 32s\n",
            "508:\tlearn: 0.0019325\ttest: 0.0038477\tbest: 0.0038477 (508)\ttotal: 2m 37s\tremaining: 2m 32s\n",
            "509:\tlearn: 0.0019307\ttest: 0.0038474\tbest: 0.0038474 (509)\ttotal: 2m 38s\tremaining: 2m 32s\n",
            "510:\tlearn: 0.0019299\ttest: 0.0038475\tbest: 0.0038474 (509)\ttotal: 2m 38s\tremaining: 2m 31s\n",
            "511:\tlearn: 0.0019282\ttest: 0.0038470\tbest: 0.0038470 (511)\ttotal: 2m 38s\tremaining: 2m 31s\n",
            "512:\tlearn: 0.0019257\ttest: 0.0038467\tbest: 0.0038467 (512)\ttotal: 2m 39s\tremaining: 2m 31s\n",
            "513:\tlearn: 0.0019222\ttest: 0.0038450\tbest: 0.0038450 (513)\ttotal: 2m 39s\tremaining: 2m 30s\n",
            "514:\tlearn: 0.0019194\ttest: 0.0038437\tbest: 0.0038437 (514)\ttotal: 2m 39s\tremaining: 2m 30s\n",
            "515:\tlearn: 0.0019177\ttest: 0.0038422\tbest: 0.0038422 (515)\ttotal: 2m 40s\tremaining: 2m 30s\n",
            "516:\tlearn: 0.0019149\ttest: 0.0038417\tbest: 0.0038417 (516)\ttotal: 2m 40s\tremaining: 2m 29s\n",
            "517:\tlearn: 0.0019132\ttest: 0.0038407\tbest: 0.0038407 (517)\ttotal: 2m 40s\tremaining: 2m 29s\n",
            "518:\tlearn: 0.0019108\ttest: 0.0038399\tbest: 0.0038399 (518)\ttotal: 2m 41s\tremaining: 2m 29s\n",
            "519:\tlearn: 0.0019093\ttest: 0.0038395\tbest: 0.0038395 (519)\ttotal: 2m 41s\tremaining: 2m 28s\n",
            "520:\tlearn: 0.0019068\ttest: 0.0038390\tbest: 0.0038390 (520)\ttotal: 2m 41s\tremaining: 2m 28s\n",
            "521:\tlearn: 0.0019052\ttest: 0.0038387\tbest: 0.0038387 (521)\ttotal: 2m 42s\tremaining: 2m 28s\n",
            "522:\tlearn: 0.0019033\ttest: 0.0038374\tbest: 0.0038374 (522)\ttotal: 2m 42s\tremaining: 2m 28s\n",
            "523:\tlearn: 0.0019021\ttest: 0.0038364\tbest: 0.0038364 (523)\ttotal: 2m 42s\tremaining: 2m 27s\n",
            "524:\tlearn: 0.0019005\ttest: 0.0038357\tbest: 0.0038357 (524)\ttotal: 2m 42s\tremaining: 2m 27s\n",
            "525:\tlearn: 0.0018981\ttest: 0.0038352\tbest: 0.0038352 (525)\ttotal: 2m 43s\tremaining: 2m 27s\n",
            "526:\tlearn: 0.0018933\ttest: 0.0038350\tbest: 0.0038350 (526)\ttotal: 2m 43s\tremaining: 2m 26s\n",
            "527:\tlearn: 0.0018916\ttest: 0.0038344\tbest: 0.0038344 (527)\ttotal: 2m 43s\tremaining: 2m 26s\n",
            "528:\tlearn: 0.0018892\ttest: 0.0038338\tbest: 0.0038338 (528)\ttotal: 2m 44s\tremaining: 2m 26s\n",
            "529:\tlearn: 0.0018861\ttest: 0.0038342\tbest: 0.0038338 (528)\ttotal: 2m 44s\tremaining: 2m 25s\n",
            "530:\tlearn: 0.0018842\ttest: 0.0038335\tbest: 0.0038335 (530)\ttotal: 2m 44s\tremaining: 2m 25s\n",
            "531:\tlearn: 0.0018827\ttest: 0.0038327\tbest: 0.0038327 (531)\ttotal: 2m 45s\tremaining: 2m 25s\n",
            "532:\tlearn: 0.0018804\ttest: 0.0038321\tbest: 0.0038321 (532)\ttotal: 2m 45s\tremaining: 2m 24s\n",
            "533:\tlearn: 0.0018769\ttest: 0.0038314\tbest: 0.0038314 (533)\ttotal: 2m 45s\tremaining: 2m 24s\n",
            "534:\tlearn: 0.0018752\ttest: 0.0038315\tbest: 0.0038314 (533)\ttotal: 2m 45s\tremaining: 2m 24s\n",
            "535:\tlearn: 0.0018727\ttest: 0.0038303\tbest: 0.0038303 (535)\ttotal: 2m 46s\tremaining: 2m 23s\n",
            "536:\tlearn: 0.0018715\ttest: 0.0038303\tbest: 0.0038303 (535)\ttotal: 2m 46s\tremaining: 2m 23s\n",
            "537:\tlearn: 0.0018692\ttest: 0.0038298\tbest: 0.0038298 (537)\ttotal: 2m 46s\tremaining: 2m 23s\n",
            "538:\tlearn: 0.0018678\ttest: 0.0038296\tbest: 0.0038296 (538)\ttotal: 2m 47s\tremaining: 2m 22s\n",
            "539:\tlearn: 0.0018652\ttest: 0.0038284\tbest: 0.0038284 (539)\ttotal: 2m 47s\tremaining: 2m 22s\n",
            "540:\tlearn: 0.0018639\ttest: 0.0038275\tbest: 0.0038275 (540)\ttotal: 2m 47s\tremaining: 2m 22s\n",
            "541:\tlearn: 0.0018629\ttest: 0.0038266\tbest: 0.0038266 (541)\ttotal: 2m 48s\tremaining: 2m 22s\n",
            "542:\tlearn: 0.0018612\ttest: 0.0038260\tbest: 0.0038260 (542)\ttotal: 2m 48s\tremaining: 2m 21s\n",
            "543:\tlearn: 0.0018591\ttest: 0.0038261\tbest: 0.0038260 (542)\ttotal: 2m 48s\tremaining: 2m 21s\n",
            "544:\tlearn: 0.0018572\ttest: 0.0038239\tbest: 0.0038239 (544)\ttotal: 2m 49s\tremaining: 2m 21s\n",
            "545:\tlearn: 0.0018564\ttest: 0.0038234\tbest: 0.0038234 (545)\ttotal: 2m 49s\tremaining: 2m 20s\n",
            "546:\tlearn: 0.0018542\ttest: 0.0038226\tbest: 0.0038226 (546)\ttotal: 2m 49s\tremaining: 2m 20s\n",
            "547:\tlearn: 0.0018528\ttest: 0.0038219\tbest: 0.0038219 (547)\ttotal: 2m 49s\tremaining: 2m 20s\n",
            "548:\tlearn: 0.0018506\ttest: 0.0038216\tbest: 0.0038216 (548)\ttotal: 2m 50s\tremaining: 2m 19s\n",
            "549:\tlearn: 0.0018490\ttest: 0.0038217\tbest: 0.0038216 (548)\ttotal: 2m 50s\tremaining: 2m 19s\n",
            "550:\tlearn: 0.0018476\ttest: 0.0038215\tbest: 0.0038215 (550)\ttotal: 2m 50s\tremaining: 2m 19s\n",
            "551:\tlearn: 0.0018455\ttest: 0.0038213\tbest: 0.0038213 (551)\ttotal: 2m 51s\tremaining: 2m 18s\n",
            "552:\tlearn: 0.0018442\ttest: 0.0038216\tbest: 0.0038213 (551)\ttotal: 2m 51s\tremaining: 2m 18s\n",
            "553:\tlearn: 0.0018426\ttest: 0.0038205\tbest: 0.0038205 (553)\ttotal: 2m 51s\tremaining: 2m 18s\n",
            "554:\tlearn: 0.0018407\ttest: 0.0038210\tbest: 0.0038205 (553)\ttotal: 2m 52s\tremaining: 2m 18s\n",
            "555:\tlearn: 0.0018388\ttest: 0.0038208\tbest: 0.0038205 (553)\ttotal: 2m 52s\tremaining: 2m 17s\n",
            "556:\tlearn: 0.0018372\ttest: 0.0038206\tbest: 0.0038205 (553)\ttotal: 2m 52s\tremaining: 2m 17s\n",
            "557:\tlearn: 0.0018354\ttest: 0.0038189\tbest: 0.0038189 (557)\ttotal: 2m 53s\tremaining: 2m 17s\n",
            "558:\tlearn: 0.0018338\ttest: 0.0038181\tbest: 0.0038181 (558)\ttotal: 2m 53s\tremaining: 2m 16s\n",
            "559:\tlearn: 0.0018322\ttest: 0.0038171\tbest: 0.0038171 (559)\ttotal: 2m 53s\tremaining: 2m 16s\n",
            "560:\tlearn: 0.0018300\ttest: 0.0038171\tbest: 0.0038171 (559)\ttotal: 2m 53s\tremaining: 2m 16s\n",
            "561:\tlearn: 0.0018281\ttest: 0.0038161\tbest: 0.0038161 (561)\ttotal: 2m 54s\tremaining: 2m 15s\n",
            "562:\tlearn: 0.0018260\ttest: 0.0038157\tbest: 0.0038157 (562)\ttotal: 2m 54s\tremaining: 2m 15s\n",
            "563:\tlearn: 0.0018244\ttest: 0.0038157\tbest: 0.0038157 (563)\ttotal: 2m 54s\tremaining: 2m 15s\n",
            "564:\tlearn: 0.0018223\ttest: 0.0038165\tbest: 0.0038157 (563)\ttotal: 2m 55s\tremaining: 2m 14s\n",
            "565:\tlearn: 0.0018208\ttest: 0.0038153\tbest: 0.0038153 (565)\ttotal: 2m 55s\tremaining: 2m 14s\n",
            "566:\tlearn: 0.0018193\ttest: 0.0038155\tbest: 0.0038153 (565)\ttotal: 2m 55s\tremaining: 2m 14s\n",
            "567:\tlearn: 0.0018177\ttest: 0.0038150\tbest: 0.0038150 (567)\ttotal: 2m 56s\tremaining: 2m 13s\n",
            "568:\tlearn: 0.0018158\ttest: 0.0038146\tbest: 0.0038146 (568)\ttotal: 2m 56s\tremaining: 2m 13s\n",
            "569:\tlearn: 0.0018137\ttest: 0.0038139\tbest: 0.0038139 (569)\ttotal: 2m 56s\tremaining: 2m 13s\n",
            "570:\tlearn: 0.0018119\ttest: 0.0038132\tbest: 0.0038132 (570)\ttotal: 2m 57s\tremaining: 2m 13s\n",
            "571:\tlearn: 0.0018104\ttest: 0.0038123\tbest: 0.0038123 (571)\ttotal: 2m 57s\tremaining: 2m 12s\n",
            "572:\tlearn: 0.0018094\ttest: 0.0038113\tbest: 0.0038113 (572)\ttotal: 2m 57s\tremaining: 2m 12s\n",
            "573:\tlearn: 0.0018083\ttest: 0.0038111\tbest: 0.0038111 (573)\ttotal: 2m 58s\tremaining: 2m 12s\n",
            "574:\tlearn: 0.0018070\ttest: 0.0038107\tbest: 0.0038107 (574)\ttotal: 2m 58s\tremaining: 2m 11s\n",
            "575:\tlearn: 0.0018056\ttest: 0.0038100\tbest: 0.0038100 (575)\ttotal: 2m 58s\tremaining: 2m 11s\n",
            "576:\tlearn: 0.0018033\ttest: 0.0038087\tbest: 0.0038087 (576)\ttotal: 2m 58s\tremaining: 2m 11s\n",
            "577:\tlearn: 0.0018020\ttest: 0.0038085\tbest: 0.0038085 (577)\ttotal: 2m 59s\tremaining: 2m 10s\n",
            "578:\tlearn: 0.0018001\ttest: 0.0038077\tbest: 0.0038077 (578)\ttotal: 2m 59s\tremaining: 2m 10s\n",
            "579:\tlearn: 0.0017976\ttest: 0.0038071\tbest: 0.0038071 (579)\ttotal: 2m 59s\tremaining: 2m 10s\n",
            "580:\tlearn: 0.0017960\ttest: 0.0038063\tbest: 0.0038063 (580)\ttotal: 3m\tremaining: 2m 9s\n",
            "581:\tlearn: 0.0017944\ttest: 0.0038056\tbest: 0.0038056 (581)\ttotal: 3m\tremaining: 2m 9s\n",
            "582:\tlearn: 0.0017926\ttest: 0.0038053\tbest: 0.0038053 (582)\ttotal: 3m\tremaining: 2m 9s\n",
            "583:\tlearn: 0.0017904\ttest: 0.0038048\tbest: 0.0038048 (583)\ttotal: 3m 1s\tremaining: 2m 8s\n",
            "584:\tlearn: 0.0017889\ttest: 0.0038046\tbest: 0.0038046 (584)\ttotal: 3m 1s\tremaining: 2m 8s\n",
            "585:\tlearn: 0.0017875\ttest: 0.0038041\tbest: 0.0038041 (585)\ttotal: 3m 1s\tremaining: 2m 8s\n",
            "586:\tlearn: 0.0017859\ttest: 0.0038036\tbest: 0.0038036 (586)\ttotal: 3m 2s\tremaining: 2m 8s\n",
            "587:\tlearn: 0.0017846\ttest: 0.0038030\tbest: 0.0038030 (587)\ttotal: 3m 2s\tremaining: 2m 7s\n",
            "588:\tlearn: 0.0017833\ttest: 0.0038028\tbest: 0.0038028 (588)\ttotal: 3m 2s\tremaining: 2m 7s\n",
            "589:\tlearn: 0.0017823\ttest: 0.0038023\tbest: 0.0038023 (589)\ttotal: 3m 2s\tremaining: 2m 7s\n",
            "590:\tlearn: 0.0017805\ttest: 0.0038024\tbest: 0.0038023 (589)\ttotal: 3m 3s\tremaining: 2m 6s\n",
            "591:\tlearn: 0.0017787\ttest: 0.0038024\tbest: 0.0038023 (589)\ttotal: 3m 3s\tremaining: 2m 6s\n",
            "592:\tlearn: 0.0017770\ttest: 0.0038021\tbest: 0.0038021 (592)\ttotal: 3m 3s\tremaining: 2m 6s\n",
            "593:\tlearn: 0.0017744\ttest: 0.0038014\tbest: 0.0038014 (593)\ttotal: 3m 4s\tremaining: 2m 5s\n",
            "594:\tlearn: 0.0017709\ttest: 0.0038007\tbest: 0.0038007 (594)\ttotal: 3m 4s\tremaining: 2m 5s\n",
            "595:\tlearn: 0.0017694\ttest: 0.0038009\tbest: 0.0038007 (594)\ttotal: 3m 4s\tremaining: 2m 5s\n",
            "596:\tlearn: 0.0017671\ttest: 0.0038007\tbest: 0.0038007 (596)\ttotal: 3m 5s\tremaining: 2m 4s\n",
            "597:\tlearn: 0.0017648\ttest: 0.0038000\tbest: 0.0038000 (597)\ttotal: 3m 5s\tremaining: 2m 4s\n",
            "598:\tlearn: 0.0017638\ttest: 0.0037995\tbest: 0.0037995 (598)\ttotal: 3m 5s\tremaining: 2m 4s\n",
            "599:\tlearn: 0.0017633\ttest: 0.0037997\tbest: 0.0037995 (598)\ttotal: 3m 5s\tremaining: 2m 3s\n",
            "600:\tlearn: 0.0017617\ttest: 0.0037991\tbest: 0.0037991 (600)\ttotal: 3m 6s\tremaining: 2m 3s\n",
            "601:\tlearn: 0.0017601\ttest: 0.0037988\tbest: 0.0037988 (601)\ttotal: 3m 6s\tremaining: 2m 3s\n",
            "602:\tlearn: 0.0017588\ttest: 0.0037982\tbest: 0.0037982 (602)\ttotal: 3m 6s\tremaining: 2m 3s\n",
            "603:\tlearn: 0.0017568\ttest: 0.0037975\tbest: 0.0037975 (603)\ttotal: 3m 7s\tremaining: 2m 2s\n",
            "604:\tlearn: 0.0017550\ttest: 0.0037966\tbest: 0.0037966 (604)\ttotal: 3m 7s\tremaining: 2m 2s\n",
            "605:\tlearn: 0.0017525\ttest: 0.0037965\tbest: 0.0037965 (605)\ttotal: 3m 7s\tremaining: 2m 2s\n",
            "606:\tlearn: 0.0017505\ttest: 0.0037958\tbest: 0.0037958 (606)\ttotal: 3m 8s\tremaining: 2m 1s\n",
            "607:\tlearn: 0.0017488\ttest: 0.0037958\tbest: 0.0037958 (607)\ttotal: 3m 8s\tremaining: 2m 1s\n",
            "608:\tlearn: 0.0017475\ttest: 0.0037948\tbest: 0.0037948 (608)\ttotal: 3m 8s\tremaining: 2m 1s\n",
            "609:\tlearn: 0.0017463\ttest: 0.0037949\tbest: 0.0037948 (608)\ttotal: 3m 8s\tremaining: 2m\n",
            "610:\tlearn: 0.0017431\ttest: 0.0037947\tbest: 0.0037947 (610)\ttotal: 3m 9s\tremaining: 2m\n",
            "611:\tlearn: 0.0017412\ttest: 0.0037942\tbest: 0.0037942 (611)\ttotal: 3m 9s\tremaining: 2m\n",
            "612:\tlearn: 0.0017390\ttest: 0.0037932\tbest: 0.0037932 (612)\ttotal: 3m 9s\tremaining: 1m 59s\n",
            "613:\tlearn: 0.0017367\ttest: 0.0037924\tbest: 0.0037924 (613)\ttotal: 3m 10s\tremaining: 1m 59s\n",
            "614:\tlearn: 0.0017352\ttest: 0.0037919\tbest: 0.0037919 (614)\ttotal: 3m 10s\tremaining: 1m 59s\n",
            "615:\tlearn: 0.0017333\ttest: 0.0037916\tbest: 0.0037916 (615)\ttotal: 3m 10s\tremaining: 1m 58s\n",
            "616:\tlearn: 0.0017320\ttest: 0.0037911\tbest: 0.0037911 (616)\ttotal: 3m 11s\tremaining: 1m 58s\n",
            "617:\tlearn: 0.0017305\ttest: 0.0037912\tbest: 0.0037911 (616)\ttotal: 3m 11s\tremaining: 1m 58s\n",
            "618:\tlearn: 0.0017299\ttest: 0.0037903\tbest: 0.0037903 (618)\ttotal: 3m 11s\tremaining: 1m 57s\n",
            "619:\tlearn: 0.0017293\ttest: 0.0037897\tbest: 0.0037897 (619)\ttotal: 3m 11s\tremaining: 1m 57s\n",
            "620:\tlearn: 0.0017282\ttest: 0.0037900\tbest: 0.0037897 (619)\ttotal: 3m 12s\tremaining: 1m 57s\n",
            "621:\tlearn: 0.0017265\ttest: 0.0037892\tbest: 0.0037892 (621)\ttotal: 3m 12s\tremaining: 1m 57s\n",
            "622:\tlearn: 0.0017256\ttest: 0.0037890\tbest: 0.0037890 (622)\ttotal: 3m 12s\tremaining: 1m 56s\n",
            "623:\tlearn: 0.0017236\ttest: 0.0037887\tbest: 0.0037887 (623)\ttotal: 3m 13s\tremaining: 1m 56s\n",
            "624:\tlearn: 0.0017227\ttest: 0.0037879\tbest: 0.0037879 (624)\ttotal: 3m 13s\tremaining: 1m 56s\n",
            "625:\tlearn: 0.0017202\ttest: 0.0037873\tbest: 0.0037873 (625)\ttotal: 3m 13s\tremaining: 1m 55s\n",
            "626:\tlearn: 0.0017174\ttest: 0.0037872\tbest: 0.0037872 (626)\ttotal: 3m 14s\tremaining: 1m 55s\n",
            "627:\tlearn: 0.0017167\ttest: 0.0037867\tbest: 0.0037867 (627)\ttotal: 3m 14s\tremaining: 1m 55s\n",
            "628:\tlearn: 0.0017155\ttest: 0.0037857\tbest: 0.0037857 (628)\ttotal: 3m 14s\tremaining: 1m 54s\n",
            "629:\tlearn: 0.0017133\ttest: 0.0037854\tbest: 0.0037854 (629)\ttotal: 3m 14s\tremaining: 1m 54s\n",
            "630:\tlearn: 0.0017117\ttest: 0.0037848\tbest: 0.0037848 (630)\ttotal: 3m 15s\tremaining: 1m 54s\n",
            "631:\tlearn: 0.0017107\ttest: 0.0037844\tbest: 0.0037844 (631)\ttotal: 3m 15s\tremaining: 1m 53s\n",
            "632:\tlearn: 0.0017091\ttest: 0.0037843\tbest: 0.0037843 (632)\ttotal: 3m 15s\tremaining: 1m 53s\n",
            "633:\tlearn: 0.0017076\ttest: 0.0037837\tbest: 0.0037837 (633)\ttotal: 3m 16s\tremaining: 1m 53s\n",
            "634:\tlearn: 0.0017051\ttest: 0.0037838\tbest: 0.0037837 (633)\ttotal: 3m 16s\tremaining: 1m 52s\n",
            "635:\tlearn: 0.0017041\ttest: 0.0037835\tbest: 0.0037835 (635)\ttotal: 3m 16s\tremaining: 1m 52s\n",
            "636:\tlearn: 0.0017031\ttest: 0.0037833\tbest: 0.0037833 (636)\ttotal: 3m 17s\tremaining: 1m 52s\n",
            "637:\tlearn: 0.0017019\ttest: 0.0037830\tbest: 0.0037830 (637)\ttotal: 3m 17s\tremaining: 1m 52s\n",
            "638:\tlearn: 0.0016999\ttest: 0.0037826\tbest: 0.0037826 (638)\ttotal: 3m 17s\tremaining: 1m 51s\n",
            "639:\tlearn: 0.0016986\ttest: 0.0037819\tbest: 0.0037819 (639)\ttotal: 3m 17s\tremaining: 1m 51s\n",
            "640:\tlearn: 0.0016963\ttest: 0.0037816\tbest: 0.0037816 (640)\ttotal: 3m 18s\tremaining: 1m 51s\n",
            "641:\tlearn: 0.0016951\ttest: 0.0037814\tbest: 0.0037814 (641)\ttotal: 3m 18s\tremaining: 1m 50s\n",
            "642:\tlearn: 0.0016934\ttest: 0.0037812\tbest: 0.0037812 (642)\ttotal: 3m 18s\tremaining: 1m 50s\n",
            "643:\tlearn: 0.0016919\ttest: 0.0037809\tbest: 0.0037809 (643)\ttotal: 3m 19s\tremaining: 1m 50s\n",
            "644:\tlearn: 0.0016904\ttest: 0.0037801\tbest: 0.0037801 (644)\ttotal: 3m 19s\tremaining: 1m 49s\n",
            "645:\tlearn: 0.0016893\ttest: 0.0037807\tbest: 0.0037801 (644)\ttotal: 3m 19s\tremaining: 1m 49s\n",
            "646:\tlearn: 0.0016867\ttest: 0.0037805\tbest: 0.0037801 (644)\ttotal: 3m 20s\tremaining: 1m 49s\n",
            "647:\tlearn: 0.0016844\ttest: 0.0037798\tbest: 0.0037798 (647)\ttotal: 3m 20s\tremaining: 1m 48s\n",
            "648:\tlearn: 0.0016833\ttest: 0.0037797\tbest: 0.0037797 (648)\ttotal: 3m 20s\tremaining: 1m 48s\n",
            "649:\tlearn: 0.0016830\ttest: 0.0037794\tbest: 0.0037794 (649)\ttotal: 3m 21s\tremaining: 1m 48s\n",
            "650:\tlearn: 0.0016814\ttest: 0.0037793\tbest: 0.0037793 (650)\ttotal: 3m 21s\tremaining: 1m 47s\n",
            "651:\tlearn: 0.0016804\ttest: 0.0037793\tbest: 0.0037793 (651)\ttotal: 3m 21s\tremaining: 1m 47s\n",
            "652:\tlearn: 0.0016790\ttest: 0.0037791\tbest: 0.0037791 (652)\ttotal: 3m 21s\tremaining: 1m 47s\n",
            "653:\tlearn: 0.0016777\ttest: 0.0037792\tbest: 0.0037791 (652)\ttotal: 3m 22s\tremaining: 1m 46s\n",
            "654:\tlearn: 0.0016765\ttest: 0.0037792\tbest: 0.0037791 (652)\ttotal: 3m 22s\tremaining: 1m 46s\n",
            "655:\tlearn: 0.0016750\ttest: 0.0037787\tbest: 0.0037787 (655)\ttotal: 3m 22s\tremaining: 1m 46s\n",
            "656:\tlearn: 0.0016738\ttest: 0.0037783\tbest: 0.0037783 (656)\ttotal: 3m 23s\tremaining: 1m 46s\n",
            "657:\tlearn: 0.0016714\ttest: 0.0037776\tbest: 0.0037776 (657)\ttotal: 3m 23s\tremaining: 1m 45s\n",
            "658:\tlearn: 0.0016686\ttest: 0.0037773\tbest: 0.0037773 (658)\ttotal: 3m 23s\tremaining: 1m 45s\n",
            "659:\tlearn: 0.0016662\ttest: 0.0037769\tbest: 0.0037769 (659)\ttotal: 3m 24s\tremaining: 1m 45s\n",
            "660:\tlearn: 0.0016647\ttest: 0.0037766\tbest: 0.0037766 (660)\ttotal: 3m 24s\tremaining: 1m 44s\n",
            "661:\tlearn: 0.0016630\ttest: 0.0037761\tbest: 0.0037761 (661)\ttotal: 3m 24s\tremaining: 1m 44s\n",
            "662:\tlearn: 0.0016616\ttest: 0.0037765\tbest: 0.0037761 (661)\ttotal: 3m 24s\tremaining: 1m 44s\n",
            "663:\tlearn: 0.0016603\ttest: 0.0037764\tbest: 0.0037761 (661)\ttotal: 3m 25s\tremaining: 1m 43s\n",
            "664:\tlearn: 0.0016585\ttest: 0.0037762\tbest: 0.0037761 (661)\ttotal: 3m 25s\tremaining: 1m 43s\n",
            "665:\tlearn: 0.0016578\ttest: 0.0037763\tbest: 0.0037761 (661)\ttotal: 3m 25s\tremaining: 1m 43s\n",
            "666:\tlearn: 0.0016559\ttest: 0.0037758\tbest: 0.0037758 (666)\ttotal: 3m 26s\tremaining: 1m 42s\n",
            "667:\tlearn: 0.0016546\ttest: 0.0037756\tbest: 0.0037756 (667)\ttotal: 3m 26s\tremaining: 1m 42s\n",
            "668:\tlearn: 0.0016517\ttest: 0.0037749\tbest: 0.0037749 (668)\ttotal: 3m 26s\tremaining: 1m 42s\n",
            "669:\tlearn: 0.0016501\ttest: 0.0037746\tbest: 0.0037746 (669)\ttotal: 3m 27s\tremaining: 1m 41s\n",
            "670:\tlearn: 0.0016484\ttest: 0.0037744\tbest: 0.0037744 (670)\ttotal: 3m 27s\tremaining: 1m 41s\n",
            "671:\tlearn: 0.0016474\ttest: 0.0037739\tbest: 0.0037739 (671)\ttotal: 3m 27s\tremaining: 1m 41s\n",
            "672:\tlearn: 0.0016463\ttest: 0.0037731\tbest: 0.0037731 (672)\ttotal: 3m 27s\tremaining: 1m 41s\n",
            "673:\tlearn: 0.0016445\ttest: 0.0037726\tbest: 0.0037726 (673)\ttotal: 3m 28s\tremaining: 1m 40s\n",
            "674:\tlearn: 0.0016434\ttest: 0.0037726\tbest: 0.0037726 (674)\ttotal: 3m 28s\tremaining: 1m 40s\n",
            "675:\tlearn: 0.0016416\ttest: 0.0037723\tbest: 0.0037723 (675)\ttotal: 3m 28s\tremaining: 1m 40s\n",
            "676:\tlearn: 0.0016400\ttest: 0.0037716\tbest: 0.0037716 (676)\ttotal: 3m 29s\tremaining: 1m 39s\n",
            "677:\tlearn: 0.0016387\ttest: 0.0037710\tbest: 0.0037710 (677)\ttotal: 3m 29s\tremaining: 1m 39s\n",
            "678:\tlearn: 0.0016373\ttest: 0.0037703\tbest: 0.0037703 (678)\ttotal: 3m 30s\tremaining: 1m 39s\n",
            "679:\tlearn: 0.0016353\ttest: 0.0037700\tbest: 0.0037700 (679)\ttotal: 3m 30s\tremaining: 1m 38s\n",
            "680:\tlearn: 0.0016340\ttest: 0.0037696\tbest: 0.0037696 (680)\ttotal: 3m 30s\tremaining: 1m 38s\n",
            "681:\tlearn: 0.0016324\ttest: 0.0037692\tbest: 0.0037692 (681)\ttotal: 3m 30s\tremaining: 1m 38s\n",
            "682:\tlearn: 0.0016312\ttest: 0.0037686\tbest: 0.0037686 (682)\ttotal: 3m 31s\tremaining: 1m 38s\n",
            "683:\tlearn: 0.0016296\ttest: 0.0037680\tbest: 0.0037680 (683)\ttotal: 3m 31s\tremaining: 1m 37s\n",
            "684:\tlearn: 0.0016284\ttest: 0.0037673\tbest: 0.0037673 (684)\ttotal: 3m 31s\tremaining: 1m 37s\n",
            "685:\tlearn: 0.0016276\ttest: 0.0037672\tbest: 0.0037672 (685)\ttotal: 3m 32s\tremaining: 1m 37s\n",
            "686:\tlearn: 0.0016265\ttest: 0.0037668\tbest: 0.0037668 (686)\ttotal: 3m 32s\tremaining: 1m 36s\n",
            "687:\tlearn: 0.0016245\ttest: 0.0037661\tbest: 0.0037661 (687)\ttotal: 3m 32s\tremaining: 1m 36s\n",
            "688:\tlearn: 0.0016233\ttest: 0.0037656\tbest: 0.0037656 (688)\ttotal: 3m 32s\tremaining: 1m 36s\n",
            "689:\tlearn: 0.0016221\ttest: 0.0037656\tbest: 0.0037656 (689)\ttotal: 3m 33s\tremaining: 1m 35s\n",
            "690:\tlearn: 0.0016208\ttest: 0.0037644\tbest: 0.0037644 (690)\ttotal: 3m 33s\tremaining: 1m 35s\n",
            "691:\tlearn: 0.0016197\ttest: 0.0037640\tbest: 0.0037640 (691)\ttotal: 3m 33s\tremaining: 1m 35s\n",
            "692:\tlearn: 0.0016183\ttest: 0.0037635\tbest: 0.0037635 (692)\ttotal: 3m 34s\tremaining: 1m 34s\n",
            "693:\tlearn: 0.0016161\ttest: 0.0037628\tbest: 0.0037628 (693)\ttotal: 3m 34s\tremaining: 1m 34s\n",
            "694:\tlearn: 0.0016150\ttest: 0.0037626\tbest: 0.0037626 (694)\ttotal: 3m 34s\tremaining: 1m 34s\n",
            "695:\tlearn: 0.0016134\ttest: 0.0037625\tbest: 0.0037625 (695)\ttotal: 3m 35s\tremaining: 1m 33s\n",
            "696:\tlearn: 0.0016126\ttest: 0.0037623\tbest: 0.0037623 (696)\ttotal: 3m 35s\tremaining: 1m 33s\n",
            "697:\tlearn: 0.0016099\ttest: 0.0037621\tbest: 0.0037621 (697)\ttotal: 3m 35s\tremaining: 1m 33s\n",
            "698:\tlearn: 0.0016085\ttest: 0.0037604\tbest: 0.0037604 (698)\ttotal: 3m 36s\tremaining: 1m 33s\n",
            "699:\tlearn: 0.0016067\ttest: 0.0037601\tbest: 0.0037601 (699)\ttotal: 3m 36s\tremaining: 1m 32s\n",
            "700:\tlearn: 0.0016057\ttest: 0.0037593\tbest: 0.0037593 (700)\ttotal: 3m 36s\tremaining: 1m 32s\n",
            "701:\tlearn: 0.0016041\ttest: 0.0037593\tbest: 0.0037593 (701)\ttotal: 3m 37s\tremaining: 1m 32s\n",
            "702:\tlearn: 0.0016027\ttest: 0.0037588\tbest: 0.0037588 (702)\ttotal: 3m 37s\tremaining: 1m 31s\n",
            "703:\tlearn: 0.0016015\ttest: 0.0037582\tbest: 0.0037582 (703)\ttotal: 3m 37s\tremaining: 1m 31s\n",
            "704:\tlearn: 0.0016003\ttest: 0.0037583\tbest: 0.0037582 (703)\ttotal: 3m 37s\tremaining: 1m 31s\n",
            "705:\tlearn: 0.0015990\ttest: 0.0037579\tbest: 0.0037579 (705)\ttotal: 3m 38s\tremaining: 1m 30s\n",
            "706:\tlearn: 0.0015975\ttest: 0.0037577\tbest: 0.0037577 (706)\ttotal: 3m 38s\tremaining: 1m 30s\n",
            "707:\tlearn: 0.0015959\ttest: 0.0037569\tbest: 0.0037569 (707)\ttotal: 3m 38s\tremaining: 1m 30s\n",
            "708:\tlearn: 0.0015948\ttest: 0.0037567\tbest: 0.0037567 (708)\ttotal: 3m 39s\tremaining: 1m 29s\n",
            "709:\tlearn: 0.0015939\ttest: 0.0037563\tbest: 0.0037563 (709)\ttotal: 3m 39s\tremaining: 1m 29s\n",
            "710:\tlearn: 0.0015934\ttest: 0.0037562\tbest: 0.0037562 (710)\ttotal: 3m 39s\tremaining: 1m 29s\n",
            "711:\tlearn: 0.0015926\ttest: 0.0037561\tbest: 0.0037561 (711)\ttotal: 3m 40s\tremaining: 1m 29s\n",
            "712:\tlearn: 0.0015918\ttest: 0.0037562\tbest: 0.0037561 (711)\ttotal: 3m 40s\tremaining: 1m 28s\n",
            "713:\tlearn: 0.0015901\ttest: 0.0037559\tbest: 0.0037559 (713)\ttotal: 3m 40s\tremaining: 1m 28s\n",
            "714:\tlearn: 0.0015891\ttest: 0.0037559\tbest: 0.0037559 (714)\ttotal: 3m 41s\tremaining: 1m 28s\n",
            "715:\tlearn: 0.0015872\ttest: 0.0037557\tbest: 0.0037557 (715)\ttotal: 3m 41s\tremaining: 1m 27s\n",
            "716:\tlearn: 0.0015858\ttest: 0.0037552\tbest: 0.0037552 (716)\ttotal: 3m 41s\tremaining: 1m 27s\n",
            "717:\tlearn: 0.0015847\ttest: 0.0037553\tbest: 0.0037552 (716)\ttotal: 3m 42s\tremaining: 1m 27s\n",
            "718:\tlearn: 0.0015827\ttest: 0.0037554\tbest: 0.0037552 (716)\ttotal: 3m 42s\tremaining: 1m 26s\n",
            "719:\tlearn: 0.0015817\ttest: 0.0037554\tbest: 0.0037552 (716)\ttotal: 3m 42s\tremaining: 1m 26s\n",
            "720:\tlearn: 0.0015805\ttest: 0.0037555\tbest: 0.0037552 (716)\ttotal: 3m 42s\tremaining: 1m 26s\n",
            "721:\tlearn: 0.0015786\ttest: 0.0037554\tbest: 0.0037552 (716)\ttotal: 3m 43s\tremaining: 1m 25s\n",
            "722:\tlearn: 0.0015766\ttest: 0.0037551\tbest: 0.0037551 (722)\ttotal: 3m 43s\tremaining: 1m 25s\n",
            "723:\tlearn: 0.0015745\ttest: 0.0037547\tbest: 0.0037547 (723)\ttotal: 3m 43s\tremaining: 1m 25s\n",
            "724:\tlearn: 0.0015741\ttest: 0.0037544\tbest: 0.0037544 (724)\ttotal: 3m 44s\tremaining: 1m 25s\n",
            "725:\tlearn: 0.0015733\ttest: 0.0037543\tbest: 0.0037543 (725)\ttotal: 3m 44s\tremaining: 1m 24s\n",
            "726:\tlearn: 0.0015716\ttest: 0.0037535\tbest: 0.0037535 (726)\ttotal: 3m 44s\tremaining: 1m 24s\n",
            "727:\tlearn: 0.0015700\ttest: 0.0037531\tbest: 0.0037531 (727)\ttotal: 3m 45s\tremaining: 1m 24s\n",
            "728:\tlearn: 0.0015675\ttest: 0.0037534\tbest: 0.0037531 (727)\ttotal: 3m 45s\tremaining: 1m 23s\n",
            "729:\tlearn: 0.0015664\ttest: 0.0037520\tbest: 0.0037520 (729)\ttotal: 3m 46s\tremaining: 1m 23s\n",
            "730:\tlearn: 0.0015651\ttest: 0.0037518\tbest: 0.0037518 (730)\ttotal: 3m 46s\tremaining: 1m 23s\n",
            "731:\tlearn: 0.0015638\ttest: 0.0037512\tbest: 0.0037512 (731)\ttotal: 3m 46s\tremaining: 1m 23s\n",
            "732:\tlearn: 0.0015621\ttest: 0.0037507\tbest: 0.0037507 (732)\ttotal: 3m 47s\tremaining: 1m 22s\n",
            "733:\tlearn: 0.0015603\ttest: 0.0037501\tbest: 0.0037501 (733)\ttotal: 3m 47s\tremaining: 1m 22s\n",
            "734:\tlearn: 0.0015587\ttest: 0.0037502\tbest: 0.0037501 (733)\ttotal: 3m 48s\tremaining: 1m 22s\n",
            "735:\tlearn: 0.0015567\ttest: 0.0037500\tbest: 0.0037500 (735)\ttotal: 3m 48s\tremaining: 1m 21s\n",
            "736:\tlearn: 0.0015556\ttest: 0.0037489\tbest: 0.0037489 (736)\ttotal: 3m 48s\tremaining: 1m 21s\n",
            "737:\tlearn: 0.0015540\ttest: 0.0037489\tbest: 0.0037489 (737)\ttotal: 3m 49s\tremaining: 1m 21s\n",
            "738:\tlearn: 0.0015530\ttest: 0.0037487\tbest: 0.0037487 (738)\ttotal: 3m 49s\tremaining: 1m 21s\n",
            "739:\tlearn: 0.0015523\ttest: 0.0037487\tbest: 0.0037487 (739)\ttotal: 3m 49s\tremaining: 1m 20s\n",
            "740:\tlearn: 0.0015506\ttest: 0.0037480\tbest: 0.0037480 (740)\ttotal: 3m 50s\tremaining: 1m 20s\n",
            "741:\tlearn: 0.0015501\ttest: 0.0037477\tbest: 0.0037477 (741)\ttotal: 3m 50s\tremaining: 1m 20s\n",
            "742:\tlearn: 0.0015483\ttest: 0.0037469\tbest: 0.0037469 (742)\ttotal: 3m 51s\tremaining: 1m 19s\n",
            "743:\tlearn: 0.0015473\ttest: 0.0037468\tbest: 0.0037468 (743)\ttotal: 3m 51s\tremaining: 1m 19s\n",
            "744:\tlearn: 0.0015464\ttest: 0.0037466\tbest: 0.0037466 (744)\ttotal: 3m 51s\tremaining: 1m 19s\n",
            "745:\tlearn: 0.0015448\ttest: 0.0037463\tbest: 0.0037463 (745)\ttotal: 3m 52s\tremaining: 1m 19s\n",
            "746:\tlearn: 0.0015433\ttest: 0.0037466\tbest: 0.0037463 (745)\ttotal: 3m 52s\tremaining: 1m 18s\n",
            "747:\tlearn: 0.0015409\ttest: 0.0037462\tbest: 0.0037462 (747)\ttotal: 3m 52s\tremaining: 1m 18s\n",
            "748:\tlearn: 0.0015399\ttest: 0.0037459\tbest: 0.0037459 (748)\ttotal: 3m 53s\tremaining: 1m 18s\n",
            "749:\tlearn: 0.0015389\ttest: 0.0037454\tbest: 0.0037454 (749)\ttotal: 3m 53s\tremaining: 1m 17s\n",
            "750:\tlearn: 0.0015378\ttest: 0.0037449\tbest: 0.0037449 (750)\ttotal: 3m 53s\tremaining: 1m 17s\n",
            "751:\tlearn: 0.0015366\ttest: 0.0037440\tbest: 0.0037440 (751)\ttotal: 3m 54s\tremaining: 1m 17s\n",
            "752:\tlearn: 0.0015351\ttest: 0.0037427\tbest: 0.0037427 (752)\ttotal: 3m 54s\tremaining: 1m 17s\n",
            "753:\tlearn: 0.0015337\ttest: 0.0037423\tbest: 0.0037423 (753)\ttotal: 3m 55s\tremaining: 1m 16s\n",
            "754:\tlearn: 0.0015328\ttest: 0.0037420\tbest: 0.0037420 (754)\ttotal: 3m 55s\tremaining: 1m 16s\n",
            "755:\tlearn: 0.0015313\ttest: 0.0037418\tbest: 0.0037418 (755)\ttotal: 3m 55s\tremaining: 1m 16s\n",
            "756:\tlearn: 0.0015299\ttest: 0.0037417\tbest: 0.0037417 (756)\ttotal: 3m 56s\tremaining: 1m 15s\n",
            "757:\tlearn: 0.0015286\ttest: 0.0037416\tbest: 0.0037416 (757)\ttotal: 3m 56s\tremaining: 1m 15s\n",
            "758:\tlearn: 0.0015275\ttest: 0.0037416\tbest: 0.0037416 (757)\ttotal: 3m 57s\tremaining: 1m 15s\n",
            "759:\tlearn: 0.0015263\ttest: 0.0037414\tbest: 0.0037414 (759)\ttotal: 3m 57s\tremaining: 1m 15s\n",
            "760:\tlearn: 0.0015248\ttest: 0.0037411\tbest: 0.0037411 (760)\ttotal: 3m 58s\tremaining: 1m 14s\n",
            "761:\tlearn: 0.0015234\ttest: 0.0037410\tbest: 0.0037410 (761)\ttotal: 3m 58s\tremaining: 1m 14s\n",
            "762:\tlearn: 0.0015220\ttest: 0.0037410\tbest: 0.0037410 (761)\ttotal: 3m 59s\tremaining: 1m 14s\n",
            "763:\tlearn: 0.0015211\ttest: 0.0037412\tbest: 0.0037410 (761)\ttotal: 3m 59s\tremaining: 1m 14s\n",
            "764:\tlearn: 0.0015191\ttest: 0.0037411\tbest: 0.0037410 (761)\ttotal: 4m\tremaining: 1m 13s\n",
            "765:\tlearn: 0.0015182\ttest: 0.0037408\tbest: 0.0037408 (765)\ttotal: 4m\tremaining: 1m 13s\n",
            "766:\tlearn: 0.0015162\ttest: 0.0037409\tbest: 0.0037408 (765)\ttotal: 4m 1s\tremaining: 1m 13s\n",
            "767:\tlearn: 0.0015152\ttest: 0.0037407\tbest: 0.0037407 (767)\ttotal: 4m 1s\tremaining: 1m 12s\n",
            "768:\tlearn: 0.0015135\ttest: 0.0037404\tbest: 0.0037404 (768)\ttotal: 4m 2s\tremaining: 1m 12s\n",
            "769:\tlearn: 0.0015124\ttest: 0.0037401\tbest: 0.0037401 (769)\ttotal: 4m 2s\tremaining: 1m 12s\n",
            "770:\tlearn: 0.0015112\ttest: 0.0037399\tbest: 0.0037399 (770)\ttotal: 4m 2s\tremaining: 1m 12s\n",
            "771:\tlearn: 0.0015091\ttest: 0.0037393\tbest: 0.0037393 (771)\ttotal: 4m 3s\tremaining: 1m 11s\n",
            "772:\tlearn: 0.0015080\ttest: 0.0037393\tbest: 0.0037393 (772)\ttotal: 4m 3s\tremaining: 1m 11s\n",
            "773:\tlearn: 0.0015073\ttest: 0.0037390\tbest: 0.0037390 (773)\ttotal: 4m 3s\tremaining: 1m 11s\n",
            "774:\tlearn: 0.0015057\ttest: 0.0037386\tbest: 0.0037386 (774)\ttotal: 4m 4s\tremaining: 1m 10s\n",
            "775:\tlearn: 0.0015042\ttest: 0.0037377\tbest: 0.0037377 (775)\ttotal: 4m 4s\tremaining: 1m 10s\n",
            "776:\tlearn: 0.0015030\ttest: 0.0037378\tbest: 0.0037377 (775)\ttotal: 4m 5s\tremaining: 1m 10s\n",
            "777:\tlearn: 0.0015015\ttest: 0.0037374\tbest: 0.0037374 (777)\ttotal: 4m 5s\tremaining: 1m 10s\n",
            "778:\tlearn: 0.0014999\ttest: 0.0037373\tbest: 0.0037373 (778)\ttotal: 4m 5s\tremaining: 1m 9s\n",
            "779:\tlearn: 0.0014986\ttest: 0.0037374\tbest: 0.0037373 (778)\ttotal: 4m 6s\tremaining: 1m 9s\n",
            "780:\tlearn: 0.0014970\ttest: 0.0037372\tbest: 0.0037372 (780)\ttotal: 4m 6s\tremaining: 1m 9s\n",
            "781:\tlearn: 0.0014958\ttest: 0.0037371\tbest: 0.0037371 (781)\ttotal: 4m 6s\tremaining: 1m 8s\n",
            "782:\tlearn: 0.0014949\ttest: 0.0037362\tbest: 0.0037362 (782)\ttotal: 4m 7s\tremaining: 1m 8s\n",
            "783:\tlearn: 0.0014935\ttest: 0.0037350\tbest: 0.0037350 (783)\ttotal: 4m 7s\tremaining: 1m 8s\n",
            "784:\tlearn: 0.0014920\ttest: 0.0037350\tbest: 0.0037350 (784)\ttotal: 4m 8s\tremaining: 1m 7s\n",
            "785:\tlearn: 0.0014906\ttest: 0.0037349\tbest: 0.0037349 (785)\ttotal: 4m 8s\tremaining: 1m 7s\n",
            "786:\tlearn: 0.0014895\ttest: 0.0037350\tbest: 0.0037349 (785)\ttotal: 4m 8s\tremaining: 1m 7s\n",
            "787:\tlearn: 0.0014887\ttest: 0.0037346\tbest: 0.0037346 (787)\ttotal: 4m 9s\tremaining: 1m 7s\n",
            "788:\tlearn: 0.0014878\ttest: 0.0037344\tbest: 0.0037344 (788)\ttotal: 4m 9s\tremaining: 1m 6s\n",
            "789:\tlearn: 0.0014864\ttest: 0.0037342\tbest: 0.0037342 (789)\ttotal: 4m 10s\tremaining: 1m 6s\n",
            "790:\tlearn: 0.0014854\ttest: 0.0037337\tbest: 0.0037337 (790)\ttotal: 4m 10s\tremaining: 1m 6s\n",
            "791:\tlearn: 0.0014834\ttest: 0.0037341\tbest: 0.0037337 (790)\ttotal: 4m 10s\tremaining: 1m 5s\n",
            "792:\tlearn: 0.0014821\ttest: 0.0037334\tbest: 0.0037334 (792)\ttotal: 4m 11s\tremaining: 1m 5s\n",
            "793:\tlearn: 0.0014807\ttest: 0.0037332\tbest: 0.0037332 (793)\ttotal: 4m 11s\tremaining: 1m 5s\n",
            "794:\tlearn: 0.0014799\ttest: 0.0037335\tbest: 0.0037332 (793)\ttotal: 4m 11s\tremaining: 1m 4s\n",
            "795:\tlearn: 0.0014785\ttest: 0.0037337\tbest: 0.0037332 (793)\ttotal: 4m 12s\tremaining: 1m 4s\n",
            "796:\tlearn: 0.0014759\ttest: 0.0037334\tbest: 0.0037332 (793)\ttotal: 4m 12s\tremaining: 1m 4s\n",
            "797:\tlearn: 0.0014742\ttest: 0.0037330\tbest: 0.0037330 (797)\ttotal: 4m 12s\tremaining: 1m 4s\n",
            "798:\tlearn: 0.0014739\ttest: 0.0037329\tbest: 0.0037329 (798)\ttotal: 4m 13s\tremaining: 1m 3s\n",
            "799:\tlearn: 0.0014727\ttest: 0.0037319\tbest: 0.0037319 (799)\ttotal: 4m 13s\tremaining: 1m 3s\n",
            "800:\tlearn: 0.0014722\ttest: 0.0037321\tbest: 0.0037319 (799)\ttotal: 4m 14s\tremaining: 1m 3s\n",
            "801:\tlearn: 0.0014706\ttest: 0.0037317\tbest: 0.0037317 (801)\ttotal: 4m 14s\tremaining: 1m 2s\n",
            "802:\tlearn: 0.0014692\ttest: 0.0037309\tbest: 0.0037309 (802)\ttotal: 4m 15s\tremaining: 1m 2s\n",
            "803:\tlearn: 0.0014678\ttest: 0.0037304\tbest: 0.0037304 (803)\ttotal: 4m 15s\tremaining: 1m 2s\n",
            "804:\tlearn: 0.0014666\ttest: 0.0037300\tbest: 0.0037300 (804)\ttotal: 4m 15s\tremaining: 1m 1s\n",
            "805:\tlearn: 0.0014658\ttest: 0.0037295\tbest: 0.0037295 (805)\ttotal: 4m 16s\tremaining: 1m 1s\n",
            "806:\tlearn: 0.0014640\ttest: 0.0037291\tbest: 0.0037291 (806)\ttotal: 4m 16s\tremaining: 1m 1s\n",
            "807:\tlearn: 0.0014630\ttest: 0.0037290\tbest: 0.0037290 (807)\ttotal: 4m 16s\tremaining: 1m 1s\n",
            "808:\tlearn: 0.0014618\ttest: 0.0037284\tbest: 0.0037284 (808)\ttotal: 4m 17s\tremaining: 1m\n",
            "809:\tlearn: 0.0014605\ttest: 0.0037284\tbest: 0.0037284 (808)\ttotal: 4m 17s\tremaining: 1m\n",
            "810:\tlearn: 0.0014600\ttest: 0.0037282\tbest: 0.0037282 (810)\ttotal: 4m 18s\tremaining: 1m\n",
            "811:\tlearn: 0.0014588\ttest: 0.0037277\tbest: 0.0037277 (811)\ttotal: 4m 18s\tremaining: 59.9s\n",
            "812:\tlearn: 0.0014576\ttest: 0.0037276\tbest: 0.0037276 (812)\ttotal: 4m 19s\tremaining: 59.6s\n",
            "813:\tlearn: 0.0014568\ttest: 0.0037274\tbest: 0.0037274 (813)\ttotal: 4m 19s\tremaining: 59.3s\n",
            "814:\tlearn: 0.0014560\ttest: 0.0037271\tbest: 0.0037271 (814)\ttotal: 4m 19s\tremaining: 59s\n",
            "815:\tlearn: 0.0014549\ttest: 0.0037266\tbest: 0.0037266 (815)\ttotal: 4m 20s\tremaining: 58.7s\n",
            "816:\tlearn: 0.0014544\ttest: 0.0037265\tbest: 0.0037265 (816)\ttotal: 4m 20s\tremaining: 58.4s\n",
            "817:\tlearn: 0.0014536\ttest: 0.0037263\tbest: 0.0037263 (817)\ttotal: 4m 20s\tremaining: 58.1s\n",
            "818:\tlearn: 0.0014527\ttest: 0.0037255\tbest: 0.0037255 (818)\ttotal: 4m 21s\tremaining: 57.8s\n",
            "819:\tlearn: 0.0014519\ttest: 0.0037252\tbest: 0.0037252 (819)\ttotal: 4m 21s\tremaining: 57.5s\n",
            "820:\tlearn: 0.0014506\ttest: 0.0037248\tbest: 0.0037248 (820)\ttotal: 4m 22s\tremaining: 57.1s\n",
            "821:\tlearn: 0.0014478\ttest: 0.0037239\tbest: 0.0037239 (821)\ttotal: 4m 22s\tremaining: 56.8s\n",
            "822:\tlearn: 0.0014468\ttest: 0.0037237\tbest: 0.0037237 (822)\ttotal: 4m 22s\tremaining: 56.5s\n",
            "823:\tlearn: 0.0014458\ttest: 0.0037237\tbest: 0.0037237 (823)\ttotal: 4m 23s\tremaining: 56.2s\n",
            "824:\tlearn: 0.0014444\ttest: 0.0037231\tbest: 0.0037231 (824)\ttotal: 4m 23s\tremaining: 55.9s\n",
            "825:\tlearn: 0.0014439\ttest: 0.0037229\tbest: 0.0037229 (825)\ttotal: 4m 23s\tremaining: 55.6s\n",
            "826:\tlearn: 0.0014421\ttest: 0.0037230\tbest: 0.0037229 (825)\ttotal: 4m 24s\tremaining: 55.3s\n",
            "827:\tlearn: 0.0014414\ttest: 0.0037229\tbest: 0.0037229 (825)\ttotal: 4m 24s\tremaining: 55s\n",
            "828:\tlearn: 0.0014397\ttest: 0.0037223\tbest: 0.0037223 (828)\ttotal: 4m 25s\tremaining: 54.7s\n",
            "829:\tlearn: 0.0014382\ttest: 0.0037222\tbest: 0.0037222 (829)\ttotal: 4m 25s\tremaining: 54.4s\n",
            "830:\tlearn: 0.0014376\ttest: 0.0037225\tbest: 0.0037222 (829)\ttotal: 4m 26s\tremaining: 54.1s\n",
            "831:\tlearn: 0.0014367\ttest: 0.0037224\tbest: 0.0037222 (829)\ttotal: 4m 26s\tremaining: 53.8s\n",
            "832:\tlearn: 0.0014350\ttest: 0.0037224\tbest: 0.0037222 (829)\ttotal: 4m 26s\tremaining: 53.5s\n",
            "833:\tlearn: 0.0014330\ttest: 0.0037219\tbest: 0.0037219 (833)\ttotal: 4m 27s\tremaining: 53.2s\n",
            "834:\tlearn: 0.0014313\ttest: 0.0037211\tbest: 0.0037211 (834)\ttotal: 4m 27s\tremaining: 52.9s\n",
            "835:\tlearn: 0.0014306\ttest: 0.0037208\tbest: 0.0037208 (835)\ttotal: 4m 28s\tremaining: 52.6s\n",
            "836:\tlearn: 0.0014289\ttest: 0.0037207\tbest: 0.0037207 (836)\ttotal: 4m 28s\tremaining: 52.3s\n",
            "837:\tlearn: 0.0014276\ttest: 0.0037205\tbest: 0.0037205 (837)\ttotal: 4m 28s\tremaining: 52s\n",
            "838:\tlearn: 0.0014271\ttest: 0.0037203\tbest: 0.0037203 (838)\ttotal: 4m 29s\tremaining: 51.7s\n",
            "839:\tlearn: 0.0014262\ttest: 0.0037204\tbest: 0.0037203 (838)\ttotal: 4m 29s\tremaining: 51.4s\n",
            "840:\tlearn: 0.0014251\ttest: 0.0037204\tbest: 0.0037203 (838)\ttotal: 4m 30s\tremaining: 51.1s\n",
            "841:\tlearn: 0.0014228\ttest: 0.0037203\tbest: 0.0037203 (841)\ttotal: 4m 30s\tremaining: 50.8s\n",
            "842:\tlearn: 0.0014220\ttest: 0.0037195\tbest: 0.0037195 (842)\ttotal: 4m 31s\tremaining: 50.5s\n",
            "843:\tlearn: 0.0014207\ttest: 0.0037190\tbest: 0.0037190 (843)\ttotal: 4m 31s\tremaining: 50.2s\n",
            "844:\tlearn: 0.0014193\ttest: 0.0037192\tbest: 0.0037190 (843)\ttotal: 4m 32s\tremaining: 49.9s\n",
            "845:\tlearn: 0.0014184\ttest: 0.0037196\tbest: 0.0037190 (843)\ttotal: 4m 32s\tremaining: 49.6s\n",
            "846:\tlearn: 0.0014174\ttest: 0.0037193\tbest: 0.0037190 (843)\ttotal: 4m 33s\tremaining: 49.3s\n",
            "847:\tlearn: 0.0014163\ttest: 0.0037191\tbest: 0.0037190 (843)\ttotal: 4m 33s\tremaining: 49s\n",
            "848:\tlearn: 0.0014153\ttest: 0.0037192\tbest: 0.0037190 (843)\ttotal: 4m 33s\tremaining: 48.7s\n",
            "849:\tlearn: 0.0014136\ttest: 0.0037187\tbest: 0.0037187 (849)\ttotal: 4m 34s\tremaining: 48.4s\n",
            "850:\tlearn: 0.0014123\ttest: 0.0037183\tbest: 0.0037183 (850)\ttotal: 4m 34s\tremaining: 48.1s\n",
            "851:\tlearn: 0.0014112\ttest: 0.0037180\tbest: 0.0037180 (851)\ttotal: 4m 35s\tremaining: 47.8s\n",
            "852:\tlearn: 0.0014106\ttest: 0.0037178\tbest: 0.0037178 (852)\ttotal: 4m 35s\tremaining: 47.5s\n",
            "853:\tlearn: 0.0014087\ttest: 0.0037173\tbest: 0.0037173 (853)\ttotal: 4m 36s\tremaining: 47.2s\n",
            "854:\tlearn: 0.0014075\ttest: 0.0037172\tbest: 0.0037172 (854)\ttotal: 4m 36s\tremaining: 46.9s\n",
            "855:\tlearn: 0.0014066\ttest: 0.0037169\tbest: 0.0037169 (855)\ttotal: 4m 36s\tremaining: 46.6s\n",
            "856:\tlearn: 0.0014049\ttest: 0.0037168\tbest: 0.0037168 (856)\ttotal: 4m 37s\tremaining: 46.3s\n",
            "857:\tlearn: 0.0014036\ttest: 0.0037167\tbest: 0.0037167 (857)\ttotal: 4m 37s\tremaining: 46s\n",
            "858:\tlearn: 0.0014026\ttest: 0.0037169\tbest: 0.0037167 (857)\ttotal: 4m 38s\tremaining: 45.6s\n",
            "859:\tlearn: 0.0014008\ttest: 0.0037166\tbest: 0.0037166 (859)\ttotal: 4m 38s\tremaining: 45.3s\n",
            "860:\tlearn: 0.0014000\ttest: 0.0037164\tbest: 0.0037164 (860)\ttotal: 4m 38s\tremaining: 45s\n",
            "861:\tlearn: 0.0013989\ttest: 0.0037160\tbest: 0.0037160 (861)\ttotal: 4m 39s\tremaining: 44.7s\n",
            "862:\tlearn: 0.0013982\ttest: 0.0037158\tbest: 0.0037158 (862)\ttotal: 4m 39s\tremaining: 44.4s\n",
            "863:\tlearn: 0.0013975\ttest: 0.0037157\tbest: 0.0037157 (863)\ttotal: 4m 39s\tremaining: 44.1s\n",
            "864:\tlearn: 0.0013965\ttest: 0.0037156\tbest: 0.0037156 (864)\ttotal: 4m 40s\tremaining: 43.8s\n",
            "865:\tlearn: 0.0013956\ttest: 0.0037156\tbest: 0.0037156 (865)\ttotal: 4m 40s\tremaining: 43.4s\n",
            "866:\tlearn: 0.0013950\ttest: 0.0037154\tbest: 0.0037154 (866)\ttotal: 4m 41s\tremaining: 43.1s\n",
            "867:\tlearn: 0.0013937\ttest: 0.0037154\tbest: 0.0037154 (866)\ttotal: 4m 41s\tremaining: 42.8s\n",
            "868:\tlearn: 0.0013926\ttest: 0.0037153\tbest: 0.0037153 (868)\ttotal: 4m 41s\tremaining: 42.5s\n",
            "869:\tlearn: 0.0013915\ttest: 0.0037146\tbest: 0.0037146 (869)\ttotal: 4m 42s\tremaining: 42.2s\n",
            "870:\tlearn: 0.0013906\ttest: 0.0037145\tbest: 0.0037145 (870)\ttotal: 4m 42s\tremaining: 41.9s\n",
            "871:\tlearn: 0.0013891\ttest: 0.0037141\tbest: 0.0037141 (871)\ttotal: 4m 42s\tremaining: 41.5s\n",
            "872:\tlearn: 0.0013883\ttest: 0.0037138\tbest: 0.0037138 (872)\ttotal: 4m 43s\tremaining: 41.2s\n",
            "873:\tlearn: 0.0013872\ttest: 0.0037134\tbest: 0.0037134 (873)\ttotal: 4m 43s\tremaining: 40.9s\n",
            "874:\tlearn: 0.0013859\ttest: 0.0037130\tbest: 0.0037130 (874)\ttotal: 4m 44s\tremaining: 40.6s\n",
            "875:\tlearn: 0.0013850\ttest: 0.0037127\tbest: 0.0037127 (875)\ttotal: 4m 44s\tremaining: 40.3s\n",
            "876:\tlearn: 0.0013838\ttest: 0.0037123\tbest: 0.0037123 (876)\ttotal: 4m 44s\tremaining: 40s\n",
            "877:\tlearn: 0.0013826\ttest: 0.0037122\tbest: 0.0037122 (877)\ttotal: 4m 45s\tremaining: 39.6s\n",
            "878:\tlearn: 0.0013817\ttest: 0.0037121\tbest: 0.0037121 (878)\ttotal: 4m 45s\tremaining: 39.3s\n",
            "879:\tlearn: 0.0013803\ttest: 0.0037120\tbest: 0.0037120 (879)\ttotal: 4m 46s\tremaining: 39s\n",
            "880:\tlearn: 0.0013795\ttest: 0.0037120\tbest: 0.0037120 (879)\ttotal: 4m 46s\tremaining: 38.7s\n",
            "881:\tlearn: 0.0013790\ttest: 0.0037120\tbest: 0.0037120 (879)\ttotal: 4m 47s\tremaining: 38.4s\n",
            "882:\tlearn: 0.0013777\ttest: 0.0037121\tbest: 0.0037120 (879)\ttotal: 4m 47s\tremaining: 38.1s\n",
            "883:\tlearn: 0.0013766\ttest: 0.0037122\tbest: 0.0037120 (879)\ttotal: 4m 47s\tremaining: 37.8s\n",
            "884:\tlearn: 0.0013758\ttest: 0.0037120\tbest: 0.0037120 (879)\ttotal: 4m 48s\tremaining: 37.5s\n",
            "885:\tlearn: 0.0013754\ttest: 0.0037119\tbest: 0.0037119 (885)\ttotal: 4m 48s\tremaining: 37.1s\n",
            "886:\tlearn: 0.0013745\ttest: 0.0037121\tbest: 0.0037119 (885)\ttotal: 4m 49s\tremaining: 36.8s\n",
            "887:\tlearn: 0.0013732\ttest: 0.0037118\tbest: 0.0037118 (887)\ttotal: 4m 49s\tremaining: 36.5s\n",
            "888:\tlearn: 0.0013719\ttest: 0.0037117\tbest: 0.0037117 (888)\ttotal: 4m 49s\tremaining: 36.2s\n",
            "889:\tlearn: 0.0013714\ttest: 0.0037116\tbest: 0.0037116 (889)\ttotal: 4m 50s\tremaining: 35.9s\n",
            "890:\tlearn: 0.0013709\ttest: 0.0037109\tbest: 0.0037109 (890)\ttotal: 4m 50s\tremaining: 35.5s\n",
            "891:\tlearn: 0.0013699\ttest: 0.0037109\tbest: 0.0037109 (891)\ttotal: 4m 50s\tremaining: 35.2s\n",
            "892:\tlearn: 0.0013687\ttest: 0.0037111\tbest: 0.0037109 (891)\ttotal: 4m 51s\tremaining: 34.9s\n",
            "893:\tlearn: 0.0013667\ttest: 0.0037108\tbest: 0.0037108 (893)\ttotal: 4m 51s\tremaining: 34.6s\n",
            "894:\tlearn: 0.0013657\ttest: 0.0037103\tbest: 0.0037103 (894)\ttotal: 4m 51s\tremaining: 34.3s\n",
            "895:\tlearn: 0.0013652\ttest: 0.0037103\tbest: 0.0037103 (895)\ttotal: 4m 52s\tremaining: 33.9s\n",
            "896:\tlearn: 0.0013649\ttest: 0.0037101\tbest: 0.0037101 (896)\ttotal: 4m 52s\tremaining: 33.6s\n",
            "897:\tlearn: 0.0013637\ttest: 0.0037104\tbest: 0.0037101 (896)\ttotal: 4m 53s\tremaining: 33.3s\n",
            "898:\tlearn: 0.0013630\ttest: 0.0037101\tbest: 0.0037101 (896)\ttotal: 4m 53s\tremaining: 33s\n",
            "899:\tlearn: 0.0013621\ttest: 0.0037102\tbest: 0.0037101 (896)\ttotal: 4m 53s\tremaining: 32.6s\n",
            "900:\tlearn: 0.0013608\ttest: 0.0037090\tbest: 0.0037090 (900)\ttotal: 4m 54s\tremaining: 32.3s\n",
            "901:\tlearn: 0.0013599\ttest: 0.0037087\tbest: 0.0037087 (901)\ttotal: 4m 54s\tremaining: 32s\n",
            "902:\tlearn: 0.0013591\ttest: 0.0037090\tbest: 0.0037087 (901)\ttotal: 4m 54s\tremaining: 31.7s\n",
            "903:\tlearn: 0.0013581\ttest: 0.0037089\tbest: 0.0037087 (901)\ttotal: 4m 55s\tremaining: 31.4s\n",
            "904:\tlearn: 0.0013579\ttest: 0.0037090\tbest: 0.0037087 (901)\ttotal: 4m 55s\tremaining: 31s\n",
            "905:\tlearn: 0.0013575\ttest: 0.0037089\tbest: 0.0037087 (901)\ttotal: 4m 56s\tremaining: 30.7s\n",
            "906:\tlearn: 0.0013570\ttest: 0.0037086\tbest: 0.0037086 (906)\ttotal: 4m 56s\tremaining: 30.4s\n",
            "907:\tlearn: 0.0013562\ttest: 0.0037080\tbest: 0.0037080 (907)\ttotal: 4m 56s\tremaining: 30.1s\n",
            "908:\tlearn: 0.0013558\ttest: 0.0037080\tbest: 0.0037080 (907)\ttotal: 4m 57s\tremaining: 29.8s\n",
            "909:\tlearn: 0.0013546\ttest: 0.0037079\tbest: 0.0037079 (909)\ttotal: 4m 57s\tremaining: 29.4s\n",
            "910:\tlearn: 0.0013536\ttest: 0.0037075\tbest: 0.0037075 (910)\ttotal: 4m 57s\tremaining: 29.1s\n",
            "911:\tlearn: 0.0013521\ttest: 0.0037065\tbest: 0.0037065 (911)\ttotal: 4m 58s\tremaining: 28.8s\n",
            "912:\tlearn: 0.0013508\ttest: 0.0037066\tbest: 0.0037065 (911)\ttotal: 4m 58s\tremaining: 28.5s\n",
            "913:\tlearn: 0.0013496\ttest: 0.0037061\tbest: 0.0037061 (913)\ttotal: 4m 58s\tremaining: 28.1s\n",
            "914:\tlearn: 0.0013485\ttest: 0.0037062\tbest: 0.0037061 (913)\ttotal: 4m 59s\tremaining: 27.8s\n",
            "915:\tlearn: 0.0013473\ttest: 0.0037059\tbest: 0.0037059 (915)\ttotal: 4m 59s\tremaining: 27.5s\n",
            "916:\tlearn: 0.0013463\ttest: 0.0037059\tbest: 0.0037059 (915)\ttotal: 5m\tremaining: 27.2s\n",
            "917:\tlearn: 0.0013449\ttest: 0.0037056\tbest: 0.0037056 (917)\ttotal: 5m\tremaining: 26.8s\n",
            "918:\tlearn: 0.0013441\ttest: 0.0037054\tbest: 0.0037054 (918)\ttotal: 5m\tremaining: 26.5s\n",
            "919:\tlearn: 0.0013430\ttest: 0.0037051\tbest: 0.0037051 (919)\ttotal: 5m 1s\tremaining: 26.2s\n",
            "920:\tlearn: 0.0013423\ttest: 0.0037050\tbest: 0.0037050 (920)\ttotal: 5m 1s\tremaining: 25.9s\n",
            "921:\tlearn: 0.0013415\ttest: 0.0037046\tbest: 0.0037046 (921)\ttotal: 5m 1s\tremaining: 25.5s\n",
            "922:\tlearn: 0.0013411\ttest: 0.0037044\tbest: 0.0037044 (922)\ttotal: 5m 2s\tremaining: 25.2s\n",
            "923:\tlearn: 0.0013398\ttest: 0.0037038\tbest: 0.0037038 (923)\ttotal: 5m 2s\tremaining: 24.9s\n",
            "924:\tlearn: 0.0013391\ttest: 0.0037038\tbest: 0.0037038 (924)\ttotal: 5m 3s\tremaining: 24.6s\n",
            "925:\tlearn: 0.0013380\ttest: 0.0037038\tbest: 0.0037038 (924)\ttotal: 5m 3s\tremaining: 24.2s\n",
            "926:\tlearn: 0.0013365\ttest: 0.0037033\tbest: 0.0037033 (926)\ttotal: 5m 3s\tremaining: 23.9s\n",
            "927:\tlearn: 0.0013355\ttest: 0.0037033\tbest: 0.0037033 (926)\ttotal: 5m 4s\tremaining: 23.6s\n",
            "928:\tlearn: 0.0013342\ttest: 0.0037030\tbest: 0.0037030 (928)\ttotal: 5m 4s\tremaining: 23.3s\n",
            "929:\tlearn: 0.0013336\ttest: 0.0037028\tbest: 0.0037028 (929)\ttotal: 5m 4s\tremaining: 22.9s\n",
            "930:\tlearn: 0.0013325\ttest: 0.0037029\tbest: 0.0037028 (929)\ttotal: 5m 4s\tremaining: 22.6s\n",
            "931:\tlearn: 0.0013302\ttest: 0.0037029\tbest: 0.0037028 (929)\ttotal: 5m 5s\tremaining: 22.3s\n",
            "932:\tlearn: 0.0013289\ttest: 0.0037025\tbest: 0.0037025 (932)\ttotal: 5m 5s\tremaining: 21.9s\n",
            "933:\tlearn: 0.0013282\ttest: 0.0037025\tbest: 0.0037025 (933)\ttotal: 5m 6s\tremaining: 21.6s\n",
            "934:\tlearn: 0.0013275\ttest: 0.0037021\tbest: 0.0037021 (934)\ttotal: 5m 6s\tremaining: 21.3s\n",
            "935:\tlearn: 0.0013263\ttest: 0.0037019\tbest: 0.0037019 (935)\ttotal: 5m 6s\tremaining: 21s\n",
            "936:\tlearn: 0.0013257\ttest: 0.0037017\tbest: 0.0037017 (936)\ttotal: 5m 6s\tremaining: 20.6s\n",
            "937:\tlearn: 0.0013252\ttest: 0.0037016\tbest: 0.0037016 (937)\ttotal: 5m 7s\tremaining: 20.3s\n",
            "938:\tlearn: 0.0013240\ttest: 0.0037014\tbest: 0.0037014 (938)\ttotal: 5m 7s\tremaining: 20s\n",
            "939:\tlearn: 0.0013230\ttest: 0.0037010\tbest: 0.0037010 (939)\ttotal: 5m 7s\tremaining: 19.7s\n",
            "940:\tlearn: 0.0013218\ttest: 0.0037011\tbest: 0.0037010 (939)\ttotal: 5m 8s\tremaining: 19.3s\n",
            "941:\tlearn: 0.0013207\ttest: 0.0037008\tbest: 0.0037008 (941)\ttotal: 5m 8s\tremaining: 19s\n",
            "942:\tlearn: 0.0013192\ttest: 0.0037008\tbest: 0.0037008 (941)\ttotal: 5m 8s\tremaining: 18.7s\n",
            "943:\tlearn: 0.0013170\ttest: 0.0037008\tbest: 0.0037008 (943)\ttotal: 5m 9s\tremaining: 18.3s\n",
            "944:\tlearn: 0.0013157\ttest: 0.0037006\tbest: 0.0037006 (944)\ttotal: 5m 9s\tremaining: 18s\n",
            "945:\tlearn: 0.0013145\ttest: 0.0037006\tbest: 0.0037006 (944)\ttotal: 5m 9s\tremaining: 17.7s\n",
            "946:\tlearn: 0.0013139\ttest: 0.0037005\tbest: 0.0037005 (946)\ttotal: 5m 10s\tremaining: 17.4s\n",
            "947:\tlearn: 0.0013128\ttest: 0.0037004\tbest: 0.0037004 (947)\ttotal: 5m 10s\tremaining: 17s\n",
            "948:\tlearn: 0.0013108\ttest: 0.0037004\tbest: 0.0037004 (947)\ttotal: 5m 10s\tremaining: 16.7s\n",
            "949:\tlearn: 0.0013092\ttest: 0.0037001\tbest: 0.0037001 (949)\ttotal: 5m 11s\tremaining: 16.4s\n",
            "950:\tlearn: 0.0013082\ttest: 0.0037002\tbest: 0.0037001 (949)\ttotal: 5m 11s\tremaining: 16.1s\n",
            "951:\tlearn: 0.0013078\ttest: 0.0037003\tbest: 0.0037001 (949)\ttotal: 5m 11s\tremaining: 15.7s\n",
            "952:\tlearn: 0.0013073\ttest: 0.0037002\tbest: 0.0037001 (949)\ttotal: 5m 12s\tremaining: 15.4s\n",
            "953:\tlearn: 0.0013067\ttest: 0.0036999\tbest: 0.0036999 (953)\ttotal: 5m 12s\tremaining: 15.1s\n",
            "954:\tlearn: 0.0013062\ttest: 0.0036997\tbest: 0.0036997 (954)\ttotal: 5m 12s\tremaining: 14.7s\n",
            "955:\tlearn: 0.0013050\ttest: 0.0036995\tbest: 0.0036995 (955)\ttotal: 5m 13s\tremaining: 14.4s\n",
            "956:\tlearn: 0.0013043\ttest: 0.0036990\tbest: 0.0036990 (956)\ttotal: 5m 13s\tremaining: 14.1s\n",
            "957:\tlearn: 0.0013034\ttest: 0.0036990\tbest: 0.0036990 (957)\ttotal: 5m 14s\tremaining: 13.8s\n",
            "958:\tlearn: 0.0013022\ttest: 0.0036989\tbest: 0.0036989 (958)\ttotal: 5m 14s\tremaining: 13.4s\n",
            "959:\tlearn: 0.0013012\ttest: 0.0036986\tbest: 0.0036986 (959)\ttotal: 5m 14s\tremaining: 13.1s\n",
            "960:\tlearn: 0.0013006\ttest: 0.0036988\tbest: 0.0036986 (959)\ttotal: 5m 15s\tremaining: 12.8s\n",
            "961:\tlearn: 0.0012997\ttest: 0.0036982\tbest: 0.0036982 (961)\ttotal: 5m 15s\tremaining: 12.5s\n",
            "962:\tlearn: 0.0012989\ttest: 0.0036983\tbest: 0.0036982 (961)\ttotal: 5m 15s\tremaining: 12.1s\n",
            "963:\tlearn: 0.0012978\ttest: 0.0036985\tbest: 0.0036982 (961)\ttotal: 5m 16s\tremaining: 11.8s\n",
            "964:\tlearn: 0.0012956\ttest: 0.0036981\tbest: 0.0036981 (964)\ttotal: 5m 16s\tremaining: 11.5s\n",
            "965:\tlearn: 0.0012944\ttest: 0.0036982\tbest: 0.0036981 (964)\ttotal: 5m 16s\tremaining: 11.1s\n",
            "966:\tlearn: 0.0012930\ttest: 0.0036982\tbest: 0.0036981 (964)\ttotal: 5m 17s\tremaining: 10.8s\n",
            "967:\tlearn: 0.0012923\ttest: 0.0036979\tbest: 0.0036979 (967)\ttotal: 5m 17s\tremaining: 10.5s\n",
            "968:\tlearn: 0.0012916\ttest: 0.0036974\tbest: 0.0036974 (968)\ttotal: 5m 17s\tremaining: 10.2s\n",
            "969:\tlearn: 0.0012904\ttest: 0.0036971\tbest: 0.0036971 (969)\ttotal: 5m 18s\tremaining: 9.84s\n",
            "970:\tlearn: 0.0012895\ttest: 0.0036971\tbest: 0.0036971 (970)\ttotal: 5m 18s\tremaining: 9.51s\n",
            "971:\tlearn: 0.0012888\ttest: 0.0036972\tbest: 0.0036971 (970)\ttotal: 5m 18s\tremaining: 9.18s\n",
            "972:\tlearn: 0.0012881\ttest: 0.0036970\tbest: 0.0036970 (972)\ttotal: 5m 19s\tremaining: 8.86s\n",
            "973:\tlearn: 0.0012868\ttest: 0.0036970\tbest: 0.0036970 (973)\ttotal: 5m 19s\tremaining: 8.53s\n",
            "974:\tlearn: 0.0012859\ttest: 0.0036963\tbest: 0.0036963 (974)\ttotal: 5m 19s\tremaining: 8.2s\n",
            "975:\tlearn: 0.0012848\ttest: 0.0036958\tbest: 0.0036958 (975)\ttotal: 5m 20s\tremaining: 7.88s\n",
            "976:\tlearn: 0.0012843\ttest: 0.0036957\tbest: 0.0036957 (976)\ttotal: 5m 20s\tremaining: 7.55s\n",
            "977:\tlearn: 0.0012828\ttest: 0.0036957\tbest: 0.0036957 (977)\ttotal: 5m 21s\tremaining: 7.22s\n",
            "978:\tlearn: 0.0012818\ttest: 0.0036956\tbest: 0.0036956 (978)\ttotal: 5m 21s\tremaining: 6.89s\n",
            "979:\tlearn: 0.0012814\ttest: 0.0036955\tbest: 0.0036955 (979)\ttotal: 5m 21s\tremaining: 6.57s\n",
            "980:\tlearn: 0.0012805\ttest: 0.0036953\tbest: 0.0036953 (980)\ttotal: 5m 22s\tremaining: 6.24s\n",
            "981:\tlearn: 0.0012798\ttest: 0.0036952\tbest: 0.0036952 (981)\ttotal: 5m 22s\tremaining: 5.91s\n",
            "982:\tlearn: 0.0012790\ttest: 0.0036948\tbest: 0.0036948 (982)\ttotal: 5m 22s\tremaining: 5.58s\n",
            "983:\tlearn: 0.0012784\ttest: 0.0036947\tbest: 0.0036947 (983)\ttotal: 5m 23s\tremaining: 5.25s\n",
            "984:\tlearn: 0.0012776\ttest: 0.0036942\tbest: 0.0036942 (984)\ttotal: 5m 23s\tremaining: 4.93s\n",
            "985:\tlearn: 0.0012761\ttest: 0.0036941\tbest: 0.0036941 (985)\ttotal: 5m 23s\tremaining: 4.6s\n",
            "986:\tlearn: 0.0012745\ttest: 0.0036939\tbest: 0.0036939 (986)\ttotal: 5m 24s\tremaining: 4.27s\n",
            "987:\tlearn: 0.0012736\ttest: 0.0036935\tbest: 0.0036935 (987)\ttotal: 5m 24s\tremaining: 3.94s\n",
            "988:\tlearn: 0.0012728\ttest: 0.0036933\tbest: 0.0036933 (988)\ttotal: 5m 25s\tremaining: 3.62s\n",
            "989:\tlearn: 0.0012722\ttest: 0.0036931\tbest: 0.0036931 (989)\ttotal: 5m 25s\tremaining: 3.29s\n",
            "990:\tlearn: 0.0012719\ttest: 0.0036928\tbest: 0.0036928 (990)\ttotal: 5m 25s\tremaining: 2.96s\n",
            "991:\tlearn: 0.0012713\ttest: 0.0036929\tbest: 0.0036928 (990)\ttotal: 5m 26s\tremaining: 2.63s\n",
            "992:\tlearn: 0.0012698\ttest: 0.0036929\tbest: 0.0036928 (990)\ttotal: 5m 26s\tremaining: 2.3s\n",
            "993:\tlearn: 0.0012682\ttest: 0.0036922\tbest: 0.0036922 (993)\ttotal: 5m 26s\tremaining: 1.97s\n",
            "994:\tlearn: 0.0012670\ttest: 0.0036920\tbest: 0.0036920 (994)\ttotal: 5m 27s\tremaining: 1.64s\n",
            "995:\tlearn: 0.0012665\ttest: 0.0036921\tbest: 0.0036920 (994)\ttotal: 5m 27s\tremaining: 1.31s\n",
            "996:\tlearn: 0.0012658\ttest: 0.0036918\tbest: 0.0036918 (996)\ttotal: 5m 28s\tremaining: 987ms\n",
            "997:\tlearn: 0.0012650\ttest: 0.0036917\tbest: 0.0036917 (997)\ttotal: 5m 28s\tremaining: 658ms\n",
            "998:\tlearn: 0.0012646\ttest: 0.0036916\tbest: 0.0036916 (998)\ttotal: 5m 28s\tremaining: 329ms\n",
            "999:\tlearn: 0.0012638\ttest: 0.0036914\tbest: 0.0036914 (999)\ttotal: 5m 29s\tremaining: 0us\n",
            "\n",
            "bestTest = 0.003691374537\n",
            "bestIteration = 999\n",
            "\n"
          ]
        },
        {
          "output_type": "execute_result",
          "data": {
            "text/plain": [
              "<catboost.core.CatBoostRegressor at 0x7ff6c76bca90>"
            ]
          },
          "metadata": {},
          "execution_count": 14
        }
      ]
    },
    {
      "cell_type": "markdown",
      "source": [
        "### Pipeline: Part 3 - Predictions and Submission Creation"
      ],
      "metadata": {
        "id": "U45O8q31gNh1"
      }
    },
    {
      "cell_type": "code",
      "source": [
        "# prediction creation\n",
        "predictions = model.predict(test)\n",
        "\n",
        "# RMSLE minimizer conversion\n",
        "predictions = np.exp(predictions)\n",
        "def convert(x):\n",
        "  return((x-1)*(y_max-y_min)+y_min)\n",
        "vfunc = np.vectorize(convert)\n",
        "predictions = vfunc(predictions)\n",
        "\n",
        "# submission creation\n",
        "submission = pd.DataFrame()\n",
        "submission['Id'] = ID\n",
        "submission['arr_delay'] = predictions\n",
        "submission.to_csv(\"CatBoostSubmission.csv\", index=False)"
      ],
      "metadata": {
        "id": "Q4uBMKqiJNOP"
      },
      "execution_count": 15,
      "outputs": []
    },
    {
      "cell_type": "code",
      "source": [
        "submission.head()"
      ],
      "metadata": {
        "colab": {
          "base_uri": "https://localhost:8080/",
          "height": 206
        },
        "id": "4ssJH0n4b2RL",
        "outputId": "d3ea8e5b-79de-4efc-af03-65833d0710b0"
      },
      "execution_count": 21,
      "outputs": [
        {
          "output_type": "execute_result",
          "data": {
            "text/html": [
              "\n",
              "  <div id=\"df-6f9b009c-3194-41bb-b4e5-799cd4e1c5c2\">\n",
              "    <div class=\"colab-df-container\">\n",
              "      <div>\n",
              "<style scoped>\n",
              "    .dataframe tbody tr th:only-of-type {\n",
              "        vertical-align: middle;\n",
              "    }\n",
              "\n",
              "    .dataframe tbody tr th {\n",
              "        vertical-align: top;\n",
              "    }\n",
              "\n",
              "    .dataframe thead th {\n",
              "        text-align: right;\n",
              "    }\n",
              "</style>\n",
              "<table border=\"1\" class=\"dataframe\">\n",
              "  <thead>\n",
              "    <tr style=\"text-align: right;\">\n",
              "      <th></th>\n",
              "      <th>Id</th>\n",
              "      <th>arr_delay</th>\n",
              "    </tr>\n",
              "  </thead>\n",
              "  <tbody>\n",
              "    <tr>\n",
              "      <th>0</th>\n",
              "      <td>201401010001-PDX-ANC-N508AS</td>\n",
              "      <td>83.062901</td>\n",
              "    </tr>\n",
              "    <tr>\n",
              "      <th>1</th>\n",
              "      <td>201401010034-SEA-ANC-N762AS</td>\n",
              "      <td>35.025507</td>\n",
              "    </tr>\n",
              "    <tr>\n",
              "      <th>2</th>\n",
              "      <td>201401010614-SEA-SNA-N607AS</td>\n",
              "      <td>-1.064930</td>\n",
              "    </tr>\n",
              "    <tr>\n",
              "      <th>3</th>\n",
              "      <td>201401010648-SEA-MSP-N419AS</td>\n",
              "      <td>-14.156879</td>\n",
              "    </tr>\n",
              "    <tr>\n",
              "      <th>4</th>\n",
              "      <td>201401010650-SEA-PHX-N626AW</td>\n",
              "      <td>76.356035</td>\n",
              "    </tr>\n",
              "  </tbody>\n",
              "</table>\n",
              "</div>\n",
              "      <button class=\"colab-df-convert\" onclick=\"convertToInteractive('df-6f9b009c-3194-41bb-b4e5-799cd4e1c5c2')\"\n",
              "              title=\"Convert this dataframe to an interactive table.\"\n",
              "              style=\"display:none;\">\n",
              "        \n",
              "  <svg xmlns=\"http://www.w3.org/2000/svg\" height=\"24px\"viewBox=\"0 0 24 24\"\n",
              "       width=\"24px\">\n",
              "    <path d=\"M0 0h24v24H0V0z\" fill=\"none\"/>\n",
              "    <path d=\"M18.56 5.44l.94 2.06.94-2.06 2.06-.94-2.06-.94-.94-2.06-.94 2.06-2.06.94zm-11 1L8.5 8.5l.94-2.06 2.06-.94-2.06-.94L8.5 2.5l-.94 2.06-2.06.94zm10 10l.94 2.06.94-2.06 2.06-.94-2.06-.94-.94-2.06-.94 2.06-2.06.94z\"/><path d=\"M17.41 7.96l-1.37-1.37c-.4-.4-.92-.59-1.43-.59-.52 0-1.04.2-1.43.59L10.3 9.45l-7.72 7.72c-.78.78-.78 2.05 0 2.83L4 21.41c.39.39.9.59 1.41.59.51 0 1.02-.2 1.41-.59l7.78-7.78 2.81-2.81c.8-.78.8-2.07 0-2.86zM5.41 20L4 18.59l7.72-7.72 1.47 1.35L5.41 20z\"/>\n",
              "  </svg>\n",
              "      </button>\n",
              "      \n",
              "  <style>\n",
              "    .colab-df-container {\n",
              "      display:flex;\n",
              "      flex-wrap:wrap;\n",
              "      gap: 12px;\n",
              "    }\n",
              "\n",
              "    .colab-df-convert {\n",
              "      background-color: #E8F0FE;\n",
              "      border: none;\n",
              "      border-radius: 50%;\n",
              "      cursor: pointer;\n",
              "      display: none;\n",
              "      fill: #1967D2;\n",
              "      height: 32px;\n",
              "      padding: 0 0 0 0;\n",
              "      width: 32px;\n",
              "    }\n",
              "\n",
              "    .colab-df-convert:hover {\n",
              "      background-color: #E2EBFA;\n",
              "      box-shadow: 0px 1px 2px rgba(60, 64, 67, 0.3), 0px 1px 3px 1px rgba(60, 64, 67, 0.15);\n",
              "      fill: #174EA6;\n",
              "    }\n",
              "\n",
              "    [theme=dark] .colab-df-convert {\n",
              "      background-color: #3B4455;\n",
              "      fill: #D2E3FC;\n",
              "    }\n",
              "\n",
              "    [theme=dark] .colab-df-convert:hover {\n",
              "      background-color: #434B5C;\n",
              "      box-shadow: 0px 1px 3px 1px rgba(0, 0, 0, 0.15);\n",
              "      filter: drop-shadow(0px 1px 2px rgba(0, 0, 0, 0.3));\n",
              "      fill: #FFFFFF;\n",
              "    }\n",
              "  </style>\n",
              "\n",
              "      <script>\n",
              "        const buttonEl =\n",
              "          document.querySelector('#df-6f9b009c-3194-41bb-b4e5-799cd4e1c5c2 button.colab-df-convert');\n",
              "        buttonEl.style.display =\n",
              "          google.colab.kernel.accessAllowed ? 'block' : 'none';\n",
              "\n",
              "        async function convertToInteractive(key) {\n",
              "          const element = document.querySelector('#df-6f9b009c-3194-41bb-b4e5-799cd4e1c5c2');\n",
              "          const dataTable =\n",
              "            await google.colab.kernel.invokeFunction('convertToInteractive',\n",
              "                                                     [key], {});\n",
              "          if (!dataTable) return;\n",
              "\n",
              "          const docLinkHtml = 'Like what you see? Visit the ' +\n",
              "            '<a target=\"_blank\" href=https://colab.research.google.com/notebooks/data_table.ipynb>data table notebook</a>'\n",
              "            + ' to learn more about interactive tables.';\n",
              "          element.innerHTML = '';\n",
              "          dataTable['output_type'] = 'display_data';\n",
              "          await google.colab.output.renderOutput(dataTable, element);\n",
              "          const docLink = document.createElement('div');\n",
              "          docLink.innerHTML = docLinkHtml;\n",
              "          element.appendChild(docLink);\n",
              "        }\n",
              "      </script>\n",
              "    </div>\n",
              "  </div>\n",
              "  "
            ],
            "text/plain": [
              "                            Id  arr_delay\n",
              "0  201401010001-PDX-ANC-N508AS  83.062901\n",
              "1  201401010034-SEA-ANC-N762AS  35.025507\n",
              "2  201401010614-SEA-SNA-N607AS  -1.064930\n",
              "3  201401010648-SEA-MSP-N419AS -14.156879\n",
              "4  201401010650-SEA-PHX-N626AW  76.356035"
            ]
          },
          "metadata": {},
          "execution_count": 21
        }
      ]
    },
    {
      "cell_type": "markdown",
      "source": [
        "## Report:"
      ],
      "metadata": {
        "id": "JqwRRuWZh1kJ"
      }
    },
    {
      "cell_type": "markdown",
      "source": [
        "### Pipeline Description\n",
        "\n",
        "![ML Pipeline.png](data:image/png;base64,iVBORw0KGgoAAAANSUhEUgAAA+UAAAGdCAIAAAD7T0VYAAAACXBIWXMAAA7DAAAOwwHHb6hkAAAAGXRFWHRTb2Z0d2FyZQBwYWludC5uZXQgNC4wLjEzNANbegAAcfBJREFUeF7t3XdAE/fDx3H7q9o6atkEwsa9t6g469a6cGIFBwpucNW9ABEERFBQNoKEvUmYSSAQINihta1tta11W+tWFNHn+SZ3ICJQoKKX5PP6o/WOS3LJXe7eOS5Hi/8DAAAAAACmQq8DAAAAADAXeh0AAAAAgLnQ6wAAAAAAzIVeBwAAAABgLvQ6AAAAAABzodcBAAAAAJgLvQ4AAAAAwFzodQAAAAAA5kKvAwAAAAAwF3odAAAAAIC50OsAAAAAAMyFXgcAAAAAYC70OgAAAAAAc6HXAQAAAACYC70OAAAAAMBc6HUAAAAAAOZCrwMAAAAAMBd6HQCYKCYmxsnJaR+AouNyuU+fPqXXewCA2qDXAYCJli1bNnr0aCsrq+UAiqtfv347d+68e/cuvd4DANQGvQ4ATDR37lwHB4dz5879CaC45syZs3Xr1n/++Yde7wEAaoNeBwAmIr2+d+/ee/fu0cMAisja2vrrr79GrwNA/dDrAMBE6HVQBuh1AGgI9DoAMBF6HZQBeh0AGgK9DgBMhF4HZYBeB4CGQK8DABOh10EZoNcBoCHQ6wDAROh1UAbodQBoCPQ6ADAReh2UAXodABoCvQ4ATIReB2WAXgeAhkCvAwAToddBGaDXAaAh0OsAwETodVAG6HUAaAj0OgAwEXodlAF6HQAaAr0OAEyEXgdlgF4HgIZArwMAE6HXQRmg1wGgIdDrAMBE6HVQBuh1AGgI9DoAMBF6HZQBeh0AGgK9DgBMhF4HZYBeB4CGQK8DABMpTq9X/FOSk5YYn37+5sPyl/Q44vntCzlpySmZ39x7+vz5Pxd4ScnfXL77vOIV/eO3kGmk06eX3HnyrPpEN87lpSbFiy/cfFb93utRcTsvPqn00j/P6nqsin8KU9POXL5bbYLnFwpzklNTklPeFB8v+Oby0+cV9FR1++dCYZrgu7+fPq/r6TXkFVBI6HUAaAj0OgAwkeL0+tML60cO6WxgZBtS8Pfjcnrk//3f+YgVZn06Go12++Hag0cXYswH93XOOHf/eZ3N/eRCzMghfY2MOsV9+3vZ60K+4TfOvJehwTgX7rUHz+hx9Xv6s/Wwwa68uh/r6YUlw4e4vjEzT2KWjOzbycjQ6E0GBmOd067d//fHvRAxZkj/LqkXLr/xUaOaJxcizAf3qf8VUEjodQBoCPQ6ADCR4vR62fn1pvrtW7RQme1x7tZDukYrbpwY1lW95UctRhz8nvT6z6dN9DV3Jn1z71ndvf5zjIm+VosWLVaeFNyp7P6yP3mDDVkft2gxcW/ijQZ0s1T5z0tN9Z3reayy8wtM9Z3emODlnQvffyspOXPmTIzzbG3Vka4RXHFxCXH2z7vPX/x7YT++UiwSCq4/elrXofiXj68UikR//PPohXIdXkevA0CDoNcBgIkUp9efnd9kqv8ZCe3PhoaX/kUVa9kfyUMMtU0MW7Qa6XhWenw90sRAc3fSN/fr6fULHDJNT8MWOl+6nrvxgJruh7A1+prks0CL8XuSrkt7/VFJwrGJY0cOIKy3x5OHo0+SeVAY7T5hzAgy1t3X3VRbcy/1WM9v5AbuHz/KnEy+8WDoj7cfS3P52flFpvoHa8zMKyny/58jbfU1pyd+f+1ZhWzUq+cl4U4eEclxvrvGj3YQ/vr33b++Cdi/cpS5mWwWjoou3nle8ep6UeQer9jf7j4uv/2N55pNXqGnPLaPox42WXK17MWr59eL3DY7pnxz9dH1M7VOQB664p8Lpw5sGW0+bLbdwej4CHfnsHM3HpbLed+j1wGgIdDrAMBEitTrq0z1x1gsHNlBa+Vx4e1H0kPjP4Qt1h+wfLfDdE1z97N/3W9Yr5Np5u7fbaNp2CW89KK0+ytueA/rMXL+ookdPh+3O+na/YclQdOG9mBNtdt+1Nf1K+NO3Tv3jCy5+PTF85KgqWbdtYbNX71j64Zu3Tu3bNlS9lh/R6+b2M9QY4HDNscdtqadu3W1PPbDrUcva+31ShcibQ00pyedvV75wycx6/t26WRooNNv3JRNeRfPekwc1Ul9msM+T/cDm6eadukxz/fCrUe/xNj36DYn9acb936K7d/JWJutN22F3e7dq/urGXTsvPfM5fsPf43p362zU9r3N85G1zpBRdkl5ymjO2mMsN22d6vtxF7djbU0ZiWfv1n3CyYf0OsA0BDodQBgIkXqdVtT/QUHAo+t0uk8yfG7aw9eVtw4PKzrxO2necGr9UYcOXu54b1uE5OdtMiQbXc8m3R/2cXkwQba+4JPrNbVGb876fJvuWMH6o5zOFr669X7D+5eEXPmsrXGO6X+9Ufe2IHs4bau4h///PvWtfzIPbpan5PH+k0cOMRUw8E75qe/bv3z93VR+A5doy7H8359/PiHRvV6rK2JVrsJHhGiny5ee/zop/1jpzgHin+/ee/eP7e4O0ezJricvXr/Z+mtpiWevf7PT5Em+pqDbZzFP/7+9983uM7zWCpTEn+4fvdn+hW49n14rRNc5Hv00lG1P5ry69XbN//6wXedufpnk8gdotcBQBmg1wGAiRSs12e6pn+TscvIpMup0j8eXUweZKh9MPP7s1G2hiM8GtPrs9LO/xq7yqTLhAM/Xrt/LnSxvoZdbonQ3lh/3O6k34pPmehr7U78lr6TinshC431prkVC04a62s6Jp15IBv/4t6ZhcZs56RviiO26Gt1GLb860Ou7h7uPq6b5qurtNuR8O29B+ca1eucxSaai4/8cP2R9MyUV2WXz/BTosOPuh5Ys3hEX5PPW49zPHud6nXpragu3xJdfFf2ndm/JceN2VMSz179p6rXz4bXOsG5yKUGg9YLfrklOwHm1c2CI0a6U5POXqv7BZMP6HUAaAj0OgAwkYL1+jjH9L9uiheasFeezBSG2ehrreD/fOvHyMUG5ocb0+vTki9c+TNrt5HR+Ki8Qq/BnUfZRv9x6/tVHQ3G7k76tTjERF/zuPD8Y/qc7idxtiZaYw+Icn2N9DV9cs8/osY/u2BranCI9HqIg75mz+nLN+78etu2r7fv3rFj64YtMWeuPH7UuOPrkYtMxuyP++teGRl4fqPwy0kjOxqZz1++dp/rwa8t1FXGHTh7rWav70mm7/yx9Iu205LOXn19fF3W629PcDZikYG52/eX71MP++D7ABO9KWR83S+YfECvA0BDoNcBgIkUrNfH7km+ev9+rMPYzt26dtRXHW53+s+/n16IJA36utf3p/1wv84LlNO9nnTu6pO7pcuNTbt36qTbuvW+pLP3H/4gvX/S6yUh5E62xZXeoy73+Py3LX0Nhq4J/1EcSMZ/HUWPr7ie289IZ2/SNyUhpKH7++Wc+f3KtWtXr14/n+V+wCv7wt9lTxrd69MOJl2VXZ3mt+SvDbQ77Anjnb/01607/2TsMdGZcKDyfJjXvV71yYR+Um/1+tsTfBtqo69nyfv5puwVqhD7WLLVSK/jfBgAUArodQBgIkXr9d3Sor2e62ako9qiRQvq8iw1en2mg2tYZExUVBSHCIv9/sqD6tciryrXZxVP4h3GaH/WqoXhwqxfb5U/Pm9roj+N3P/Nc1+bGnQ0nhPGP//P3T+57mM7q7beGVvyzz/nvjbR72g0J4wrufTLNyfGDdNo3UpaxufjxxgYdLY+mPXTXzculfpMMO+iu5z74+1nZY37vmn1Xv8rdY+h9ufbT2VeunpZHHt4WHe1Vr3W8c7fOBe+8j/2+o0zIcZ6xqar3bPO/lqUeHRYD91WH49DrwOAkkCvAwATKVCv/+xgqv/lfun1FivunVltzG5naCXt7FekfW0MJrufvUr3+mfq2nr6BvoUPYPDmT9UD3ZZuc6TFeqr68IjRrpqo+zDL//z9FX573tMDWfvJvf/6IrgtLWOURfTrr179zDWam2169gvNx9UvHx+RRA2V8eok3Hn7t0663Rq9XGrFvuTvr//+EFJtNsw0y5duvXs1b0zq/Xw3X55Nx49f/XsvI2p/uG072v900UXIh3IJ4vqvR67yOTLyl4vv1m8dRS7o6lpj549Oo34apXtHBVtI1NHXlbgagMt6a3u/5poaqB9kPc99dSqnhQ9Pu372z/G1zrB06f3+FGu4zt37daleyfDL6cOa9+uzRdxZ6+X1TKP8gS9DgANgV4HACZSnF5/VXblh3MXr98rr3hF/n3th3Pfnb/6SPZn98v+uXzut5tPyytelv3zw7nvz7zp2r0n1f82v2ya3+89lZ6EXvHkDpm+8j6f3/jh3KVr0n+/Kn985YczuRm85OTkLGHhn7cevHgpvYtX5Y/+/L4kh8flZeWWnJOc+ebM9XtPyU1fPPnn1+8KM2XjCyQXbj8knwXI1E8v/3Du5n3pBG8r++cKeWRqNmRe3vv9h4s3ZHMiHSq7+dt3eTm8DF5u0dmL165dLi4QiX67fe/25XNnpbeqeHb/h3Nnbzyg77zqSdHj7z99UXav1gle3P+zIJcvFkvOlJScOfOLwHMqW90u95e/X//BWPmEXgeAhkCvAwATKU6vv2+vXpSXP3v2jHwKeKO3X70k48tfvJD91aNqXlWUlz8n49+c+r949UL2SNQDvayoePku7vrpL3FjzIcsdAz/5te/Logjxw40bj3L64ebD9/ZXH8g6HUAaAj0OgAwEXodqnv59GrY/pVGHbt26d6zWyf9/rO3RH3355MXcn42DHodABoGvQ4ATIRehze9fPT31bPfSApEQoGg8MdLN5++qPWEHTmDXgeAhkCvAwATodehFq9evXxZUVEh94fVq6DXAaAh0OsAwETodVAG6HUAaAj0OgAwEXodlAF6HQAaAr0OAEyEXgdlgF4HgIZArwMAE6HXQRmg1wGgIdDrAMBE6HVQBuh1AGgI9DoAMBF6HZQBeh0AGgK9DgBMhF4HZYBeB4CGQK8DABOh10EZoNcBoCHQ6wDAROh1UAbodQBoCPQ6ADAReh2UAXodABoCvQ4ATIReB2WAXgeAhkCvAwAToddBGaDXAaAh0OsAwESM6vWLFy/yeLwUkAc///xzeXk5veQYD70OAA2BXgcAJmJUr588eXLQoEGDBw82A2br2rXr4cOHHzx4QC85xkOvA0BDoNcBgIkY1eskAUeMGEGqPQaYjSS7fJ1GhV4HgIZArwMAEzGt1ydMmJCRkXEGmO2LL77Yt28feh0AFAx6HQCYCL0OTYBeBwCFhF4HACZCr0MToNcBQCGh1wGAidDr0ATodQBQSOh1AGAi9Do0AXodABQSeh0AmAi9Dk2AXgcAhYReBwAmQq9DE6DXAUAhodcBgInQ69AE6HUAUEjodQBgIvQ6NAF6HQAUEnodAJgIvQ5NgF4HAIWEXgcAJkKvQxOg1wFAIaHXAYCJ0OvQBOh1AFBI6HUAYCL0OjQBeh0AFBJ6HQCYCL0OTYBeBwCFhF4HACZCr0MToNcBQCGh1wGAidDr0ATodQBQSOh1AGAi9Do0AXodABQSeh0AmAi9Dk2AXgcAhYReBwAmQq9DE6DXAUAhodcBgInQ69AE6HUAUEjodQBgIsXpdQk/2McjKIYrLpbQY86cKeIneHscj88oqDYO3gH0OgAopNe9npaWtn79ehuQB2RhPX36lF5yjOfv779q1Sp61oHZvv322/LycnrJfVCK0+uF8fP79jBfe5QnLKLHnDlTEH+ob4+u67yj84oUP9iLMoMXmJs5BSaIikvpUc1GOXv9wYMH27Zto9/DwGxbt269c+cOveSak5OT04oVK+hHBWa7cuXKq1ev6CVXh9e97urqOnDgwIULFy4FZuvcubObmxvZQNNLjvGsrKyGDx/+1Vdf0U8AGGnJkiUsFislJeXZs2f0kvugFKjXY2bpafdf7s4ViOkxZ86I4pzYLNXl7uECseL3ujjZxYSlutorWliEXq/pnfT6rVu3evToMW3aNPIupt/PwEgTJ07s3bv35cuX6SXXnEaMGDFmzJjFixfTjw2MZGFhoaWldf78+Ub0uqOj4/jx4zkcDtknAZOZmZm5uLjcv3+fXnKMN2/ePLLJiIuLo58AMFJ6erqOjk5CQgJ6/W3/qdfFMRZ62iNsvTKqHV8vTHLVY6nZeITHBTrPnbUxIFFAHWcvTPVfZr7I9WTI3pUr97kc3r9q5qB+vbp1m7PraJxIXCKdoijTb5fdkAF9u3XrtmjNvphsUQlp4CLugWW2e11dNs4cMm/3ydPHHG3t97kc2Dhk8AAy2dLNnul51MeCoqTgw1Zmg3qTsd3GrNzmnZ4vHZ992sVuq/uJo47DzAZtOxmbL+L57d8wZEA/6VTTFu3zjSEPLck+vXHeim37HDcuHDygd7dpS3eFnA7ebTt7QF8ye4s8T3PF0vmoZfaKck+vMuvxWauPNfXH7wlIExWX5nPDtloP7U9mYsy0zYdDBAXSl6XmPDT11w7K2es3b940MjJyc3Mj72Lq7QzMRLZpPXv2/PPPP+kl15z69+/v4OCQnJxMPzYwUkBAgKam5rlz516+fEkvuTq80etTp07NzMykN3vAVORDs9z1+sqVKwUCAf0EgJGKi4v19PTQ67X6j71uqaetOdHe93R0XDz53BoXl5h4+qi9tkYH0utpofuM9Y0sHcP4hdIcj9w1zVDF3DXouGUnEwMWS2uS5Zqt9tO7sw0NjPcExIuKc1zmm3XRUZlguWTVsll6BsZGk7ZGZ+dLCmKtO0qnV+vVZ9G+kNC980yN9FlaI63WbFxpYa5nYDRho3dWnrgo1dusb+fO5hZrHDbaLJysb2Qyd39QbkFxoqulqbGRnq5Wlz6jD4QlBe4e2tNYdcI8m02b1kw3ZxsZf3E8PksY69rVQF9DS2vknPmL547W0tU3MNTXHD7N8iuLfh1YhmO/js/KLz3Df3v2IiL97OeP6dD2kx5mc1xO8YTpQeZDeql3Nre0XWM1o5+RicmCPQG5ohrzkFJA1X/jKXOvnzx5kryL6RcCGMnd3b13797vrdd37dolEonoxwZGio2N1dbWRq8rJvQ6NAf0ej3+Y68v0tNu215Tz9DIuJIhW7Nly49Jr/OFsVZ6LN2pO+JzRKUS7oZehp+NdohKCbFga7fpMXPPqfhsoYAX4TpeS03f8mCo39c99FQstxyKTc/KzckIOLBUU9fo64AEUX70XD1tk7HL3EM5XH5BrONClmrbRVu9U7L4uRmxW6axWOwJxxOyk/w29R9ldfhUfI5QmJMZMEFXc8hKT56wKN7Zkkw/zW5PWFSSoEB4ZMXImba7OEkZQiE/xW+9jobWGm9ORpQjm6XaY+b64NjUrIyY1SO0PzOctCcgmpeV4bd+vIbWRO+YLF7Enp5vzd5Wv9PJwbt1tVSsDvhzhaKATQM0O0zY5XOam8vPTo/dNZ+lZ2QdliqIeWMeikubeuIMep1+IYCR0OtQA3pdkaHXoTmg1+vxH3udxHTPSSuc3D19aMcP71iqrtqe9LpQLA5eN1FTd4xXTGZ+olt3ltrsfYE5/EgLPe2BVi6pgkJpuEqEeyexVYauOrRljpZauz4zrNets3ew37Luq/Gft2+z1D1CIIwi01vvD8gpkB6kj3eexuq+KDAhR3aQWpLsacVSH+PGyRAKsoJ9fVwdt6+3te7fr7tq61aDbTwyhOJ457ks1YFOYamFEnIDiTA96sRR973bNy2ZP7VPV4PWraSfK3gcaa9buYQJCiVnzoicJrO7L3ZMypXOXryzBUt1lAcng3PImlXb7GVESU/WX+EZIRQLnKazVT9Vmb/Ebr29w5YtG8YaqXz6v4EeURkcp+rz0HTodfqFAEZCr0MN6HVFhl6H5oBer8c7OH99hVtabj55kSl50QfY2qqyXpeI4g6yWbrL3UND905kqY73iOSJC6PJTUbZeZKYlt1FgZsFW22QzcENM7RUTUfNWLTMaskS6yU2S5dZLbQ6FJEuyo+aqqe9RnZvZOp458msYRs4XCFVvvmc3Wztka4cXoznmiF9Ouv2HW2xyGbNhnWTVD4fYuPBk/Y6Hdxi6Q34LqOG9zJgD504ddHydSvmDe/Q/pOqXpc1t7TXnSezh63x4Mpm73WvOy5i1TZ72dHS20qfbEHapk46HXT7z1y0hExCJrJevHjhwnVh6YJop+rz0HTodfqFAEZCr0MN6HVFhl6H5kD29Oj1uvz3Xh+yQlrG9Bjp9Ryd6YQVS0qL09cO0jEcMmUMW63XjD1J2QWlspv0nL8/nV8gm5xn30Wnw5e7PDdP01btut03PCWdx+NyM6KP2dtt9o3PEYuiJ7/R67NYuvNOxOVQl0+M3DlZ6/OxR6ITXSw6q/Wc7XwiIpWbmZsbPoetRX0LtnqvF2X69dbVGG61KzgqkZeZwwvaoqv5ua1HJInxqhmmen1ELb0+l1Xb7OXGSI+v23pFCcWCfaPZKn2WBJxO4Eon4UYe2b12u2eaoCAWvf4foNflBXodakCvKzL0OjQH9Ho9/nuvD7Kh65YiqtbrZ86UxOyZq62l0eaj/61wl42RfUVVRUVn6b7jyekJR7fONP28zfSdAakc14EsluGXa4/Hpmcmh28162uoMcM7JruoMObNXrdkqbL052wLTkzhnNjbr5N2y9GbOBmZLrPYaqrTDgbEpqdE7bUewG7Xqu/8nbHZIqqV3WStXMoPHq2r2Wvu1lOJaUmnjlr079K21cfz9/unR+6vv9fJzfkJHrXOHj96P1tb5Ut7l/js/NN752jrGMzdfDiRm5UQ6Dy4VyfNeQcSc8nnl9fz8F+g1+kXAhgJvQ41oNcVGXodmgN6vR7/rdfjLPVYI22lZ4rTYyp73baysIvSfAbpqLc0neaXlCU9KE59RbVFi8+12Samxrrq7cznrY1M55cU5Ye5rO+tZ2hobNrRxEC9VR+b7QGZ+UWlYukl3u29IoWyyyDGOy9iqbbV6aRp3MnEUE+zZZ/p24NTRMUlqb72Ohp6OvrGpiZGQ6fOnDmyk4aO3iqfmAinBSy1L72js6SXR5cIDttMYLH1DU1MTQx0Z8+3MOvwGUtniKf3dm1ttTXekbI/8CRyncweWdnrSe5LWGrTj0RnieuYvRJhxFy2lramziqf6OysxP0rp+gbGZNJjPW19QfPO3AqVVQsSXK1fD0P/wF6nX4hgJHQ61ADel2RodehOaDX6/Gfer1UzI2OSsoQFFf7JqVEzI+O4mQICuhxuYGmuppDbd3pY/Cyr6gOnL/ZJ+CEj4/3cb+QRC6funlxAT8xMuiYz1EyNjAsPjtPLB1dWpgWHZUlpL+rKf2+6UBr9xMBJ3x9fHz8wuLS84qkXz0tKeBHhwf5eB8lN41JTuelxAYFBiXmikT89ChOal4hdQ3F0vzstLAAP++jPv6BYWk8XvKp0IDAiBx+VlQUJzOPegiJICU6KZN+RkVCXhQnTSi7eR2zJ+ZFh4cEBqfwRSWlkvyc9PAgcv9ex/38oxJ4BbJ7KRJwq81D06HX6RcCGAm9DjWg1xUZeh2aA3q9Hv+p1+tXlB3mf8JpXW+1DoMPhKTSvUqd8i692GIhWS7FNSK2VFJcXETGSo+l10b6fdMB6yLShWQi6Y2r35q6LX3TUgkh+1cNkhLpVBIq/6VTNaaia589ci+vZ0Q2SdVsvEvodfqFAEZCr0MN6HVFhl6H5kD29Oj1ujRjr4vjlvTvbaDWcsbqQ1xB5cnbslNoxtt6ZFY7habhpN83nfx1VGZeYypbQaDX6RcCGAm9DjWg1xUZeh2aA3q9Hs3Y67JTWU6Hh3Nz818fCZedQpPy5ik0DSfmp0Wl5hQWv/uj18yHXqdfCGAk9DrUgF5XZOh1aA7o9Xo0Y6/DO4Vep18IYCT0OtSAXldk6HVoDuj1ejCw14v4Cb5HvT3f5uZ5Ok1Q1JgD8/yE4KMnI3MK/uOlWRgBvU6/EMBI6HWoAb2uyNDr0BzQ6/VgYK+L03369e6m8zaWzpqjUdRlIhso3mlgz66GR+LS/uO1z5kAvU6/EMBI6HWoAb2uyNDr0BzQ6/VgYK+XFgmjI0+HhYWFh/utHqvZofvM/d4nQ8hwWFgav6BRl0UUpYcE+p/giQoV4IR39Dr9QgAjodehBvS6IkOvQ3NAr9eDoeevl0qdOZPvasFWG2QbyRVKZGNKcjkO8xa7h6cVSP/20hl+zJF5FptCUwTpoS5LHJyOee2fbTaoV7duY5buis0RkUbPCHVesck1USDihdU+AZEZ5bNk9uDevbotsnf0PeK4ca8fL6+QgYfj0ev0CwGMhF6HGtDrigy9Ds0BvV4PZn/fVOQm7XU7DldIBXRh/MGuBrp2R07Tf+7U5SsD1nj3qMwoF0tjIwO2rta0+ZbWM4dp6OhN2+afIypOOGRpavyFV2xmdB0T8KNczPp17jB46pKV1tONO5rqaqsN3RCZkcfA4/HodfqFAEZCr0MN6HVFhl6H5oBer4d89boozonNUrXxCKfOYo9zsmCpjnLnZHAcLVmqbedvdo5Ny8jmRa0eoc36cltctijOmUwwou4Jcjwte6mbTtkVEJORm50WeniqltqnPe2kh/NlD8co6HX6hQBGQq9DDeh1RYZeh+aAXq+HnPV6vHP1Xo+X5vgoD2mOz2WpDnSJSJedqC46NIutZrY6gpcXW/8EKeGLOrEGL3JO4ctOgJEI909iqwx4/XCMgl6nXwhgJPQ61IBeV2TodWgO6PV6yHevu1qy1EbLcnwqq/uykBR+iWwq6laRXKHs+DrV67VNkBA8i609ys4zg/5jq2I3C73qD8co6HX6hQBGQq9DDeh1RYZeh+aAXq+HPPa6rVeUUHpFdUmA/VjNDuayHJ/M6rs+Mo06j+X1rar1em0TpEfb6eloz96TnFsgHS1Jt++i06E3ev3dQK8rFfQ61IBeV2TodWgO6PV6yFevSwSho9maupPW+cUmh3ts6GOi0fJ/Q9zoHN/ASaMmo28VwRVWOx+m1glyfO1GaegZLNnuHpfIOWQ9yLhdq/8NtIvIwPnr7wB6Xamg16EG9LoiQ69Dc0Cv10MOen2EHSej8oC3JP/Y5jnqOnp6xiYGOiNmzhjbvv0s77jsqEOzWMMdKrNedqsp9lFZ+XFVJ8y41D5Bfk7svpUzjYxNjE2M+g3t+0mbT3S+3JGYI6IfjknQ6/QLAYyEXoca0OuKDL0OzQG9Xg9m97pEkBbNScooLK463l1aIOCFB/kf8/X1D4lL56ZGRqbniUsKBWlRSVmVk8lulZpVWCIRC7hRnCRBYXFdE2QnhJ84HhQSFh4WFh6dwFljzuq10i1NQJ3OzizodfqFAEZCr0MN6HVFhl6H5oBerweze712pZKS4pISybs4Bh6+Y3Cf7iYbXX2TuMkndizuxmo3a7d/ToHsW6kMg16nXwhgJPQ61IBeV2TodWgO77/Xy8vLv/vuu7KyMnr4Teh15shL8Fw2pYehsaGJqYmeRoepNttiuIIS6Z9WZRz0Ov1CACOh16EG9LoiQ69Dc3j/vf7q1SsnJydzc/OkpKS3qx29zhylJYXZ6QkRYUGkCAOCTqVl572b4/bNAL1OvxDASOh1qAG9rsgY2Ovl5eWkveiBt6DX5cL773WipKSEzWYbGhrOmjUrLS3t6dOn9A/Q68xTWiqRlJRIGHhRmGoUtdcrKirq2Z2j1+XFu+31+ve86HW5wIBel/DD/I56eVZyc/M+EZYuFL/rgzJFCcHe3v4xeYXvbyPFTwg+ejIyp0B6ZeMPgoG9HhcXR3YVV69erXWFa0Kv8xPCjnpWW308j3NS+UUl7/glr/EoRODpVHERg87KfZ8r2wfpdfJYy5Yta9++fdu2bU1MTGbOnJmamkpVO3odmkCBe/3gwYOJiYmPHz+mR1XT+F4nu05fz8NuxyPSCoqqfQKT7bjd3Twj0gRFDdtbS/JTfdx8U3IL6to8k42Yh6dvCr/GBLIZOEJveCuRLX2EoHGbu6IEf+/AWF61L1s3WhE/wduDPGV+A5/yf/Fuez0+Pv7EiRNXrlypdc/7Pnr93ZaehB985Gh4Gv+dlyKTMaDXC+MX9OtpqFOJxdLVMzDtbOF2Kr2w3uri+m8zX+2akNvAK4UVHJ7ft+tw+2heXrMe9CnKDF5gbuYUmCAqLo13Gtizq+GRuDTxB1qjGNjrly5dGjhwYM+ePV1dXa9du1ZjtWtCr8cfWtCzc7XVR4dtaNJpheNJsimnp6hN9cVEj6pXjUch9A1NRq/ySBN+qGUr9aFWtg/S64REItHX1/9Ipk2bNqTaZ8yYkZKSMm3aNPQ6NJai9vqrV69CQkL69es3evTomJiYGtXe+F4nu85+XQxY7LGbYrJe7z0LU48M7N2FbHBXH4sSVu/4uhUmuPbtMcYrhlfXNir+0Pwencd5xWa+OYFsBt7Y+hIsnYEbohq3Ny84NK1vd3vvVGF9u4ZaVcWGKN6pb4/Oq30a+pT/i3fb67///ju15z106NDbe9730etNLb3aFcZ/2afn+veyIOrX2Jb4L5jQ6zGz9LR7zlzvfTI4XCrEY+/KnqosPYNFQYn8el6BJJfprCEO0emVFxL+FyLXWWy1/raR3Ob9yx3iZBcTlupqr2hhUakoPSTQ/wRPVPihVigG9npFRcWmTZs+++wzXV1dsvlwc3Orvu1oQq/HOc1iqQ5c7+gTfEq69gT6HLDoparD1ttyPCa/7ndy9cVEj6pXjUcJC/RaOUlDXaf/4Uie7O+4fxgfamWjep20sr29PVmaG2UcqiHjq2yotL7Sukpr37RGZnWlVZXsKi1dupQ8buvWrUmvt2jRgqp2Eh+qqqokZW7fvk2tRR8Wel1eKPD563fu3OnWrVurVq2MjY2nTJkSFxdXVe2N73WR6wK2WtsWLdr0OkjSqnL7Eu28WFuVjG2x0iNc2LCNYHGikx5rmDuHW1evyzazI9w5GW9OIHKezO5usd7zZGBwSPBrEWmixv2GU+Q0gT1wlXt6468uWhUbJaL0oMDAFH5+Ewqzsd5tr5M975YtW6r2vDWOl72XXm9i6dWuMGaCnvYqj3DBB9wByzS2Jf4LBvS6OMZCT3uEjXuGkHoXlRaJcoN3z9dUYS3aF8wvKCGfX/z2bxgyoB/ZAHWbtmifb4xIXJIZ5jKku26rtlrDR9iEpgiKxbVMI7u3KvRf4ONwhSXZpzfO+2rTvgMOywYP6EtusMjzFFcse/9lRvksmT24d69ui+wdfY84btzrx8srJD/I54ZttR7av3e3bmOmbT4cQh+7Lcr2329nJruLbtPW+MRkF2RHrDLr8VmrjzX1x+8JSEsKdFqxyTVRICIrlPSehw0md0Duwt4xgDpvgTyLJQ5Ox7z2zzYb1Iv8YOmu2BzpxO8KM79v+ssvv3Ts2PF/Mmw2u3q1N+X4uuwPLrpHZlBvW0lxQcZpxxFaqrrTdyZI/0pLUVLwYSuzQdQrv3Kbd3q+uJh/uvpiEhWL356mxlKo8SilkiKun52OhvpqT05SyEG7re4njjoOMxu07WQs+ZBQy9pSxHVZbbvP5fD+VTMH9SOLes6uo3H0Klrb6k3Ghh1Y7eDo6bpt+ZABi04m5PDTT++0nT2gL7ltt2lLNwcm5RbWvbJJ+An7V1lQE89ZuSs6Q0TW7ne4slG9TjqAVDWd3jJ0j69fTxd6JbrcK9FR7+BQFfrUP0j6V7dZhuxjquvSpcsnn3xCKoFCioRUO+l18uikUeg17INCr8sLBe71V69eHTt2TEtLi7w7yPulerU3odfd5rLV2pB3W+upX/vniGS3kmRu7tOxw8f/I2NXyHq91m0OUcSP2UWNn7Ny547F6mpjPKgcJ9u9XXZDqB3wmn0x2dLpqc0sPcFr0l4fttqdKxCXvinVb/ccS/vgNAFVSoWp/svMF7kGphWIMmrbqErvZ8QaD65QELx72RaP04IC2XMp4u5eYO0RnlZAmvHfYiMw1Gf1V3aeEVzpxGfyww5vHTqov2zipdLjxMUSSd110Vjv/Pumv/32W9Wet0a1v49eb0jpvbVKFHGDV9tuOXz04PKhg8kPxiyyD04RSA/EiWMm62mvqXPdy/ffvXSRvUeaoIB66ROObLNYuDks8uT6uSu27XPcuHDwgN5koe0KOR28m96xLvI8XbmkapuTWnegxbk1WqIpC7rhmNLrQ2w8ePRSlCrO9h+lq2lmeyRDWHh637CexqoT5tls2rRmujnbyPiL4/FZaadcp2mpfdqix/R5W07zBGF7a5nmzU87r3tdFOfa1UBXTUtrxEwLG5u5XTuw9A1WhKcJs6NczPp17jB46pKV1tONO5rqaqsN3RCZkVeYGWw+pJd6Z3NL2zVWM/oZmZgs2BOQKypOcLPubdJ7hpXdZofl5joGJkaLA4N9Nswb06HtJz3M5ric4nGcF5oaf+EVm5kdeXhovy4d+k5dtWWrzYzhhsYmM3ecyBEVJRyyNDYyYOtqTZtvaT1zmIaO3rRtlRvEd4H0+qpVq0g6kPchcwiFwvnz53fo0IHsS4iqat+/fz/Zg65YsaIJvf7GJl6Ss32U7uc9rELTBYWp3mZ9O3c2t1jjsNFm4WR9I5O5+4MykoI2zn+9mIRJR9+eJpfalFeiHyW66lGEx1f31vis897gVM5BspSN9HS1uvQZfSAsRZAeVMvakstZ2tnEgMXSmmS5Zqv99O5sQwPjPQHxouKSWlfvotKCQws6GxnosDS6DB7+VUASx2FofwOVEZa2DvZ2i831DE3Hb4uK9HOo9iyqVraigiSH4QMNVHrPs3XYtGYh28DIyHxjZGZe3Ltb2aheDwgIuHTp0hWZqw1Gdg8NdP0t2dnZhoaGZIWhSr1169Zz5sxJTEwkfbx79+67d+/SW6gPCr0uL+Su162srBYtWpScnMyvhmwtq5BNa5WEhATy4ZZ6s1RV+8SJE319fckuv3G9Tnadw6fNHN9Jd6gDdQpKYapnDx316RaT2ndob0OaSZBY6zZHUki2RQP0VUynLFzy1bwxJkZaH39MttWZ4lK+y3yzLjoqEyyXrFo2S8/A2GjS1ujs/Ni6e33A8v2RqdzsHLINIEh9kMCTZAZtMzIwsD5MH2SN3D/NUMXc9VRa8J5aN6pVvc53mdFx6AYvLnVijDh2honRhiOnhUXF/xobwQF7OhoZrPKKFBYVhu02722qbm6xdPO29VN09U0MTJ3DknKjD9VaF436RQCF9Hr37t1JotE7zv+MrBULFiyovuelqp28C0xMTN5Pr9ddehm1rhL5CS6dTY1ZutrTFq3avG6Btp6Bvslyspstqer12tc9wclNI/X1R3tEZUpXDQnXoW8XjXGbw07u7WKgr6GlNXLO/MVzR2vp6hsY6msOn2b5lUW/DizDsV/HZ+WXnql95YyvbQfKTQis3hKyT3HNiCm9PsiGvIuq/ZaqMHqWnvZA6UjB0ZWjZtru4iRlCIX8FL/1Ohpaa7w5uUJ+yKYJml1WnIxILSgWea2oZZq8N06HeN3r+XHObJZqj5lrgmNScnIyvFePV/9suEdUstvCXuqmU3YFxGTkZqeFHp5K3qI97SK5OQGbBmh2mLDL5zQ3l5+dHrtrPkvPyDosNd3ZoqOayYwjnGS+ICfFb9+8L1cHJXLTw3braqlYHfAn24I4J7L1GeHOSXBb0FvddMaegNjsvLwcXtz2+X11DWefSMiJdrJkqbadv9k5Ni0jmxe1eoQ268ttcdnv7G93k143MDAgn9H7MYy+vj7pLbIjoVDbDg0NDTJ+6dKlZMdDP4EGqO2QjOTUlklamuZkZKLvpv6jrA6fis8RCnMyAyboag5Z6cnN4Weder2YUv1qmYb35jmO8c5kSWnqmYyYOm3mrFmzevfuwVZr1XLgkqB0QYxsIU6z2xMWlSQoENW+tsQHztbTbtNj5p5T8dlCAS/CdbyWmr7lQbLj9apt9c4rynclq2sbMwfHwNgknig/1nbg8DW7Q1IyBYLcLO9lA9TN1kamZGRUexaVK1tGkp9DZ40ONrt8krMEQn6W3675Glr6G47Hhe9b+K5WNqrX3//562vXrm3fvj1V6hYWFklJSb///juZB1LtOH8dGkvuet3S0pJ8XiXbT9JYbxtQTX+Zzz//vGXLlvRGVraZJW8ckmhkZKN7fdJ6Nyc7bV2TA6FJhSWkjKdodbM46LZVS0uV9HqMz4ZatzkJx+zJ+IWb3ePSs7K4Cbu+6qfSTrpZ5obv6amnYrnlUGx6Vm5ORsCBpZq6Rl8HJETsn11rr7vOYrN0dYxMTTt26lip08aTsfzciLlsLd3Ze+JzC0ol3A29DT8b7xCVkVVHD+RX9br0gL30H7LkeH2kVvSvsZET48jWlj5lPjdgUDfNwZabwxN5wjwBN9h5vKbqkNVeiWH7aquLGs+oQUivGxkZ9ezZk9ppvhOkB97e86qrq7dr127Hjh3vodfrKr3IE9tqXSWyop3I69nfwiGCLBR+pt/urzRUdNf7xublR1FLra51Ly10u64Wa8GBUH5hSWGSW3eW2vRdAakR+2VLZ31wbGpWRgzZCX5mOGlPQDQvK8Nv/XgNrYneMVm8iLpWzlp2oLG8rMxqe+Hm/jsTTO311yMLhelRJ466792+acn8qX26GrRu9bH0A71YknBwKqvvBk6asPSMpK5p6HuTqtbr8dJet3IJFZANz5kzOWFf62oNdw8/Od+UNXiRcwpfegIMucv9k9gqA8j06Y7T2aqfqsxfYrfe3mHLlg1jjVQ+/d9Aj6j0wG0kCnUMO3a2WLrG5ciJiPj0vKKSgoSD5M5XeEaQR6dTMsxfds9OqdQ9nyk9vWuClsqow5wMjuNclupAlwjqpEDRoVlsNbPVEe/uG7Gk1zds2EDehN8xzIwZM0h4kY0F2WSQnQfZZAwfPjwoKGjcuHHv4Pj6maJjy7uod5wXmJwrEmYF+/q4Om5fb2vdv1931datBtt4ZAjFhdUWU1Fe7dPQdyYT77yIvFfNxk6ynDd/wfz506dPt1q13ScqTVRMlrJ0ITqFpRZKv6ie51Tr2nLq+Jds7YFWLqkCeu3aS9auoatOZwj4ta+6eQenslWnbIrKIB/3ySojTg0/4eniuGm97byp/brotW85ZBUnQyh6e2XjZITvma6tMtM3Npv6qE8dwFjlERG2l0zwbla2D9Lr58+fp44Xks9LVaVOXaEM14eBJpDH4+vLly/Pz88/W+n7upGtKKk98n6hyoxUWtu2bck9REREsFisRve62frw+ECyEZu29WSWKH1Db6N+X7nERDiyWWpkexW4fVpt25xwX/tuWl1mn4inxpdmh23V1RrhweFxDlmz1Nr1mWG9bp29g/2WdV+N/7x9m6XuEaF7Z9Xa62Rj2H3Koh1Ozi7VSC/SUiI+bjdKQ3eyT3xWfqK0ySydQviFxXX0QF71Xpf9g+51koxrpRPUdcPXsUHFAxmZwZH9w1267ZXeiURANulaIzaEnNyh+3Zd1H3Kfj1Ir/fo0YPL5dJ7zXeBbDxr7HmHDRsWGBjYqVOn93N8va7S89ttWesqweOQdUzVluzjZIdfi3PDJupqLdjpn5sbSfV6HeteBD8v0UaPxZ66IylHdHrnZK3PR7tGcnNjpfVv5RImkO4FRU6T2d0XOyblSnfKVTvQulfO2neg1ffC0jloTgzt9aIU9y4stUkbj2fnZ7qMGt7LgD104tRFy9etmDe8Q/tPqLdQvPPkyl7n1zUNfXdSNXu96vUVxZFFOMIj5NiXutqj7DwrQ03sZqEnnT4t1qGTTgfd/jMXLbFaQlhbL168cOG6sHRBXm5aoOf+FXMnD9fR1WcbdOw81Ssyk1ohKudQtgaE+Mru2Suj8pCt7Fs1o1ylvT6V1X1ZSApf9ssyeg7f4TdimXn++m+//UY2Qx9//DG1vTA3Nyel/tNPPz169IiEV9POX39zE5/h0E2nQ4+V5JVMPLJmSJ/Oun1HWyyyWbNh3SSVz6nfx4kqN7tkMSXVMQ19ZzJUlB8IiEjlcnlkC8rlZufmFcuuJPXGDEi4m2pdW5KCprOrr10FsmVtE85Ndq591ZXuWgbaulFfjSrKDB45rL++bt/xM+bZrltjPfbzzwbbcXivdx6vVzZO6lHbThp9bE+nV65FOUEjZfvOsL2T39XK9kF6fceOHXPmzImLi6te6hT0OjSBAp+/Tvj6+pIuJ2VGNrOk1MnGiOyy/5Jp9Pnr0m3FqmhutttcPf2xDgGhh7roqK88Gp0T56wn3f6EuC0zrW2bE3TAQle9m014Gj2+MJ5MT3qdy3FcxFI1HTVj0TKylbReYrN0mdVCq0MR6XUdX5ceDrd1S84SFlZTJPtDXILofWxttp1XeNDOidoqM45FZxaV5tbRA7X3elG6F3k6srPwc/41Nqo2uVRHfn0yuvKUZWqTbhd4YrvO23XR1F5/t+evX7x4sfqelzpGRu15+/Xr90F6var0AnbOr3WVyI4mr/NA54g0+ovO4ngLPdbc3f45fKrX61r3yFITn7KfqEU+y0VGbOhh2GXKjoRsEbXfr1w6svWqcjV43et1rpy170Cr74WlP2lOTOn1Ebavc/aMJNvtqz5qbT928InKTfPtrasx3GpXcFQiLzOHF7RFV/NzW4/IqrdQdJpQnOlX1zT0HUrRr29Vr1e9vrJFOMLjdIgNW0d79p7k3ALp5JJ0+y46HXpLj6/vHc1W6bMk4HQClydNtcgju9du90wTZBzfbe90LCo1NS0xMvKk82pNNa2VHhxelOzjoFeUsKiUXgPCg63ZrNf3fEYSsmm0ZofJR6KzopzIU1gfSW/OXs9h49/atWNmr5Pq+vTTT8mOpHqpU/nV5O+besVlVH1dIclnUxf1DoOWHOYKctzndFbrOdv5BOnszNzc8DlsLWpNo963ssWUV9c09N3JUI/iWduvNave59IflQr31bq2ZIZJvxo/f386n1oHeNK168tdUVGevWpfdat+dSvdlCR6WrPU263Y7xOdnJ6Vk+tjw9Ywe70mv7GycXindk/S1pnoHUd/fyOfc8BYW9XOKzJs78R3tbK9/15/8eLF2bNnL126VFZWVr3UKeh1aAIF7vU7d+4MGDCgRqmXl5eTHzXl+6aV2wrucTsdPWN9A51W+lOPJ2aT7Y+s108FbJtQ2zYnwn/rBC2tkUei6Y1zosdilhqVRHNZql23+4anpEu3khnRx+ztNvvG53AO1NnrI9ZXnm7+ptKiNLtBOoZfTB2spzbQ8mAqv7Cozh5443yYAZVHQ3JCdpAJSA9kpx7/19io0etLXE/R1ycpSrTqwuo9zzEmeDc1wRt1wYxeJ7tXas9bvdSpzen7+75pHaUXvo/sv2pZJXJjyAce3eWup6nXuTDRozNLbalbhEBInQ9T17oXKSySFCS6sln6o6aO1W3fbsmhUIG4pPpxOnq9qqXX61o5J9W6A62+F5b+pDkxpdc1JlrvOugmvYi+y95lg/oadWg1aO7m+Mz8ktzg0bqaveZuPZWYlnTqqEX/Lm1bfTx/vz+/oCRm/yxt7cm7vTnCzIBRdUxDP4SU6KAFW7WeXuekeNuO0tAzWLLdPS6Rc8h6kHG7Vv8baBeRIYjcN1dbx2Du5sOJ3KyEQOfBvTppzjuQmJvlPKNrJxPLw8GJAkF2uJutltpn649HZUaSj/sqX9q7xGeLYp1kW5/I1GO2ozTJPe8+kpyRFXtyR79OWl0sdidmF8RJe536FYF0Rqg1IEKhj6//9ttvxsbGBgYGJ06cqL69oDSp16Vnls9Yvc3FXbr2bF81vZcpq5XedLdIrliSL72Ip+q0gwGx6SlRe60HsNu16jt/Z2y2KC9mf+Viyjo4s/Zpqi+FN6L8TdSP3OgfSaJqXVt4pxbqaauo6Czddzw5PeHo1pmmn7eZvjMgKz2gjtVbWH1Tku61Qke9/dIDx5K5aSGuG/oYd2jZcb53dKYg6q2VjZORHbmXrc3Wm7MlIDEjMzl05YBu7VuOPxqdEeVENjfvZmV7/71OVhKS7G+XOgW9Dk2gwL3u5+enrq5uZWVFdtNXrlyhSp3ShF6v2nUWC8JnsLU+bdGixzzH1NzCqvpJP7W71m1OVsRetpYO28I+IJGbcspzUA+DVh+bkW0UP8FjIItl+OXa47HpmcnhW836GmrM8I7JjnKsvi2tInKexdadbLltv/PB6jxCc0VkwpLIPXO1dDRaf8R28I3PLy4t5dfVDFUbVWmva+uO3Hk0MinKb3a/zm1afmzrES7ICPzX2MiMOkA9Zb4w1kqPpc/+Yv+JmFx+qveGQQYdWi1zDeNy6AmY1usXL140MTEh222ybry9531vvV5X6eUn1r5K8GXfNlTTnXooIDYlLmTdwO4dWpm7RPAKC6Kp82HqWvdIPJcWZ9hP1NFSa/MRe/KxhEwy5l97nax7da+cte9A81+3hKi5/3YTE3o9bokeq117FS0WS3oRfW3NDp0HzbbdFZGcIz3fQCI4bDOBxdY3NDE1MdCdPd/CrMNnLJ0hx+IzUvw26WjoaLOHHouNPbi89mmqfeARuVuy1QZLNzoFSe56LLU13pHUF1Jli3C8dCOSFbtv5UwjYxNjE6N+Q/t+0uYTnS93JOaIxMKk/Sun6BsZG5t2NNbX1h8878CpVFFxSdrJr8019A31TTp16mioqz54hm0ET1AklH4DRltTZ5VPdJjTApbaaHLPgqzwTfP7GBgZmHTsaKyn0XXM4iMxPLGkNN51Fmu4A5ml12vAFPso6TeU3w0G9jqXyyXr3Hfffffw4cO386tJvS49s7y9mia19miomIyevvygf6JQ+jdOJam+9joaejr6xqYmRkOnzpw5spOGjt4qnxjyCatyMUVxvNbXOk31P8QQ72pJLcq3N7tJ0h996R1Nf74vqnVtyY9apKfdtkWLz7XZJqbGuurtzOetjUznlxTz61i9k5wmskdWbkqKs0Kt+mvq6+mZmJrq95syx2LcZ+q6ZBZT0kPeXtkKCwU+O5ap6xnpG3fsaGKg0sp87Z6w3ILiuHe3sr3/Xq8feh2aQFF7nbwr/f39s7Ozq46pV9eEXq/adZaWFnhaj1RvZ7jKK4rsPan62eAdJczn17rNkYgFXjsWq+sZSDeuBjp9B+t98ukw6Va0KD/MZX1vPUNDspU0MVBv1cdme0BmflHim9vSSiLpl+81PtfUIq1SjblDTGYembAozWeUjnrr/ktD0gXSQ3R1NkPVRrUwLXCnuSaLzTYyMdIbN3FM23ZtpefDFOT+a2x4em/X1lZb40XiQZx+0mmqhq6hnlGnTia6aq2m2mxNyMoTJdZeFx+813k8Htnzfvvtt7Xued9Lr9dXeqXFta8S1NHV/v17G3fqbGKsr9qqy2IHv4y8olLZtw7svSIFebm1rnuy11sS72rFUmvX38o5TfbNscI32k/kOvn1TjbJfQlLbfqR6Ky6Vs66dqAl1ZKvuf94EwN6vVTMi46KlF1AnxaXxMvNl52cJv1xfnZaWICf91Ef/8CwNB4v+VRoQGBErqioSJQTGR4aGBzJLxDn1TFNtfeIRMiN5iRkFJJVo0gYHcXJzJN9P5D8QMyPjkoRFBZnxYefOB4UEhYeFhYencBZY87qtdItTforM0l+Tnp4ELl/r+N+/lEJPLIhIjeViIXJkaG+Psd8vL18/ALj03OKSiSypxMeEhicwheJ+OlRnCRyz6VnigUZiUF+x454enh5+0UnZRSSKckKLEiLSsqq/PPIEkFaNCc1i/rRO8HAXid7xydPntR1oLQJvS7mc6M4p+k1RyomlZsjXcqyn5YU8KPDg3y8jx73C4xJTuelxAYFBiXmioolhVWLSSzKrX2aamuPWEAehVqUNRVJf5Sa9/pPtNW2tohj5uppD5y/2SfghI+P93G/kEQuXzaPda3ehfyU6KRMAf08JOKsxEh/Xx8fH78QThKPlxYaFBiQmF1YVFDbynamKC87MjTAR7a2BYSRpyL93vo7XNnQ6/VAr8sLRe11si+/c+fO26VOaXyvv951SrdXWSmcyNjsfOmfgZftOjlZsj1prdscQpyXFRns73P06HH/kLjE6NOnE6ltVHEBPzEy6JjPUbI1DAyLz86T3uFb21KKbGNVfRtPiaNmiWzlRSnRUadfb9z+faMqKcpLDg/2Pebr5x+SlJoSGRnJExSQ0f8aG7mC7CgSD0LpUy4tFqVHhfv5eHt6eBw/GZyaLSTRUlddvPmMGuTd9nr9e9730ev/Unq1rxKyDzzm+44FBp30lS6XkJhMgey1LS1Mi47Kki2IutY9It1ntY56p82yX7yQwTeXjkRQbSdbJORFcdKEsnWv1jmpcwdaLflqrLjvHAN6vQEkJcXFRcUS2ct6plRC/4P8k/y7csnUNU3Dhe8Y3Ke7yUZX3yRu8okdi7ux2s3a7Z9TeVJNqYTcf1Fxjb6RjiWk46s9XrXZqkZ2B9K7qOVnzYOZ56/Xowm9/u9kS65ywUnXjMpFWG0x1TlNE9VcW2S/CpRdJrJQur68+bZu2KpbSqaS3lL2Q+kc0pPVvrKVkjuVrW21/fC/IvOBXq8Lel1eKPb3TevS+F5vqLq2OdR4+tBDddRWt+Y+9d34942q9NFL3thvy9R1w+qxUU0peRmpvTo94t155+ev1+N99HpDvLVKyHp91GEOT7rjrHt3Vsu6l88NO+lu3dOk/Zj1EdzGXwatcStn7SvHOycfvf5+5CV4LpvSw9BY+tswPY0OU222xXAF7y+umwF6nSnEcZZ6rPG2HpmyX73JO/R6PdDr8gK9Tr8QwEjK2OtvoU4ocm/8CUWFCW4De3f+vKW5vVfim3+KR46h118rLSnMTk+ICAsi27KAoFNp2Xlvf/iWL+h1pigVc6OjUjIqz2+Rc+j1eqDX5QV6nX4hgJHQ60STTyiSFOZGR3HCw5MFzX6WyvuDXq9J+muvkpL/ej4EM6DXoTmg1+uBXpcX6HX6hQBGQq9DDeh1RYZeh+aAXq8H6fW+ffuuX79+BzBb165d9+zZg14HZkKvQw3odUWGXofmgF6vR0RExJQpUyZPnkw2ks1q7NixI0eOfA8P9J5NnDiR/lczI6/eiRMnHj16RC85xkOvKxX0OtSAXldk6HVoDuj1ety9e/fixYu/Nj+SbjNmzBCLxfSwQiC7ogkTJmRlZf3yyy/0qOZ0586df93zMQd6Xamg16EG9LoiQ69Dc0CvMwF5a5P3y40bN+hhhRAfH29gYHDo0KEHDx7Qo6ASel2poNehBvS6IkOvQ3NArzOB4vV6WVnZ+PHjW7dubWJicuHChbr+tovSQq8rFfQ61IBeV2TodWgO6HUm+PHHHwsKCkjj0sPyLz4+Xl9f/6OPPvrkk09cXV1xiL0G9LpSQa9DDeh1RYZeh+aAXmeCFy9ePH/+XGEOQlMH10mpt2jRgiQ7DrG/Db2uVNDrUAN6XZGh16E5oNfhnas6uE56ncAh9reh15UKeh1qQK8rMvQ6NAf0OhNcu3bt119/LS8vp4flWfWD6xQcYn8bel2poNehBvS6IkOvQ3NArzPBiRMn1q9ff/v2bXpYnsXHx7PZbNLoH3/8cdV/W7ZsiUPs1aHXlQp6HWpArysy9Do0B/Q6E5C3Nnm/KMD1YcrKyoYNG0bqnOyKtm7dSt7+R44c6d69OxnDYrF+/vlnHGKnoNeVCnodakCvKzL0OjQH9DoTKEyvx8fHa2lprV27trCw8OLFiwcOHPj222/JPunw4cNqamq4FnsV9LpSQa9DDeh1RYZeh+aAXmeCb775hmyEnzx5Qg/LrZycHLFYTD54VFRUkJokjULCvby8/O7du999911aWtrjx4/pSZUbel2poNehBvS6IkOvQ3NArzMBefGfPn2qAOeKPHr0qGr3c/36dVKTQqHwxYsXZJA8u+o/VXLodaWCXoca0OuKDL0OzQG9Ds3k1q1bZmZmZAWjeh2qQ68rFfQ61IBeV2TodWgO6HUmIN127do1Beta8nR++eWXx48f4zumb0OvKxX0OtSAXldk6HVoDuh1JvD393dwcFCM6zlCQ6DXlQp6HWpArysy9Do0B/Q6E5C3Nnm/KMD1YaCB0OtKBb0ONaDXFRl6HZoDep0JFLLXHz16dPz48b/++utfd0hKCL2uVNDrUAN6XZGh16E5oNeZoLCwMD4+ngQuPawQSE2SdBCLxfi+6dvQ60oFvQ41oNcVGXodmgN6nQmePn2qeNc6rHE9R6gOva5U0OtQA3pdkaHXoTmg16GZ3Lhxo2vXrqQb0OtvQ68rFfQ61IBeV2TodWgO6HUmePLkycOHDxXs+Hp5efmPP/746NEjXM/xbeh1pYJehxrQ64oMvQ7NAb3OBIGBgZs3b/7777/pYVB06HWlgl6HGprY6yYmJmZmZiQHgcnU1NTIwpKvXu/UqdPQoUPpJwCMZG5u/umnn6LXPyzyUZy8X3A9R+XxDnudhCB5F9PvZ2Ck7t27k9B6b73epUuX4cOH048NjDRgwIBPPvmkcb1eUFDg6enpBox38OBB8omZIVHVEImJiYcPH6bnHhiMrFoXLlxgyEnGStLr165dy8zMfPjwITVYvddfvXpVUlLy7bffytGbvVZPnjw5ffr09evXFew8n3finfT648ePjx075urqSr+TFcLYsWNHjx69b98+elghHDp0yMfH5/0cbgsKClKwVUIhkWXk7Ox869atfz1d8HWvP3369O7du2SrAcxHFpYcnQn66NEjrFry4vnz5wxZtZSk10mLk2IbNGhQWFgYqfacnBzyjwcPHpBSnzhxYs+ePX/44Qd5z1yyKxo8eHBRURG+b/q2d9LrZA0hCUi9hRWGra2tjY3Nr7/+Sg8rCrJNez/vaLIZoR8SGK+iooJebHV73esAAMyhPOfDnDp1SlNTk81mf/HFFydPnoyPj1+2bFn37t1btWq1cOFCErv0dHIL13OsxzvpdYX0888///TTT8+fP6eHAZQbeh0AmEh5ev3Bgwfjx4//5JNPSKAbGhp27NixQ4cOH330kYqKSkFBgQI0Lnq9Huj1ulTI0AMASg+9DgBMpFTfN42Li2OxWC1atCCZTv5LtGzZct26dXfu3KGnkGfPnz8/c+YM+ViC6zm+Db0OAA2BXgcAJlKqXn/06NH48eM//fRTKtYJVVXV4uJihTkgjW+a1gW9Xpeffvrp/PnzOB8GgIJeBwAmUqpeJ6oOsROKdHAd6oder8uBAwd27dqFVwaAgl4HACZStl6vfohdwQ6ul5WVpaWl3b59G+fDvA29Xhd7e3s7Ozuy2tDDAMoNvQ4ATKRsvU7ExcVpa2uTXl+7dq0iHVy/devWsGHDFOkTyDuEXq+Lg4MDeh2gCnodAJhICXv90aNHXbt2/eijjwoLCxUpbXF9mHqg1+vy7bfflpaWyvsfCwN4V9DrAMBEjOp1Eg0P3gt/f//NmzdfunTp/v379Cj598svvxgYGKSnp9+5c4ce1ZzKysrk6MQb9HpdymVwDhUABb0OAEzEqF4PDQ0dMWJEn+bXsWNHfX39nj170sMKoUePHq1btyZPrXfv3vSo5uTj4/Pw4UN6yTEeeh0AGgK9DgBMxKheP3z48KBBg3bt2uUKzNarV689e/bI0WlU6PW6XL58+dKlS+Xl5fQwgHJDrwMAEzGt18eNG5eSklIIzDZmzJh9+/ah1xXAoUOHcD1HgCrodQBgIqb1+oQJEzIyMs4As33xxRfodcWwefPmlStX4vowABT0OgAwEXodmgC9rjBIr69YsQK9DkBBrwMAE6HXoQnQ6wpDLBYLBIKnT5/SwwDKDb0OAEyEXocmQK8rjGfPnsnXpTkBmhV6HQCYCL0OTYBeBwCFhF4HACZCr0MToNcVxu3bt2/evFlRUUEPAyg39DoAMBF6HZoAva4w3N3dcT1HgCrodQBgIvQ6NAF6XWGQl2X58uW3bt2ihwGUG3odAJgIvQ5NgF5XGNu2bVu2bBl6HYCCXgcAJkKvQxOg1xUGn89PTU19/PgxPQyg3NDrAMBE6HVoAvS6wnjy5AmJ9ZcvX9LDAMoNvQ4ATIRehyZArwOAQkKvAwATodehCdDrCuPJkycPHz7E8XUACnodAJgIvQ5NgF5XGN7e3rt378YrA0BBrwMAE6HXoQnQ6wpjx44dS5YswfVhACjodQBgIvQ6NAF6XWHs3LmTvDg3b96khwGUG3odAJgIvQ5NgF5XGFwul8PhPHz4kB4GUG7odQBgIvQ6NAF6XWE8evTowYMH+L4pAAW9DgBMhF6HJkCvA4BCQq8DABOh16EJ0OsK49WrVzi4DlAFvQ4ATIRehyZArysMPz8/XM8RoAp6HQCYCL0OTYBeVxh79uxZvHgxrg8DQEGvAwATodehCdDrCgO9DlAdeh0AmAi9Dk2AXlcYiYmJ/v7+Dx48oIcBlBt6HQCYCL0OTYBeVxik1O/evYuvnAJQ0OsAwETodWgC9DoAKCT0OgAwEXodmgC9DgAKCb0OAEykuL1elBDs63nEsyY3t5MRaYVFEnqquvETgo+ejMwpKCqlRzSRMCHY1Ts8VySudj+yeTvsdjwiraD6nEj4YX5H3d08I9IERZIGPawkP9XHzTclt6CkjsnJs/Dw9E3h1zlB06DXFUZYWJizs/Pdu3fpYQDlhl4HACZS3F4vOPRlv84GOjWxWINWH+UJxfRUdYt3Gtizq+GRuLTqod0ECYe+7NFlY1RqXrUwLzg8v18XAxZ77KaYrNfjC1OPDOzdRYels/pYlLABnyiIwgTXvj3GeMXw6prJ+EPze3Qe5xWb+R+fRQ3odYXh6OiI68MAVEGvAwATKW6vS3LjOadPhYWHhx9aPVatQ//1jkeDQ8MIThq/qAFHm0XpIYH+J3iiwgaFc90Snaazum+ITBVWux+R6wK2WtsWLdr0OngqveoBop0Xa6uSsS1WeoQLxQ162OJEJz3WMHcOt64cj3OaxVId4c7JQK+j12t14MABS0vLGzdu0MMAyg29DgBMpMjnr5dKkf/HOVuwVEe5R2aIJbJRRdwDy2z3urpsnDlk3u6T2fmipODDVmaDencjxqzc5p2eL43ljFDnFZtcEwUiXpjLEgenY177Z5sN6kWmWLorNkdE1XQ+N2yr9dD+5JZjpm0+HCIoKJKNPpN5+siSoYPJ6Dn2+w7YmakPWc/hCqsFs8htLlutDSnz1lO/9s8RFUvHSTI39+nY4eP/kbErZL0u4SfsX2UxoC95zG5zVu6KzhBRnzKK+DG7qPFzVu7csVhdbYwHleNFmX677IYM6EumX7RmX0y2dPp42XOnJ3h30OsKIyoqyt3dXY4WJUCzQq8DABMpw/dNazZrQax1RxMDFkutV59F+0IyYzzN+nbubG6xxmGjzcLJ+kYmc/cH5RYUJxyyNDX+wis2M9rF0tjIgK2rNW2+pfXMYRo6etO2SSO7KDPYfEgv9c7mlrZrrGb0MzIxWbAnIFdULIw5PLRv5w5dRi9cuniqsamRetuWQ1ZxMt7sdQu22vBpM8d30h3qEMWTnhJTmOrZQ0d9usWk9h3a25BeFyQ6DB9ooNJ7nq3DpjUL2QZGRuYbIzPzJIVJDsMH6KuYTlm45Kt5Y0yMtD7+mDy1THEp32W+WRcdlQmWS1Ytm6VnYGw0aWt0dn4sel0GvV6X+/fv//333xUVFfQwgHJDrwMAEyljrxfGzNXTNhm7zD2Uw+UXpPhu6j/K6vCp+ByhMCczYIKu5pCVnjxhkexW0jNJOI6WLNW28zc7x6ZlZPOiVo/QZn25LS6bH7hpgGaHCbt8TnNz+dnpsbvms/SMrMNS090se6uZjt91MpKbnZ166vAsLbU2ve04vLd6fdJ6Nyc7bV2TA6FJhSVnIvdP0epmcdBtq5aWKun1GJ8NnTU62OzySc4SCPlZfrvma2jpbzgel3DMnoxfuNk9Lj0ri5uw66t+Ku3MyVPjhu/pqadiueVQbHpWbk5GwIGlmrpGXwckROyfjV4n0OsA0BDodQBgImXsdXGMhZ629f6AnIISMlSUlxXs6+PquH29rXX/ft1VW7cabOORIRRX3YrjOJelOtAlgjrRXHRoFlvNbHUEj3tgOlv1U5X5S+zW2zts2bJhrJHKp/8b6HHKf54pq9f8/cm5BdJHKy30sdZTH2JX83wY0utm68PjA79ka0/bejJLlL6ht1G/r1xiIhzZLDXS64Hbp2mrzPSNzS6W3aw423+UruYqj3Bf+25aXWafiKfGl2aHbdXVGuHB4XEOWbPU2vWZYb1unb2D/ZZ1X43/vH2bpe4RoXtnodcJ9DoANAR6HQCYSDl7faqe9prK73QmHVkzpE9n3b6jLRbZrNmwbpLK50NsPHhv9PpUVvdlISl8ad1TqT3ILjIt1qGTTgfd/jMXLbFaQlhbL168cOG6sPig6bra3Re5pPMLpZOfOXN6+yCtfms56W/1+qBV0dxst7l6+mMdAkIPddFRX3k0OifOWY+lauMR4rbMVKOP7en0ym+p5gSNlPZ60AELXfVuNuFp9PjCeDI96XUux3ERS9V01IxFy8jcWC+xWbrMaqHVoYh0HF+noNfrEhcXd+TIETlalADNCr0OAEyknL0++XWv57vP6azWc7bziYhUbmZubvgcttYIW68M+nwYqtcns/quj6QTme51Djd972i2Sp8lAacTuDwel8uNPLJ77XbPtGyOFSnuKdsTskWyB+Pv62uk0nNVLcfXpXci5B6309Ez1jfQaaU/9Xhidr60v0mvnwrYNkFbZ6J3XBZ1+fd8zgFjbVU7rwj/rRO0tEYeic6gxid6LGapUTM5l6XadbtveEq6dG4yoo/Z2232jc/hHECvS6HX63Lo0CFczxGgCnodAJhI6Xtd5DqLraY67WBAbHpK1F7rAex2rfrO3xmbLYp1qt7rGzhpVHDTqR3BFUTum6utYzB38+FEblZCoPPgXp005x1IzBGcsBuloau/aNuRhLTUAOevuqi2+3igXUTGG9dzPGjBVpX1erEgfAZb69MWLXrMc0zNLRTFO7OlvR6efmo3W5utN2dLQGJGZnLoygHd2rccfzQ6IytiL1tLh21hH5DITTnlOaiHQauPzchM8hM8BrJYhl+uPR6bnpkcvtWsr6HGDO+Y7ChH6bNwQ6+j1+vg7Ow8f/58XM8RgIJeBwAmUo5et2Spjq7e67P0tO29ImV/k0iS6muvo6Gno29samI0dOrMmSM7aejorfKJCXNawFKT3orjMos13KHyALms16fYR2XlFwqT9q+com9kbGza0VhfW3/wvAOnUkXFkoKc8A2z++gZGJB71NMeat65TZsvNkVl5lcLZpG7JVttsOyk9tICT+uR6u0MV3lF5RVJqF7f4B0lzOf77Fimrmekb9yxo4mBSivztXvCcguKJWKB147F6noG0vk10Ok7WO+TT4dJn1pRfpjL+t56hoZkbkwM1Fv1sdkekJlflOhqyVL70juaPk7/rqDXFcapU6fIFgCvDAAFvQ4ATKQMvS7mc6M4SYJC6qub0u+ApkVHZQkLqT/5X1LAjw4P8vE+etwvMCY5nZcSGxQYlJgryuenU7cqFKRFJWUVFlPHxyWCtGhOalZhibT183PSw4P8vI96Hffzj0rgkZyW3WUxn5cY5HfsqJd3YFhcctzpyOTsyptTJEJuNCchQzayND8rhRMZm50vJjeWiPnRUZysPOm8FeVlR4YG+Bzx9PDyDggjc1Qku5r8GXFeVmSwv8/Ro8f9Q+ISo0+fTqSeWnEBPzEy6JjPUW/yTMLis/Okd1gkIM89Na+wAX8gqjHQ6wrj7t27N27cwPUcASjodQBgImXo9X9XKikuLiqWJrhsgJD9qyFkN6267WvUaAmV2E1VKikh9/L2/VDj6U8H1VFP5O25edfQ6wCgkNDrAMBE6HVoAvQ6ACgk9DoAMBF6HZoAva4weDzeiRMn7t+/Tw8DKDf0OgAwEXodmgC9rjA8PDxwPUeAKuh1AGAi9Do0AXpdYRw6dGjOnDnXr1+nhwGUG3odAJgIvQ5NgF5XGIGBgfb29rdv36aHAZQbeh0AmAi9Dk2AXlcYd+7cuXr16osXL+hhAOWGXgcAJkKvQxOg1wFAIaHXAYCJ0OvQBOh1AFBI6HUAYCL0OjQBel1h5OXlhYeHP3z4kB4GUG7odQBgIvQ6NAF6XWH4+PhYWVnheo4AFPQ6ADAReh2aAL2uMNzd3WfPno3rOQJQ0OsAwETodWgC9LrC8PPzW7ZsGY6vA1DQ6wDAROh1aAL0usL4+++/L1++jOs5AlDQ6wDAROh1aAL0OgAoJPQ6ADAReh2aAL0OAAoJvQ4ATIRehyZAryuM0tLS+Pj4R48e0cMAyg29DgBMhF6HJkCvK4wTJ05YWVnduHGDHgZQbuh1AGAi9Do0AXpdYXh6es6YMePatWv0MIByQ68DABOh16EJ0OsKw9vb28LCAtdfB6Cg1wGAidDr0ATodYVx69atS5culZeX08MAyg29DgBMhF6HJkCvA4BCQq8DABOh16EJ0OsAoJDQ6wDAROh1aAL0usI4f/58ZmbmkydP6GEA5YZeBwAmQq9DE6DXFUZQUBCu5whQBb0OAEyEXocmQK8rDG9v72nTpuF6jgAU9DoAMBF6HZoAva4wfHx80OsAVdDrAMBE6HVoAvS6wiClfv78+efPn9PDAMoNvQ4ATMS0Xh85cqS/v38sMNvQoUOZs9o0BHq9Lq9evXr58iU9AKD00OsAwERM63UdHR19fX0jYLZ27drt3LkTvQ4ACga9DgBMxKhev3btmkQiEYM8uHz58osXL+glx3jo9bpcunSpoKDg6dOn9DCAckOvAwATMarXX8m8BHlAlhS92OQBer0up06dIi8OrucIQEGvAwATMarXAZoJer0ux48fnzJlytWrV+lhAOWGXgcAJkKvgzJAr9fF19d38uTJ6HUACnodAJgIvQ7KAL1el99//10sFpeVldHDAMoNvQ4ATIReB2WAXq9LRUVFeXm5fH0bAaD5oNcBgInQ66AM0OsA0BDodQBgIvQ6KAP0el2uXbv2/fffP3v2jB4GUG7odQBgIvQ6KAP0el0iIyOXLFmC6zkCUNDrAMBE6HVQBuj1upw8eXLixIm4PgwABb0OAEyEXgdlgF6vC+n1CRMmXLlyhR4GUG7odQBgIvQ6KAP0el0uXLiQmZn55MkTehhAuaHXAYCJ0OugDNDrdSkvLy8rK8P1HAEo6HUAYCL0OigD9DoANAR6HQCYCL0OygC9Xpc7d+5cvHixvLycHgZQbuh1AGAi9DooA/R6XWJjY5cuXYrrOQJQ0OsAwETodVAG6PW6BAYGjhs3DteHAaCg1wGAidDroAzQ63VBrwNUh14HACZCr4MyQK/X5YcffoiJiXn48CE9DKDc0OsAwETodVAG6PW6PH/+/NGjRy9fvqSHAZQbeh0AmAi9DsoAvQ4ADYFeBwAmQq+DMkCv1+Xx48e3bt2qqKighwGUG3odAJiI9PqkSZP279/vCqC4BgwYsHHjRvT62xITE5ctW4brOQJQ0OsAwEROTk7z5s1btGjRV/C+TJw4ccqUKZaWlvQwNL/p06f7+vriW5VvCwkJGTNmzF9//UUPAyg39DoAMNGtW7f++OOP3+F9uXjxYrdu3fT09EQiET0K3os7d+7gW5VvCw0NRa8DVEGvAwDA/+Xl5enq6rZs2TIlJeXZs2f0WIAP5Ntvvw0MDLx//z49DKDc0OsAAMru5cuX8+bNa9Omzccffzx16lScNAwfXFlZGYl1/OYBgIJeBwBQdnl5eSYmJv/73/8++uijdu3apaam4hA7AABzoNcBAJQadXC9bdu2LWRwiB2Y4MWLF2VlZa9evaKHAZQbeh0AQKlVHVyneh2H2IEJ0tLSli9fjs+NABT0OgCA8qp+cP3jjz9u2bIl6XXS7jjEDh/WqVOnRo4cievDAFDQ6wAAyisjI8PAwIA0uqqqaseOHfv06aOmpkZ6nRR8fHx8WVkZPR3A+xUeHo5eB6iCXgcAUFIvX74cP358q1atVq1alZeXZ21tvWzZsszMzJ07d6qoqIwdO/b69ev0pADvV0lJiYeHx927d+lhAOWGXgcAUFI//vjjoUOHcnNzSZe/ePFircytW7f+/vvv4uJiR0fHs2fPlpeX01MDvEdPnz69c+dORUUFPQyg3NDrAABK6smTJySJSKlTg1Svk1gn/3758iX5B5kAF+gAAPjg0OsAACBVvdcBAIA50OsAACCFXgfmyMzMtLOzu3nzJj0MoNzQ6wAAIIVeB+aIjIwcMWIErg8DQEGvAwCAFHodmIP0+vDhwy9fvkwPAyg39DoAAEih14E5CgsLd+/ejbURgIJeBwAAKfQ6MMeTJ09u3ryJ6zkCUNDrAAAghV4HAGAm9DoAAEih1wEAmAm9DgAAUuh1YI78/PzNmzffvn2bHgZQbuh1AACQQq8Dc8TGxo4cORLXcwSgoNcBAEAKvQ7MERMTY2Zmhus5AlDQ6wAAIIVeB+bIy8tbv379rVu36GEA5YZeBwAAKfQ6MMfjx4+vXbv24sULehhAuaHXAQBACr0OAMBM6HUAAJBCrwMAMBN6HQAApNDrwBwSiWTv3r137tyhhwGUG3odAACk0OvAHElJSbieI0AV9DoAAEih14E54uPjBw8e/Oeff9LDAMoNvQ4AAFLodWAOPp9vZWV1/fp1ehhAuaHXAQBACr0OzPHo0aPLly+Xl5fTwwDKDb0OAABS6HUAAGZCrwMAgBR6HQCAmdDrAAAghV4H5jh37py7u/s///xDDwMoN/Q6AABIodeBOdLT00eNGoXrOQJQ0OsAACCFXgfmSEpKGjBgAK7nCEBBrwMAgBR6HZgjOzt7+vTpV69epYcBlBt6HQAApNDrwBwPHz68dOkSrucIQEGvAwCAFHodAICZ0OsAACCFXgcAYCb0OgAASKHXgTl++eWXEydO3Lt3jx4GUG7odQAAkEKvA3NkZmaOHj0a13MEoKDXAQBACr0OzJGamtq3b98//viDHgZQbuh1AACQQq8Dc2RkZIwYMeLy5cv0MIByQ68DAIAUeh2Y48GDB7/88svz58/pYQDlhl4HAAAp9DoAADOh1wEAQAq9DgDATOh1AACQQq8Dc/z555+RkZEPHjyghwGUG3odAACk0OvAHLm5uWPGjMH1HAEo6HUAAJBCrwNz8Hi83r1743qOABT0OgAASKHXgTlIr/fq1Qu9DkBBrwMAgBR6HZjj/v3758+ff/bsGT0MoNzQ6wAAIIVeBwBgJvQ6AABIodcBAJgJvQ4AAFLodWCO69evp6amPnr0iB4GUG7odQAAkEKvA3Pk5eV98cUXuJ4jAAW9DgAAUuh1YI6srKwePXr8/vvv9DCAckOvAwA0mlgsDggIOK5YRo8ePWrUKDc3N3pYUZw9e7a8vJxeciAnSK93794dvQ5AQa8DADSao6PjoEGDxo0bN1mBmMlMmDCBHlYIHTt2JJ+sHj9+TC85kBN37twpKCh4+vQpPQyg3NDrAACNtmXLFtKCoaGhicBsPXr08PHxwdcW5c6rV69evHhB/ksPAyg39DoAQKORXrewsMjOzj4DzNa/f3/0OgDIO/Q6AECjodflBXpdTt25cycvL+/Jkyf0MIByQ68DADQael1eoNflVGFh4bhx43A9RwAKeh0AoNHQ6/ICvS6n+Hx+165dcX0YAAp6HQCg0dDr8gK9LqfQ6wDVodcBABoNvS4v0Oty6ubNm2lpaVhwABT0OgBAo6HX5QV6XU69fPmyrKwM13MEoKDXAQAaDb0uL9DrAKAA0OsAAI2GXpcX6HU59eDBg+++++7Zs2f0MIByQ68DADQael1eoNflVElJyfjx43E9RwAKeh0AoNHQ6/ICvS6n8vLyOnXqdOnSJXoYQLmh1wEAGg29Li/Q63IKvQ5QHXodAKDR0OvyAr0up65duxYREfHgwQN6GEC5odcBABoNvS4v0OtyqqKigiy1ly9f0sMAyg29DgDQaOh1eYFeBwAFgF4HAGg09Lq8QK/LqadPn/7xxx/l5eX0MIByQ68DADQael1eoNfl1DfffDNx4kRczxGAgl4HAGg09Lq8QK/LqYKCAlNTU1wfBoCCXgcAaDT0urxAr8sp0usmJiYXL16khwGUG3odAKDR0OvyAr0up65cuXLs2LG7d+/SwwDKDb0OANBo6HV5gV6XUy9evLh37x6u5whAQa8DADQael1eoNcBQAGg1wEAGg29Li/Q63LqxYsXd+/eraiooIcBlBt6HQCg0dDr8gK9LqfOnj07adIkXM8RgIJeBwBoNPS6vECvy6mioiIjIyNcHwaAgl4HAGg09Lq8QK/LqeLiYkNDQ/Q6AAW9DgDQaOh1eYFel1N//vnngQMH/v77b3oYQLmh1wEAGg29Li/Q63KqvLycxDq+bwpAQa8DADTah+j1ooRgX+8jntV4B56KFYiLS+kJ3g1+QvDRk5E5BUV13e2/TsAo9fQ6KUKhUIiUBwDmQ68DADTah+j1gsPz+3U11KlGV9/AqNOUDWHcvJK625nrv818tWtCrqiBeR3vNLBnV8MjcWniOm7wrxMwSq29Tko9JSVl7Nixu3btwl/QZKZXr17hjyUBVEGvAwA02ofodZHrLLaa8bT9XifDwmXC/HctG6OqqbP6aHRekYSe6i1JLtNZQxyi04UNrGtRekig/wmeqLCue/zXCRilRq+TUudyubNnzzYxMWnZsiVZgmQM9SNglB9//HHy5Mm4niMABb0OANBoH6TX3SzYav1XRnKFdCiXSoTRe9jaKsvdwwViMk6S5O8yx2xgr27dxsxZ6RmeXlgsyQxzGdJdt1VbreEjbEITovcstd3r6rJx5pB5u09m5xflc0/vtJ09oC+5RbdpSzcHJuUWSUozQp1XbHJNFIiKs09vnPfVpn0HHJYNHtCXTLLI8xRXXPLvE5BZy4zyWTJ7cO9e3RbZO/oecdy414+XV/hBDsdX9fqLFy94PB4p9S5durRp04bE+oIFC27cuEEvUWCY0tJSfX393377jR4GUG7odQCARvtgvT7IjsOtOlJeFHPYRlutvY1HpFAsSfJZPbC7Ye8xFnZrbSaxDUwMTV3Dk1JCXadpqX3aosf0eVtOJ4Z+ZWpiwGKp9eqzaF8IPy9l67D+BiojLG0d7O0Wm+sZmo7fFp+VH3/I0tT4C6/YTEGsa1cDXTUtrREzLWxs5nbtwNI3WBGeJoz7twmyo1zM+nXuMHjqkpXW0407mupqqw3dEJmR90GOx5Ne9/Lyio2NJcura9eupNT/97//tWjR4tNPP8XB9Xq8kqEHKs9OqZChR/3f/5Ex5AV8LlM1MZng2bNnZWVlT58+rTqhhYwkg49lyAenqpHkc9QDGXI/1D2Qm5DBe/fu8fl8NpuNXgegoNcBABrtg/W6mqZxx85du1G6GOmqtTS3CU7hl4hTbfqZ9pmxNiAqJZefkxbqOk5L7YsNPulZ2SGbJmh2WXEyIrUgP2oOW9tk7DL3UA6XXyApjLcbNHzN7pCUTIEgN8t72QB1s7Xkw0CcswVLdYQ7J4Mf68xmqfaYuSY4JiUnJ8N79Xj1z4Z7RGVwnOqfINltYS910ym7AmIycrPTQg9PJR8Yetq9/rXA+9WzZ08DAwNDQ0MS6FSpEy1btpwxY8a1a9dcXFwsLS3nzp1b/UR2Hx+fhQsXzp49e/369VXXEwwJCSEjZ86caWVldevWLWpkTEzMggULvvzyS3Jv169fp0byeDwycorMr7/+SjWrSCQiIyfJkLmimvX7778nI8fL5ObmkswlIy9dukRGfvHFF2PHjk1ISCCZS0aS2SAjR8uQOSHVS0aSSiYjR8h4enqSzCUjCWtra3Nz82HDhu3Zs6fqSa1du5aMNDMzW7du3Z07d6iR27dvJyMHDRr01VdfVT0p8pqQkQMGDJg6dWrVk/L19R05ciT58EN+dPXqVWrk6dOnyfz0kyGzTQV3WloamXNqZNUzJU+fPKO+MuSZkjknI8+dO0eeeB+Z+Ph46pn+9ddfEydOJGM6depE5vbKlStkJACg1wEAGu2D9XqbFiNmzrRcLDV3xviO7dq07DDvZFJuXopHZ5Za28EWK9evd3Cw37LJhq3Soe28/Ym5BfEHp7L6buCkCUvFMRZ62tb7A3IKSqT3VypODT/h6eK4ab3tvKn9uui1bzlkFSeD6vVRHiTH46Q5buUSKiiUTp8T9rWu1nB3DpfjWO8E4Sfnm7IGL3JO4ctOgJEI909iqwyo/muB94qUH0lPEuutWrX66KOPqnqdhCaJ0aioqIMHDzo6OoaGhj58+JBauKmpqW5ubs7OzidPnqyK4JycHA8PD9Ky3t7e9+/fp0YWFRV5eXm5uroePnz43r171EhS4ceOHSNj3N3db9y4QVXsL7/84ufnR+6B+OOPP6ij1CRG/f39jxw5Qu7kwoULVNqSmA4KCjoqQ+6K+g0ACXQyh+SDBFFSUkL1LrmT8PDw4zL5+fllZWVkJBEbG3vixAnycGT9pCKYIE8qICCAPKP09PQnT55QI0k6BwcHk/GJiYnUZwCisLAwLCyMjI+Ojq467//bb78ldU7mgfy36oX66aefyDSy71KEVz3933//PS4ujkwWGRlJPgNQH1fIS52UlERebYLkPvX0yTMlc0U+85AZJreiRpLZIB94SL6TzyoSiYT6DAMA6HUAgEb7YL0+cL4/JzEzSyqDl35s3TSNDtrbTsZncZzY2qo9xsy0Xm61ZIn1kiXLFy+2WujgmSYsiHOeXNXrU/W013iEC6Unu58pygweOay/vm7f8TPm2a5bYz32888G23F4NXt9hWcENb0ozonNGuHxVq/XnCDk2Je62qPsPDOEYulcnxG7Wei9eRrPe9W/f/8DBw5kZmZu3rxZS0urdevWpNqJ9u3bky68ffv23zIkN6tO3iCRSlKyxkjSkf/88w8Zf/fu3aqRpIbJIBlPULlJkMQkN6RGVp37QQqbjCQTE1Un4ZCfkvQn44mqU0rI/VAnhBDkrqrOEiGVTCYmSJdTIwkykkxMVB9JZpUaSWavaiRpdDIxUX0kuRV5sgT5adVI8qDkHmqMJLNHRhLVR5InQgYpVa8JeVLkIWqMJE+KOkOGqHqhyE/JSErVSHLnZAaokVWvHgCg1wEAGu2D9fqQVad5r08sEZzexdZSWekZkZN8VE9H/Yu17tFJaTwel8tNdt+yYbdnpKCgOF7W69GyXp9crdcTPa1Z6u1W7PeJTk7Pysn1sWFrmEmrukav21ROL4ong7X0es0JTofYsHW0Z+9Jzi2QzqIk3b6LTofeH7LXfXx8SObeunWrqKiILDhtbW2q2qdNm3bz5k16iQIAMBh6HQCg0T5Yrw+yC692IrgskUkxRwpEXPtROnr6Y3cfjcjISDm+Y3EPE70V0uvGlMTsn6WtPXm3Nyc/L3JStV5P91qho95+6YFjydy0ENcNfYw7tOw43zs6M8px9n/qdU6Kt+0oDT2DJdvd4xI5h6wHGbdr9b+BdhEZH+b89arrw5ClVlFRQaq9uLiYLL7PP/+8bdu25JMNdW4JAACTodcBABrtg/X6FPuorPyqA9WFSe56LLVeC/em8PNzozy+GsY2NjLs2NGErdFhzOKN0TxBSekZ3olNOho62uyhx6J8p7G17b0ihbKLtRdnhVr119TX0zMxNdXvN2WOxbjP1HX1Vvkc3z2XpTaa5LgwQXrna7wjqYu7y3J8PBnPcbGsfwJ+Vuy+lTONjE2MTYz6De37SZtPdL7ckZjT0D/Y9G5V73UKVe1isdje3n7t2rV/V36jFACAsdDrAACN9iF6XSJIi+akZhWWvD5OXVokjI7ixKRmi8lISWFWcqS/r89RH2+/wJDkTEGJRFrIxaKcyPDQwOBIvkiYGh2VJSyUjSb3J85KlE7v4+MXwkni8dJCgwIDErMF2WlRnCRBYbFELL3zzDx6eomYHx2VQsYXCrj1T5AVH37ieFBIWHhYWHh0AmeNOavXSrc0AXU6+/v2dq9TXr58efPmzZ9++qms8muaAACMhV4HAGi0D9HrDVFaUlxcVFxMlXqV0lKJpPSNMZWk05PJqR9KpGqdrHHCdwzu091ko6tvEjf5xI7F3VjtZu32py9K897V1esUUu1V354EAGAs9DoAQKMxtdcZIS/Bc9mUHobGhiamJnoaHababIvhCujPBO9d/b0OACAX0OsAAI2GXq9HaUlhdnpCRFjQyZMnA4JOpWXn1Tje/z6h1wFAAaDXAQAaDb3+r6Qn4ZSUSD7IRWGqQa8DgAJArwMANBp6XV6g1wFAAaDXAQAaDb0uL9DrAKAA0OsAAI2GXpcX6HUAUADodQCARkOvywv0OgAoAPQ6AECjodflBXodABQAeh0AoNHQ6/ICvQ4ACgC9DgDQaOh1eYFeBwAFgF4HAGg09Lq8QK8DgAJArwMANBp6XV6g1wFAAaDXAQAaDb0uL9DrAKAA0OsAAI2GXpcX6HUAUADodQCARkOvywv0OgAoAPQ6AECjodflBXodABQAeh0AoNHQ6/ICvQ4ACgC9DgDQaOh1eYFeBwAFgF4HAGg09Lq8QK8DgAJArwMANBp6XV6g1wFAAaDXAQAaDb0uL9DrAKAA0OsAAI2GXpcX6HUAUADodQCARkOvywv0OgAoAPQ6AECjodflBXodABQAeh0AoNHQ6/ICvQ4ACgC9DgDQaOh1eYFeBwAFgF4HAGg09Lq8QK8DgAJArwMANBrp9T59+lhaWi4DZmOxWEePHkWvA4BcQ68DADRaeHj48uXLSQ6S/wKTLViwID09vaysjF5yAAByCL0OANBo9+7du3LlymWQBw8fPnz16hW95AAA5BB6HQAAAACAudDrAAAAAADMhV4HAAAAAGAu9DoAAAAAAHOh1wEAAAAAmAu9DgAAAADAXOh1AAAAAADmQq8DAAAAADAXeh0AAAAAgLnQ6wAAAAAAzIVeBwAAAABgLvQ6AAAAAABzodcBAAAAAJgLvQ4AAAAAwFT/93//D3pjEzXYQMaMAAAAAElFTkSuQmCC)\n",
        "\n",
        "In order to begin, a few modules were imported to allow for an expanded range of methods and functions to aid throughout the process. Those like pandas and numpy are widely used modules that allow for more efficient data analysis techniques. The sklearn.modelselection module is typically used for splitting datasets into training and testing sets like it is utilized here. To use the regression algorithm in this pipeline, it was necessary to install the package before importing it. All of these added modules made the process much easier and quicker, as well as more understandable to someone who may want to recreate this pipeline. \n",
        "\n",
        "The initial portion of the pipeline began by reading in the training and test data from the CSV files provided. It was then necessary to clean the training data as there were NA values residing in many different rows of data and in various columns. There were were also many negative values for ones that should strictly be positive, such as distance, departure time, and air time. I used one dataframe filtering technique that kept only the positive values for the necessary time and distance features as well as another to remove the NA values from the features that had them. Following the data cleaning process, the dataframes were subsetted to include only the features that would be used in the regression process. Since the goal of this project is to minimize the RMSLE and not the RMSE like most regression algorithms aim to do, it was in my best interest to use a technique to scale the data by a logorithmic factor. This was done just before the final step in the data preparation process, splitting the training data into testing and validating sets so that the model could be tested for overfitting. The data was split 80/20 between testing and validation in this process. The locations of the categorical data features that would be used in the model were also noted for when the model will be fitted later. Fortunately, the regression algorithm that was used in this pipeline tested for overfitting while training the model, so that part was included in the model fitting portion of the process.\n",
        "\n",
        "The next part of the pipeline included the model creation, parameter tuning, and model fitting. It starts by the actual creation of the model with the CatBoostRegressor() function from the catboost module that was imported at the very start. In the code above, the tuned hyperparameters are included in the model, however the commented lines below the created model were where the process of hyperparameter tuning took place. Attempting numerous values for each of the listed hyperparameters, the grid_search() function would fit the model to the training dataset with each combination of hyperparameters that were used in the grid. After testing on different folds of the training dataset for validation, the best hyperparamters would be printed and could be used in further testing, or used in the model. Once the trials and testing of the hyperparamters was complete, the best ones were used in the final model creation. The model was then fitted to the training dataset, being mindful of where the categorical features were located, and evaluated on the validation set for overfitting. The output of the model as it learned also included the output of the model evaluating for overfitting on the validation dataset. If the model were to be overfitted at a certain iteration, the model would be shrunk to that iteration before the predictions were created.\n",
        "\n",
        "The final portion of the pipeline is where the predictions were made and the submission in the correct format for the Kaggle Competition was created. Using the predict() function, our fitted model was used to predict the values of arrival delay on the test dataset. Yielding a numpy array, this data was then converted back to its original scale with the vectorized one-dimensional function. After conversion, the final submission dataframe was created in the format necessary to make a submission to the Kaggle competition. This dataframe was then written to a CSV file to be downloaded and submitted. Once submitted, the predictions that I made resulted in a RMSLE of 0.46951, good for 3rd on the public leaderboard with approximately 50% of the data used."
      ],
      "metadata": {
        "id": "L5unBz0Hh4WF"
      }
    },
    {
      "cell_type": "markdown",
      "source": [
        "### Pipeline Selection and Improvement Process\n",
        "\n",
        "After using a linear model and the lm() command in R in my previous attempt at this project, I decided to use a boosting algorithm in order to make even more improvements and yield an even lower RMSLE. This boosted algorithm is called CatBoostRegressor() from the catboost module. I chose this specific model as it allowed for the use of categorical features as well as numerical features seamlessly. This model also had numerous hyperparameters that could be tuned in order to allow the model to perform much better. When I first fitted this model on the training dataset without tuning or specifiying any of the hyperparamters, the RMSLE was more than twice the value of the RMSLE of the fitted model that was tuned. The hyperparameter tuning makes a significant difference, but to keep it as simple as possible, I chose to tune 4 of the most important hyperparameters of this model, iterations, learning rate, tree depth, and L2 regularization. As mentioned before, the grid_search() function was used to try each of the hyperparameter combinations defined in the grid. Once each was fitted and validated, the best combination would be displayed and was then used for further tuning. Although this process was tedious, eventually a point was reached where small changes above and below the hyperparameter values made no improvements, thus our model was fully tuned. There are more hyperparameters that could be tuned and improve my model further such as random strength, bagging temperature, and border count, but for simplicity and time reasons, only the four most important were tuned.\n",
        "\n",
        "One of the biggest difference between my final submission for this project and the one made for HW5 is that my previous submission was coded in R while this one was coded in python. I found that when working with models more sophisticated than the lm() function, the process of hyperparameter tuning and finding various algorithms to try was much easier in python. I was also able to find much clearer documentation and examples of the usage of these algorithms, one of which is linked below.\n",
        "\n",
        "https://towardsdatascience.com/catboost-regression-in-6-minutes-3487f3e5b329\n",
        "\n",
        "Although many of the features used in my previous model were used in this one, I did find it beneficial to add one more feature, 'month'. Using the code below, I was able to see the importance of each of the features that were used in the model that I fitted to the training dataset. As you can see, month has a higher importance than some of the orignal features in my previous model. After the model was tested for overfitting, there was no significant difference in the RMSE of the training and validation sets, thus I felt it was a good feature to use. Along with the importance of of the 'month' feature, the importance of each of the other features in the model can be seen. Their high level of importance as well as the nature of their specificity made them strong choices to be used in the model. Of the features in the dataset that I decided not to use, namely 'tailnum' and 'flight' I found that these values were too specific to the flight. Each different plane would have a different tail number and each flight would have would have a different flight number. Using these features would risk overfitting in the model, therefore it was more ideal to leave them out of my model. In my previous model, I made ambitions to add external data features to my dataset to be used for training as well as to try out interaction terms between some of the categorical data. I found the use of interaction terms to be inefficient as it added much more time to the actual fitting of my model. The use of external data was not done in this model due to time constraints, but it would be a great way to reduce the RMSLE even more than I already have and improve my model.\n",
        "\n",
        "I was successful in improving the RMSLE, the deciding score for the overall ranking in the Kaggle Competition, as it dramatically dropped from 0.70074 to 0.46951."
      ],
      "metadata": {
        "id": "neccUUBsh5xN"
      }
    },
    {
      "cell_type": "code",
      "source": [
        "from matplotlib import pyplot as plt\n",
        "\n",
        "sorted_feature_importance = model.feature_importances_.argsort()\n",
        "plt.barh(x.columns[sorted_feature_importance], \n",
        "        model.feature_importances_[sorted_feature_importance], \n",
        "        color='turquoise')\n",
        "plt.xlabel(\"CatBoost Feature Importance\")"
      ],
      "metadata": {
        "colab": {
          "base_uri": "https://localhost:8080/",
          "height": 296
        },
        "id": "KkXX7QlDTfIJ",
        "outputId": "dcaee596-c12b-4834-bb7c-f1d30ac11dec"
      },
      "execution_count": 24,
      "outputs": [
        {
          "output_type": "execute_result",
          "data": {
            "text/plain": [
              "Text(0.5, 0, 'CatBoost Feature Importance')"
            ]
          },
          "metadata": {},
          "execution_count": 24
        },
        {
          "output_type": "display_data",
          "data": {
            "image/png": "[encoded data removed]",
            "text/plain": [
              "<Figure size 432x288 with 1 Axes>"
            ]
          },
          "metadata": {
            "needs_background": "light"
          }
        }
      ]
    },
    {
      "cell_type": "markdown",
      "source": [
        "### Differences Between Models and My Reasoning\n",
        "\n",
        "Although the obvious differences between the models have previously been noted, the difference in complexity, reproducibility, and run time of the previous linear model I created in R and this model are substantial. In this case, I have made significant pipeline improvements in comparison to my previous model. While the model presented in this project uses a more complex algorithm to create predictions, I believe the nature of the algorithm is more reproducible than my previous model in a few ways. In order to clean the dataset and split it into testing and validating sets, my pipeline was able to do that with 8 simple, easy to follow lines of code. It took me just as many lines to clean the dataset in my previous model and I had not even split the data in testing and validating sets. Further, the actual evaluation on the validation set in this pipeline was imbedded into the learning process of the model. If there was overfitting detected, the model would be shrunk to an iteration where it was not overfit. Having not had done that in my previous model, it would have taken much more effort and may have been confusing to relay in a pipeline explanation, thus making this model more reproducible. While complex, this pipeline and included model have the capability of completing tasks that I would have needed to spend much more time on in R and in my previous model. When looking at the run time of this model in comparision to my previous, the number of iterations makes the learning process long, but not as long as it would take my linear model to fit. Being able to run 1000 learning and evaluating iterations with tuned hyperparameters in less time than it took my linear model with the added interaction terms makes the current model and algorithm better overall."
      ],
      "metadata": {
        "id": "cMycVfoPh6N_"
      }
    },
    {
      "cell_type": "markdown",
      "source": [
        "### Modifications and Extensions\n",
        "\n",
        "In order to improve upon my method, I first need to choose my hyperparameters that are included in the CatBoostRegressor() function to tune and add them to my tuning process. It was mentioned previously that the hyperparamter tuning process drastically improved the performance of the model, lowering the RMSLE by a large amount. Further tuning and testing of new hyperparamaters is a great way to improve this model further. Another significant way to improve this model would be to utilize external datasets to add even more features to the model. One external dataset that I had looked into using and had been used by multiple other students was the weather dataset that coincides with the flights dataset. Being able to use other features such as temperature, windspeed, and visibility, among the many others included in that dataset, would surely improve my model and allow to perform even better, minimizing the RMSLE to an even lower value.\n",
        "\n"
      ],
      "metadata": {
        "id": "OAjAEVSljk4p"
      }
    }
  ]
}